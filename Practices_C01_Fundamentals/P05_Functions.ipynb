{
 "cells": [
  {
   "cell_type": "markdown",
   "id": "16796505-bba5-4bd6-872d-7c01975e9384",
   "metadata": {},
   "source": [
    "# Task 01\n",
    "Write a function that takes Celsius temperature as an argument and returns the Fahrenheit temperature"
   ]
  },
  {
   "cell_type": "code",
   "execution_count": 2,
   "id": "c2bf9015-f7ad-46c8-af9f-0da55e87e58b",
   "metadata": {},
   "outputs": [
    {
     "name": "stdout",
     "output_type": "stream",
     "text": [
      "98.60000000000001\n"
     ]
    }
   ],
   "source": [
    "def C_to_F(celsius):\n",
    "    F = (9/5) * celsius + 32\n",
    "    return F\n",
    "\n",
    "C_to_F(37)"
   ]
  },
  {
   "cell_type": "markdown",
   "id": "1ac23883-e374-4ebf-8387-ef00162ba388",
   "metadata": {},
   "source": [
    "# Task 02\n",
    "Develop a function that takes a number as input and determines whether it is even or not"
   ]
  },
  {
   "cell_type": "code",
   "execution_count": 5,
   "id": "16ba5cb9-82cb-4d62-8067-276adc457642",
   "metadata": {},
   "outputs": [
    {
     "name": "stdout",
     "output_type": "stream",
     "text": [
      "False\n"
     ]
    }
   ],
   "source": [
    "def is_even(num):\n",
    "    if num % 2 == 0:\n",
    "        return True\n",
    "    else:\n",
    "        return False\n",
    "print(is_even(11))"
   ]
  },
  {
   "cell_type": "markdown",
   "id": "538cb5f9-1e26-4e92-85a1-08e0ae8907f1",
   "metadata": {},
   "source": [
    "# Task 03\n",
    "Write a function to print counting first n integers with distance d  \n",
    "#function to print n integers 1, 2, 3 or 1, 3, 5 etc., distance between integers is parameter d. In the first example distance is 1 and in the second example distance is 2"
   ]
  },
  {
   "cell_type": "code",
   "execution_count": 2,
   "id": "c6e859f8-86ff-414a-a431-ca47dff17fa6",
   "metadata": {},
   "outputs": [
    {
     "name": "stdout",
     "output_type": "stream",
     "text": [
      "10 12 14 16 18 20 22 24 26 28 30 "
     ]
    }
   ],
   "source": [
    "def counting(start,end,step=1):   # step is the optional parameter\n",
    "    i = start\n",
    "    while i <= end:\n",
    "        print(i,end=' ')\n",
    "        i = i + step\n",
    "\n",
    "counting(10,30,2)"
   ]
  },
  {
   "cell_type": "markdown",
   "id": "bc159b9e-a5f9-46be-a944-3ad4b168e813",
   "metadata": {},
   "source": [
    "# Task 04\n",
    "Create a function that takes two numbers and an operator as input and performs the corresponding arithmetic operation (addition, subtraction, multiplication, division).\n"
   ]
  },
  {
   "cell_type": "code",
   "execution_count": 4,
   "id": "645208cc-d75e-49c4-8bac-3e64e1f01505",
   "metadata": {},
   "outputs": [
    {
     "name": "stdin",
     "output_type": "stream",
     "text": [
      "Number 1:  90\n",
      "Number 2:  80\n",
      "Operator:  -\n"
     ]
    },
    {
     "name": "stdout",
     "output_type": "stream",
     "text": [
      "10\n"
     ]
    }
   ],
   "source": [
    "def operation(num1,num2,sign):\n",
    "    if sign == \"+\":\n",
    "        result = num1 + num2\n",
    "    elif sign == '-':\n",
    "        result = num1 - num2\n",
    "    elif sign == '/':\n",
    "        result = num1 / num2\n",
    "    elif sign == '*':\n",
    "        result = num1 * num2\n",
    "    return result\n",
    "\n",
    "numa = int(input(\"Number 1: \"))\n",
    "numb = int(input(\"Number 2: \"))\n",
    "operator = input(\"Operator: \")\n",
    "r = operation(numa,numb,operator)\n",
    "print(r)\n"
   ]
  },
  {
   "cell_type": "markdown",
   "id": "16ac4194-36a0-4d38-b74c-a715cf3b46c6",
   "metadata": {},
   "source": [
    "# Task 05\n",
    "Create a function that takes two numbers as input and calculates the first number raised to the power of the second number."
   ]
  },
  {
   "cell_type": "code",
   "execution_count": 7,
   "id": "dbae1bd6-a669-491e-95c5-189eeb6f5d52",
   "metadata": {},
   "outputs": [
    {
     "name": "stdin",
     "output_type": "stream",
     "text": [
      "Number 1:  8\n",
      "Number 2:  3\n"
     ]
    },
    {
     "name": "stdout",
     "output_type": "stream",
     "text": [
      "512\n"
     ]
    }
   ],
   "source": [
    "def power(n1,n2):\n",
    "    return n1 ** n2\n",
    "    \n",
    "num1 = int(input(\"Number 1: \"))\n",
    "num2 = int(input(\"Number 2: \"))\n",
    "print(power(num1,num2))"
   ]
  },
  {
   "cell_type": "markdown",
   "id": "b7c9d380-6be7-417f-8176-b0dd5bdacfa1",
   "metadata": {},
   "source": [
    "# Task 06\n",
    "Develop a function that takes a number as input and determines whether it is even or odd"
   ]
  },
  {
   "cell_type": "code",
   "execution_count": 9,
   "id": "2c619d18-06c6-442b-8880-81da07eece45",
   "metadata": {},
   "outputs": [
    {
     "name": "stdout",
     "output_type": "stream",
     "text": [
      "Odd number\n"
     ]
    }
   ],
   "source": [
    "def even_odd(number):\n",
    "    if number%2 == 0:\n",
    "        print(\"Even number\")\n",
    "    else:\n",
    "        print(\"Odd number\")\n",
    "\n",
    "even_odd(45)"
   ]
  },
  {
   "cell_type": "markdown",
   "id": "3399e361-1af2-46b5-9531-8dec3409a64c",
   "metadata": {},
   "source": [
    "# Task 07\n",
    "Write a function that takes a person's weight and height as input and returns their Body Mass Index (BMI)."
   ]
  },
  {
   "cell_type": "code",
   "execution_count": 10,
   "id": "cb51c1c8-debc-4f66-9b24-8421ccb48b44",
   "metadata": {},
   "outputs": [
    {
     "name": "stdout",
     "output_type": "stream",
     "text": [
      "2.2222222222222223\n"
     ]
    }
   ],
   "source": [
    "def bmi(weight,height):\n",
    "    ans = weight/power(height,2)\n",
    "    return ans\n",
    "\n",
    "print(bmi(80,6))"
   ]
  },
  {
   "cell_type": "markdown",
   "id": "9a65970c-eed1-4add-b52e-b1adff578ac8",
   "metadata": {},
   "source": [
    "# Task 08\n",
    "Write a function to find and return the sum of first n integers\n"
   ]
  },
  {
   "cell_type": "code",
   "execution_count": 14,
   "id": "d7fbc2dd-c56c-48eb-a3c5-481937ccd1ea",
   "metadata": {},
   "outputs": [
    {
     "name": "stdout",
     "output_type": "stream",
     "text": [
      "499780524090\n"
     ]
    }
   ],
   "source": [
    "def total(number):\n",
    "    t = 0\n",
    "    for i in range(1,number+1):\n",
    "        t = t + i\n",
    "    return t\n",
    "\n",
    "print(total(999780))"
   ]
  },
  {
   "cell_type": "code",
   "execution_count": null,
   "id": "c7a3e824-b9af-4d35-a5bd-d7bae4ad5b8f",
   "metadata": {},
   "outputs": [],
   "source": []
  }
 ],
 "metadata": {
  "kernelspec": {
   "display_name": "Python 3 (ipykernel)",
   "language": "python",
   "name": "python3"
  },
  "language_info": {
   "codemirror_mode": {
    "name": "ipython",
    "version": 3
   },
   "file_extension": ".py",
   "mimetype": "text/x-python",
   "name": "python",
   "nbconvert_exporter": "python",
   "pygments_lexer": "ipython3",
   "version": "3.11.3"
  }
 },
 "nbformat": 4,
 "nbformat_minor": 5
}
