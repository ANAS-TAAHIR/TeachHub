{
 "cells": [
  {
   "cell_type": "markdown",
   "metadata": {},
   "source": [
    "# Pandas"
   ]
  },
  {
   "cell_type": "markdown",
   "metadata": {},
   "source": [
    "## Pandas Series\n",
    "A Pandas Series is like a column in a table. It is a one-dimensional array holding data of any type."
   ]
  },
  {
   "cell_type": "code",
   "execution_count": 92,
   "metadata": {},
   "outputs": [],
   "source": [
    "import numpy as np\n",
    "import pandas as pd"
   ]
  },
  {
   "cell_type": "markdown",
   "metadata": {},
   "source": [
    "## Series from List"
   ]
  },
  {
   "cell_type": "code",
   "execution_count": 93,
   "metadata": {},
   "outputs": [
    {
     "data": {
      "text/plain": [
       "0         India\n",
       "1      Pakistan\n",
       "2    Bangladesh\n",
       "3     Sri Lanka\n",
       "4         Nepal\n",
       "5        Bhutan\n",
       "6      Maldives\n",
       "dtype: object"
      ]
     },
     "execution_count": 93,
     "metadata": {},
     "output_type": "execute_result"
    }
   ],
   "source": [
    "country = ['India', 'Pakistan', 'Bangladesh', 'Sri Lanka', 'Nepal', 'Bhutan', 'Maldives']\n",
    "pd.Series(country)"
   ]
  },
  {
   "cell_type": "code",
   "execution_count": 94,
   "metadata": {},
   "outputs": [],
   "source": [
    "runs = [51,45,67,12,34,0,98]\n",
    "runs_ser = pd.Series(runs)"
   ]
  },
  {
   "cell_type": "code",
   "execution_count": 95,
   "metadata": {},
   "outputs": [
    {
     "data": {
      "text/plain": [
       "Maths             45\n",
       "Statistics        67\n",
       "Social Science    89\n",
       "Computer          90\n",
       "Physics           34\n",
       "Chemistry         56\n",
       "Biology           78\n",
       "dtype: int64"
      ]
     },
     "execution_count": 95,
     "metadata": {},
     "output_type": "execute_result"
    }
   ],
   "source": [
    "marks = [45,67,89,90,34,56,78]\n",
    "subjects = ['Maths', 'Statistics','Social Science', 'Computer', 'Physics', 'Chemistry', 'Biology']\n",
    "pd.Series(marks,index=subjects)"
   ]
  },
  {
   "cell_type": "markdown",
   "metadata": {},
   "source": [
    "name attribute in the series."
   ]
  },
  {
   "cell_type": "code",
   "execution_count": 96,
   "metadata": {},
   "outputs": [
    {
     "data": {
      "text/plain": [
       "Maths             45\n",
       "Statistics        67\n",
       "Social Science    89\n",
       "Computer          90\n",
       "Physics           34\n",
       "Chemistry         56\n",
       "Biology           78\n",
       "Name: Marks of Zubair, dtype: int64"
      ]
     },
     "execution_count": 96,
     "metadata": {},
     "output_type": "execute_result"
    }
   ],
   "source": [
    "marks = pd.Series(marks,index=subjects, name=\"Marks of Zubair\")\n",
    "marks"
   ]
  },
  {
   "cell_type": "markdown",
   "metadata": {},
   "source": [
    "## Series from dictionary"
   ]
  },
  {
   "cell_type": "code",
   "execution_count": 97,
   "metadata": {},
   "outputs": [],
   "source": [
    "dict_marks = {\n",
    "    'Maths': 45,\n",
    "    'Statistics': 67,\n",
    "    'Social Science': 89,\n",
    "    'Computer': 90,\n",
    "    'Physics': 34,\n",
    "    'Chemistry': 56,\n",
    "    'Biology': 78\n",
    "}\n",
    "marks = pd.Series(dict_marks, name=\"Marks using dict\")\n"
   ]
  },
  {
   "cell_type": "markdown",
   "metadata": {},
   "source": [
    "## Series Attributes"
   ]
  },
  {
   "cell_type": "code",
   "execution_count": 98,
   "metadata": {},
   "outputs": [
    {
     "name": "stdout",
     "output_type": "stream",
     "text": [
      "size = 7\n",
      "dtype = int64\n",
      "name = Marks using dict\n",
      "is_unique (marks) = True\n",
      "is_unique (runs) = False\n",
      "index (marks) = Index(['Maths', 'Statistics', 'Social Science', 'Computer', 'Physics',\n",
      "       'Chemistry', 'Biology'],\n",
      "      dtype='object')\n",
      "index (runs) = RangeIndex(start=0, stop=7, step=1)\n",
      "values = [45 67 89 90 34 56 78]\n",
      "values are numpy array = <class 'numpy.ndarray'>\n"
     ]
    }
   ],
   "source": [
    "# size\n",
    "print(\"size =\",marks.size)\n",
    "\n",
    "# dtype\n",
    "print(\"dtype =\",marks.dtype)\n",
    "\n",
    "# name\n",
    "print(\"name =\",marks.name)\n",
    "\n",
    "# is_unique\n",
    "print(\"is_unique (marks) =\",marks.is_unique)\n",
    "print(\"is_unique (runs) =\",pd.Series([1,2,3,4,4,5]).is_unique)\n",
    "\n",
    "# index\n",
    "print(\"index (marks) =\",marks.index)\n",
    "print(\"index (runs) =\",runs_ser.index)\n",
    "\n",
    "# values\n",
    "print(\"values =\",marks.values)\n",
    "print(\"values are numpy array =\",type(marks.values))"
   ]
  },
  {
   "cell_type": "markdown",
   "metadata": {},
   "source": [
    "## Series using read_csv"
   ]
  },
  {
   "cell_type": "code",
   "execution_count": 99,
   "metadata": {},
   "outputs": [
    {
     "data": {
      "text/plain": [
       "0       48\n",
       "1       57\n",
       "2       40\n",
       "3       43\n",
       "4       44\n",
       "      ... \n",
       "360    231\n",
       "361    226\n",
       "362    155\n",
       "363    144\n",
       "364    172\n",
       "Name: Subscribers gained, Length: 365, dtype: int64"
      ]
     },
     "execution_count": 99,
     "metadata": {},
     "output_type": "execute_result"
    }
   ],
   "source": [
    "# with one col\n",
    "df = pd.read_csv('pandas01_subs.csv')\n",
    "subs = df.squeeze()\n",
    "subs\n",
    "# without squeeze it will be a dataframe. with squeeze it will be a series\n"
   ]
  },
  {
   "cell_type": "code",
   "execution_count": 100,
   "metadata": {},
   "outputs": [
    {
     "data": {
      "text/plain": [
       "match_no\n",
       "1       1\n",
       "2      23\n",
       "3      13\n",
       "4      12\n",
       "5       1\n",
       "       ..\n",
       "211     0\n",
       "212    20\n",
       "213    73\n",
       "214    25\n",
       "215     7\n",
       "Name: runs, Length: 215, dtype: int64"
      ]
     },
     "execution_count": 100,
     "metadata": {},
     "output_type": "execute_result"
    }
   ],
   "source": [
    "# with two cols\n",
    "kohli_runs = pd.read_csv(\"pandas01_kohli_ipl.csv\", index_col='match_no').squeeze()\n",
    "kohli_runs"
   ]
  },
  {
   "cell_type": "code",
   "execution_count": 101,
   "metadata": {},
   "outputs": [
    {
     "data": {
      "text/plain": [
       "movie\n",
       "Uri: The Surgical Strike                   Vicky Kaushal\n",
       "Battalion 609                                Vicky Ahuja\n",
       "The Accidental Prime Minister (film)         Anupam Kher\n",
       "Why Cheat India                            Emraan Hashmi\n",
       "Evening Shadows                         Mona Ambegaonkar\n",
       "                                              ...       \n",
       "Hum Tumhare Hain Sanam                    Shah Rukh Khan\n",
       "Aankhen (2002 film)                     Amitabh Bachchan\n",
       "Saathiya (film)                             Vivek Oberoi\n",
       "Company (film)                                Ajay Devgn\n",
       "Awara Paagal Deewana                        Akshay Kumar\n",
       "Name: lead, Length: 1500, dtype: object"
      ]
     },
     "execution_count": 101,
     "metadata": {},
     "output_type": "execute_result"
    }
   ],
   "source": [
    "movies = pd.read_csv('pandas01_bollywood.csv', index_col='movie').squeeze()\n",
    "movies"
   ]
  },
  {
   "cell_type": "markdown",
   "metadata": {},
   "source": [
    "## Series Methods"
   ]
  },
  {
   "cell_type": "code",
   "execution_count": 102,
   "metadata": {},
   "outputs": [
    {
     "name": "stdout",
     "output_type": "stream",
     "text": [
      "head -----------------\n",
      "movie\n",
      "Uri: The Surgical Strike                Vicky Kaushal\n",
      "Battalion 609                             Vicky Ahuja\n",
      "The Accidental Prime Minister (film)      Anupam Kher\n",
      "Name: lead, dtype: object\n",
      "tail -----------------\n",
      "movie\n",
      "Hum Tumhare Hain Sanam      Shah Rukh Khan\n",
      "Aankhen (2002 film)       Amitabh Bachchan\n",
      "Saathiya (film)               Vivek Oberoi\n",
      "Company (film)                  Ajay Devgn\n",
      "Awara Paagal Deewana          Akshay Kumar\n",
      "Name: lead, dtype: object\n"
     ]
    }
   ],
   "source": [
    "# head and tail\n",
    "print(\"head -----------------\")\n",
    "print(movies.head(3))\n",
    "print(\"tail -----------------\")\n",
    "print(movies.tail())\n"
   ]
  },
  {
   "cell_type": "code",
   "execution_count": 103,
   "metadata": {},
   "outputs": [
    {
     "data": {
      "text/plain": [
       "movie\n",
       "Gabbar Is Back                Akshay Kumar\n",
       "Zameer: The Fire Within         Ajay Devgn\n",
       "Strings of Passion             Zeenat Aman\n",
       "Lucky Kabootar             Arvinder Bhatti\n",
       "Name: lead, dtype: object"
      ]
     },
     "execution_count": 103,
     "metadata": {},
     "output_type": "execute_result"
    }
   ],
   "source": [
    "# sample ; gives random rows\n",
    "movies.sample(4)   # gives `one` random row by default"
   ]
  },
  {
   "cell_type": "code",
   "execution_count": 104,
   "metadata": {},
   "outputs": [
    {
     "data": {
      "text/plain": [
       "lead\n",
       "Akshay Kumar        48\n",
       "Amitabh Bachchan    45\n",
       "Ajay Devgn          38\n",
       "Salman Khan         31\n",
       "Sanjay Dutt         26\n",
       "                    ..\n",
       "Diganth              1\n",
       "Parveen Kaur         1\n",
       "Seema Azmi           1\n",
       "Akanksha Puri        1\n",
       "Edwin Fernandes      1\n",
       "Name: count, Length: 566, dtype: int64"
      ]
     },
     "execution_count": 104,
     "metadata": {},
     "output_type": "execute_result"
    }
   ],
   "source": [
    "# value_counts ; gives frequency of each value\n",
    "movies.value_counts()    # tells how many movies each actor(value) has done\n",
    "# In other words, how many times each value has occured or frequency of each value"
   ]
  },
  {
   "cell_type": "code",
   "execution_count": 105,
   "metadata": {},
   "outputs": [
    {
     "name": "stdout",
     "output_type": "stream",
     "text": [
      "match_no\n",
      "128    113\n",
      "Name: runs, dtype: int64\n",
      "113\n"
     ]
    }
   ],
   "source": [
    "# sort_values\n",
    "sorted_runs = kohli_runs.sort_values(ascending=False)    # sorting does not change original series\n",
    "print(sorted_runs.head(1))\n",
    "print(sorted_runs.head(1).values[0])\n"
   ]
  },
  {
   "cell_type": "code",
   "execution_count": 106,
   "metadata": {},
   "outputs": [
    {
     "data": {
      "text/plain": [
       "match_no\n",
       "87       0\n",
       "211      0\n",
       "207      0\n",
       "206      0\n",
       "91       0\n",
       "      ... \n",
       "164    100\n",
       "120    100\n",
       "123    108\n",
       "126    109\n",
       "128    113\n",
       "Name: runs, Length: 215, dtype: int64"
      ]
     },
     "execution_count": 106,
     "metadata": {},
     "output_type": "execute_result"
    }
   ],
   "source": [
    "# inplace\n",
    "new_runs = kohli_runs.copy()    # to avoid warning\n",
    "new_runs.sort_values(inplace=True)    # inplace=True will change the original series\n",
    "new_runs"
   ]
  },
  {
   "cell_type": "code",
   "execution_count": 107,
   "metadata": {},
   "outputs": [
    {
     "data": {
      "text/plain": [
       "movie\n",
       "1920 (film)                   Rajniesh Duggall\n",
       "1920: London                     Sharman Joshi\n",
       "1920: The Evil Returns             Vicky Ahuja\n",
       "1971 (2007 film)                Manoj Bajpayee\n",
       "2 States (2014 film)              Arjun Kapoor\n",
       "                                   ...        \n",
       "Zindagi 50-50                      Veena Malik\n",
       "Zindagi Na Milegi Dobara        Hrithik Roshan\n",
       "Zindagi Tere Naam           Mithun Chakraborty\n",
       "Zokkomon                       Darsheel Safary\n",
       "Zor Lagaa Ke...Haiya!            Meghan Jadhav\n",
       "Name: lead, Length: 1500, dtype: object"
      ]
     },
     "execution_count": 107,
     "metadata": {},
     "output_type": "execute_result"
    }
   ],
   "source": [
    "# sort_index\n",
    "movies.sort_index()  # sorts by index"
   ]
  },
  {
   "cell_type": "markdown",
   "metadata": {},
   "source": [
    "## Series Maths Methods"
   ]
  },
  {
   "cell_type": "code",
   "execution_count": 108,
   "metadata": {},
   "outputs": [
    {
     "name": "stdout",
     "output_type": "stream",
     "text": [
      "Number of non-null values in movies = 1500\n"
     ]
    }
   ],
   "source": [
    "# count\n",
    "print(\"Number of non-null values in movies =\",movies.count())  # count of non-null values, while size gives count of all values including null"
   ]
  },
  {
   "cell_type": "code",
   "execution_count": 109,
   "metadata": {},
   "outputs": [
    {
     "name": "stdout",
     "output_type": "stream",
     "text": [
      "Total Runs by Kohli = 6634\n"
     ]
    }
   ],
   "source": [
    "# sum\n",
    "print(\"Total Runs by Kohli =\",kohli_runs.sum())"
   ]
  },
  {
   "cell_type": "code",
   "execution_count": 110,
   "metadata": {},
   "outputs": [
    {
     "name": "stdout",
     "output_type": "stream",
     "text": [
      "Product of all marks = 3586587076800\n"
     ]
    }
   ],
   "source": [
    "# product \n",
    "print(\"Product of all marks =\",marks.product())"
   ]
  },
  {
   "cell_type": "code",
   "execution_count": 111,
   "metadata": {},
   "outputs": [
    {
     "name": "stdout",
     "output_type": "stream",
     "text": [
      "Mean of runs = 30.855813953488372\n",
      "Median of runs = 24.0\n",
      "Mode of runs = 0    0\n",
      "Name: runs, dtype: int64\n",
      "Standard Deviation of runs = 26.22980132830278\n",
      "Variance of runs = 688.0024777222343\n"
     ]
    }
   ],
   "source": [
    "# mean, median, mode, std, var\n",
    "print(\"Mean of runs =\",kohli_runs.mean())\n",
    "print(\"Median of runs =\",kohli_runs.median())\n",
    "print(\"Mode of runs =\",kohli_runs.mode())\n",
    "print(\"Standard Deviation of runs =\",kohli_runs.std())\n",
    "print(\"Variance of runs =\",kohli_runs.var())\n"
   ]
  },
  {
   "cell_type": "code",
   "execution_count": 112,
   "metadata": {},
   "outputs": [
    {
     "name": "stdout",
     "output_type": "stream",
     "text": [
      "Minimum runs = 33\n",
      "Maximum runs = 396\n"
     ]
    }
   ],
   "source": [
    "# min, max\n",
    "print(\"Minimum runs =\",subs.min())\n",
    "print(\"Maximum runs =\",subs.max())"
   ]
  },
  {
   "cell_type": "code",
   "execution_count": 113,
   "metadata": {},
   "outputs": [
    {
     "data": {
      "text/plain": [
       "count    215.000000\n",
       "mean      30.855814\n",
       "std       26.229801\n",
       "min        0.000000\n",
       "25%        9.000000\n",
       "50%       24.000000\n",
       "75%       48.000000\n",
       "max      113.000000\n",
       "Name: runs, dtype: float64"
      ]
     },
     "execution_count": 113,
     "metadata": {},
     "output_type": "execute_result"
    }
   ],
   "source": [
    "# describe\n",
    "kohli_runs.describe()"
   ]
  },
  {
   "cell_type": "markdown",
   "metadata": {},
   "source": [
    "## Series Indexing"
   ]
  },
  {
   "cell_type": "code",
   "execution_count": 114,
   "metadata": {},
   "outputs": [
    {
     "data": {
      "text/plain": [
       "12"
      ]
     },
     "execution_count": 114,
     "metadata": {},
     "output_type": "execute_result"
    }
   ],
   "source": [
    "# integer indexing\n",
    "x= pd.Series([12,13,14,35,46,57,58,79,9])\n",
    "x[0]"
   ]
  },
  {
   "cell_type": "code",
   "execution_count": 115,
   "metadata": {},
   "outputs": [
    {
     "name": "stderr",
     "output_type": "stream",
     "text": [
      "C:\\Users\\Zubair\\AppData\\Local\\Temp\\ipykernel_15324\\2880226713.py:3: FutureWarning: Series.__getitem__ treating keys as positions is deprecated. In a future version, integer keys will always be treated as labels (consistent with DataFrame behavior). To access a value by position, use `ser.iloc[pos]`\n",
      "  marks[-1]\n"
     ]
    },
    {
     "data": {
      "text/plain": [
       "78"
      ]
     },
     "execution_count": 115,
     "metadata": {},
     "output_type": "execute_result"
    }
   ],
   "source": [
    "# negative indexing, confusing\n",
    "# x[-1]   # negative indexing is not allowed in pandas series\n",
    "marks[-1]  "
   ]
  },
  {
   "cell_type": "code",
   "execution_count": 116,
   "metadata": {},
   "outputs": [
    {
     "name": "stdout",
     "output_type": "stream",
     "text": [
      "Vicky Kaushal\n",
      "Vicky Kaushal\n"
     ]
    },
    {
     "name": "stderr",
     "output_type": "stream",
     "text": [
      "C:\\Users\\Zubair\\AppData\\Local\\Temp\\ipykernel_15324\\3913934673.py:2: FutureWarning: Series.__getitem__ treating keys as positions is deprecated. In a future version, integer keys will always be treated as labels (consistent with DataFrame behavior). To access a value by position, use `ser.iloc[pos]`\n",
      "  print(movies[0])\n"
     ]
    }
   ],
   "source": [
    "# label indexing, mostly used\n",
    "print(movies[0])\n",
    "print(movies['Uri: The Surgical Strike'])"
   ]
  },
  {
   "cell_type": "code",
   "execution_count": 117,
   "metadata": {},
   "outputs": [
    {
     "name": "stdout",
     "output_type": "stream",
     "text": [
      "Simple slicing match_no\n",
      "5      1\n",
      "10     3\n",
      "15    50\n",
      "20    15\n",
      "25     7\n",
      "Name: runs, dtype: int64\n",
      "------------------------------\n",
      "Label slicing movie\n",
      "Uri: The Surgical Strike            Vicky Kaushal\n",
      "Soni (film)                  Geetika Vidya Ohlyan\n",
      "Amavas                                  Ali Asgar\n",
      "Badla (2019 film)                Amitabh Bachchan\n",
      "Mere Pyare Prime Minister           Rasika Agashe\n",
      "Gone Kesh                            Deepika Amin\n",
      "Student of the Year 2                Tiger Shroff\n",
      "Khamoshi (2019 film)                  Prabhu Deva\n",
      "Name: lead, dtype: object\n",
      "------------------------------\n",
      "Negative slicing match_no\n",
      "211     0\n",
      "212    20\n",
      "213    73\n",
      "214    25\n",
      "215     7\n",
      "Name: runs, dtype: int64\n"
     ]
    }
   ],
   "source": [
    "# slicing\n",
    "print(\"Simple slicing\",kohli_runs[4:25: 5])\n",
    "print(\"------------------------------\")\n",
    "print(\"Label slicing\",movies['Uri: The Surgical Strike':'Kabir Singh': 5])\n",
    "print(\"------------------------------\")\n",
    "print(\"Negative slicing\", kohli_runs[-5:])"
   ]
  },
  {
   "cell_type": "code",
   "execution_count": 118,
   "metadata": {},
   "outputs": [
    {
     "name": "stdout",
     "output_type": "stream",
     "text": [
      "match_no\n",
      "2    23\n",
      "5     1\n",
      "4    12\n",
      "6     9\n",
      "8     0\n",
      "Name: runs, dtype: int64\n",
      "------------------------------\n",
      "movie\n",
      "Uri: The Surgical Strike    Vicky Kaushal\n",
      "Zinda (film)                  Sanjay Dutt\n",
      "Name: lead, dtype: object\n"
     ]
    }
   ],
   "source": [
    "# fancy indexing\n",
    "print(kohli_runs[[2,5,4,6,8]])     # gives values at index 2,5,4,6,8, numpy style indexing\n",
    "print(\"------------------------------\")\n",
    "print(movies[['Uri: The Surgical Strike','Zinda (film)']])"
   ]
  },
  {
   "cell_type": "markdown",
   "metadata": {},
   "source": [
    "## Editing Series"
   ]
  },
  {
   "cell_type": "code",
   "execution_count": 119,
   "metadata": {},
   "outputs": [
    {
     "data": {
      "text/plain": [
       "Maths             45\n",
       "Statistics        67\n",
       "Social Science    89\n",
       "Computer          90\n",
       "Physics           34\n",
       "Chemistry         67\n",
       "Biology           78\n",
       "Name: Marks using dict, dtype: int64"
      ]
     },
     "execution_count": 119,
     "metadata": {},
     "output_type": "execute_result"
    }
   ],
   "source": [
    "# using indexing\n",
    "marks[\"Chemistry\"] = 67\n",
    "marks"
   ]
  },
  {
   "cell_type": "code",
   "execution_count": 120,
   "metadata": {},
   "outputs": [
    {
     "data": {
      "text/plain": [
       "Maths             45\n",
       "Statistics        67\n",
       "Social Science    89\n",
       "Computer          90\n",
       "Physics           34\n",
       "Chemistry         67\n",
       "Biology           78\n",
       "History           56\n",
       "Name: Marks using dict, dtype: int64"
      ]
     },
     "execution_count": 120,
     "metadata": {},
     "output_type": "execute_result"
    }
   ],
   "source": [
    "# If the index does not exist, it will add a new item just like a dictionary\n",
    "marks[\"History\"] = 56\n",
    "marks"
   ]
  },
  {
   "cell_type": "code",
   "execution_count": 121,
   "metadata": {},
   "outputs": [
    {
     "data": {
      "text/plain": [
       "0    51\n",
       "1    45\n",
       "2    67\n",
       "3    33\n",
       "4    33\n",
       "5    33\n",
       "6    98\n",
       "dtype: int64"
      ]
     },
     "execution_count": 121,
     "metadata": {},
     "output_type": "execute_result"
    }
   ],
   "source": [
    "# slicing\n",
    "runs_ser[3:6] = 33      # change from 3 to 5\n",
    "runs_ser"
   ]
  },
  {
   "cell_type": "code",
   "execution_count": 122,
   "metadata": {},
   "outputs": [
    {
     "data": {
      "text/plain": [
       "0    51\n",
       "1    45\n",
       "2    55\n",
       "3    33\n",
       "4    66\n",
       "5    33\n",
       "6    77\n",
       "dtype: int64"
      ]
     },
     "execution_count": 122,
     "metadata": {},
     "output_type": "execute_result"
    }
   ],
   "source": [
    "# fancy indexing\n",
    "runs_ser[[2,4,6]] = [55,66,77]\n",
    "runs_ser"
   ]
  },
  {
   "cell_type": "markdown",
   "metadata": {},
   "source": [
    "## Series with Python Functionalities"
   ]
  },
  {
   "cell_type": "code",
   "execution_count": 123,
   "metadata": {},
   "outputs": [
    {
     "name": "stdout",
     "output_type": "stream",
     "text": [
      "len = 365\n",
      "type = <class 'pandas.core.series.Series'>\n",
      "dir = ['T', '_AXIS_LEN', '_AXIS_ORDERS', '_AXIS_TO_AXIS_NUMBER', '_HANDLED_TYPES', '__abs__', '__add__', '__and__', '__annotations__', '__array__', '__array_priority__', '__array_ufunc__', '__bool__', '__class__', '__column_consortium_standard__', '__contains__', '__copy__', '__deepcopy__', '__delattr__', '__delitem__', '__dict__', '__dir__', '__divmod__', '__doc__', '__eq__', '__finalize__', '__float__', '__floordiv__', '__format__', '__ge__', '__getattr__', '__getattribute__', '__getitem__', '__getstate__', '__gt__', '__hash__', '__iadd__', '__iand__', '__ifloordiv__', '__imod__', '__imul__', '__init__', '__init_subclass__', '__int__', '__invert__', '__ior__', '__ipow__', '__isub__', '__iter__', '__itruediv__', '__ixor__', '__le__', '__len__', '__lt__', '__matmul__', '__mod__', '__module__', '__mul__', '__ne__', '__neg__', '__new__', '__nonzero__', '__or__', '__pandas_priority__', '__pos__', '__pow__', '__radd__', '__rand__', '__rdivmod__', '__reduce__', '__reduce_ex__', '__repr__', '__rfloordiv__', '__rmatmul__', '__rmod__', '__rmul__', '__ror__', '__round__', '__rpow__', '__rsub__', '__rtruediv__', '__rxor__', '__setattr__', '__setitem__', '__setstate__', '__sizeof__', '__str__', '__sub__', '__subclasshook__', '__truediv__', '__weakref__', '__xor__', '_accessors', '_accum_func', '_agg_examples_doc', '_agg_see_also_doc', '_align_for_op', '_align_frame', '_align_series', '_append', '_arith_method', '_as_manager', '_attrs', '_binop', '_cacher', '_can_hold_na', '_check_inplace_and_allows_duplicate_labels', '_check_is_chained_assignment_possible', '_check_label_or_level_ambiguity', '_check_setitem_copy', '_clear_item_cache', '_clip_with_one_bound', '_clip_with_scalar', '_cmp_method', '_consolidate', '_consolidate_inplace', '_construct_axes_dict', '_construct_result', '_constructor', '_constructor_expanddim', '_constructor_expanddim_from_mgr', '_constructor_from_mgr', '_data', '_deprecate_downcast', '_dir_additions', '_dir_deletions', '_drop_axis', '_drop_labels_or_levels', '_duplicated', '_expanddim_from_mgr', '_find_valid_index', '_flags', '_flex_method', '_from_mgr', '_get_axis', '_get_axis_name', '_get_axis_number', '_get_axis_resolvers', '_get_block_manager_axis', '_get_bool_data', '_get_cacher', '_get_cleaned_column_resolvers', '_get_index_resolvers', '_get_label_or_level_values', '_get_numeric_data', '_get_rows_with_mask', '_get_value', '_get_values_tuple', '_get_with', '_getitem_slice', '_gotitem', '_hidden_attrs', '_indexed_same', '_info_axis', '_info_axis_name', '_info_axis_number', '_init_dict', '_init_mgr', '_inplace_method', '_internal_names', '_internal_names_set', '_is_cached', '_is_copy', '_is_label_or_level_reference', '_is_label_reference', '_is_level_reference', '_is_mixed_type', '_is_view', '_is_view_after_cow_rules', '_item_cache', '_ixs', '_logical_func', '_logical_method', '_map_values', '_maybe_update_cacher', '_memory_usage', '_metadata', '_mgr', '_min_count_stat_function', '_name', '_needs_reindex_multi', '_pad_or_backfill', '_protect_consolidate', '_reduce', '_references', '_reindex_axes', '_reindex_indexer', '_reindex_multi', '_reindex_with_indexers', '_rename', '_replace_single', '_repr_data_resource_', '_repr_latex_', '_reset_cache', '_reset_cacher', '_set_as_cached', '_set_axis', '_set_axis_name', '_set_axis_nocheck', '_set_is_copy', '_set_labels', '_set_name', '_set_value', '_set_values', '_set_with', '_set_with_engine', '_shift_with_freq', '_slice', '_stat_function', '_stat_function_ddof', '_take_with_is_copy', '_to_latex_via_styler', '_typ', '_update_inplace', '_validate_dtype', '_values', '_where', 'abs', 'add', 'add_prefix', 'add_suffix', 'agg', 'aggregate', 'align', 'all', 'any', 'apply', 'argmax', 'argmin', 'argsort', 'array', 'asfreq', 'asof', 'astype', 'at', 'at_time', 'attrs', 'autocorr', 'axes', 'backfill', 'between', 'between_time', 'bfill', 'bool', 'case_when', 'clip', 'combine', 'combine_first', 'compare', 'convert_dtypes', 'copy', 'corr', 'count', 'cov', 'cummax', 'cummin', 'cumprod', 'cumsum', 'describe', 'diff', 'div', 'divide', 'divmod', 'dot', 'drop', 'drop_duplicates', 'droplevel', 'dropna', 'dtype', 'dtypes', 'duplicated', 'empty', 'eq', 'equals', 'ewm', 'expanding', 'explode', 'factorize', 'ffill', 'fillna', 'filter', 'first', 'first_valid_index', 'flags', 'floordiv', 'ge', 'get', 'groupby', 'gt', 'hasnans', 'head', 'hist', 'iat', 'idxmax', 'idxmin', 'iloc', 'index', 'infer_objects', 'info', 'interpolate', 'is_monotonic_decreasing', 'is_monotonic_increasing', 'is_unique', 'isin', 'isna', 'isnull', 'item', 'items', 'keys', 'kurt', 'kurtosis', 'last', 'last_valid_index', 'le', 'list', 'loc', 'lt', 'map', 'mask', 'max', 'mean', 'median', 'memory_usage', 'min', 'mod', 'mode', 'mul', 'multiply', 'name', 'nbytes', 'ndim', 'ne', 'nlargest', 'notna', 'notnull', 'nsmallest', 'nunique', 'pad', 'pct_change', 'pipe', 'plot', 'pop', 'pow', 'prod', 'product', 'quantile', 'radd', 'rank', 'ravel', 'rdiv', 'rdivmod', 'reindex', 'reindex_like', 'rename', 'rename_axis', 'reorder_levels', 'repeat', 'replace', 'resample', 'reset_index', 'rfloordiv', 'rmod', 'rmul', 'rolling', 'round', 'rpow', 'rsub', 'rtruediv', 'sample', 'searchsorted', 'sem', 'set_axis', 'set_flags', 'shape', 'shift', 'size', 'skew', 'sort_index', 'sort_values', 'squeeze', 'std', 'struct', 'sub', 'subtract', 'sum', 'swapaxes', 'swaplevel', 'tail', 'take', 'to_clipboard', 'to_csv', 'to_dict', 'to_excel', 'to_frame', 'to_hdf', 'to_json', 'to_latex', 'to_list', 'to_markdown', 'to_numpy', 'to_period', 'to_pickle', 'to_sql', 'to_string', 'to_timestamp', 'to_xarray', 'transform', 'transpose', 'truediv', 'truncate', 'tz_convert', 'tz_localize', 'unique', 'unstack', 'update', 'value_counts', 'values', 'var', 'view', 'where', 'xs']\n",
      "sorted = [33, 33, 35, 37, 39, 40, 40, 40, 40, 42, 42, 43, 44, 44, 44, 45, 46, 46, 48, 49, 49, 49, 49, 50, 50, 50, 51, 54, 56, 56, 56, 56, 57, 61, 62, 64, 65, 65, 66, 66, 66, 66, 67, 68, 70, 70, 70, 71, 71, 72, 72, 72, 72, 72, 73, 74, 74, 75, 76, 76, 76, 76, 77, 77, 78, 78, 78, 79, 79, 80, 80, 80, 81, 81, 82, 82, 83, 83, 83, 84, 84, 84, 85, 86, 86, 86, 87, 87, 87, 87, 88, 88, 88, 88, 88, 89, 89, 89, 90, 90, 90, 90, 91, 92, 92, 92, 93, 93, 93, 93, 95, 95, 96, 96, 96, 96, 97, 97, 98, 98, 99, 99, 100, 100, 100, 101, 101, 101, 102, 102, 103, 103, 104, 104, 104, 105, 105, 105, 105, 105, 105, 105, 105, 105, 108, 108, 108, 108, 108, 108, 109, 109, 110, 110, 110, 111, 111, 112, 113, 113, 113, 114, 114, 114, 114, 115, 115, 115, 115, 117, 117, 117, 118, 118, 119, 119, 119, 119, 120, 122, 123, 123, 123, 123, 123, 124, 125, 126, 127, 128, 128, 129, 130, 131, 131, 132, 132, 134, 134, 134, 135, 135, 136, 136, 136, 137, 138, 138, 138, 139, 140, 144, 145, 146, 146, 146, 146, 147, 149, 150, 150, 150, 150, 151, 152, 152, 152, 153, 153, 153, 154, 154, 154, 155, 155, 156, 156, 156, 156, 157, 157, 157, 157, 158, 158, 159, 159, 160, 160, 160, 160, 162, 164, 166, 167, 167, 168, 170, 170, 170, 170, 171, 172, 172, 173, 173, 173, 174, 174, 175, 175, 176, 176, 177, 178, 179, 179, 180, 180, 180, 182, 183, 183, 183, 184, 184, 184, 185, 185, 185, 185, 186, 186, 186, 188, 189, 190, 190, 192, 192, 192, 196, 196, 196, 197, 197, 202, 202, 202, 203, 204, 206, 207, 209, 210, 210, 211, 212, 213, 214, 216, 219, 220, 221, 221, 222, 222, 224, 225, 225, 226, 227, 228, 229, 230, 231, 233, 236, 236, 237, 241, 243, 244, 245, 247, 249, 254, 254, 258, 259, 259, 261, 261, 265, 267, 268, 269, 276, 276, 290, 295, 301, 306, 312, 396]\n",
      "max = 396\n",
      "min = 33\n"
     ]
    }
   ],
   "source": [
    "# len/type/dir/sorted/max/min\n",
    "print(\"len =\",len(subs))\n",
    "print(\"type =\",type(subs))\n",
    "print(\"dir =\",dir(subs))\n",
    "print(\"sorted =\",sorted(subs))      # returns a list just like sorted() function used to do\n",
    "print(\"max =\",max(subs))\n",
    "print(\"min =\",min(subs))"
   ]
  },
  {
   "cell_type": "code",
   "execution_count": 124,
   "metadata": {},
   "outputs": [
    {
     "name": "stdout",
     "output_type": "stream",
     "text": [
      "List version = [45, 67, 89, 90, 34, 67, 78, 56]\n",
      "Numpy version = [45 67 89 90 34 67 78 56]\n",
      "Dictionary version = {'Maths': 45, 'Statistics': 67, 'Social Science': 89, 'Computer': 90, 'Physics': 34, 'Chemistry': 67, 'Biology': 78, 'History': 56}\n"
     ]
    }
   ],
   "source": [
    "# type conversion\n",
    "print(\"List version =\",list(marks))\n",
    "print(\"Numpy version =\",np.array(marks))\n",
    "print(\"Dictionary version =\",dict(marks))"
   ]
  },
  {
   "cell_type": "code",
   "execution_count": 125,
   "metadata": {},
   "outputs": [
    {
     "name": "stdout",
     "output_type": "stream",
     "text": [
      "True\n",
      "True\n"
     ]
    }
   ],
   "source": [
    "# membership operator\n",
    "print(\"Physics\" in marks)       # checks in index\n",
    "print(67 in marks.values)       # checks in values"
   ]
  },
  {
   "cell_type": "code",
   "execution_count": 126,
   "metadata": {},
   "outputs": [
    {
     "name": "stdout",
     "output_type": "stream",
     "text": [
      "val = 45\n",
      "val = 67\n",
      "val = 89\n",
      "val = 90\n",
      "val = 34\n",
      "val = 67\n",
      "val = 78\n",
      "val = 56\n",
      "------------------------------\n",
      "index = Maths\n",
      "index = Statistics\n",
      "index = Social Science\n",
      "index = Computer\n",
      "index = Physics\n",
      "index = Chemistry\n",
      "index = Biology\n",
      "index = History\n"
     ]
    }
   ],
   "source": [
    "# looping\n",
    "for i in marks:     # by default it will loop over values\n",
    "    print(\"val =\",i)\n",
    "print(\"------------------------------\")\n",
    "for i in marks.index:   # loop over index\n",
    "    print(\"index =\",i)"
   ]
  },
  {
   "cell_type": "code",
   "execution_count": 127,
   "metadata": {},
   "outputs": [
    {
     "data": {
      "text/plain": [
       "Maths             55\n",
       "Statistics        33\n",
       "Social Science    11\n",
       "Computer          10\n",
       "Physics           66\n",
       "Chemistry         33\n",
       "Biology           22\n",
       "History           44\n",
       "Name: Marks using dict, dtype: int64"
      ]
     },
     "execution_count": 127,
     "metadata": {},
     "output_type": "execute_result"
    }
   ],
   "source": [
    "# Arithmetic operations (Broadcasting) ; element wise operations\n",
    "100 - marks"
   ]
  },
  {
   "cell_type": "code",
   "execution_count": 128,
   "metadata": {},
   "outputs": [
    {
     "data": {
      "text/plain": [
       "match_no\n",
       "1      False\n",
       "2      False\n",
       "3      False\n",
       "4      False\n",
       "5      False\n",
       "       ...  \n",
       "211    False\n",
       "212    False\n",
       "213     True\n",
       "214    False\n",
       "215    False\n",
       "Name: runs, Length: 215, dtype: bool"
      ]
     },
     "execution_count": 128,
     "metadata": {},
     "output_type": "execute_result"
    }
   ],
   "source": [
    "# Comparison operators\n",
    "kohli_runs >= 50"
   ]
  },
  {
   "cell_type": "markdown",
   "metadata": {},
   "source": [
    "## Boolean Indexing in Series"
   ]
  },
  {
   "cell_type": "code",
   "execution_count": 129,
   "metadata": {},
   "outputs": [
    {
     "name": "stdout",
     "output_type": "stream",
     "text": [
      "Kohli's 50+ scores = 50\n"
     ]
    },
    {
     "data": {
      "text/plain": [
       "match_no\n",
       "15      50\n",
       "34      58\n",
       "41      71\n",
       "44      56\n",
       "45      67\n",
       "52      70\n",
       "57      57\n",
       "68      73\n",
       "71      51\n",
       "73      58\n",
       "74      65\n",
       "80      57\n",
       "81      93\n",
       "82      99\n",
       "85      56\n",
       "97      67\n",
       "99      73\n",
       "103     51\n",
       "104     62\n",
       "110     82\n",
       "116     75\n",
       "117     79\n",
       "119     80\n",
       "120    100\n",
       "122     52\n",
       "123    108\n",
       "126    109\n",
       "127     75\n",
       "128    113\n",
       "129     54\n",
       "131     54\n",
       "132     62\n",
       "134     64\n",
       "137     55\n",
       "141     58\n",
       "144     57\n",
       "145     92\n",
       "148     68\n",
       "152     70\n",
       "160     84\n",
       "162     67\n",
       "164    100\n",
       "175     72\n",
       "178     90\n",
       "182     50\n",
       "188     72\n",
       "197     51\n",
       "198     53\n",
       "209     58\n",
       "213     73\n",
       "Name: runs, dtype: int64"
      ]
     },
     "execution_count": 129,
     "metadata": {},
     "output_type": "execute_result"
    }
   ],
   "source": [
    "# Kolhi's 50+ scores\n",
    "print(\"Kohli's 50+ scores =\",kohli_runs[kohli_runs >= 50].size)\n",
    "kohli_runs[kohli_runs >= 50]"
   ]
  },
  {
   "cell_type": "code",
   "execution_count": 130,
   "metadata": {},
   "outputs": [
    {
     "name": "stdout",
     "output_type": "stream",
     "text": [
      "Number of ducks by Kohli = 9\n"
     ]
    },
    {
     "data": {
      "text/plain": [
       "match_no\n",
       "8      0\n",
       "87     0\n",
       "91     0\n",
       "93     0\n",
       "130    0\n",
       "135    0\n",
       "206    0\n",
       "207    0\n",
       "211    0\n",
       "Name: runs, dtype: int64"
      ]
     },
     "execution_count": 130,
     "metadata": {},
     "output_type": "execute_result"
    }
   ],
   "source": [
    "# Number of ducks by Kohli\n",
    "print(\"Number of ducks by Kohli =\",kohli_runs[kohli_runs == 0].size)\n",
    "kohli_runs[kohli_runs == 0]"
   ]
  },
  {
   "cell_type": "code",
   "execution_count": 131,
   "metadata": {},
   "outputs": [
    {
     "data": {
      "text/plain": [
       "lead\n",
       "Akshay Kumar        48\n",
       "Amitabh Bachchan    45\n",
       "Ajay Devgn          38\n",
       "Salman Khan         31\n",
       "Name: count, dtype: int64"
      ]
     },
     "execution_count": 131,
     "metadata": {},
     "output_type": "execute_result"
    }
   ],
   "source": [
    "# Find actors who have done more than 30 movies\n",
    "num_movies = movies.value_counts()\n",
    "num_movies[num_movies > 30]\n"
   ]
  },
  {
   "cell_type": "markdown",
   "metadata": {},
   "source": [
    "## Plotting in Series"
   ]
  },
  {
   "cell_type": "code",
   "execution_count": 132,
   "metadata": {},
   "outputs": [
    {
     "data": {
      "text/plain": [
       "<Axes: >"
      ]
     },
     "execution_count": 132,
     "metadata": {},
     "output_type": "execute_result"
    },
    {
     "data": {
      "image/png": "[encoded data removed]",
      "text/plain": [
       "<Figure size 640x480 with 1 Axes>"
      ]
     },
     "metadata": {},
     "output_type": "display_data"
    }
   ],
   "source": [
    "subs.plot()"
   ]
  },
  {
   "cell_type": "code",
   "execution_count": 133,
   "metadata": {},
   "outputs": [
    {
     "data": {
      "text/plain": [
       "<Axes: ylabel='count'>"
      ]
     },
     "execution_count": 133,
     "metadata": {},
     "output_type": "execute_result"
    },
    {
     "data": {
      "image/png": "[encoded data removed]",
      "text/plain": [
       "<Figure size 640x480 with 1 Axes>"
      ]
     },
     "metadata": {},
     "output_type": "display_data"
    }
   ],
   "source": [
    "# movies.value_counts().head(10).plot(kind='bar')\n",
    "movies.value_counts().head(10).plot(kind='pie')\n"
   ]
  },
  {
   "cell_type": "markdown",
   "metadata": {},
   "source": [
    "## Copy vs View\n",
    "Copy creates a new copy of the data, while view is just a view of the original data. If you change the view, the original data will change. If you change the copy, the original data will not change."
   ]
  },
  {
   "cell_type": "code",
   "execution_count": 134,
   "metadata": {},
   "outputs": [
    {
     "name": "stdout",
     "output_type": "stream",
     "text": [
      "Original = 51\n",
      "Copy = 100\n",
      "Original = 100\n",
      "View = 100\n"
     ]
    },
    {
     "name": "stderr",
     "output_type": "stream",
     "text": [
      "C:\\Users\\Zubair\\AppData\\Local\\Temp\\ipykernel_15324\\871960376.py:9: FutureWarning: Series.view is deprecated and will be removed in a future version. Use ``astype`` as an alternative to change the dtype.\n",
      "  runs_view = runs_ser.view()\n"
     ]
    }
   ],
   "source": [
    "# Copy and View\n",
    "# Copy\n",
    "runs_copy = runs_ser.copy()\n",
    "runs_copy[0] = 100\n",
    "print(\"Original =\",runs_ser[0])\n",
    "print(\"Copy =\",runs_copy[0])\n",
    "\n",
    "# View\n",
    "runs_view = runs_ser.view()\n",
    "runs_view[0] = 100\n",
    "print(\"Original =\",runs_ser[0])\n",
    "print(\"View =\",runs_view[0])"
   ]
  },
  {
   "cell_type": "code",
   "execution_count": 135,
   "metadata": {},
   "outputs": [
    {
     "data": {
      "text/plain": [
       "0    100\n",
       "1     45\n",
       "2     55\n",
       "3     33\n",
       "4     66\n",
       "5     33\n",
       "6     77\n",
       "dtype: int64"
      ]
     },
     "execution_count": 135,
     "metadata": {},
     "output_type": "execute_result"
    }
   ],
   "source": [
    "runs_ser"
   ]
  },
  {
   "cell_type": "markdown",
   "metadata": {},
   "source": [
    "## Important Series Methods\n",
    "agg  \n",
    "astype  \n",
    "between  \n",
    "clip  \n",
    "drop_duplicates  \n",
    "dropna  \n",
    "fillna  \n",
    "filter  \n",
    "iloc  \n",
    "loc  \n",
    "isnull  \n",
    "map  \n"
   ]
  },
  {
   "cell_type": "code",
   "execution_count": 137,
   "metadata": {},
   "outputs": [
    {
     "name": "stdout",
     "output_type": "stream",
     "text": [
      "Sum = 409\n",
      "Mean = 58.42857142857143\n",
      "Square = 0    10000\n",
      "1     2025\n",
      "2     3025\n",
      "3     1089\n",
      "4     4356\n",
      "5     1089\n",
      "6     5929\n",
      "dtype: int64\n"
     ]
    },
    {
     "name": "stderr",
     "output_type": "stream",
     "text": [
      "C:\\Users\\Zubair\\AppData\\Local\\Temp\\ipykernel_15324\\3372455948.py:6: FutureWarning: using <function square at 0x000001E3BBC8D300> in Series.agg cannot aggregate and has been deprecated. Use Series.transform to keep behavior unchanged.\n",
      "  print(\"Square =\",runs_ser.agg(square))\n"
     ]
    }
   ],
   "source": [
    "# agg ; The agg() method allows you to apply a function or a list of function names to be executed along one of the axis of the DataFrame, default 0, which is the index (row) axis.\n",
    "print(\"Sum =\",runs_ser.agg('sum'))\n",
    "print(\"Mean =\",runs_ser.agg('mean'))\n",
    "def square(x):\n",
    "    return x*x\n",
    "print(\"Square =\",runs_ser.agg(square))"
   ]
  },
  {
   "cell_type": "code",
   "execution_count": 138,
   "metadata": {},
   "outputs": [
    {
     "name": "stdout",
     "output_type": "stream",
     "text": [
      "0    100.0\n",
      "1     45.0\n",
      "2     55.0\n",
      "3     33.0\n",
      "4     66.0\n",
      "5     33.0\n",
      "6     77.0\n",
      "dtype: float64\n",
      "0    100\n",
      "1     45\n",
      "2     55\n",
      "3     33\n",
      "4     66\n",
      "5     33\n",
      "6     77\n",
      "dtype: object\n"
     ]
    }
   ],
   "source": [
    "# astype ; The astype() function is used to cast a pandas object to a specified dtype.\n",
    "print(runs_ser.astype('float'))\n",
    "print(runs_ser.astype('str'))\n"
   ]
  },
  {
   "cell_type": "code",
   "execution_count": 141,
   "metadata": {},
   "outputs": [
    {
     "name": "stdout",
     "output_type": "stream",
     "text": [
      "0    False\n",
      "1     True\n",
      "2    False\n",
      "3     True\n",
      "4    False\n",
      "5     True\n",
      "6    False\n",
      "dtype: bool\n",
      "--------------------\n"
     ]
    },
    {
     "data": {
      "text/plain": [
       "1    45\n",
       "3    33\n",
       "5    33\n",
       "dtype: int64"
      ]
     },
     "execution_count": 141,
     "metadata": {},
     "output_type": "execute_result"
    }
   ],
   "source": [
    "# between ; The between() function is used to get boolean DataFrame showing whether each element in the DataFrame/Series is between the values in lower and upper.\n",
    "print(runs_ser.between(30,50))\n",
    "print(\"--------------------\")\n",
    "runs_ser[runs_ser.between(30,50)]"
   ]
  },
  {
   "cell_type": "code",
   "execution_count": 142,
   "metadata": {},
   "outputs": [
    {
     "name": "stdout",
     "output_type": "stream",
     "text": [
      "0    50\n",
      "1    45\n",
      "2    50\n",
      "3    33\n",
      "4    50\n",
      "5    33\n",
      "6    50\n",
      "dtype: int64\n"
     ]
    }
   ],
   "source": [
    "# clip ; The clip() function is used to trim values at input threshold(s).\n",
    "# For example, if an interval of [0, 1] is specified, values smaller than 0 become 0, and values larger than 1 become 1.\n",
    "print(runs_ser.clip(30,50))"
   ]
  },
  {
   "cell_type": "code",
   "execution_count": 143,
   "metadata": {},
   "outputs": [
    {
     "data": {
      "text/plain": [
       "match_no\n",
       "1       1\n",
       "2      23\n",
       "3      13\n",
       "4      12\n",
       "6       9\n",
       "       ..\n",
       "173    29\n",
       "175    72\n",
       "176    43\n",
       "178    90\n",
       "198    53\n",
       "Name: runs, Length: 78, dtype: int64"
      ]
     },
     "execution_count": 143,
     "metadata": {},
     "output_type": "execute_result"
    }
   ],
   "source": [
    "# drop_duplicates ; The drop_duplicates() function is used to remove duplicate values from the Series.\n",
    "kohli_runs.drop_duplicates()"
   ]
  },
  {
   "cell_type": "code",
   "execution_count": 145,
   "metadata": {},
   "outputs": [
    {
     "data": {
      "text/plain": [
       "0    1.0\n",
       "1    2.0\n",
       "3    4.0\n",
       "4    5.0\n",
       "dtype: float64"
      ]
     },
     "execution_count": 145,
     "metadata": {},
     "output_type": "execute_result"
    }
   ],
   "source": [
    "# dropna ; The dropna() function is used to remove missing values.\n",
    "x = pd.Series([1,2,np.nan,4,5,np.nan])\n",
    "x.dropna()"
   ]
  },
  {
   "cell_type": "code",
   "execution_count": 146,
   "metadata": {},
   "outputs": [
    {
     "data": {
      "text/plain": [
       "0    1.0\n",
       "1    2.0\n",
       "2    0.0\n",
       "3    4.0\n",
       "4    5.0\n",
       "5    0.0\n",
       "dtype: float64"
      ]
     },
     "execution_count": 146,
     "metadata": {},
     "output_type": "execute_result"
    }
   ],
   "source": [
    "# fillna ; The fillna() function is used to fill NA/NaN values using the specified method.\n",
    "x.fillna(0)"
   ]
  },
  {
   "cell_type": "code",
   "execution_count": 148,
   "metadata": {},
   "outputs": [
    {
     "data": {
      "text/plain": [
       "movie\n",
       "Shaadi Mein Zaroor Aana            Rajkummar Rao\n",
       "Dilliwali Zaalim Girlfriend            Ira Dubey\n",
       "Aa Dekhen Zara                 Neil Nitin Mukesh\n",
       "Kudiyon Ka Hai Zamana                      Rekha\n",
       "Taare Zameen Par                 Darsheel Safary\n",
       "Zamaanat                               Jeetendra\n",
       "Darna Zaroori Hai               Amitabh Bachchan\n",
       "Veer-Zaara                        Shah Rukh Khan\n",
       "Zameer: The Fire Within               Ajay Devgn\n",
       "Zameen (2003 film)                    Ajay Devgn\n",
       "Name: lead, dtype: object"
      ]
     },
     "execution_count": 148,
     "metadata": {},
     "output_type": "execute_result"
    }
   ],
   "source": [
    "# filter ; The filter() function is used to Subset rows or columns of dataframe according to labels in the specified index.\n",
    "# Note that this routine does not filter a dataframe on its contents. The filter is applied to the labels of the index.\n",
    "movies.filter(like='Za', axis=0)"
   ]
  },
  {
   "cell_type": "code",
   "execution_count": 155,
   "metadata": {},
   "outputs": [
    {
     "name": "stdout",
     "output_type": "stream",
     "text": [
      "23\n"
     ]
    }
   ],
   "source": [
    "# iloc ; The iloc() function is used to get integer-location based indexing for selection by position.\n",
    "print(kohli_runs.iloc[1])     # it gives value according to programming indexing of lists, tuples etc"
   ]
  },
  {
   "cell_type": "code",
   "execution_count": 156,
   "metadata": {},
   "outputs": [
    {
     "name": "stdout",
     "output_type": "stream",
     "text": [
      "1\n"
     ]
    }
   ],
   "source": [
    "# loc ; The loc() function is used to access a group of rows and columns by labels or a boolean array.\n",
    "print(kohli_runs.loc[1])    # it gives the values according to indexing of the series\n"
   ]
  },
  {
   "cell_type": "code",
   "execution_count": 159,
   "metadata": {},
   "outputs": [
    {
     "data": {
      "text/plain": [
       "0    1.0\n",
       "1    2.0\n",
       "3    4.0\n",
       "4    5.0\n",
       "dtype: float64"
      ]
     },
     "execution_count": 159,
     "metadata": {},
     "output_type": "execute_result"
    }
   ],
   "source": [
    "# isnull ; The isnull() function is used to detect missing values.\n",
    "x[~x.isnull()]"
   ]
  },
  {
   "cell_type": "code",
   "execution_count": 160,
   "metadata": {},
   "outputs": [
    {
     "name": "stdout",
     "output_type": "stream",
     "text": [
      "match_no\n",
      "1      11\n",
      "2      33\n",
      "3      23\n",
      "4      22\n",
      "5      11\n",
      "       ..\n",
      "211    10\n",
      "212    30\n",
      "213    83\n",
      "214    35\n",
      "215    17\n",
      "Name: runs, Length: 215, dtype: int64\n"
     ]
    }
   ],
   "source": [
    "# map ; The map() function is used to map values of Series according to input correspondence.\n",
    "print(kohli_runs.map(lambda x: x+10))"
   ]
  },
  {
   "cell_type": "code",
   "execution_count": null,
   "metadata": {},
   "outputs": [],
   "source": []
  }
 ],
 "metadata": {
  "kernelspec": {
   "display_name": "Python 3",
   "language": "python",
   "name": "python3"
  },
  "language_info": {
   "codemirror_mode": {
    "name": "ipython",
    "version": 3
   },
   "file_extension": ".py",
   "mimetype": "text/x-python",
   "name": "python",
   "nbconvert_exporter": "python",
   "pygments_lexer": "ipython3",
   "version": "3.12.2"
  }
 },
 "nbformat": 4,
 "nbformat_minor": 2
}
