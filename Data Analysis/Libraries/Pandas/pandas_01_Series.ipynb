{
 "cells": [
  {
   "cell_type": "markdown",
   "metadata": {},
   "source": [
    "# Pandas"
   ]
  },
  {
   "cell_type": "markdown",
   "metadata": {},
   "source": [
    "## Pandas Series\n",
    "A Pandas Series is like a column in a table. It is a one-dimensional array holding data of any type."
   ]
  },
  {
   "cell_type": "code",
   "execution_count": 4,
   "metadata": {},
   "outputs": [],
   "source": [
    "import numpy as np\n",
    "import pandas as pd"
   ]
  },
  {
   "cell_type": "markdown",
   "metadata": {},
   "source": [
    "## Series from List"
   ]
  },
  {
   "cell_type": "code",
   "execution_count": 5,
   "metadata": {},
   "outputs": [
    {
     "data": {
      "text/plain": [
       "0         India\n",
       "1      Pakistan\n",
       "2    Bangladesh\n",
       "3     Sri Lanka\n",
       "4         Nepal\n",
       "5        Bhutan\n",
       "6      Maldives\n",
       "dtype: object"
      ]
     },
     "execution_count": 5,
     "metadata": {},
     "output_type": "execute_result"
    }
   ],
   "source": [
    "country = ['India', 'Pakistan', 'Bangladesh', 'Sri Lanka', 'Nepal', 'Bhutan', 'Maldives']\n",
    "pd.Series(country)"
   ]
  },
  {
   "cell_type": "code",
   "execution_count": 6,
   "metadata": {},
   "outputs": [],
   "source": [
    "runs = [51,45,67,12,34,0,98]\n",
    "runs_ser = pd.Series(runs)"
   ]
  },
  {
   "cell_type": "code",
   "execution_count": 7,
   "metadata": {},
   "outputs": [
    {
     "data": {
      "text/plain": [
       "Maths             45\n",
       "Statistics        67\n",
       "Social Science    89\n",
       "Computer          90\n",
       "Physics           34\n",
       "Chemistry         56\n",
       "Biology           78\n",
       "dtype: int64"
      ]
     },
     "execution_count": 7,
     "metadata": {},
     "output_type": "execute_result"
    }
   ],
   "source": [
    "marks = [45,67,89,90,34,56,78]\n",
    "subjects = ['Maths', 'Statistics','Social Science', 'Computer', 'Physics', 'Chemistry', 'Biology']\n",
    "pd.Series(marks,index=subjects)"
   ]
  },
  {
   "cell_type": "markdown",
   "metadata": {},
   "source": [
    "name attribute in the series."
   ]
  },
  {
   "cell_type": "code",
   "execution_count": 8,
   "metadata": {},
   "outputs": [
    {
     "data": {
      "text/plain": [
       "Maths             45\n",
       "Statistics        67\n",
       "Social Science    89\n",
       "Computer          90\n",
       "Physics           34\n",
       "Chemistry         56\n",
       "Biology           78\n",
       "Name: Marks of Zubair, dtype: int64"
      ]
     },
     "execution_count": 8,
     "metadata": {},
     "output_type": "execute_result"
    }
   ],
   "source": [
    "marks = pd.Series(marks,index=subjects, name=\"Marks of Zubair\")\n",
    "marks"
   ]
  },
  {
   "cell_type": "markdown",
   "metadata": {},
   "source": [
    "## Series from dictionary"
   ]
  },
  {
   "cell_type": "code",
   "execution_count": 9,
   "metadata": {},
   "outputs": [],
   "source": [
    "dict_marks = {\n",
    "    'Maths': 45,\n",
    "    'Statistics': 67,\n",
    "    'Social Science': 89,\n",
    "    'Computer': 90,\n",
    "    'Physics': 34,\n",
    "    'Chemistry': 56,\n",
    "    'Biology': 78\n",
    "}\n",
    "marks = pd.Series(dict_marks, name=\"Marks using dict\")\n"
   ]
  },
  {
   "cell_type": "markdown",
   "metadata": {},
   "source": [
    "## Series Attributes"
   ]
  },
  {
   "cell_type": "code",
   "execution_count": 10,
   "metadata": {},
   "outputs": [
    {
     "name": "stdout",
     "output_type": "stream",
     "text": [
      "size = 7\n",
      "dtype = int64\n",
      "name = Marks using dict\n",
      "is_unique (marks) = True\n",
      "is_unique (runs) = False\n",
      "index (marks) = Index(['Maths', 'Statistics', 'Social Science', 'Computer', 'Physics',\n",
      "       'Chemistry', 'Biology'],\n",
      "      dtype='object')\n",
      "index (runs) = RangeIndex(start=0, stop=7, step=1)\n",
      "values = [45 67 89 90 34 56 78]\n",
      "values are numpy array = <class 'numpy.ndarray'>\n"
     ]
    }
   ],
   "source": [
    "# size\n",
    "print(\"size =\",marks.size)\n",
    "\n",
    "# dtype\n",
    "print(\"dtype =\",marks.dtype)\n",
    "\n",
    "# name\n",
    "print(\"name =\",marks.name)\n",
    "\n",
    "# is_unique\n",
    "print(\"is_unique (marks) =\",marks.is_unique)\n",
    "print(\"is_unique (runs) =\",pd.Series([1,2,3,4,4,5]).is_unique)\n",
    "\n",
    "# index\n",
    "print(\"index (marks) =\",marks.index)\n",
    "print(\"index (runs) =\",runs_ser.index)\n",
    "\n",
    "# values\n",
    "print(\"values =\",marks.values)\n",
    "print(\"values are numpy array =\",type(marks.values))"
   ]
  },
  {
   "cell_type": "markdown",
   "metadata": {},
   "source": [
    "## Series using read_csv"
   ]
  },
  {
   "cell_type": "code",
   "execution_count": 11,
   "metadata": {},
   "outputs": [
    {
     "data": {
      "text/plain": [
       "0       48\n",
       "1       57\n",
       "2       40\n",
       "3       43\n",
       "4       44\n",
       "      ... \n",
       "360    231\n",
       "361    226\n",
       "362    155\n",
       "363    144\n",
       "364    172\n",
       "Name: Subscribers gained, Length: 365, dtype: int64"
      ]
     },
     "execution_count": 11,
     "metadata": {},
     "output_type": "execute_result"
    }
   ],
   "source": [
    "# with one col\n",
    "df = pd.read_csv('pandas01_subs.csv')\n",
    "subs = df.squeeze()\n",
    "subs\n",
    "# without squeeze it will be a dataframe. with squeeze it will be a series\n"
   ]
  },
  {
   "cell_type": "code",
   "execution_count": 12,
   "metadata": {},
   "outputs": [
    {
     "data": {
      "text/plain": [
       "match_no\n",
       "1       1\n",
       "2      23\n",
       "3      13\n",
       "4      12\n",
       "5       1\n",
       "       ..\n",
       "211     0\n",
       "212    20\n",
       "213    73\n",
       "214    25\n",
       "215     7\n",
       "Name: runs, Length: 215, dtype: int64"
      ]
     },
     "execution_count": 12,
     "metadata": {},
     "output_type": "execute_result"
    }
   ],
   "source": [
    "# with two cols\n",
    "kohli_runs = pd.read_csv(\"pandas01_kohli_ipl.csv\", index_col='match_no').squeeze()\n",
    "kohli_runs"
   ]
  },
  {
   "cell_type": "code",
   "execution_count": 13,
   "metadata": {},
   "outputs": [
    {
     "data": {
      "text/plain": [
       "movie\n",
       "Uri: The Surgical Strike                   Vicky Kaushal\n",
       "Battalion 609                                Vicky Ahuja\n",
       "The Accidental Prime Minister (film)         Anupam Kher\n",
       "Why Cheat India                            Emraan Hashmi\n",
       "Evening Shadows                         Mona Ambegaonkar\n",
       "                                              ...       \n",
       "Hum Tumhare Hain Sanam                    Shah Rukh Khan\n",
       "Aankhen (2002 film)                     Amitabh Bachchan\n",
       "Saathiya (film)                             Vivek Oberoi\n",
       "Company (film)                                Ajay Devgn\n",
       "Awara Paagal Deewana                        Akshay Kumar\n",
       "Name: lead, Length: 1500, dtype: object"
      ]
     },
     "execution_count": 13,
     "metadata": {},
     "output_type": "execute_result"
    }
   ],
   "source": [
    "movies = pd.read_csv('pandas01_bollywood.csv', index_col='movie').squeeze()\n",
    "movies"
   ]
  },
  {
   "cell_type": "markdown",
   "metadata": {},
   "source": [
    "## Series Methods"
   ]
  },
  {
   "cell_type": "code",
   "execution_count": 14,
   "metadata": {},
   "outputs": [
    {
     "name": "stdout",
     "output_type": "stream",
     "text": [
      "head -----------------\n",
      "movie\n",
      "Uri: The Surgical Strike                Vicky Kaushal\n",
      "Battalion 609                             Vicky Ahuja\n",
      "The Accidental Prime Minister (film)      Anupam Kher\n",
      "Name: lead, dtype: object\n",
      "tail -----------------\n",
      "movie\n",
      "Hum Tumhare Hain Sanam      Shah Rukh Khan\n",
      "Aankhen (2002 film)       Amitabh Bachchan\n",
      "Saathiya (film)               Vivek Oberoi\n",
      "Company (film)                  Ajay Devgn\n",
      "Awara Paagal Deewana          Akshay Kumar\n",
      "Name: lead, dtype: object\n"
     ]
    }
   ],
   "source": [
    "# head and tail\n",
    "print(\"head -----------------\")\n",
    "print(movies.head(3))\n",
    "print(\"tail -----------------\")\n",
    "print(movies.tail())\n"
   ]
  },
  {
   "cell_type": "code",
   "execution_count": 15,
   "metadata": {},
   "outputs": [
    {
     "data": {
      "text/plain": [
       "movie\n",
       "Alag                    Akshay Kapoor\n",
       "Don Muthu Swami    Mithun Chakraborty\n",
       "Ragini MMS 2              Sunny Leone\n",
       "Saathiya (film)          Vivek Oberoi\n",
       "Name: lead, dtype: object"
      ]
     },
     "execution_count": 15,
     "metadata": {},
     "output_type": "execute_result"
    }
   ],
   "source": [
    "# sample ; gives random rows\n",
    "movies.sample(4)   # gives `one` random row by default"
   ]
  },
  {
   "cell_type": "code",
   "execution_count": 16,
   "metadata": {},
   "outputs": [
    {
     "data": {
      "text/plain": [
       "lead\n",
       "Akshay Kumar        48\n",
       "Amitabh Bachchan    45\n",
       "Ajay Devgn          38\n",
       "Salman Khan         31\n",
       "Sanjay Dutt         26\n",
       "                    ..\n",
       "Diganth              1\n",
       "Parveen Kaur         1\n",
       "Seema Azmi           1\n",
       "Akanksha Puri        1\n",
       "Edwin Fernandes      1\n",
       "Name: count, Length: 566, dtype: int64"
      ]
     },
     "execution_count": 16,
     "metadata": {},
     "output_type": "execute_result"
    }
   ],
   "source": [
    "# value_counts ; gives frequency of each value\n",
    "movies.value_counts()    # tells how many movies each actor(value) has done\n",
    "# In other words, how many times each value has occured or frequency of each value"
   ]
  },
  {
   "cell_type": "code",
   "execution_count": 17,
   "metadata": {},
   "outputs": [
    {
     "name": "stdout",
     "output_type": "stream",
     "text": [
      "match_no\n",
      "128    113\n",
      "Name: runs, dtype: int64\n",
      "113\n"
     ]
    }
   ],
   "source": [
    "# sort_values\n",
    "sorted_runs = kohli_runs.sort_values(ascending=False)    # sorting does not change original series\n",
    "print(sorted_runs.head(1))\n",
    "print(sorted_runs.head(1).values[0])\n"
   ]
  },
  {
   "cell_type": "code",
   "execution_count": 18,
   "metadata": {},
   "outputs": [
    {
     "data": {
      "text/plain": [
       "match_no\n",
       "87       0\n",
       "211      0\n",
       "207      0\n",
       "206      0\n",
       "91       0\n",
       "      ... \n",
       "164    100\n",
       "120    100\n",
       "123    108\n",
       "126    109\n",
       "128    113\n",
       "Name: runs, Length: 215, dtype: int64"
      ]
     },
     "execution_count": 18,
     "metadata": {},
     "output_type": "execute_result"
    }
   ],
   "source": [
    "# inplace\n",
    "new_runs = kohli_runs.copy()    # to avoid warning\n",
    "new_runs.sort_values(inplace=True)    # inplace=True will change the original series\n",
    "new_runs"
   ]
  },
  {
   "cell_type": "code",
   "execution_count": 19,
   "metadata": {},
   "outputs": [
    {
     "data": {
      "text/plain": [
       "movie\n",
       "1920 (film)                   Rajniesh Duggall\n",
       "1920: London                     Sharman Joshi\n",
       "1920: The Evil Returns             Vicky Ahuja\n",
       "1971 (2007 film)                Manoj Bajpayee\n",
       "2 States (2014 film)              Arjun Kapoor\n",
       "                                   ...        \n",
       "Zindagi 50-50                      Veena Malik\n",
       "Zindagi Na Milegi Dobara        Hrithik Roshan\n",
       "Zindagi Tere Naam           Mithun Chakraborty\n",
       "Zokkomon                       Darsheel Safary\n",
       "Zor Lagaa Ke...Haiya!            Meghan Jadhav\n",
       "Name: lead, Length: 1500, dtype: object"
      ]
     },
     "execution_count": 19,
     "metadata": {},
     "output_type": "execute_result"
    }
   ],
   "source": [
    "# sort_index\n",
    "movies.sort_index()  # sorts by index"
   ]
  },
  {
   "cell_type": "markdown",
   "metadata": {},
   "source": [
    "## Series Maths Methods"
   ]
  },
  {
   "cell_type": "code",
   "execution_count": 23,
   "metadata": {},
   "outputs": [
    {
     "name": "stdout",
     "output_type": "stream",
     "text": [
      "Number of non-null values in movies = 1500\n"
     ]
    }
   ],
   "source": [
    "# count\n",
    "print(\"Number of non-null values in movies =\",movies.count())  # count of non-null values, while size gives count of all values including null"
   ]
  },
  {
   "cell_type": "code",
   "execution_count": 24,
   "metadata": {},
   "outputs": [
    {
     "name": "stdout",
     "output_type": "stream",
     "text": [
      "Total Runs by Kohli = 6634\n"
     ]
    }
   ],
   "source": [
    "# sum\n",
    "print(\"Total Runs by Kohli =\",kohli_runs.sum())"
   ]
  },
  {
   "cell_type": "code",
   "execution_count": 25,
   "metadata": {},
   "outputs": [
    {
     "name": "stdout",
     "output_type": "stream",
     "text": [
      "Product of all marks = 3586587076800\n"
     ]
    }
   ],
   "source": [
    "# product \n",
    "print(\"Product of all marks =\",marks.product())"
   ]
  },
  {
   "cell_type": "code",
   "execution_count": 26,
   "metadata": {},
   "outputs": [
    {
     "name": "stdout",
     "output_type": "stream",
     "text": [
      "Mean of runs = 30.855813953488372\n",
      "Median of runs = 24.0\n",
      "Mode of runs = 0    0\n",
      "Name: runs, dtype: int64\n",
      "Standard Deviation of runs = 26.22980132830278\n",
      "Variance of runs = 688.0024777222343\n"
     ]
    }
   ],
   "source": [
    "# mean, median, mode, std, var\n",
    "print(\"Mean of runs =\",kohli_runs.mean())\n",
    "print(\"Median of runs =\",kohli_runs.median())\n",
    "print(\"Mode of runs =\",kohli_runs.mode())\n",
    "print(\"Standard Deviation of runs =\",kohli_runs.std())\n",
    "print(\"Variance of runs =\",kohli_runs.var())\n"
   ]
  },
  {
   "cell_type": "code",
   "execution_count": 28,
   "metadata": {},
   "outputs": [
    {
     "name": "stdout",
     "output_type": "stream",
     "text": [
      "Minimum runs = 33\n",
      "Maximum runs = 396\n"
     ]
    }
   ],
   "source": [
    "# min, max\n",
    "print(\"Minimum runs =\",subs.min())\n",
    "print(\"Maximum runs =\",subs.max())"
   ]
  },
  {
   "cell_type": "code",
   "execution_count": 30,
   "metadata": {},
   "outputs": [
    {
     "data": {
      "text/plain": [
       "count    215.000000\n",
       "mean      30.855814\n",
       "std       26.229801\n",
       "min        0.000000\n",
       "25%        9.000000\n",
       "50%       24.000000\n",
       "75%       48.000000\n",
       "max      113.000000\n",
       "Name: runs, dtype: float64"
      ]
     },
     "execution_count": 30,
     "metadata": {},
     "output_type": "execute_result"
    }
   ],
   "source": [
    "# describe\n",
    "kohli_runs.describe()"
   ]
  },
  {
   "cell_type": "markdown",
   "metadata": {},
   "source": [
    "## Series Indexing"
   ]
  },
  {
   "cell_type": "code",
   "execution_count": null,
   "metadata": {},
   "outputs": [],
   "source": [
    "# integer indexing\n",
    "x= pd.Series([12,13,14,35,46,57,58,79,9])"
   ]
  }
 ],
 "metadata": {
  "kernelspec": {
   "display_name": "mlenv",
   "language": "python",
   "name": "mlenv"
  },
  "language_info": {
   "codemirror_mode": {
    "name": "ipython",
    "version": 3
   },
   "file_extension": ".py",
   "mimetype": "text/x-python",
   "name": "python",
   "nbconvert_exporter": "python",
   "pygments_lexer": "ipython3",
   "version": "3.11.3"
  }
 },
 "nbformat": 4,
 "nbformat_minor": 2
}
