{
  "cells": [
    {
      "cell_type": "markdown",
      "metadata": {},
      "source": [
        "## DataFrames"
      ]
    },
    {
      "cell_type": "code",
      "execution_count": 1,
      "metadata": {
        "id": "2F2xS5YbuND2"
      },
      "outputs": [
        {
          "name": "stderr",
          "output_type": "stream",
          "text": [
            "C:\\Users\\Zubair\\AppData\\Local\\Temp\\ipykernel_17360\\1662815981.py:2: DeprecationWarning: \n",
            "Pyarrow will become a required dependency of pandas in the next major release of pandas (pandas 3.0),\n",
            "(to allow more performant data types, such as the Arrow string type, and better interoperability with other libraries)\n",
            "but was not found to be installed on your system.\n",
            "If this would cause problems for you,\n",
            "please provide us feedback at https://github.com/pandas-dev/pandas/issues/54466\n",
            "        \n",
            "  import pandas as pd\n"
          ]
        }
      ],
      "source": [
        "import numpy as np\n",
        "import pandas as pd"
      ]
    },
    {
      "cell_type": "markdown",
      "metadata": {
        "id": "sdRBNhTluaKV"
      },
      "source": [
        "### Creating DataFrame"
      ]
    },
    {
      "cell_type": "code",
      "execution_count": 2,
      "metadata": {
        "colab": {
          "base_uri": "https://localhost:8080/",
          "height": 175
        },
        "id": "FAC5HfAaub7q",
        "outputId": "aaedf44b-1208-4039-d971-89ddd59dd66b"
      },
      "outputs": [
        {
          "name": "stdout",
          "output_type": "stream",
          "text": [
            "     0    1   2\n",
            "0  100   80  10\n",
            "1   90   70   7\n",
            "2  120  100  14\n",
            "3   80   50   2\n"
          ]
        },
        {
          "data": {
            "text/html": [
              "<div>\n",
              "<style scoped>\n",
              "    .dataframe tbody tr th:only-of-type {\n",
              "        vertical-align: middle;\n",
              "    }\n",
              "\n",
              "    .dataframe tbody tr th {\n",
              "        vertical-align: top;\n",
              "    }\n",
              "\n",
              "    .dataframe thead th {\n",
              "        text-align: right;\n",
              "    }\n",
              "</style>\n",
              "<table border=\"1\" class=\"dataframe\">\n",
              "  <thead>\n",
              "    <tr style=\"text-align: right;\">\n",
              "      <th></th>\n",
              "      <th>iq</th>\n",
              "      <th>marks</th>\n",
              "      <th>package</th>\n",
              "    </tr>\n",
              "  </thead>\n",
              "  <tbody>\n",
              "    <tr>\n",
              "      <th>0</th>\n",
              "      <td>100</td>\n",
              "      <td>80</td>\n",
              "      <td>10</td>\n",
              "    </tr>\n",
              "    <tr>\n",
              "      <th>1</th>\n",
              "      <td>90</td>\n",
              "      <td>70</td>\n",
              "      <td>7</td>\n",
              "    </tr>\n",
              "    <tr>\n",
              "      <th>2</th>\n",
              "      <td>120</td>\n",
              "      <td>100</td>\n",
              "      <td>14</td>\n",
              "    </tr>\n",
              "    <tr>\n",
              "      <th>3</th>\n",
              "      <td>80</td>\n",
              "      <td>50</td>\n",
              "      <td>2</td>\n",
              "    </tr>\n",
              "  </tbody>\n",
              "</table>\n",
              "</div>"
            ],
            "text/plain": [
              "    iq  marks  package\n",
              "0  100     80       10\n",
              "1   90     70        7\n",
              "2  120    100       14\n",
              "3   80     50        2"
            ]
          },
          "execution_count": 2,
          "metadata": {},
          "output_type": "execute_result"
        }
      ],
      "source": [
        "# using lists\n",
        "student_data = [\n",
        "    [100,80,10],\n",
        "    [90,70,7],\n",
        "    [120,100,14],\n",
        "    [80,50,2]\n",
        "]\n",
        "\n",
        "s1 = pd.DataFrame(student_data)\n",
        "print(s1)\n",
        "student = pd.DataFrame(student_data, columns=[\"iq\",\"marks\",\"package\"])\n"
      ]
    },
    {
      "cell_type": "code",
      "execution_count": 33,
      "metadata": {
        "colab": {
          "base_uri": "https://localhost:8080/",
          "height": 269
        },
        "id": "StK0mYCHudKC",
        "outputId": "7806cb67-4034-4e75-eceb-46d0f810f6d9"
      },
      "outputs": [
        {
          "name": "stdout",
          "output_type": "stream",
          "text": [
            "      name   iq  marks  package\n",
            "0   nitish  100     80       10\n",
            "1    ankit   90     70        7\n",
            "2   rupesh  120    100       14\n",
            "3  rishabh   80     50        2\n",
            "4     amit    0      0        0\n",
            "5   ankita    0      0        0\n"
          ]
        }
      ],
      "source": [
        "# using dicts\n",
        "\n",
        "student_dict = {\n",
        "    'name':['nitish','ankit','rupesh','rishabh','amit','ankita'],\n",
        "    'iq':[100,90,120,80,0,0],\n",
        "    'marks':[80,70,100,50,0,0],\n",
        "    'package':[10,7,14,2,0,0]\n",
        "}\n",
        "\n",
        "# This will automatically assigns column names from keys of dict\n",
        "student = pd.DataFrame(student_dict)\n",
        "print(student)\n",
        "student.set_index(\"name\", inplace=True)   # by default it autogenerates, but we can assign ourselves as well\n"
      ]
    },
    {
      "cell_type": "code",
      "execution_count": 4,
      "metadata": {
        "colab": {
          "base_uri": "https://localhost:8080/",
          "height": 1000
        },
        "id": "EF_2ly2HuePm",
        "outputId": "019279d7-a1b2-4cb9-db18-277614c3c6f0"
      },
      "outputs": [
        {
          "data": {
            "text/html": [
              "<div>\n",
              "<style scoped>\n",
              "    .dataframe tbody tr th:only-of-type {\n",
              "        vertical-align: middle;\n",
              "    }\n",
              "\n",
              "    .dataframe tbody tr th {\n",
              "        vertical-align: top;\n",
              "    }\n",
              "\n",
              "    .dataframe thead th {\n",
              "        text-align: right;\n",
              "    }\n",
              "</style>\n",
              "<table border=\"1\" class=\"dataframe\">\n",
              "  <thead>\n",
              "    <tr style=\"text-align: right;\">\n",
              "      <th></th>\n",
              "      <th>title_x</th>\n",
              "      <th>imdb_id</th>\n",
              "      <th>poster_path</th>\n",
              "      <th>wiki_link</th>\n",
              "      <th>title_y</th>\n",
              "      <th>original_title</th>\n",
              "      <th>is_adult</th>\n",
              "      <th>year_of_release</th>\n",
              "      <th>runtime</th>\n",
              "      <th>genres</th>\n",
              "      <th>imdb_rating</th>\n",
              "      <th>imdb_votes</th>\n",
              "      <th>story</th>\n",
              "      <th>summary</th>\n",
              "      <th>tagline</th>\n",
              "      <th>actors</th>\n",
              "      <th>wins_nominations</th>\n",
              "      <th>release_date</th>\n",
              "    </tr>\n",
              "  </thead>\n",
              "  <tbody>\n",
              "    <tr>\n",
              "      <th>0</th>\n",
              "      <td>Uri: The Surgical Strike</td>\n",
              "      <td>tt8291224</td>\n",
              "      <td>https://upload.wikimedia.org/wikipedia/en/thum...</td>\n",
              "      <td>https://en.wikipedia.org/wiki/Uri:_The_Surgica...</td>\n",
              "      <td>Uri: The Surgical Strike</td>\n",
              "      <td>Uri: The Surgical Strike</td>\n",
              "      <td>0</td>\n",
              "      <td>2019</td>\n",
              "      <td>138</td>\n",
              "      <td>Action|Drama|War</td>\n",
              "      <td>8.4</td>\n",
              "      <td>35112</td>\n",
              "      <td>Divided over five chapters  the film chronicle...</td>\n",
              "      <td>Indian army special forces execute a covert op...</td>\n",
              "      <td>NaN</td>\n",
              "      <td>Vicky Kaushal|Paresh Rawal|Mohit Raina|Yami Ga...</td>\n",
              "      <td>4 wins</td>\n",
              "      <td>11 January 2019 (USA)</td>\n",
              "    </tr>\n",
              "    <tr>\n",
              "      <th>1</th>\n",
              "      <td>Battalion 609</td>\n",
              "      <td>tt9472208</td>\n",
              "      <td>NaN</td>\n",
              "      <td>https://en.wikipedia.org/wiki/Battalion_609</td>\n",
              "      <td>Battalion 609</td>\n",
              "      <td>Battalion 609</td>\n",
              "      <td>0</td>\n",
              "      <td>2019</td>\n",
              "      <td>131</td>\n",
              "      <td>War</td>\n",
              "      <td>4.1</td>\n",
              "      <td>73</td>\n",
              "      <td>The story revolves around a cricket match betw...</td>\n",
              "      <td>The story of Battalion 609 revolves around a c...</td>\n",
              "      <td>NaN</td>\n",
              "      <td>Vicky Ahuja|Shoaib Ibrahim|Shrikant Kamat|Elen...</td>\n",
              "      <td>NaN</td>\n",
              "      <td>11 January 2019 (India)</td>\n",
              "    </tr>\n",
              "    <tr>\n",
              "      <th>2</th>\n",
              "      <td>The Accidental Prime Minister (film)</td>\n",
              "      <td>tt6986710</td>\n",
              "      <td>https://upload.wikimedia.org/wikipedia/en/thum...</td>\n",
              "      <td>https://en.wikipedia.org/wiki/The_Accidental_P...</td>\n",
              "      <td>The Accidental Prime Minister</td>\n",
              "      <td>The Accidental Prime Minister</td>\n",
              "      <td>0</td>\n",
              "      <td>2019</td>\n",
              "      <td>112</td>\n",
              "      <td>Biography|Drama</td>\n",
              "      <td>6.1</td>\n",
              "      <td>5549</td>\n",
              "      <td>Based on the memoir by Indian policy analyst S...</td>\n",
              "      <td>Explores Manmohan Singh's tenure as the Prime ...</td>\n",
              "      <td>NaN</td>\n",
              "      <td>Anupam Kher|Akshaye Khanna|Aahana Kumra|Atul S...</td>\n",
              "      <td>NaN</td>\n",
              "      <td>11 January 2019 (USA)</td>\n",
              "    </tr>\n",
              "    <tr>\n",
              "      <th>3</th>\n",
              "      <td>Why Cheat India</td>\n",
              "      <td>tt8108208</td>\n",
              "      <td>https://upload.wikimedia.org/wikipedia/en/thum...</td>\n",
              "      <td>https://en.wikipedia.org/wiki/Why_Cheat_India</td>\n",
              "      <td>Why Cheat India</td>\n",
              "      <td>Why Cheat India</td>\n",
              "      <td>0</td>\n",
              "      <td>2019</td>\n",
              "      <td>121</td>\n",
              "      <td>Crime|Drama</td>\n",
              "      <td>6.0</td>\n",
              "      <td>1891</td>\n",
              "      <td>The movie focuses on existing malpractices in ...</td>\n",
              "      <td>The movie focuses on existing malpractices in ...</td>\n",
              "      <td>NaN</td>\n",
              "      <td>Emraan Hashmi|Shreya Dhanwanthary|Snighdadeep ...</td>\n",
              "      <td>NaN</td>\n",
              "      <td>18 January 2019 (USA)</td>\n",
              "    </tr>\n",
              "    <tr>\n",
              "      <th>4</th>\n",
              "      <td>Evening Shadows</td>\n",
              "      <td>tt6028796</td>\n",
              "      <td>NaN</td>\n",
              "      <td>https://en.wikipedia.org/wiki/Evening_Shadows</td>\n",
              "      <td>Evening Shadows</td>\n",
              "      <td>Evening Shadows</td>\n",
              "      <td>0</td>\n",
              "      <td>2018</td>\n",
              "      <td>102</td>\n",
              "      <td>Drama</td>\n",
              "      <td>7.3</td>\n",
              "      <td>280</td>\n",
              "      <td>While gay rights and marriage equality has bee...</td>\n",
              "      <td>Under the 'Evening Shadows'  truth often plays...</td>\n",
              "      <td>NaN</td>\n",
              "      <td>Mona Ambegaonkar|Ananth Narayan Mahadevan|Deva...</td>\n",
              "      <td>17 wins &amp; 1 nomination</td>\n",
              "      <td>11 January 2019 (India)</td>\n",
              "    </tr>\n",
              "  </tbody>\n",
              "</table>\n",
              "</div>"
            ],
            "text/plain": [
              "                                title_x    imdb_id  \\\n",
              "0              Uri: The Surgical Strike  tt8291224   \n",
              "1                         Battalion 609  tt9472208   \n",
              "2  The Accidental Prime Minister (film)  tt6986710   \n",
              "3                       Why Cheat India  tt8108208   \n",
              "4                       Evening Shadows  tt6028796   \n",
              "\n",
              "                                         poster_path  \\\n",
              "0  https://upload.wikimedia.org/wikipedia/en/thum...   \n",
              "1                                                NaN   \n",
              "2  https://upload.wikimedia.org/wikipedia/en/thum...   \n",
              "3  https://upload.wikimedia.org/wikipedia/en/thum...   \n",
              "4                                                NaN   \n",
              "\n",
              "                                           wiki_link  \\\n",
              "0  https://en.wikipedia.org/wiki/Uri:_The_Surgica...   \n",
              "1        https://en.wikipedia.org/wiki/Battalion_609   \n",
              "2  https://en.wikipedia.org/wiki/The_Accidental_P...   \n",
              "3      https://en.wikipedia.org/wiki/Why_Cheat_India   \n",
              "4      https://en.wikipedia.org/wiki/Evening_Shadows   \n",
              "\n",
              "                         title_y                 original_title  is_adult  \\\n",
              "0       Uri: The Surgical Strike       Uri: The Surgical Strike         0   \n",
              "1                  Battalion 609                  Battalion 609         0   \n",
              "2  The Accidental Prime Minister  The Accidental Prime Minister         0   \n",
              "3                Why Cheat India                Why Cheat India         0   \n",
              "4                Evening Shadows                Evening Shadows         0   \n",
              "\n",
              "   year_of_release runtime            genres  imdb_rating  imdb_votes  \\\n",
              "0             2019     138  Action|Drama|War          8.4       35112   \n",
              "1             2019     131               War          4.1          73   \n",
              "2             2019     112   Biography|Drama          6.1        5549   \n",
              "3             2019     121       Crime|Drama          6.0        1891   \n",
              "4             2018     102             Drama          7.3         280   \n",
              "\n",
              "                                               story  \\\n",
              "0  Divided over five chapters  the film chronicle...   \n",
              "1  The story revolves around a cricket match betw...   \n",
              "2  Based on the memoir by Indian policy analyst S...   \n",
              "3  The movie focuses on existing malpractices in ...   \n",
              "4  While gay rights and marriage equality has bee...   \n",
              "\n",
              "                                             summary tagline  \\\n",
              "0  Indian army special forces execute a covert op...     NaN   \n",
              "1  The story of Battalion 609 revolves around a c...     NaN   \n",
              "2  Explores Manmohan Singh's tenure as the Prime ...     NaN   \n",
              "3  The movie focuses on existing malpractices in ...     NaN   \n",
              "4  Under the 'Evening Shadows'  truth often plays...     NaN   \n",
              "\n",
              "                                              actors        wins_nominations  \\\n",
              "0  Vicky Kaushal|Paresh Rawal|Mohit Raina|Yami Ga...                  4 wins   \n",
              "1  Vicky Ahuja|Shoaib Ibrahim|Shrikant Kamat|Elen...                     NaN   \n",
              "2  Anupam Kher|Akshaye Khanna|Aahana Kumra|Atul S...                     NaN   \n",
              "3  Emraan Hashmi|Shreya Dhanwanthary|Snighdadeep ...                     NaN   \n",
              "4  Mona Ambegaonkar|Ananth Narayan Mahadevan|Deva...  17 wins & 1 nomination   \n",
              "\n",
              "              release_date  \n",
              "0    11 January 2019 (USA)  \n",
              "1  11 January 2019 (India)  \n",
              "2    11 January 2019 (USA)  \n",
              "3    18 January 2019 (USA)  \n",
              "4  11 January 2019 (India)  "
            ]
          },
          "execution_count": 4,
          "metadata": {},
          "output_type": "execute_result"
        }
      ],
      "source": [
        "# using read_csv\n",
        "movies = pd.read_csv('pandas02_movies.csv')\n",
        "movies.head()"
      ]
    },
    {
      "cell_type": "code",
      "execution_count": 5,
      "metadata": {
        "colab": {
          "base_uri": "https://localhost:8080/",
          "height": 1000
        },
        "id": "_yZQ1Z8eFYA6",
        "outputId": "ac6c2153-94f0-4acf-8e20-cffe373e1ace"
      },
      "outputs": [
        {
          "data": {
            "text/html": [
              "<div>\n",
              "<style scoped>\n",
              "    .dataframe tbody tr th:only-of-type {\n",
              "        vertical-align: middle;\n",
              "    }\n",
              "\n",
              "    .dataframe tbody tr th {\n",
              "        vertical-align: top;\n",
              "    }\n",
              "\n",
              "    .dataframe thead th {\n",
              "        text-align: right;\n",
              "    }\n",
              "</style>\n",
              "<table border=\"1\" class=\"dataframe\">\n",
              "  <thead>\n",
              "    <tr style=\"text-align: right;\">\n",
              "      <th></th>\n",
              "      <th>ID</th>\n",
              "      <th>City</th>\n",
              "      <th>Date</th>\n",
              "      <th>Season</th>\n",
              "      <th>MatchNumber</th>\n",
              "      <th>Team1</th>\n",
              "      <th>Team2</th>\n",
              "      <th>Venue</th>\n",
              "      <th>TossWinner</th>\n",
              "      <th>TossDecision</th>\n",
              "      <th>SuperOver</th>\n",
              "      <th>WinningTeam</th>\n",
              "      <th>WonBy</th>\n",
              "      <th>Margin</th>\n",
              "      <th>method</th>\n",
              "      <th>Player_of_Match</th>\n",
              "      <th>Team1Players</th>\n",
              "      <th>Team2Players</th>\n",
              "      <th>Umpire1</th>\n",
              "      <th>Umpire2</th>\n",
              "    </tr>\n",
              "  </thead>\n",
              "  <tbody>\n",
              "    <tr>\n",
              "      <th>0</th>\n",
              "      <td>1312200</td>\n",
              "      <td>Ahmedabad</td>\n",
              "      <td>2022-05-29</td>\n",
              "      <td>2022</td>\n",
              "      <td>Final</td>\n",
              "      <td>Rajasthan Royals</td>\n",
              "      <td>Gujarat Titans</td>\n",
              "      <td>Narendra Modi Stadium, Ahmedabad</td>\n",
              "      <td>Rajasthan Royals</td>\n",
              "      <td>bat</td>\n",
              "      <td>N</td>\n",
              "      <td>Gujarat Titans</td>\n",
              "      <td>Wickets</td>\n",
              "      <td>7.0</td>\n",
              "      <td>NaN</td>\n",
              "      <td>HH Pandya</td>\n",
              "      <td>['YBK Jaiswal', 'JC Buttler', 'SV Samson', 'D ...</td>\n",
              "      <td>['WP Saha', 'Shubman Gill', 'MS Wade', 'HH Pan...</td>\n",
              "      <td>CB Gaffaney</td>\n",
              "      <td>Nitin Menon</td>\n",
              "    </tr>\n",
              "    <tr>\n",
              "      <th>1</th>\n",
              "      <td>1312199</td>\n",
              "      <td>Ahmedabad</td>\n",
              "      <td>2022-05-27</td>\n",
              "      <td>2022</td>\n",
              "      <td>Qualifier 2</td>\n",
              "      <td>Royal Challengers Bangalore</td>\n",
              "      <td>Rajasthan Royals</td>\n",
              "      <td>Narendra Modi Stadium, Ahmedabad</td>\n",
              "      <td>Rajasthan Royals</td>\n",
              "      <td>field</td>\n",
              "      <td>N</td>\n",
              "      <td>Rajasthan Royals</td>\n",
              "      <td>Wickets</td>\n",
              "      <td>7.0</td>\n",
              "      <td>NaN</td>\n",
              "      <td>JC Buttler</td>\n",
              "      <td>['V Kohli', 'F du Plessis', 'RM Patidar', 'GJ ...</td>\n",
              "      <td>['YBK Jaiswal', 'JC Buttler', 'SV Samson', 'D ...</td>\n",
              "      <td>CB Gaffaney</td>\n",
              "      <td>Nitin Menon</td>\n",
              "    </tr>\n",
              "    <tr>\n",
              "      <th>2</th>\n",
              "      <td>1312198</td>\n",
              "      <td>Kolkata</td>\n",
              "      <td>2022-05-25</td>\n",
              "      <td>2022</td>\n",
              "      <td>Eliminator</td>\n",
              "      <td>Royal Challengers Bangalore</td>\n",
              "      <td>Lucknow Super Giants</td>\n",
              "      <td>Eden Gardens, Kolkata</td>\n",
              "      <td>Lucknow Super Giants</td>\n",
              "      <td>field</td>\n",
              "      <td>N</td>\n",
              "      <td>Royal Challengers Bangalore</td>\n",
              "      <td>Runs</td>\n",
              "      <td>14.0</td>\n",
              "      <td>NaN</td>\n",
              "      <td>RM Patidar</td>\n",
              "      <td>['V Kohli', 'F du Plessis', 'RM Patidar', 'GJ ...</td>\n",
              "      <td>['Q de Kock', 'KL Rahul', 'M Vohra', 'DJ Hooda...</td>\n",
              "      <td>J Madanagopal</td>\n",
              "      <td>MA Gough</td>\n",
              "    </tr>\n",
              "    <tr>\n",
              "      <th>3</th>\n",
              "      <td>1312197</td>\n",
              "      <td>Kolkata</td>\n",
              "      <td>2022-05-24</td>\n",
              "      <td>2022</td>\n",
              "      <td>Qualifier 1</td>\n",
              "      <td>Rajasthan Royals</td>\n",
              "      <td>Gujarat Titans</td>\n",
              "      <td>Eden Gardens, Kolkata</td>\n",
              "      <td>Gujarat Titans</td>\n",
              "      <td>field</td>\n",
              "      <td>N</td>\n",
              "      <td>Gujarat Titans</td>\n",
              "      <td>Wickets</td>\n",
              "      <td>7.0</td>\n",
              "      <td>NaN</td>\n",
              "      <td>DA Miller</td>\n",
              "      <td>['YBK Jaiswal', 'JC Buttler', 'SV Samson', 'D ...</td>\n",
              "      <td>['WP Saha', 'Shubman Gill', 'MS Wade', 'HH Pan...</td>\n",
              "      <td>BNJ Oxenford</td>\n",
              "      <td>VK Sharma</td>\n",
              "    </tr>\n",
              "    <tr>\n",
              "      <th>4</th>\n",
              "      <td>1304116</td>\n",
              "      <td>Mumbai</td>\n",
              "      <td>2022-05-22</td>\n",
              "      <td>2022</td>\n",
              "      <td>70</td>\n",
              "      <td>Sunrisers Hyderabad</td>\n",
              "      <td>Punjab Kings</td>\n",
              "      <td>Wankhede Stadium, Mumbai</td>\n",
              "      <td>Sunrisers Hyderabad</td>\n",
              "      <td>bat</td>\n",
              "      <td>N</td>\n",
              "      <td>Punjab Kings</td>\n",
              "      <td>Wickets</td>\n",
              "      <td>5.0</td>\n",
              "      <td>NaN</td>\n",
              "      <td>Harpreet Brar</td>\n",
              "      <td>['PK Garg', 'Abhishek Sharma', 'RA Tripathi', ...</td>\n",
              "      <td>['JM Bairstow', 'S Dhawan', 'M Shahrukh Khan',...</td>\n",
              "      <td>AK Chaudhary</td>\n",
              "      <td>NA Patwardhan</td>\n",
              "    </tr>\n",
              "  </tbody>\n",
              "</table>\n",
              "</div>"
            ],
            "text/plain": [
              "        ID       City        Date Season  MatchNumber  \\\n",
              "0  1312200  Ahmedabad  2022-05-29   2022        Final   \n",
              "1  1312199  Ahmedabad  2022-05-27   2022  Qualifier 2   \n",
              "2  1312198    Kolkata  2022-05-25   2022   Eliminator   \n",
              "3  1312197    Kolkata  2022-05-24   2022  Qualifier 1   \n",
              "4  1304116     Mumbai  2022-05-22   2022           70   \n",
              "\n",
              "                         Team1                 Team2  \\\n",
              "0             Rajasthan Royals        Gujarat Titans   \n",
              "1  Royal Challengers Bangalore      Rajasthan Royals   \n",
              "2  Royal Challengers Bangalore  Lucknow Super Giants   \n",
              "3             Rajasthan Royals        Gujarat Titans   \n",
              "4          Sunrisers Hyderabad          Punjab Kings   \n",
              "\n",
              "                              Venue            TossWinner TossDecision  \\\n",
              "0  Narendra Modi Stadium, Ahmedabad      Rajasthan Royals          bat   \n",
              "1  Narendra Modi Stadium, Ahmedabad      Rajasthan Royals        field   \n",
              "2             Eden Gardens, Kolkata  Lucknow Super Giants        field   \n",
              "3             Eden Gardens, Kolkata        Gujarat Titans        field   \n",
              "4          Wankhede Stadium, Mumbai   Sunrisers Hyderabad          bat   \n",
              "\n",
              "  SuperOver                  WinningTeam    WonBy  Margin method  \\\n",
              "0         N               Gujarat Titans  Wickets     7.0    NaN   \n",
              "1         N             Rajasthan Royals  Wickets     7.0    NaN   \n",
              "2         N  Royal Challengers Bangalore     Runs    14.0    NaN   \n",
              "3         N               Gujarat Titans  Wickets     7.0    NaN   \n",
              "4         N                 Punjab Kings  Wickets     5.0    NaN   \n",
              "\n",
              "  Player_of_Match                                       Team1Players  \\\n",
              "0       HH Pandya  ['YBK Jaiswal', 'JC Buttler', 'SV Samson', 'D ...   \n",
              "1      JC Buttler  ['V Kohli', 'F du Plessis', 'RM Patidar', 'GJ ...   \n",
              "2      RM Patidar  ['V Kohli', 'F du Plessis', 'RM Patidar', 'GJ ...   \n",
              "3       DA Miller  ['YBK Jaiswal', 'JC Buttler', 'SV Samson', 'D ...   \n",
              "4   Harpreet Brar  ['PK Garg', 'Abhishek Sharma', 'RA Tripathi', ...   \n",
              "\n",
              "                                        Team2Players        Umpire1  \\\n",
              "0  ['WP Saha', 'Shubman Gill', 'MS Wade', 'HH Pan...    CB Gaffaney   \n",
              "1  ['YBK Jaiswal', 'JC Buttler', 'SV Samson', 'D ...    CB Gaffaney   \n",
              "2  ['Q de Kock', 'KL Rahul', 'M Vohra', 'DJ Hooda...  J Madanagopal   \n",
              "3  ['WP Saha', 'Shubman Gill', 'MS Wade', 'HH Pan...   BNJ Oxenford   \n",
              "4  ['JM Bairstow', 'S Dhawan', 'M Shahrukh Khan',...   AK Chaudhary   \n",
              "\n",
              "         Umpire2  \n",
              "0    Nitin Menon  \n",
              "1    Nitin Menon  \n",
              "2       MA Gough  \n",
              "3      VK Sharma  \n",
              "4  NA Patwardhan  "
            ]
          },
          "execution_count": 5,
          "metadata": {},
          "output_type": "execute_result"
        }
      ],
      "source": [
        "ipl = pd.read_csv('pandas02_ipl-matches.csv')\n",
        "ipl.head()"
      ]
    },
    {
      "cell_type": "markdown",
      "metadata": {
        "id": "WpiZf0HmvGkY"
      },
      "source": [
        "### DataFrame Attributes and Methods"
      ]
    },
    {
      "cell_type": "code",
      "execution_count": 6,
      "metadata": {
        "colab": {
          "base_uri": "https://localhost:8080/"
        },
        "id": "IWTFNOmavKGd",
        "outputId": "2b26c1df-27e6-4623-e2bc-7a6797f35fa5"
      },
      "outputs": [
        {
          "data": {
            "text/plain": [
              "(950, 20)"
            ]
          },
          "execution_count": 6,
          "metadata": {},
          "output_type": "execute_result"
        }
      ],
      "source": [
        "# shape\n",
        "movies.shape\n",
        "ipl.shape"
      ]
    },
    {
      "cell_type": "code",
      "execution_count": 7,
      "metadata": {
        "colab": {
          "base_uri": "https://localhost:8080/"
        },
        "id": "G6eWCQUlvLBk",
        "outputId": "d6f5c1ea-1e1a-4e48-a1b7-cbcef5d4d634"
      },
      "outputs": [
        {
          "data": {
            "text/plain": [
              "ID                   int64\n",
              "City                object\n",
              "Date                object\n",
              "Season              object\n",
              "MatchNumber         object\n",
              "Team1               object\n",
              "Team2               object\n",
              "Venue               object\n",
              "TossWinner          object\n",
              "TossDecision        object\n",
              "SuperOver           object\n",
              "WinningTeam         object\n",
              "WonBy               object\n",
              "Margin             float64\n",
              "method              object\n",
              "Player_of_Match     object\n",
              "Team1Players        object\n",
              "Team2Players        object\n",
              "Umpire1             object\n",
              "Umpire2             object\n",
              "dtype: object"
            ]
          },
          "execution_count": 7,
          "metadata": {},
          "output_type": "execute_result"
        }
      ],
      "source": [
        "# dtypes\n",
        "movies.dtypes   # gives a series, column name is index and type is value\n",
        "ipl.dtypes"
      ]
    },
    {
      "cell_type": "code",
      "execution_count": 8,
      "metadata": {
        "colab": {
          "base_uri": "https://localhost:8080/"
        },
        "id": "WEQltw3hvrwj",
        "outputId": "6b6c3d7d-a376-4072-dabf-488a0d5e5133"
      },
      "outputs": [
        {
          "data": {
            "text/plain": [
              "RangeIndex(start=0, stop=950, step=1)"
            ]
          },
          "execution_count": 8,
          "metadata": {},
          "output_type": "execute_result"
        }
      ],
      "source": [
        "# index\n",
        "movies.index\n",
        "ipl.index"
      ]
    },
    {
      "cell_type": "code",
      "execution_count": 9,
      "metadata": {
        "colab": {
          "base_uri": "https://localhost:8080/"
        },
        "id": "yfzmkEZCvNNU",
        "outputId": "0e8acc8e-98d3-4053-e828-d30341e52f44"
      },
      "outputs": [
        {
          "data": {
            "text/plain": [
              "Index(['iq', 'marks', 'package'], dtype='object')"
            ]
          },
          "execution_count": 9,
          "metadata": {},
          "output_type": "execute_result"
        }
      ],
      "source": [
        "# columns\n",
        "movies.columns\n",
        "ipl.columns\n",
        "student.columns"
      ]
    },
    {
      "cell_type": "code",
      "execution_count": 10,
      "metadata": {
        "colab": {
          "base_uri": "https://localhost:8080/"
        },
        "id": "uVzQeTwfvO8h",
        "outputId": "de070a5f-4061-4613-cfdc-363c40f88819"
      },
      "outputs": [
        {
          "data": {
            "text/plain": [
              "array([[1312200, 'Ahmedabad', '2022-05-29', ...,\n",
              "        \"['WP Saha', 'Shubman Gill', 'MS Wade', 'HH Pandya', 'DA Miller', 'R Tewatia', 'Rashid Khan', 'R Sai Kishore', 'LH Ferguson', 'Yash Dayal', 'Mohammed Shami']\",\n",
              "        'CB Gaffaney', 'Nitin Menon'],\n",
              "       [1312199, 'Ahmedabad', '2022-05-27', ...,\n",
              "        \"['YBK Jaiswal', 'JC Buttler', 'SV Samson', 'D Padikkal', 'SO Hetmyer', 'R Parag', 'R Ashwin', 'TA Boult', 'YS Chahal', 'M Prasidh Krishna', 'OC McCoy']\",\n",
              "        'CB Gaffaney', 'Nitin Menon'],\n",
              "       [1312198, 'Kolkata', '2022-05-25', ...,\n",
              "        \"['Q de Kock', 'KL Rahul', 'M Vohra', 'DJ Hooda', 'MP Stoinis', 'E Lewis', 'KH Pandya', 'PVD Chameera', 'Mohsin Khan', 'Avesh Khan', 'Ravi Bishnoi']\",\n",
              "        'J Madanagopal', 'MA Gough'],\n",
              "       ...,\n",
              "       [335984, 'Delhi', '2008-04-19', ...,\n",
              "        \"['T Kohli', 'YK Pathan', 'SR Watson', 'M Kaif', 'DS Lehmann', 'RA Jadeja', 'M Rawat', 'D Salunkhe', 'SK Warne', 'SK Trivedi', 'MM Patel']\",\n",
              "        'Aleem Dar', 'GA Pratapkumar'],\n",
              "       [335983, 'Chandigarh', '2008-04-19', ...,\n",
              "        \"['PA Patel', 'ML Hayden', 'MEK Hussey', 'MS Dhoni', 'SK Raina', 'JDP Oram', 'S Badrinath', 'Joginder Sharma', 'P Amarnath', 'MS Gony', 'M Muralitharan']\",\n",
              "        'MR Benson', 'SL Shastri'],\n",
              "       [335982, 'Bangalore', '2008-04-18', ...,\n",
              "        \"['SC Ganguly', 'BB McCullum', 'RT Ponting', 'DJ Hussey', 'Mohammad Hafeez', 'LR Shukla', 'WP Saha', 'AB Agarkar', 'AB Dinda', 'M Kartik', 'I Sharma']\",\n",
              "        'Asad Rauf', 'RE Koertzen']], dtype=object)"
            ]
          },
          "execution_count": 10,
          "metadata": {},
          "output_type": "execute_result"
        }
      ],
      "source": [
        "# values\n",
        "student.values\n",
        "ipl.values      #gets 2d numpy array. One outer array. Each inner array contains the row."
      ]
    },
    {
      "cell_type": "code",
      "execution_count": 11,
      "metadata": {
        "colab": {
          "base_uri": "https://localhost:8080/",
          "height": 384
        },
        "id": "g6v9O1JuvPxO",
        "outputId": "81bb0f71-1ba0-4cfa-f34a-93f30bef2e6b"
      },
      "outputs": [
        {
          "data": {
            "text/html": [
              "<div>\n",
              "<style scoped>\n",
              "    .dataframe tbody tr th:only-of-type {\n",
              "        vertical-align: middle;\n",
              "    }\n",
              "\n",
              "    .dataframe tbody tr th {\n",
              "        vertical-align: top;\n",
              "    }\n",
              "\n",
              "    .dataframe thead th {\n",
              "        text-align: right;\n",
              "    }\n",
              "</style>\n",
              "<table border=\"1\" class=\"dataframe\">\n",
              "  <thead>\n",
              "    <tr style=\"text-align: right;\">\n",
              "      <th></th>\n",
              "      <th>title_x</th>\n",
              "      <th>imdb_id</th>\n",
              "      <th>poster_path</th>\n",
              "      <th>wiki_link</th>\n",
              "      <th>title_y</th>\n",
              "      <th>original_title</th>\n",
              "      <th>is_adult</th>\n",
              "      <th>year_of_release</th>\n",
              "      <th>runtime</th>\n",
              "      <th>genres</th>\n",
              "      <th>imdb_rating</th>\n",
              "      <th>imdb_votes</th>\n",
              "      <th>story</th>\n",
              "      <th>summary</th>\n",
              "      <th>tagline</th>\n",
              "      <th>actors</th>\n",
              "      <th>wins_nominations</th>\n",
              "      <th>release_date</th>\n",
              "    </tr>\n",
              "  </thead>\n",
              "  <tbody>\n",
              "    <tr>\n",
              "      <th>0</th>\n",
              "      <td>Uri: The Surgical Strike</td>\n",
              "      <td>tt8291224</td>\n",
              "      <td>https://upload.wikimedia.org/wikipedia/en/thum...</td>\n",
              "      <td>https://en.wikipedia.org/wiki/Uri:_The_Surgica...</td>\n",
              "      <td>Uri: The Surgical Strike</td>\n",
              "      <td>Uri: The Surgical Strike</td>\n",
              "      <td>0</td>\n",
              "      <td>2019</td>\n",
              "      <td>138</td>\n",
              "      <td>Action|Drama|War</td>\n",
              "      <td>8.4</td>\n",
              "      <td>35112</td>\n",
              "      <td>Divided over five chapters  the film chronicle...</td>\n",
              "      <td>Indian army special forces execute a covert op...</td>\n",
              "      <td>NaN</td>\n",
              "      <td>Vicky Kaushal|Paresh Rawal|Mohit Raina|Yami Ga...</td>\n",
              "      <td>4 wins</td>\n",
              "      <td>11 January 2019 (USA)</td>\n",
              "    </tr>\n",
              "    <tr>\n",
              "      <th>1</th>\n",
              "      <td>Battalion 609</td>\n",
              "      <td>tt9472208</td>\n",
              "      <td>NaN</td>\n",
              "      <td>https://en.wikipedia.org/wiki/Battalion_609</td>\n",
              "      <td>Battalion 609</td>\n",
              "      <td>Battalion 609</td>\n",
              "      <td>0</td>\n",
              "      <td>2019</td>\n",
              "      <td>131</td>\n",
              "      <td>War</td>\n",
              "      <td>4.1</td>\n",
              "      <td>73</td>\n",
              "      <td>The story revolves around a cricket match betw...</td>\n",
              "      <td>The story of Battalion 609 revolves around a c...</td>\n",
              "      <td>NaN</td>\n",
              "      <td>Vicky Ahuja|Shoaib Ibrahim|Shrikant Kamat|Elen...</td>\n",
              "      <td>NaN</td>\n",
              "      <td>11 January 2019 (India)</td>\n",
              "    </tr>\n",
              "  </tbody>\n",
              "</table>\n",
              "</div>"
            ],
            "text/plain": [
              "                    title_x    imdb_id  \\\n",
              "0  Uri: The Surgical Strike  tt8291224   \n",
              "1             Battalion 609  tt9472208   \n",
              "\n",
              "                                         poster_path  \\\n",
              "0  https://upload.wikimedia.org/wikipedia/en/thum...   \n",
              "1                                                NaN   \n",
              "\n",
              "                                           wiki_link  \\\n",
              "0  https://en.wikipedia.org/wiki/Uri:_The_Surgica...   \n",
              "1        https://en.wikipedia.org/wiki/Battalion_609   \n",
              "\n",
              "                    title_y            original_title  is_adult  \\\n",
              "0  Uri: The Surgical Strike  Uri: The Surgical Strike         0   \n",
              "1             Battalion 609             Battalion 609         0   \n",
              "\n",
              "   year_of_release runtime            genres  imdb_rating  imdb_votes  \\\n",
              "0             2019     138  Action|Drama|War          8.4       35112   \n",
              "1             2019     131               War          4.1          73   \n",
              "\n",
              "                                               story  \\\n",
              "0  Divided over five chapters  the film chronicle...   \n",
              "1  The story revolves around a cricket match betw...   \n",
              "\n",
              "                                             summary tagline  \\\n",
              "0  Indian army special forces execute a covert op...     NaN   \n",
              "1  The story of Battalion 609 revolves around a c...     NaN   \n",
              "\n",
              "                                              actors wins_nominations  \\\n",
              "0  Vicky Kaushal|Paresh Rawal|Mohit Raina|Yami Ga...           4 wins   \n",
              "1  Vicky Ahuja|Shoaib Ibrahim|Shrikant Kamat|Elen...              NaN   \n",
              "\n",
              "              release_date  \n",
              "0    11 January 2019 (USA)  \n",
              "1  11 January 2019 (India)  "
            ]
          },
          "execution_count": 11,
          "metadata": {},
          "output_type": "execute_result"
        }
      ],
      "source": [
        "# head and tail\n",
        "movies.head(2)"
      ]
    },
    {
      "cell_type": "code",
      "execution_count": 12,
      "metadata": {
        "colab": {
          "base_uri": "https://localhost:8080/",
          "height": 315
        },
        "id": "t0d_xl44Hbzt",
        "outputId": "897f7bb3-93b6-4cd4-9168-e6a0ff083601"
      },
      "outputs": [
        {
          "data": {
            "text/html": [
              "<div>\n",
              "<style scoped>\n",
              "    .dataframe tbody tr th:only-of-type {\n",
              "        vertical-align: middle;\n",
              "    }\n",
              "\n",
              "    .dataframe tbody tr th {\n",
              "        vertical-align: top;\n",
              "    }\n",
              "\n",
              "    .dataframe thead th {\n",
              "        text-align: right;\n",
              "    }\n",
              "</style>\n",
              "<table border=\"1\" class=\"dataframe\">\n",
              "  <thead>\n",
              "    <tr style=\"text-align: right;\">\n",
              "      <th></th>\n",
              "      <th>ID</th>\n",
              "      <th>City</th>\n",
              "      <th>Date</th>\n",
              "      <th>Season</th>\n",
              "      <th>MatchNumber</th>\n",
              "      <th>Team1</th>\n",
              "      <th>Team2</th>\n",
              "      <th>Venue</th>\n",
              "      <th>TossWinner</th>\n",
              "      <th>TossDecision</th>\n",
              "      <th>SuperOver</th>\n",
              "      <th>WinningTeam</th>\n",
              "      <th>WonBy</th>\n",
              "      <th>Margin</th>\n",
              "      <th>method</th>\n",
              "      <th>Player_of_Match</th>\n",
              "      <th>Team1Players</th>\n",
              "      <th>Team2Players</th>\n",
              "      <th>Umpire1</th>\n",
              "      <th>Umpire2</th>\n",
              "    </tr>\n",
              "  </thead>\n",
              "  <tbody>\n",
              "    <tr>\n",
              "      <th>948</th>\n",
              "      <td>335983</td>\n",
              "      <td>Chandigarh</td>\n",
              "      <td>2008-04-19</td>\n",
              "      <td>2007/08</td>\n",
              "      <td>2</td>\n",
              "      <td>Kings XI Punjab</td>\n",
              "      <td>Chennai Super Kings</td>\n",
              "      <td>Punjab Cricket Association Stadium, Mohali</td>\n",
              "      <td>Chennai Super Kings</td>\n",
              "      <td>bat</td>\n",
              "      <td>N</td>\n",
              "      <td>Chennai Super Kings</td>\n",
              "      <td>Runs</td>\n",
              "      <td>33.0</td>\n",
              "      <td>NaN</td>\n",
              "      <td>MEK Hussey</td>\n",
              "      <td>['K Goel', 'JR Hopes', 'KC Sangakkara', 'Yuvra...</td>\n",
              "      <td>['PA Patel', 'ML Hayden', 'MEK Hussey', 'MS Dh...</td>\n",
              "      <td>MR Benson</td>\n",
              "      <td>SL Shastri</td>\n",
              "    </tr>\n",
              "    <tr>\n",
              "      <th>949</th>\n",
              "      <td>335982</td>\n",
              "      <td>Bangalore</td>\n",
              "      <td>2008-04-18</td>\n",
              "      <td>2007/08</td>\n",
              "      <td>1</td>\n",
              "      <td>Royal Challengers Bangalore</td>\n",
              "      <td>Kolkata Knight Riders</td>\n",
              "      <td>M Chinnaswamy Stadium</td>\n",
              "      <td>Royal Challengers Bangalore</td>\n",
              "      <td>field</td>\n",
              "      <td>N</td>\n",
              "      <td>Kolkata Knight Riders</td>\n",
              "      <td>Runs</td>\n",
              "      <td>140.0</td>\n",
              "      <td>NaN</td>\n",
              "      <td>BB McCullum</td>\n",
              "      <td>['R Dravid', 'W Jaffer', 'V Kohli', 'JH Kallis...</td>\n",
              "      <td>['SC Ganguly', 'BB McCullum', 'RT Ponting', 'D...</td>\n",
              "      <td>Asad Rauf</td>\n",
              "      <td>RE Koertzen</td>\n",
              "    </tr>\n",
              "  </tbody>\n",
              "</table>\n",
              "</div>"
            ],
            "text/plain": [
              "         ID        City        Date   Season MatchNumber  \\\n",
              "948  335983  Chandigarh  2008-04-19  2007/08           2   \n",
              "949  335982   Bangalore  2008-04-18  2007/08           1   \n",
              "\n",
              "                           Team1                  Team2  \\\n",
              "948              Kings XI Punjab    Chennai Super Kings   \n",
              "949  Royal Challengers Bangalore  Kolkata Knight Riders   \n",
              "\n",
              "                                          Venue                   TossWinner  \\\n",
              "948  Punjab Cricket Association Stadium, Mohali          Chennai Super Kings   \n",
              "949                       M Chinnaswamy Stadium  Royal Challengers Bangalore   \n",
              "\n",
              "    TossDecision SuperOver            WinningTeam WonBy  Margin method  \\\n",
              "948          bat         N    Chennai Super Kings  Runs    33.0    NaN   \n",
              "949        field         N  Kolkata Knight Riders  Runs   140.0    NaN   \n",
              "\n",
              "    Player_of_Match                                       Team1Players  \\\n",
              "948      MEK Hussey  ['K Goel', 'JR Hopes', 'KC Sangakkara', 'Yuvra...   \n",
              "949     BB McCullum  ['R Dravid', 'W Jaffer', 'V Kohli', 'JH Kallis...   \n",
              "\n",
              "                                          Team2Players    Umpire1      Umpire2  \n",
              "948  ['PA Patel', 'ML Hayden', 'MEK Hussey', 'MS Dh...  MR Benson   SL Shastri  \n",
              "949  ['SC Ganguly', 'BB McCullum', 'RT Ponting', 'D...  Asad Rauf  RE Koertzen  "
            ]
          },
          "execution_count": 12,
          "metadata": {},
          "output_type": "execute_result"
        }
      ],
      "source": [
        "ipl.tail(2)"
      ]
    },
    {
      "cell_type": "code",
      "execution_count": 13,
      "metadata": {
        "colab": {
          "base_uri": "https://localhost:8080/",
          "height": 583
        },
        "id": "QhIqN122vZyF",
        "outputId": "9d1bb788-1613-404e-98b7-221cf96dbe31"
      },
      "outputs": [
        {
          "data": {
            "text/html": [
              "<div>\n",
              "<style scoped>\n",
              "    .dataframe tbody tr th:only-of-type {\n",
              "        vertical-align: middle;\n",
              "    }\n",
              "\n",
              "    .dataframe tbody tr th {\n",
              "        vertical-align: top;\n",
              "    }\n",
              "\n",
              "    .dataframe thead th {\n",
              "        text-align: right;\n",
              "    }\n",
              "</style>\n",
              "<table border=\"1\" class=\"dataframe\">\n",
              "  <thead>\n",
              "    <tr style=\"text-align: right;\">\n",
              "      <th></th>\n",
              "      <th>ID</th>\n",
              "      <th>City</th>\n",
              "      <th>Date</th>\n",
              "      <th>Season</th>\n",
              "      <th>MatchNumber</th>\n",
              "      <th>Team1</th>\n",
              "      <th>Team2</th>\n",
              "      <th>Venue</th>\n",
              "      <th>TossWinner</th>\n",
              "      <th>TossDecision</th>\n",
              "      <th>SuperOver</th>\n",
              "      <th>WinningTeam</th>\n",
              "      <th>WonBy</th>\n",
              "      <th>Margin</th>\n",
              "      <th>method</th>\n",
              "      <th>Player_of_Match</th>\n",
              "      <th>Team1Players</th>\n",
              "      <th>Team2Players</th>\n",
              "      <th>Umpire1</th>\n",
              "      <th>Umpire2</th>\n",
              "    </tr>\n",
              "  </thead>\n",
              "  <tbody>\n",
              "    <tr>\n",
              "      <th>757</th>\n",
              "      <td>501215</td>\n",
              "      <td>Kochi</td>\n",
              "      <td>2011-04-18</td>\n",
              "      <td>2011</td>\n",
              "      <td>18</td>\n",
              "      <td>Kochi Tuskers Kerala</td>\n",
              "      <td>Chennai Super Kings</td>\n",
              "      <td>Nehru Stadium</td>\n",
              "      <td>Kochi Tuskers Kerala</td>\n",
              "      <td>field</td>\n",
              "      <td>N</td>\n",
              "      <td>Kochi Tuskers Kerala</td>\n",
              "      <td>Wickets</td>\n",
              "      <td>7.0</td>\n",
              "      <td>D/L</td>\n",
              "      <td>BB McCullum</td>\n",
              "      <td>['BB McCullum', 'DPMD Jayawardene', 'PA Patel'...</td>\n",
              "      <td>['MEK Hussey', 'M Vijay', 'SK Raina', 'S Badri...</td>\n",
              "      <td>K Hariharan</td>\n",
              "      <td>AL Hill</td>\n",
              "    </tr>\n",
              "    <tr>\n",
              "      <th>160</th>\n",
              "      <td>1216522</td>\n",
              "      <td>NaN</td>\n",
              "      <td>2020-10-17</td>\n",
              "      <td>2020/21</td>\n",
              "      <td>33</td>\n",
              "      <td>Rajasthan Royals</td>\n",
              "      <td>Royal Challengers Bangalore</td>\n",
              "      <td>Dubai International Cricket Stadium</td>\n",
              "      <td>Rajasthan Royals</td>\n",
              "      <td>bat</td>\n",
              "      <td>N</td>\n",
              "      <td>Royal Challengers Bangalore</td>\n",
              "      <td>Wickets</td>\n",
              "      <td>7.0</td>\n",
              "      <td>NaN</td>\n",
              "      <td>AB de Villiers</td>\n",
              "      <td>['RV Uthappa', 'BA Stokes', 'SV Samson', 'SPD ...</td>\n",
              "      <td>['D Padikkal', 'AJ Finch', 'V Kohli', 'AB de V...</td>\n",
              "      <td>AK Chaudhary</td>\n",
              "      <td>Nitin Menon</td>\n",
              "    </tr>\n",
              "    <tr>\n",
              "      <th>87</th>\n",
              "      <td>1254112</td>\n",
              "      <td>Sharjah</td>\n",
              "      <td>2021-10-02</td>\n",
              "      <td>2021</td>\n",
              "      <td>46</td>\n",
              "      <td>Mumbai Indians</td>\n",
              "      <td>Delhi Capitals</td>\n",
              "      <td>Sharjah Cricket Stadium</td>\n",
              "      <td>Delhi Capitals</td>\n",
              "      <td>field</td>\n",
              "      <td>N</td>\n",
              "      <td>Delhi Capitals</td>\n",
              "      <td>Wickets</td>\n",
              "      <td>4.0</td>\n",
              "      <td>NaN</td>\n",
              "      <td>AR Patel</td>\n",
              "      <td>['RG Sharma', 'Q de Kock', 'SA Yadav', 'SS Tiw...</td>\n",
              "      <td>['PP Shaw', 'S Dhawan', 'SPD Smith', 'RR Pant'...</td>\n",
              "      <td>AK Chaudhary</td>\n",
              "      <td>MA Gough</td>\n",
              "    </tr>\n",
              "    <tr>\n",
              "      <th>676</th>\n",
              "      <td>548332</td>\n",
              "      <td>Chennai</td>\n",
              "      <td>2012-04-21</td>\n",
              "      <td>2012</td>\n",
              "      <td>26</td>\n",
              "      <td>Chennai Super Kings</td>\n",
              "      <td>Rajasthan Royals</td>\n",
              "      <td>MA Chidambaram Stadium, Chepauk</td>\n",
              "      <td>Rajasthan Royals</td>\n",
              "      <td>bat</td>\n",
              "      <td>N</td>\n",
              "      <td>Chennai Super Kings</td>\n",
              "      <td>Wickets</td>\n",
              "      <td>7.0</td>\n",
              "      <td>NaN</td>\n",
              "      <td>F du Plessis</td>\n",
              "      <td>['S Badrinath', 'F du Plessis', 'SK Raina', 'M...</td>\n",
              "      <td>['R Dravid', 'AM Rahane', 'OA Shah', 'AL Menar...</td>\n",
              "      <td>Aleem Dar</td>\n",
              "      <td>BNJ Oxenford</td>\n",
              "    </tr>\n",
              "    <tr>\n",
              "      <th>224</th>\n",
              "      <td>1178404</td>\n",
              "      <td>Kolkata</td>\n",
              "      <td>2019-04-14</td>\n",
              "      <td>2019</td>\n",
              "      <td>29</td>\n",
              "      <td>Kolkata Knight Riders</td>\n",
              "      <td>Chennai Super Kings</td>\n",
              "      <td>Eden Gardens</td>\n",
              "      <td>Chennai Super Kings</td>\n",
              "      <td>field</td>\n",
              "      <td>N</td>\n",
              "      <td>Chennai Super Kings</td>\n",
              "      <td>Wickets</td>\n",
              "      <td>5.0</td>\n",
              "      <td>NaN</td>\n",
              "      <td>Imran Tahir</td>\n",
              "      <td>['CA Lynn', 'SP Narine', 'N Rana', 'RV Uthappa...</td>\n",
              "      <td>['SR Watson', 'F du Plessis', 'SK Raina', 'AT ...</td>\n",
              "      <td>CK Nandan</td>\n",
              "      <td>RJ Tucker</td>\n",
              "    </tr>\n",
              "  </tbody>\n",
              "</table>\n",
              "</div>"
            ],
            "text/plain": [
              "          ID     City        Date   Season MatchNumber                  Team1  \\\n",
              "757   501215    Kochi  2011-04-18     2011          18   Kochi Tuskers Kerala   \n",
              "160  1216522      NaN  2020-10-17  2020/21          33       Rajasthan Royals   \n",
              "87   1254112  Sharjah  2021-10-02     2021          46         Mumbai Indians   \n",
              "676   548332  Chennai  2012-04-21     2012          26    Chennai Super Kings   \n",
              "224  1178404  Kolkata  2019-04-14     2019          29  Kolkata Knight Riders   \n",
              "\n",
              "                           Team2                                Venue  \\\n",
              "757          Chennai Super Kings                        Nehru Stadium   \n",
              "160  Royal Challengers Bangalore  Dubai International Cricket Stadium   \n",
              "87                Delhi Capitals              Sharjah Cricket Stadium   \n",
              "676             Rajasthan Royals      MA Chidambaram Stadium, Chepauk   \n",
              "224          Chennai Super Kings                         Eden Gardens   \n",
              "\n",
              "               TossWinner TossDecision SuperOver                  WinningTeam  \\\n",
              "757  Kochi Tuskers Kerala        field         N         Kochi Tuskers Kerala   \n",
              "160      Rajasthan Royals          bat         N  Royal Challengers Bangalore   \n",
              "87         Delhi Capitals        field         N               Delhi Capitals   \n",
              "676      Rajasthan Royals          bat         N          Chennai Super Kings   \n",
              "224   Chennai Super Kings        field         N          Chennai Super Kings   \n",
              "\n",
              "       WonBy  Margin method Player_of_Match  \\\n",
              "757  Wickets     7.0    D/L     BB McCullum   \n",
              "160  Wickets     7.0    NaN  AB de Villiers   \n",
              "87   Wickets     4.0    NaN        AR Patel   \n",
              "676  Wickets     7.0    NaN    F du Plessis   \n",
              "224  Wickets     5.0    NaN     Imran Tahir   \n",
              "\n",
              "                                          Team1Players  \\\n",
              "757  ['BB McCullum', 'DPMD Jayawardene', 'PA Patel'...   \n",
              "160  ['RV Uthappa', 'BA Stokes', 'SV Samson', 'SPD ...   \n",
              "87   ['RG Sharma', 'Q de Kock', 'SA Yadav', 'SS Tiw...   \n",
              "676  ['S Badrinath', 'F du Plessis', 'SK Raina', 'M...   \n",
              "224  ['CA Lynn', 'SP Narine', 'N Rana', 'RV Uthappa...   \n",
              "\n",
              "                                          Team2Players       Umpire1  \\\n",
              "757  ['MEK Hussey', 'M Vijay', 'SK Raina', 'S Badri...   K Hariharan   \n",
              "160  ['D Padikkal', 'AJ Finch', 'V Kohli', 'AB de V...  AK Chaudhary   \n",
              "87   ['PP Shaw', 'S Dhawan', 'SPD Smith', 'RR Pant'...  AK Chaudhary   \n",
              "676  ['R Dravid', 'AM Rahane', 'OA Shah', 'AL Menar...     Aleem Dar   \n",
              "224  ['SR Watson', 'F du Plessis', 'SK Raina', 'AT ...     CK Nandan   \n",
              "\n",
              "          Umpire2  \n",
              "757       AL Hill  \n",
              "160   Nitin Menon  \n",
              "87       MA Gough  \n",
              "676  BNJ Oxenford  \n",
              "224     RJ Tucker  "
            ]
          },
          "execution_count": 13,
          "metadata": {},
          "output_type": "execute_result"
        }
      ],
      "source": [
        "# sample\n",
        "ipl.sample(5)"
      ]
    },
    {
      "cell_type": "code",
      "execution_count": 14,
      "metadata": {
        "colab": {
          "base_uri": "https://localhost:8080/"
        },
        "id": "rKJeok4Qvaig",
        "outputId": "2afd9b94-65e0-42eb-fa4d-07ff6eecb8e2"
      },
      "outputs": [
        {
          "name": "stdout",
          "output_type": "stream",
          "text": [
            "<class 'pandas.core.frame.DataFrame'>\n",
            "RangeIndex: 1629 entries, 0 to 1628\n",
            "Data columns (total 18 columns):\n",
            " #   Column            Non-Null Count  Dtype  \n",
            "---  ------            --------------  -----  \n",
            " 0   title_x           1629 non-null   object \n",
            " 1   imdb_id           1629 non-null   object \n",
            " 2   poster_path       1526 non-null   object \n",
            " 3   wiki_link         1629 non-null   object \n",
            " 4   title_y           1629 non-null   object \n",
            " 5   original_title    1629 non-null   object \n",
            " 6   is_adult          1629 non-null   int64  \n",
            " 7   year_of_release   1629 non-null   int64  \n",
            " 8   runtime           1629 non-null   object \n",
            " 9   genres            1629 non-null   object \n",
            " 10  imdb_rating       1629 non-null   float64\n",
            " 11  imdb_votes        1629 non-null   int64  \n",
            " 12  story             1609 non-null   object \n",
            " 13  summary           1629 non-null   object \n",
            " 14  tagline           557 non-null    object \n",
            " 15  actors            1624 non-null   object \n",
            " 16  wins_nominations  707 non-null    object \n",
            " 17  release_date      1522 non-null   object \n",
            "dtypes: float64(1), int64(3), object(14)\n",
            "memory usage: 229.2+ KB\n"
          ]
        }
      ],
      "source": [
        "# info ; Very useful, gives high level summary of the dataset\n",
        "movies.info()"
      ]
    },
    {
      "cell_type": "code",
      "execution_count": 15,
      "metadata": {
        "colab": {
          "base_uri": "https://localhost:8080/"
        },
        "id": "ETfjOEfIINwA",
        "outputId": "d8010ea1-d515-4872-f55d-5ab05ac77359"
      },
      "outputs": [
        {
          "name": "stdout",
          "output_type": "stream",
          "text": [
            "<class 'pandas.core.frame.DataFrame'>\n",
            "RangeIndex: 950 entries, 0 to 949\n",
            "Data columns (total 20 columns):\n",
            " #   Column           Non-Null Count  Dtype  \n",
            "---  ------           --------------  -----  \n",
            " 0   ID               950 non-null    int64  \n",
            " 1   City             899 non-null    object \n",
            " 2   Date             950 non-null    object \n",
            " 3   Season           950 non-null    object \n",
            " 4   MatchNumber      950 non-null    object \n",
            " 5   Team1            950 non-null    object \n",
            " 6   Team2            950 non-null    object \n",
            " 7   Venue            950 non-null    object \n",
            " 8   TossWinner       950 non-null    object \n",
            " 9   TossDecision     950 non-null    object \n",
            " 10  SuperOver        946 non-null    object \n",
            " 11  WinningTeam      946 non-null    object \n",
            " 12  WonBy            950 non-null    object \n",
            " 13  Margin           932 non-null    float64\n",
            " 14  method           19 non-null     object \n",
            " 15  Player_of_Match  946 non-null    object \n",
            " 16  Team1Players     950 non-null    object \n",
            " 17  Team2Players     950 non-null    object \n",
            " 18  Umpire1          950 non-null    object \n",
            " 19  Umpire2          950 non-null    object \n",
            "dtypes: float64(1), int64(1), object(18)\n",
            "memory usage: 148.6+ KB\n"
          ]
        }
      ],
      "source": [
        "ipl.info()"
      ]
    },
    {
      "cell_type": "code",
      "execution_count": 16,
      "metadata": {
        "colab": {
          "base_uri": "https://localhost:8080/",
          "height": 300
        },
        "id": "OikkCRPevgK5",
        "outputId": "619a60a9-1ea8-4744-bf0f-d9db2161d233"
      },
      "outputs": [
        {
          "data": {
            "text/html": [
              "<div>\n",
              "<style scoped>\n",
              "    .dataframe tbody tr th:only-of-type {\n",
              "        vertical-align: middle;\n",
              "    }\n",
              "\n",
              "    .dataframe tbody tr th {\n",
              "        vertical-align: top;\n",
              "    }\n",
              "\n",
              "    .dataframe thead th {\n",
              "        text-align: right;\n",
              "    }\n",
              "</style>\n",
              "<table border=\"1\" class=\"dataframe\">\n",
              "  <thead>\n",
              "    <tr style=\"text-align: right;\">\n",
              "      <th></th>\n",
              "      <th>is_adult</th>\n",
              "      <th>year_of_release</th>\n",
              "      <th>imdb_rating</th>\n",
              "      <th>imdb_votes</th>\n",
              "    </tr>\n",
              "  </thead>\n",
              "  <tbody>\n",
              "    <tr>\n",
              "      <th>count</th>\n",
              "      <td>1629.0</td>\n",
              "      <td>1629.000000</td>\n",
              "      <td>1629.000000</td>\n",
              "      <td>1629.000000</td>\n",
              "    </tr>\n",
              "    <tr>\n",
              "      <th>mean</th>\n",
              "      <td>0.0</td>\n",
              "      <td>2010.263966</td>\n",
              "      <td>5.557459</td>\n",
              "      <td>5384.263352</td>\n",
              "    </tr>\n",
              "    <tr>\n",
              "      <th>std</th>\n",
              "      <td>0.0</td>\n",
              "      <td>5.381542</td>\n",
              "      <td>1.567609</td>\n",
              "      <td>14552.103231</td>\n",
              "    </tr>\n",
              "    <tr>\n",
              "      <th>min</th>\n",
              "      <td>0.0</td>\n",
              "      <td>2001.000000</td>\n",
              "      <td>0.000000</td>\n",
              "      <td>0.000000</td>\n",
              "    </tr>\n",
              "    <tr>\n",
              "      <th>25%</th>\n",
              "      <td>0.0</td>\n",
              "      <td>2005.000000</td>\n",
              "      <td>4.400000</td>\n",
              "      <td>233.000000</td>\n",
              "    </tr>\n",
              "    <tr>\n",
              "      <th>50%</th>\n",
              "      <td>0.0</td>\n",
              "      <td>2011.000000</td>\n",
              "      <td>5.600000</td>\n",
              "      <td>1000.000000</td>\n",
              "    </tr>\n",
              "    <tr>\n",
              "      <th>75%</th>\n",
              "      <td>0.0</td>\n",
              "      <td>2015.000000</td>\n",
              "      <td>6.800000</td>\n",
              "      <td>4287.000000</td>\n",
              "    </tr>\n",
              "    <tr>\n",
              "      <th>max</th>\n",
              "      <td>0.0</td>\n",
              "      <td>2019.000000</td>\n",
              "      <td>9.400000</td>\n",
              "      <td>310481.000000</td>\n",
              "    </tr>\n",
              "  </tbody>\n",
              "</table>\n",
              "</div>"
            ],
            "text/plain": [
              "       is_adult  year_of_release  imdb_rating     imdb_votes\n",
              "count    1629.0      1629.000000  1629.000000    1629.000000\n",
              "mean        0.0      2010.263966     5.557459    5384.263352\n",
              "std         0.0         5.381542     1.567609   14552.103231\n",
              "min         0.0      2001.000000     0.000000       0.000000\n",
              "25%         0.0      2005.000000     4.400000     233.000000\n",
              "50%         0.0      2011.000000     5.600000    1000.000000\n",
              "75%         0.0      2015.000000     6.800000    4287.000000\n",
              "max         0.0      2019.000000     9.400000  310481.000000"
            ]
          },
          "execution_count": 16,
          "metadata": {},
          "output_type": "execute_result"
        }
      ],
      "source": [
        "# describe; Gives distribution of the numerical columns\n",
        "movies.describe()"
      ]
    },
    {
      "cell_type": "code",
      "execution_count": 17,
      "metadata": {
        "colab": {
          "base_uri": "https://localhost:8080/",
          "height": 300
        },
        "id": "tuxfdf8tI9Z2",
        "outputId": "c546a524-e9b1-4e64-cfee-2e622361536b"
      },
      "outputs": [
        {
          "data": {
            "text/html": [
              "<div>\n",
              "<style scoped>\n",
              "    .dataframe tbody tr th:only-of-type {\n",
              "        vertical-align: middle;\n",
              "    }\n",
              "\n",
              "    .dataframe tbody tr th {\n",
              "        vertical-align: top;\n",
              "    }\n",
              "\n",
              "    .dataframe thead th {\n",
              "        text-align: right;\n",
              "    }\n",
              "</style>\n",
              "<table border=\"1\" class=\"dataframe\">\n",
              "  <thead>\n",
              "    <tr style=\"text-align: right;\">\n",
              "      <th></th>\n",
              "      <th>ID</th>\n",
              "      <th>Margin</th>\n",
              "    </tr>\n",
              "  </thead>\n",
              "  <tbody>\n",
              "    <tr>\n",
              "      <th>count</th>\n",
              "      <td>9.500000e+02</td>\n",
              "      <td>932.000000</td>\n",
              "    </tr>\n",
              "    <tr>\n",
              "      <th>mean</th>\n",
              "      <td>8.304852e+05</td>\n",
              "      <td>17.056867</td>\n",
              "    </tr>\n",
              "    <tr>\n",
              "      <th>std</th>\n",
              "      <td>3.375678e+05</td>\n",
              "      <td>21.633109</td>\n",
              "    </tr>\n",
              "    <tr>\n",
              "      <th>min</th>\n",
              "      <td>3.359820e+05</td>\n",
              "      <td>1.000000</td>\n",
              "    </tr>\n",
              "    <tr>\n",
              "      <th>25%</th>\n",
              "      <td>5.012612e+05</td>\n",
              "      <td>6.000000</td>\n",
              "    </tr>\n",
              "    <tr>\n",
              "      <th>50%</th>\n",
              "      <td>8.297380e+05</td>\n",
              "      <td>8.000000</td>\n",
              "    </tr>\n",
              "    <tr>\n",
              "      <th>75%</th>\n",
              "      <td>1.175372e+06</td>\n",
              "      <td>19.000000</td>\n",
              "    </tr>\n",
              "    <tr>\n",
              "      <th>max</th>\n",
              "      <td>1.312200e+06</td>\n",
              "      <td>146.000000</td>\n",
              "    </tr>\n",
              "  </tbody>\n",
              "</table>\n",
              "</div>"
            ],
            "text/plain": [
              "                 ID      Margin\n",
              "count  9.500000e+02  932.000000\n",
              "mean   8.304852e+05   17.056867\n",
              "std    3.375678e+05   21.633109\n",
              "min    3.359820e+05    1.000000\n",
              "25%    5.012612e+05    6.000000\n",
              "50%    8.297380e+05    8.000000\n",
              "75%    1.175372e+06   19.000000\n",
              "max    1.312200e+06  146.000000"
            ]
          },
          "execution_count": 17,
          "metadata": {},
          "output_type": "execute_result"
        }
      ],
      "source": [
        "ipl.describe()"
      ]
    },
    {
      "cell_type": "code",
      "execution_count": 18,
      "metadata": {
        "colab": {
          "base_uri": "https://localhost:8080/"
        },
        "id": "cffM8jnww3GV",
        "outputId": "c8ebd656-b4e8-4b2b-9416-368564a940ef"
      },
      "outputs": [
        {
          "data": {
            "text/plain": [
              "title_x                0\n",
              "imdb_id                0\n",
              "poster_path          103\n",
              "wiki_link              0\n",
              "title_y                0\n",
              "original_title         0\n",
              "is_adult               0\n",
              "year_of_release        0\n",
              "runtime                0\n",
              "genres                 0\n",
              "imdb_rating            0\n",
              "imdb_votes             0\n",
              "story                 20\n",
              "summary                0\n",
              "tagline             1072\n",
              "actors                 5\n",
              "wins_nominations     922\n",
              "release_date         107\n",
              "dtype: int64"
            ]
          },
          "execution_count": 18,
          "metadata": {},
          "output_type": "execute_result"
        }
      ],
      "source": [
        "# isnull\n",
        "movies.isnull().sum()   # how many null values inside the dataset"
      ]
    },
    {
      "cell_type": "code",
      "execution_count": 19,
      "metadata": {
        "colab": {
          "base_uri": "https://localhost:8080/"
        },
        "id": "vGdYd3F8w4Kl",
        "outputId": "196e32c0-636b-401a-e91c-86494a833403"
      },
      "outputs": [
        {
          "data": {
            "text/plain": [
              "0"
            ]
          },
          "execution_count": 19,
          "metadata": {},
          "output_type": "execute_result"
        }
      ],
      "source": [
        "# duplicated\n",
        "movies.duplicated().sum()   # if any entire rows are repeating"
      ]
    },
    {
      "cell_type": "code",
      "execution_count": 20,
      "metadata": {
        "colab": {
          "base_uri": "https://localhost:8080/"
        },
        "id": "gabFmEQaJ9Ns",
        "outputId": "9ad8cf45-f24d-4e89-b522-7a562cdc6052"
      },
      "outputs": [
        {
          "data": {
            "text/plain": [
              "0"
            ]
          },
          "execution_count": 20,
          "metadata": {},
          "output_type": "execute_result"
        }
      ],
      "source": [
        "student.duplicated().sum()"
      ]
    },
    {
      "cell_type": "code",
      "execution_count": 21,
      "metadata": {
        "colab": {
          "base_uri": "https://localhost:8080/",
          "height": 238
        },
        "id": "2Qpru22QFYrI",
        "outputId": "2f4694e9-7e2c-4d67-e268-dc4863811beb"
      },
      "outputs": [
        {
          "data": {
            "text/html": [
              "<div>\n",
              "<style scoped>\n",
              "    .dataframe tbody tr th:only-of-type {\n",
              "        vertical-align: middle;\n",
              "    }\n",
              "\n",
              "    .dataframe tbody tr th {\n",
              "        vertical-align: top;\n",
              "    }\n",
              "\n",
              "    .dataframe thead th {\n",
              "        text-align: right;\n",
              "    }\n",
              "</style>\n",
              "<table border=\"1\" class=\"dataframe\">\n",
              "  <thead>\n",
              "    <tr style=\"text-align: right;\">\n",
              "      <th></th>\n",
              "      <th>iq</th>\n",
              "      <th>marks</th>\n",
              "      <th>package</th>\n",
              "    </tr>\n",
              "  </thead>\n",
              "  <tbody>\n",
              "    <tr>\n",
              "      <th>0</th>\n",
              "      <td>100</td>\n",
              "      <td>80</td>\n",
              "      <td>10</td>\n",
              "    </tr>\n",
              "    <tr>\n",
              "      <th>1</th>\n",
              "      <td>90</td>\n",
              "      <td>70</td>\n",
              "      <td>7</td>\n",
              "    </tr>\n",
              "    <tr>\n",
              "      <th>2</th>\n",
              "      <td>120</td>\n",
              "      <td>100</td>\n",
              "      <td>14</td>\n",
              "    </tr>\n",
              "    <tr>\n",
              "      <th>3</th>\n",
              "      <td>80</td>\n",
              "      <td>50</td>\n",
              "      <td>2</td>\n",
              "    </tr>\n",
              "  </tbody>\n",
              "</table>\n",
              "</div>"
            ],
            "text/plain": [
              "    iq  marks  package\n",
              "0  100     80       10\n",
              "1   90     70        7\n",
              "2  120    100       14\n",
              "3   80     50        2"
            ]
          },
          "execution_count": 21,
          "metadata": {},
          "output_type": "execute_result"
        }
      ],
      "source": [
        "# rename\n",
        "student"
      ]
    },
    {
      "cell_type": "code",
      "execution_count": 22,
      "metadata": {
        "id": "uEnGueRIKOLh"
      },
      "outputs": [
        {
          "data": {
            "text/html": [
              "<div>\n",
              "<style scoped>\n",
              "    .dataframe tbody tr th:only-of-type {\n",
              "        vertical-align: middle;\n",
              "    }\n",
              "\n",
              "    .dataframe tbody tr th {\n",
              "        vertical-align: top;\n",
              "    }\n",
              "\n",
              "    .dataframe thead th {\n",
              "        text-align: right;\n",
              "    }\n",
              "</style>\n",
              "<table border=\"1\" class=\"dataframe\">\n",
              "  <thead>\n",
              "    <tr style=\"text-align: right;\">\n",
              "      <th></th>\n",
              "      <th>iq</th>\n",
              "      <th>percent</th>\n",
              "      <th>LPA</th>\n",
              "    </tr>\n",
              "  </thead>\n",
              "  <tbody>\n",
              "    <tr>\n",
              "      <th>0</th>\n",
              "      <td>100</td>\n",
              "      <td>80</td>\n",
              "      <td>10</td>\n",
              "    </tr>\n",
              "    <tr>\n",
              "      <th>1</th>\n",
              "      <td>90</td>\n",
              "      <td>70</td>\n",
              "      <td>7</td>\n",
              "    </tr>\n",
              "    <tr>\n",
              "      <th>2</th>\n",
              "      <td>120</td>\n",
              "      <td>100</td>\n",
              "      <td>14</td>\n",
              "    </tr>\n",
              "    <tr>\n",
              "      <th>3</th>\n",
              "      <td>80</td>\n",
              "      <td>50</td>\n",
              "      <td>2</td>\n",
              "    </tr>\n",
              "  </tbody>\n",
              "</table>\n",
              "</div>"
            ],
            "text/plain": [
              "    iq  percent  LPA\n",
              "0  100       80   10\n",
              "1   90       70    7\n",
              "2  120      100   14\n",
              "3   80       50    2"
            ]
          },
          "execution_count": 22,
          "metadata": {},
          "output_type": "execute_result"
        }
      ],
      "source": [
        "student.rename(columns={\"marks\":\"percent\",\"package\":\"LPA\"},inplace=True)\n",
        "student"
      ]
    },
    {
      "cell_type": "markdown",
      "metadata": {
        "id": "OQ-A3XU-06KG"
      },
      "source": [
        "### Math Methods"
      ]
    },
    {
      "cell_type": "code",
      "execution_count": 23,
      "metadata": {
        "colab": {
          "base_uri": "https://localhost:8080/"
        },
        "id": "9agZIP-z0lc9",
        "outputId": "6f4ca547-c59f-437e-d6c3-7d523df4a2a0"
      },
      "outputs": [
        {
          "data": {
            "text/plain": [
              "0    190\n",
              "1    167\n",
              "2    234\n",
              "3    132\n",
              "dtype: int64"
            ]
          },
          "execution_count": 23,
          "metadata": {},
          "output_type": "execute_result"
        }
      ],
      "source": [
        "# sum -> axis argument ; axis = 0 means axis is row and do summation col wise and axis = 1 is col and \n",
        "student.sum(axis='columns')     # axis = 0 -> col, 1 -> row"
      ]
    },
    {
      "cell_type": "code",
      "execution_count": 24,
      "metadata": {
        "colab": {
          "base_uri": "https://localhost:8080/"
        },
        "id": "bPN2x2-xLitU",
        "outputId": "f6dab3eb-ac81-47fd-8ad2-fd35c4cc6b42"
      },
      "outputs": [
        {
          "data": {
            "text/plain": [
              "0    63.333333\n",
              "1    55.666667\n",
              "2    78.000000\n",
              "3    44.000000\n",
              "dtype: float64"
            ]
          },
          "execution_count": 24,
          "metadata": {},
          "output_type": "execute_result"
        }
      ],
      "source": [
        "student.mean(axis=1)"
      ]
    },
    {
      "cell_type": "code",
      "execution_count": 25,
      "metadata": {
        "colab": {
          "base_uri": "https://localhost:8080/"
        },
        "id": "AEWWvGRCLi8-",
        "outputId": "3e6ceb29-4e5d-4674-d331-0592ec83105c"
      },
      "outputs": [
        {
          "data": {
            "text/plain": [
              "iq         291.666667\n",
              "percent    433.333333\n",
              "LPA         25.583333\n",
              "dtype: float64"
            ]
          },
          "execution_count": 25,
          "metadata": {},
          "output_type": "execute_result"
        }
      ],
      "source": [
        "student.var()"
      ]
    },
    {
      "cell_type": "code",
      "execution_count": null,
      "metadata": {
        "id": "xiAUpMgxLjK8"
      },
      "outputs": [],
      "source": []
    },
    {
      "cell_type": "markdown",
      "metadata": {
        "id": "PaOsDoR01EVm"
      },
      "source": [
        "### Selecting cols from a DataFrame"
      ]
    },
    {
      "cell_type": "code",
      "execution_count": 26,
      "metadata": {
        "colab": {
          "base_uri": "https://localhost:8080/"
        },
        "id": "GFYaWcxk1H3H",
        "outputId": "d049cd3e-9cc0-4952-88fb-009598f8bd5f"
      },
      "outputs": [
        {
          "data": {
            "text/plain": [
              "pandas.core.series.Series"
            ]
          },
          "execution_count": 26,
          "metadata": {},
          "output_type": "execute_result"
        }
      ],
      "source": [
        "# single cols\n",
        "type(movies['title_x'])"
      ]
    },
    {
      "cell_type": "code",
      "execution_count": 28,
      "metadata": {
        "colab": {
          "base_uri": "https://localhost:8080/"
        },
        "id": "4hePxZN6NNrc",
        "outputId": "a8c80192-3601-4384-f10a-4bf50656efbe"
      },
      "outputs": [
        {
          "data": {
            "text/plain": [
              "array(['Narendra Modi Stadium, Ahmedabad', 'Eden Gardens, Kolkata',\n",
              "       'Wankhede Stadium, Mumbai', 'Brabourne Stadium, Mumbai',\n",
              "       'Dr DY Patil Sports Academy, Mumbai',\n",
              "       'Maharashtra Cricket Association Stadium, Pune',\n",
              "       'Dubai International Cricket Stadium', 'Sharjah Cricket Stadium',\n",
              "       'Zayed Cricket Stadium, Abu Dhabi', 'Arun Jaitley Stadium, Delhi',\n",
              "       'MA Chidambaram Stadium, Chepauk, Chennai', 'Sheikh Zayed Stadium',\n",
              "       'Rajiv Gandhi International Stadium',\n",
              "       'Dr. Y.S. Rajasekhara Reddy ACA-VDCA Cricket Stadium',\n",
              "       'MA Chidambaram Stadium',\n",
              "       'Punjab Cricket Association IS Bindra Stadium', 'Wankhede Stadium',\n",
              "       'M.Chinnaswamy Stadium', 'Arun Jaitley Stadium', 'Eden Gardens',\n",
              "       'Sawai Mansingh Stadium',\n",
              "       'Maharashtra Cricket Association Stadium',\n",
              "       'Holkar Cricket Stadium',\n",
              "       'Rajiv Gandhi International Stadium, Uppal',\n",
              "       'M Chinnaswamy Stadium', 'Feroz Shah Kotla', 'Green Park',\n",
              "       'Punjab Cricket Association IS Bindra Stadium, Mohali',\n",
              "       'Saurashtra Cricket Association Stadium',\n",
              "       'Shaheed Veer Narayan Singh International Stadium',\n",
              "       'JSCA International Stadium Complex', 'Brabourne Stadium',\n",
              "       'Punjab Cricket Association Stadium, Mohali',\n",
              "       'MA Chidambaram Stadium, Chepauk', 'Sardar Patel Stadium, Motera',\n",
              "       'Barabati Stadium', 'Subrata Roy Sahara Stadium',\n",
              "       'Himachal Pradesh Cricket Association Stadium',\n",
              "       'Dr DY Patil Sports Academy', 'Nehru Stadium',\n",
              "       'Vidarbha Cricket Association Stadium, Jamtha',\n",
              "       'New Wanderers Stadium', 'SuperSport Park', 'Kingsmead',\n",
              "       'OUTsurance Oval', \"St George's Park\", 'De Beers Diamond Oval',\n",
              "       'Buffalo Park', 'Newlands'], dtype=object)"
            ]
          },
          "execution_count": 28,
          "metadata": {},
          "output_type": "execute_result"
        }
      ],
      "source": [
        "ipl['Venue'].unique()"
      ]
    },
    {
      "cell_type": "code",
      "execution_count": 30,
      "metadata": {},
      "outputs": [
        {
          "data": {
            "text/plain": [
              "pandas.core.frame.DataFrame"
            ]
          },
          "execution_count": 30,
          "metadata": {},
          "output_type": "execute_result"
        }
      ],
      "source": [
        "type(movies[['title_x']])"
      ]
    },
    {
      "cell_type": "code",
      "execution_count": 31,
      "metadata": {
        "colab": {
          "base_uri": "https://localhost:8080/",
          "height": 424
        },
        "id": "fBmf-wef1KsY",
        "outputId": "f2fd08f5-6265-40ff-95cb-d565acafa802"
      },
      "outputs": [
        {
          "data": {
            "text/html": [
              "<div>\n",
              "<style scoped>\n",
              "    .dataframe tbody tr th:only-of-type {\n",
              "        vertical-align: middle;\n",
              "    }\n",
              "\n",
              "    .dataframe tbody tr th {\n",
              "        vertical-align: top;\n",
              "    }\n",
              "\n",
              "    .dataframe thead th {\n",
              "        text-align: right;\n",
              "    }\n",
              "</style>\n",
              "<table border=\"1\" class=\"dataframe\">\n",
              "  <thead>\n",
              "    <tr style=\"text-align: right;\">\n",
              "      <th></th>\n",
              "      <th>year_of_release</th>\n",
              "      <th>actors</th>\n",
              "      <th>title_x</th>\n",
              "    </tr>\n",
              "  </thead>\n",
              "  <tbody>\n",
              "    <tr>\n",
              "      <th>0</th>\n",
              "      <td>2019</td>\n",
              "      <td>Vicky Kaushal|Paresh Rawal|Mohit Raina|Yami Ga...</td>\n",
              "      <td>Uri: The Surgical Strike</td>\n",
              "    </tr>\n",
              "    <tr>\n",
              "      <th>1</th>\n",
              "      <td>2019</td>\n",
              "      <td>Vicky Ahuja|Shoaib Ibrahim|Shrikant Kamat|Elen...</td>\n",
              "      <td>Battalion 609</td>\n",
              "    </tr>\n",
              "    <tr>\n",
              "      <th>2</th>\n",
              "      <td>2019</td>\n",
              "      <td>Anupam Kher|Akshaye Khanna|Aahana Kumra|Atul S...</td>\n",
              "      <td>The Accidental Prime Minister (film)</td>\n",
              "    </tr>\n",
              "    <tr>\n",
              "      <th>3</th>\n",
              "      <td>2019</td>\n",
              "      <td>Emraan Hashmi|Shreya Dhanwanthary|Snighdadeep ...</td>\n",
              "      <td>Why Cheat India</td>\n",
              "    </tr>\n",
              "    <tr>\n",
              "      <th>4</th>\n",
              "      <td>2018</td>\n",
              "      <td>Mona Ambegaonkar|Ananth Narayan Mahadevan|Deva...</td>\n",
              "      <td>Evening Shadows</td>\n",
              "    </tr>\n",
              "    <tr>\n",
              "      <th>...</th>\n",
              "      <td>...</td>\n",
              "      <td>...</td>\n",
              "      <td>...</td>\n",
              "    </tr>\n",
              "    <tr>\n",
              "      <th>1624</th>\n",
              "      <td>2001</td>\n",
              "      <td>Ajay Devgn|Sonali Bendre|Namrata Shirodkar|Pre...</td>\n",
              "      <td>Tera Mera Saath Rahen</td>\n",
              "    </tr>\n",
              "    <tr>\n",
              "      <th>1625</th>\n",
              "      <td>2001</td>\n",
              "      <td>Ameesha Patel|Jimmy Sheirgill|Nafisa Ali|Gulsh...</td>\n",
              "      <td>Yeh Zindagi Ka Safar</td>\n",
              "    </tr>\n",
              "    <tr>\n",
              "      <th>1626</th>\n",
              "      <td>2018</td>\n",
              "      <td>Vijay Arora|Asrani|Rajni Bala|Kumud Damle|Utpa...</td>\n",
              "      <td>Sabse Bada Sukh</td>\n",
              "    </tr>\n",
              "    <tr>\n",
              "      <th>1627</th>\n",
              "      <td>2019</td>\n",
              "      <td>Gippy Grewal|Zareen Khan|</td>\n",
              "      <td>Daaka</td>\n",
              "    </tr>\n",
              "    <tr>\n",
              "      <th>1628</th>\n",
              "      <td>2011</td>\n",
              "      <td>Fawad Khan|</td>\n",
              "      <td>Humsafar</td>\n",
              "    </tr>\n",
              "  </tbody>\n",
              "</table>\n",
              "<p>1629 rows × 3 columns</p>\n",
              "</div>"
            ],
            "text/plain": [
              "      year_of_release                                             actors  \\\n",
              "0                2019  Vicky Kaushal|Paresh Rawal|Mohit Raina|Yami Ga...   \n",
              "1                2019  Vicky Ahuja|Shoaib Ibrahim|Shrikant Kamat|Elen...   \n",
              "2                2019  Anupam Kher|Akshaye Khanna|Aahana Kumra|Atul S...   \n",
              "3                2019  Emraan Hashmi|Shreya Dhanwanthary|Snighdadeep ...   \n",
              "4                2018  Mona Ambegaonkar|Ananth Narayan Mahadevan|Deva...   \n",
              "...               ...                                                ...   \n",
              "1624             2001  Ajay Devgn|Sonali Bendre|Namrata Shirodkar|Pre...   \n",
              "1625             2001  Ameesha Patel|Jimmy Sheirgill|Nafisa Ali|Gulsh...   \n",
              "1626             2018  Vijay Arora|Asrani|Rajni Bala|Kumud Damle|Utpa...   \n",
              "1627             2019                          Gippy Grewal|Zareen Khan|   \n",
              "1628             2011                                        Fawad Khan|   \n",
              "\n",
              "                                   title_x  \n",
              "0                 Uri: The Surgical Strike  \n",
              "1                            Battalion 609  \n",
              "2     The Accidental Prime Minister (film)  \n",
              "3                          Why Cheat India  \n",
              "4                          Evening Shadows  \n",
              "...                                    ...  \n",
              "1624                 Tera Mera Saath Rahen  \n",
              "1625                  Yeh Zindagi Ka Safar  \n",
              "1626                       Sabse Bada Sukh  \n",
              "1627                                 Daaka  \n",
              "1628                              Humsafar  \n",
              "\n",
              "[1629 rows x 3 columns]"
            ]
          },
          "execution_count": 31,
          "metadata": {},
          "output_type": "execute_result"
        }
      ],
      "source": [
        "# multiple cols\n",
        "movies[['year_of_release','actors','title_x']]"
      ]
    },
    {
      "cell_type": "code",
      "execution_count": 32,
      "metadata": {
        "colab": {
          "base_uri": "https://localhost:8080/",
          "height": 424
        },
        "id": "s3mf9nuYN-J6",
        "outputId": "630ec525-28a1-434c-cb99-784f82980bd3"
      },
      "outputs": [
        {
          "data": {
            "text/html": [
              "<div>\n",
              "<style scoped>\n",
              "    .dataframe tbody tr th:only-of-type {\n",
              "        vertical-align: middle;\n",
              "    }\n",
              "\n",
              "    .dataframe tbody tr th {\n",
              "        vertical-align: top;\n",
              "    }\n",
              "\n",
              "    .dataframe thead th {\n",
              "        text-align: right;\n",
              "    }\n",
              "</style>\n",
              "<table border=\"1\" class=\"dataframe\">\n",
              "  <thead>\n",
              "    <tr style=\"text-align: right;\">\n",
              "      <th></th>\n",
              "      <th>Team1</th>\n",
              "      <th>Team2</th>\n",
              "      <th>WinningTeam</th>\n",
              "    </tr>\n",
              "  </thead>\n",
              "  <tbody>\n",
              "    <tr>\n",
              "      <th>0</th>\n",
              "      <td>Rajasthan Royals</td>\n",
              "      <td>Gujarat Titans</td>\n",
              "      <td>Gujarat Titans</td>\n",
              "    </tr>\n",
              "    <tr>\n",
              "      <th>1</th>\n",
              "      <td>Royal Challengers Bangalore</td>\n",
              "      <td>Rajasthan Royals</td>\n",
              "      <td>Rajasthan Royals</td>\n",
              "    </tr>\n",
              "    <tr>\n",
              "      <th>2</th>\n",
              "      <td>Royal Challengers Bangalore</td>\n",
              "      <td>Lucknow Super Giants</td>\n",
              "      <td>Royal Challengers Bangalore</td>\n",
              "    </tr>\n",
              "    <tr>\n",
              "      <th>3</th>\n",
              "      <td>Rajasthan Royals</td>\n",
              "      <td>Gujarat Titans</td>\n",
              "      <td>Gujarat Titans</td>\n",
              "    </tr>\n",
              "    <tr>\n",
              "      <th>4</th>\n",
              "      <td>Sunrisers Hyderabad</td>\n",
              "      <td>Punjab Kings</td>\n",
              "      <td>Punjab Kings</td>\n",
              "    </tr>\n",
              "    <tr>\n",
              "      <th>...</th>\n",
              "      <td>...</td>\n",
              "      <td>...</td>\n",
              "      <td>...</td>\n",
              "    </tr>\n",
              "    <tr>\n",
              "      <th>945</th>\n",
              "      <td>Kolkata Knight Riders</td>\n",
              "      <td>Deccan Chargers</td>\n",
              "      <td>Kolkata Knight Riders</td>\n",
              "    </tr>\n",
              "    <tr>\n",
              "      <th>946</th>\n",
              "      <td>Mumbai Indians</td>\n",
              "      <td>Royal Challengers Bangalore</td>\n",
              "      <td>Royal Challengers Bangalore</td>\n",
              "    </tr>\n",
              "    <tr>\n",
              "      <th>947</th>\n",
              "      <td>Delhi Daredevils</td>\n",
              "      <td>Rajasthan Royals</td>\n",
              "      <td>Delhi Daredevils</td>\n",
              "    </tr>\n",
              "    <tr>\n",
              "      <th>948</th>\n",
              "      <td>Kings XI Punjab</td>\n",
              "      <td>Chennai Super Kings</td>\n",
              "      <td>Chennai Super Kings</td>\n",
              "    </tr>\n",
              "    <tr>\n",
              "      <th>949</th>\n",
              "      <td>Royal Challengers Bangalore</td>\n",
              "      <td>Kolkata Knight Riders</td>\n",
              "      <td>Kolkata Knight Riders</td>\n",
              "    </tr>\n",
              "  </tbody>\n",
              "</table>\n",
              "<p>950 rows × 3 columns</p>\n",
              "</div>"
            ],
            "text/plain": [
              "                           Team1                        Team2  \\\n",
              "0               Rajasthan Royals               Gujarat Titans   \n",
              "1    Royal Challengers Bangalore             Rajasthan Royals   \n",
              "2    Royal Challengers Bangalore         Lucknow Super Giants   \n",
              "3               Rajasthan Royals               Gujarat Titans   \n",
              "4            Sunrisers Hyderabad                 Punjab Kings   \n",
              "..                           ...                          ...   \n",
              "945        Kolkata Knight Riders              Deccan Chargers   \n",
              "946               Mumbai Indians  Royal Challengers Bangalore   \n",
              "947             Delhi Daredevils             Rajasthan Royals   \n",
              "948              Kings XI Punjab          Chennai Super Kings   \n",
              "949  Royal Challengers Bangalore        Kolkata Knight Riders   \n",
              "\n",
              "                     WinningTeam  \n",
              "0                 Gujarat Titans  \n",
              "1               Rajasthan Royals  \n",
              "2    Royal Challengers Bangalore  \n",
              "3                 Gujarat Titans  \n",
              "4                   Punjab Kings  \n",
              "..                           ...  \n",
              "945        Kolkata Knight Riders  \n",
              "946  Royal Challengers Bangalore  \n",
              "947             Delhi Daredevils  \n",
              "948          Chennai Super Kings  \n",
              "949        Kolkata Knight Riders  \n",
              "\n",
              "[950 rows x 3 columns]"
            ]
          },
          "execution_count": 32,
          "metadata": {},
          "output_type": "execute_result"
        }
      ],
      "source": [
        "ipl[['Team1','Team2','WinningTeam']]"
      ]
    },
    {
      "cell_type": "markdown",
      "metadata": {
        "id": "Xfe-uRHn2fnK"
      },
      "source": [
        "### Selecting rows from a DataFrame\n",
        "\n",
        "- **iloc** - searches using index positions\n",
        "- **loc** - searches using index labels"
      ]
    },
    {
      "cell_type": "code",
      "execution_count": 39,
      "metadata": {
        "colab": {
          "base_uri": "https://localhost:8080/"
        },
        "id": "jEpLIQ8o1Lqe",
        "outputId": "5af38c28-7870-4251-f39b-c700931ee2bb"
      },
      "outputs": [
        {
          "data": {
            "text/plain": [
              "title_x                                      Uri: The Surgical Strike\n",
              "imdb_id                                                     tt8291224\n",
              "poster_path         https://upload.wikimedia.org/wikipedia/en/thum...\n",
              "wiki_link           https://en.wikipedia.org/wiki/Uri:_The_Surgica...\n",
              "title_y                                      Uri: The Surgical Strike\n",
              "original_title                               Uri: The Surgical Strike\n",
              "is_adult                                                            0\n",
              "year_of_release                                                  2019\n",
              "runtime                                                           138\n",
              "genres                                               Action|Drama|War\n",
              "imdb_rating                                                       8.4\n",
              "imdb_votes                                                      35112\n",
              "story               Divided over five chapters  the film chronicle...\n",
              "summary             Indian army special forces execute a covert op...\n",
              "tagline                                                           NaN\n",
              "actors              Vicky Kaushal|Paresh Rawal|Mohit Raina|Yami Ga...\n",
              "wins_nominations                                               4 wins\n",
              "release_date                                    11 January 2019 (USA)\n",
              "Name: 0, dtype: object"
            ]
          },
          "execution_count": 39,
          "metadata": {},
          "output_type": "execute_result"
        }
      ],
      "source": [
        "# single row\n",
        "movies.iloc[0]"
      ]
    },
    {
      "cell_type": "code",
      "execution_count": 40,
      "metadata": {
        "colab": {
          "base_uri": "https://localhost:8080/",
          "height": 635
        },
        "id": "sZ-9vwck2kWx",
        "outputId": "fca0ca53-62e9-486e-c544-e324463ffb62"
      },
      "outputs": [
        {
          "data": {
            "text/html": [
              "<div>\n",
              "<style scoped>\n",
              "    .dataframe tbody tr th:only-of-type {\n",
              "        vertical-align: middle;\n",
              "    }\n",
              "\n",
              "    .dataframe tbody tr th {\n",
              "        vertical-align: top;\n",
              "    }\n",
              "\n",
              "    .dataframe thead th {\n",
              "        text-align: right;\n",
              "    }\n",
              "</style>\n",
              "<table border=\"1\" class=\"dataframe\">\n",
              "  <thead>\n",
              "    <tr style=\"text-align: right;\">\n",
              "      <th></th>\n",
              "      <th>title_x</th>\n",
              "      <th>imdb_id</th>\n",
              "      <th>poster_path</th>\n",
              "      <th>wiki_link</th>\n",
              "      <th>title_y</th>\n",
              "      <th>original_title</th>\n",
              "      <th>is_adult</th>\n",
              "      <th>year_of_release</th>\n",
              "      <th>runtime</th>\n",
              "      <th>genres</th>\n",
              "      <th>imdb_rating</th>\n",
              "      <th>imdb_votes</th>\n",
              "      <th>story</th>\n",
              "      <th>summary</th>\n",
              "      <th>tagline</th>\n",
              "      <th>actors</th>\n",
              "      <th>wins_nominations</th>\n",
              "      <th>release_date</th>\n",
              "    </tr>\n",
              "  </thead>\n",
              "  <tbody>\n",
              "    <tr>\n",
              "      <th>0</th>\n",
              "      <td>Uri: The Surgical Strike</td>\n",
              "      <td>tt8291224</td>\n",
              "      <td>https://upload.wikimedia.org/wikipedia/en/thum...</td>\n",
              "      <td>https://en.wikipedia.org/wiki/Uri:_The_Surgica...</td>\n",
              "      <td>Uri: The Surgical Strike</td>\n",
              "      <td>Uri: The Surgical Strike</td>\n",
              "      <td>0</td>\n",
              "      <td>2019</td>\n",
              "      <td>138</td>\n",
              "      <td>Action|Drama|War</td>\n",
              "      <td>8.4</td>\n",
              "      <td>35112</td>\n",
              "      <td>Divided over five chapters  the film chronicle...</td>\n",
              "      <td>Indian army special forces execute a covert op...</td>\n",
              "      <td>NaN</td>\n",
              "      <td>Vicky Kaushal|Paresh Rawal|Mohit Raina|Yami Ga...</td>\n",
              "      <td>4 wins</td>\n",
              "      <td>11 January 2019 (USA)</td>\n",
              "    </tr>\n",
              "    <tr>\n",
              "      <th>1</th>\n",
              "      <td>Battalion 609</td>\n",
              "      <td>tt9472208</td>\n",
              "      <td>NaN</td>\n",
              "      <td>https://en.wikipedia.org/wiki/Battalion_609</td>\n",
              "      <td>Battalion 609</td>\n",
              "      <td>Battalion 609</td>\n",
              "      <td>0</td>\n",
              "      <td>2019</td>\n",
              "      <td>131</td>\n",
              "      <td>War</td>\n",
              "      <td>4.1</td>\n",
              "      <td>73</td>\n",
              "      <td>The story revolves around a cricket match betw...</td>\n",
              "      <td>The story of Battalion 609 revolves around a c...</td>\n",
              "      <td>NaN</td>\n",
              "      <td>Vicky Ahuja|Shoaib Ibrahim|Shrikant Kamat|Elen...</td>\n",
              "      <td>NaN</td>\n",
              "      <td>11 January 2019 (India)</td>\n",
              "    </tr>\n",
              "    <tr>\n",
              "      <th>2</th>\n",
              "      <td>The Accidental Prime Minister (film)</td>\n",
              "      <td>tt6986710</td>\n",
              "      <td>https://upload.wikimedia.org/wikipedia/en/thum...</td>\n",
              "      <td>https://en.wikipedia.org/wiki/The_Accidental_P...</td>\n",
              "      <td>The Accidental Prime Minister</td>\n",
              "      <td>The Accidental Prime Minister</td>\n",
              "      <td>0</td>\n",
              "      <td>2019</td>\n",
              "      <td>112</td>\n",
              "      <td>Biography|Drama</td>\n",
              "      <td>6.1</td>\n",
              "      <td>5549</td>\n",
              "      <td>Based on the memoir by Indian policy analyst S...</td>\n",
              "      <td>Explores Manmohan Singh's tenure as the Prime ...</td>\n",
              "      <td>NaN</td>\n",
              "      <td>Anupam Kher|Akshaye Khanna|Aahana Kumra|Atul S...</td>\n",
              "      <td>NaN</td>\n",
              "      <td>11 January 2019 (USA)</td>\n",
              "    </tr>\n",
              "    <tr>\n",
              "      <th>3</th>\n",
              "      <td>Why Cheat India</td>\n",
              "      <td>tt8108208</td>\n",
              "      <td>https://upload.wikimedia.org/wikipedia/en/thum...</td>\n",
              "      <td>https://en.wikipedia.org/wiki/Why_Cheat_India</td>\n",
              "      <td>Why Cheat India</td>\n",
              "      <td>Why Cheat India</td>\n",
              "      <td>0</td>\n",
              "      <td>2019</td>\n",
              "      <td>121</td>\n",
              "      <td>Crime|Drama</td>\n",
              "      <td>6.0</td>\n",
              "      <td>1891</td>\n",
              "      <td>The movie focuses on existing malpractices in ...</td>\n",
              "      <td>The movie focuses on existing malpractices in ...</td>\n",
              "      <td>NaN</td>\n",
              "      <td>Emraan Hashmi|Shreya Dhanwanthary|Snighdadeep ...</td>\n",
              "      <td>NaN</td>\n",
              "      <td>18 January 2019 (USA)</td>\n",
              "    </tr>\n",
              "    <tr>\n",
              "      <th>4</th>\n",
              "      <td>Evening Shadows</td>\n",
              "      <td>tt6028796</td>\n",
              "      <td>NaN</td>\n",
              "      <td>https://en.wikipedia.org/wiki/Evening_Shadows</td>\n",
              "      <td>Evening Shadows</td>\n",
              "      <td>Evening Shadows</td>\n",
              "      <td>0</td>\n",
              "      <td>2018</td>\n",
              "      <td>102</td>\n",
              "      <td>Drama</td>\n",
              "      <td>7.3</td>\n",
              "      <td>280</td>\n",
              "      <td>While gay rights and marriage equality has bee...</td>\n",
              "      <td>Under the 'Evening Shadows'  truth often plays...</td>\n",
              "      <td>NaN</td>\n",
              "      <td>Mona Ambegaonkar|Ananth Narayan Mahadevan|Deva...</td>\n",
              "      <td>17 wins &amp; 1 nomination</td>\n",
              "      <td>11 January 2019 (India)</td>\n",
              "    </tr>\n",
              "  </tbody>\n",
              "</table>\n",
              "</div>"
            ],
            "text/plain": [
              "                                title_x    imdb_id  \\\n",
              "0              Uri: The Surgical Strike  tt8291224   \n",
              "1                         Battalion 609  tt9472208   \n",
              "2  The Accidental Prime Minister (film)  tt6986710   \n",
              "3                       Why Cheat India  tt8108208   \n",
              "4                       Evening Shadows  tt6028796   \n",
              "\n",
              "                                         poster_path  \\\n",
              "0  https://upload.wikimedia.org/wikipedia/en/thum...   \n",
              "1                                                NaN   \n",
              "2  https://upload.wikimedia.org/wikipedia/en/thum...   \n",
              "3  https://upload.wikimedia.org/wikipedia/en/thum...   \n",
              "4                                                NaN   \n",
              "\n",
              "                                           wiki_link  \\\n",
              "0  https://en.wikipedia.org/wiki/Uri:_The_Surgica...   \n",
              "1        https://en.wikipedia.org/wiki/Battalion_609   \n",
              "2  https://en.wikipedia.org/wiki/The_Accidental_P...   \n",
              "3      https://en.wikipedia.org/wiki/Why_Cheat_India   \n",
              "4      https://en.wikipedia.org/wiki/Evening_Shadows   \n",
              "\n",
              "                         title_y                 original_title  is_adult  \\\n",
              "0       Uri: The Surgical Strike       Uri: The Surgical Strike         0   \n",
              "1                  Battalion 609                  Battalion 609         0   \n",
              "2  The Accidental Prime Minister  The Accidental Prime Minister         0   \n",
              "3                Why Cheat India                Why Cheat India         0   \n",
              "4                Evening Shadows                Evening Shadows         0   \n",
              "\n",
              "   year_of_release runtime            genres  imdb_rating  imdb_votes  \\\n",
              "0             2019     138  Action|Drama|War          8.4       35112   \n",
              "1             2019     131               War          4.1          73   \n",
              "2             2019     112   Biography|Drama          6.1        5549   \n",
              "3             2019     121       Crime|Drama          6.0        1891   \n",
              "4             2018     102             Drama          7.3         280   \n",
              "\n",
              "                                               story  \\\n",
              "0  Divided over five chapters  the film chronicle...   \n",
              "1  The story revolves around a cricket match betw...   \n",
              "2  Based on the memoir by Indian policy analyst S...   \n",
              "3  The movie focuses on existing malpractices in ...   \n",
              "4  While gay rights and marriage equality has bee...   \n",
              "\n",
              "                                             summary tagline  \\\n",
              "0  Indian army special forces execute a covert op...     NaN   \n",
              "1  The story of Battalion 609 revolves around a c...     NaN   \n",
              "2  Explores Manmohan Singh's tenure as the Prime ...     NaN   \n",
              "3  The movie focuses on existing malpractices in ...     NaN   \n",
              "4  Under the 'Evening Shadows'  truth often plays...     NaN   \n",
              "\n",
              "                                              actors        wins_nominations  \\\n",
              "0  Vicky Kaushal|Paresh Rawal|Mohit Raina|Yami Ga...                  4 wins   \n",
              "1  Vicky Ahuja|Shoaib Ibrahim|Shrikant Kamat|Elen...                     NaN   \n",
              "2  Anupam Kher|Akshaye Khanna|Aahana Kumra|Atul S...                     NaN   \n",
              "3  Emraan Hashmi|Shreya Dhanwanthary|Snighdadeep ...                     NaN   \n",
              "4  Mona Ambegaonkar|Ananth Narayan Mahadevan|Deva...  17 wins & 1 nomination   \n",
              "\n",
              "              release_date  \n",
              "0    11 January 2019 (USA)  \n",
              "1  11 January 2019 (India)  \n",
              "2    11 January 2019 (USA)  \n",
              "3    18 January 2019 (USA)  \n",
              "4  11 January 2019 (India)  "
            ]
          },
          "execution_count": 40,
          "metadata": {},
          "output_type": "execute_result"
        }
      ],
      "source": [
        "# multiple row\n",
        "movies.iloc[:5]"
      ]
    },
    {
      "cell_type": "code",
      "execution_count": null,
      "metadata": {
        "colab": {
          "base_uri": "https://localhost:8080/",
          "height": 503
        },
        "id": "jsdmIdyBlFg8",
        "outputId": "cb603511-7e16-4f78-a331-ce6ca3c90918"
      },
      "outputs": [],
      "source": [
        "# fancy indexing\n",
        "movies.iloc[[0,4,5]]"
      ]
    },
    {
      "cell_type": "code",
      "execution_count": null,
      "metadata": {
        "colab": {
          "base_uri": "https://localhost:8080/",
          "height": 269
        },
        "id": "tzKNGsmAjhpv",
        "outputId": "7411c7c4-c94c-4269-8b18-a8b8715059f0"
      },
      "outputs": [],
      "source": [
        "# loc\n",
        "students"
      ]
    },
    {
      "cell_type": "code",
      "execution_count": null,
      "metadata": {
        "colab": {
          "base_uri": "https://localhost:8080/"
        },
        "id": "hyOae7adjh2d",
        "outputId": "e1a31fc3-f7d9-4238-cf9a-fdf0143a1087"
      },
      "outputs": [],
      "source": [
        "students.loc['nitish']"
      ]
    },
    {
      "cell_type": "code",
      "execution_count": null,
      "metadata": {
        "colab": {
          "base_uri": "https://localhost:8080/",
          "height": 143
        },
        "id": "tboUtK1djiGQ",
        "outputId": "bf9ecde4-a5bd-425e-eeb9-9509be7e7b79"
      },
      "outputs": [],
      "source": [
        "students.loc['nitish':'rishabh':2]"
      ]
    },
    {
      "cell_type": "code",
      "execution_count": null,
      "metadata": {
        "colab": {
          "base_uri": "https://localhost:8080/",
          "height": 175
        },
        "id": "WOWnPNp6jiUK",
        "outputId": "b603b597-9bf1-40dc-c51b-c990cc7dc0d1"
      },
      "outputs": [],
      "source": [
        "students.loc[['nitish','ankita','rupesh']]"
      ]
    },
    {
      "cell_type": "code",
      "execution_count": null,
      "metadata": {
        "colab": {
          "base_uri": "https://localhost:8080/",
          "height": 175
        },
        "id": "bEvsiB5wQoqC",
        "outputId": "0d6945ef-d7b0-4f84-cf9d-50e47fb7912e"
      },
      "outputs": [],
      "source": [
        "students.iloc[[0,3,4]]"
      ]
    },
    {
      "cell_type": "markdown",
      "metadata": {
        "id": "OP8KFcBiaZt-"
      },
      "source": [
        "### Selecting both rows and cols"
      ]
    },
    {
      "cell_type": "code",
      "execution_count": null,
      "metadata": {
        "colab": {
          "base_uri": "https://localhost:8080/",
          "height": 143
        },
        "id": "6QUgIi7kad1X",
        "outputId": "c29e9437-37a0-4258-e706-2d6f19aaa80f"
      },
      "outputs": [],
      "source": [
        "movies.iloc[0:3,0:3]"
      ]
    },
    {
      "cell_type": "code",
      "execution_count": null,
      "metadata": {
        "colab": {
          "base_uri": "https://localhost:8080/",
          "height": 143
        },
        "id": "LGrzybQ6ad_d",
        "outputId": "75901163-a67b-4a6e-9ec8-88312a35a65e"
      },
      "outputs": [],
      "source": [
        "movies.loc[0:2,'title_x':'poster_path']"
      ]
    },
    {
      "cell_type": "markdown",
      "metadata": {
        "id": "VRAEYkfSNf9Z"
      },
      "source": [
        "### Filtering a DataFrame"
      ]
    },
    {
      "cell_type": "code",
      "execution_count": null,
      "metadata": {
        "colab": {
          "base_uri": "https://localhost:8080/",
          "height": 298
        },
        "id": "xLlq8bktvi63",
        "outputId": "e0eb75d4-56ca-4a26-88bd-c111beb56f56"
      },
      "outputs": [],
      "source": [
        "ipl.head(2)"
      ]
    },
    {
      "cell_type": "code",
      "execution_count": null,
      "metadata": {
        "colab": {
          "base_uri": "https://localhost:8080/",
          "height": 520
        },
        "id": "zVjGjyx7NjSR",
        "outputId": "19879233-7fff-4c69-e89f-63e984095a18"
      },
      "outputs": [],
      "source": [
        "# find all the final winners\n",
        "mask = ipl['MatchNumber'] == 'Final'\n",
        "new_df = ipl[mask]\n",
        "new_df[['Season','WinningTeam']]\n",
        "\n",
        "ipl[ipl['MatchNumber'] == 'Final'][['Season','WinningTeam']]"
      ]
    },
    {
      "cell_type": "code",
      "execution_count": null,
      "metadata": {
        "colab": {
          "base_uri": "https://localhost:8080/"
        },
        "id": "BxGq-wpGNjho",
        "outputId": "ffc63ff9-af69-4f93-d4a7-49df211cf8c5"
      },
      "outputs": [],
      "source": [
        "# how many super over finishes have occured\n",
        "ipl[ipl['SuperOver'] == 'Y'].shape[0]"
      ]
    },
    {
      "cell_type": "code",
      "execution_count": null,
      "metadata": {
        "colab": {
          "base_uri": "https://localhost:8080/"
        },
        "id": "K8V6Z-yKNjpf",
        "outputId": "2e2bf7c2-3628-4649-da11-dbfa5268f8ac"
      },
      "outputs": [],
      "source": [
        "# how many matches has csk won in kolkata\n",
        "ipl[(ipl['City'] == 'Kolkata') & (ipl['WinningTeam'] == 'Chennai Super Kings')].shape[0]"
      ]
    },
    {
      "cell_type": "code",
      "execution_count": null,
      "metadata": {
        "colab": {
          "base_uri": "https://localhost:8080/"
        },
        "id": "S00UZa5KYBMM",
        "outputId": "c333a177-40a8-442d-c6bc-58e16f23e48f"
      },
      "outputs": [],
      "source": [
        "# toss winner is match winner in percentage\n",
        "(ipl[ipl['TossWinner'] == ipl['WinningTeam']].shape[0]/ipl.shape[0])*100"
      ]
    },
    {
      "cell_type": "code",
      "execution_count": null,
      "metadata": {
        "colab": {
          "base_uri": "https://localhost:8080/"
        },
        "id": "5tj638VtV0hH",
        "outputId": "eb59452c-072c-45ed-8839-371d3596bf13"
      },
      "outputs": [],
      "source": [
        "# movies with rating higher than 8 and votes>10000\n",
        "movies[(movies['imdb_rating'] > 8.5) & (movies['imdb_votes'] > 10000)].shape[0]"
      ]
    },
    {
      "cell_type": "code",
      "execution_count": null,
      "metadata": {
        "colab": {
          "base_uri": "https://localhost:8080/",
          "height": 1000
        },
        "id": "AfoJr1wKNjzw",
        "outputId": "c4fefbdd-5c3a-464a-a1cc-fa54a3cacad1"
      },
      "outputs": [],
      "source": [
        "# Action movies with rating higher than 7.5\n",
        "# mask1 = movies['genres'].str.split('|').apply(lambda x:'Action' in x)\n",
        "mask1 = movies['genres'].str.contains('Action')\n",
        "mask2 = movies['imdb_rating'] > 7.5\n",
        "\n",
        "movies[mask1 & mask2]"
      ]
    },
    {
      "cell_type": "code",
      "execution_count": null,
      "metadata": {
        "id": "eO5DEaswWEi_"
      },
      "outputs": [],
      "source": [
        "# write a function that can return the track record of 2 teams against each other"
      ]
    },
    {
      "cell_type": "markdown",
      "metadata": {
        "id": "Kqf3EdS0229S"
      },
      "source": [
        "### Adding new cols"
      ]
    },
    {
      "cell_type": "code",
      "execution_count": null,
      "metadata": {
        "colab": {
          "base_uri": "https://localhost:8080/",
          "height": 635
        },
        "id": "t7GmI1tn24Ge",
        "outputId": "a27a5542-6add-4e36-a7a7-865cf4e2e1e2"
      },
      "outputs": [],
      "source": [
        "# completely new\n",
        "movies['Country'] = 'India'\n",
        "movies.head()"
      ]
    },
    {
      "cell_type": "code",
      "execution_count": null,
      "metadata": {
        "id": "__bvr_sX25qI"
      },
      "outputs": [],
      "source": [
        "# from existing ones\n",
        "movies.dropna(inplace=True)"
      ]
    },
    {
      "cell_type": "code",
      "execution_count": null,
      "metadata": {
        "colab": {
          "base_uri": "https://localhost:8080/",
          "height": 739
        },
        "id": "ge6LfvI7bBR9",
        "outputId": "645ae722-53a5-4e1e-c146-45d0fe1edd47"
      },
      "outputs": [],
      "source": [
        "movies['lead actor'] = movies['actors'].str.split('|').apply(lambda x:x[0])\n",
        "movies.head()"
      ]
    },
    {
      "cell_type": "code",
      "execution_count": null,
      "metadata": {
        "colab": {
          "base_uri": "https://localhost:8080/"
        },
        "id": "nYWiGlIMakvg",
        "outputId": "345876ef-e1c1-49b9-80d0-e72d44a18a31"
      },
      "outputs": [],
      "source": [
        "movies.info()"
      ]
    },
    {
      "cell_type": "markdown",
      "metadata": {
        "id": "B881F9xu4Bmk"
      },
      "source": [
        "### Important DataFrame Functions"
      ]
    },
    {
      "cell_type": "code",
      "execution_count": null,
      "metadata": {
        "colab": {
          "base_uri": "https://localhost:8080/"
        },
        "id": "dd985cwtJnCW",
        "outputId": "38fd851c-a06f-474d-dd59-5e95b369b1c4"
      },
      "outputs": [],
      "source": [
        "# astype\n",
        "ipl.info()"
      ]
    },
    {
      "cell_type": "code",
      "execution_count": null,
      "metadata": {
        "id": "xHCmE6PtcKyb"
      },
      "outputs": [],
      "source": [
        "ipl['ID'] = ipl['ID'].astype('int32')"
      ]
    },
    {
      "cell_type": "code",
      "execution_count": null,
      "metadata": {
        "colab": {
          "base_uri": "https://localhost:8080/"
        },
        "id": "7okWM4HWcWAp",
        "outputId": "e76d79d3-0a68-4ecf-c7f8-1f84f552b99a"
      },
      "outputs": [],
      "source": [
        "ipl.info()"
      ]
    },
    {
      "cell_type": "code",
      "execution_count": null,
      "metadata": {
        "id": "AsFtYc_9cv8c"
      },
      "outputs": [],
      "source": [
        "# ipl['Season'] = ipl['Season'].astype('category')\n",
        "ipl['Team1'] = ipl['Team1'].astype('category')\n",
        "ipl['Team2'] = ipl['Team2'].astype('category')"
      ]
    },
    {
      "cell_type": "code",
      "execution_count": null,
      "metadata": {
        "colab": {
          "base_uri": "https://localhost:8080/"
        },
        "id": "vYekmCGbcwEC",
        "outputId": "7c6015d0-f66c-401a-cbae-34bf91541809"
      },
      "outputs": [],
      "source": [
        "ipl.info()"
      ]
    },
    {
      "cell_type": "code",
      "execution_count": null,
      "metadata": {
        "id": "2NtdlwFEcwKL"
      },
      "outputs": [],
      "source": []
    },
    {
      "cell_type": "code",
      "execution_count": null,
      "metadata": {
        "id": "76Gugqiz4F8s"
      },
      "outputs": [],
      "source": [
        "# value_counts"
      ]
    },
    {
      "cell_type": "code",
      "execution_count": null,
      "metadata": {
        "id": "L9pTZNBZWqSM"
      },
      "outputs": [],
      "source": [
        "# find which player has won most potm -> in finals and qualifiers"
      ]
    },
    {
      "cell_type": "code",
      "execution_count": null,
      "metadata": {
        "id": "nfqb_Ix1XKKy"
      },
      "outputs": [],
      "source": [
        "# Toss decision plot"
      ]
    },
    {
      "cell_type": "code",
      "execution_count": null,
      "metadata": {
        "id": "d7lYVfAtYL3n"
      },
      "outputs": [],
      "source": [
        "# how many matches each team has played"
      ]
    },
    {
      "cell_type": "code",
      "execution_count": null,
      "metadata": {
        "id": "l4ds2LHi4IG7"
      },
      "outputs": [],
      "source": [
        "# sort_values -> ascending -> na_position -> inplace -> multiple cols"
      ]
    }
  ],
  "metadata": {
    "colab": {
      "provenance": []
    },
    "kernelspec": {
      "display_name": "Python 3",
      "name": "python3"
    },
    "language_info": {
      "codemirror_mode": {
        "name": "ipython",
        "version": 3
      },
      "file_extension": ".py",
      "mimetype": "text/x-python",
      "name": "python",
      "nbconvert_exporter": "python",
      "pygments_lexer": "ipython3",
      "version": "3.12.2"
    }
  },
  "nbformat": 4,
  "nbformat_minor": 0
}
