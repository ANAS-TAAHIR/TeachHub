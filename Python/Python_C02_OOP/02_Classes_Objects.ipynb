{
 "cells": [
  {
   "cell_type": "markdown",
   "id": "e6b47102",
   "metadata": {},
   "source": [
    "# Class implementation examples \n",
    "We have seen how the classes are implemented. Now, we will see some more examples as well."
   ]
  },
  {
   "cell_type": "markdown",
   "id": "d6121f4a",
   "metadata": {},
   "source": [
    "## Student class\n",
    "Create a student class with the following attributes:\n",
    "- name\n",
    "- roll_number\n",
    "- marks\n",
    "- courses\n",
    "- is_active # Flag to indicate the student is currently studying or not\n",
    "\n",
    "Implement the following methods:\n",
    "- `__init__` method to initialize the attributes\n",
    "- `__repr__` method to print the details of the student (roll_number and name only)\n",
    "- `add_course(course_name)` method to add a course to the student\n",
    "- `remove_course(course_name)` method to remove a course from the student\n",
    "- `update_marks(marks)` method to update the marks of the student\n",
    "- `deactivate_student()` method to deactivate the student\n",
    "\n",
    "**Quick Note:**\n",
    "- `__repr__` method is used for developers to see the details of the object. It is used for debugging purposes. If __str__ is not defined then Python by default calls it for printing the object but if __str__ is defined then it is called for printing the object. __str__ is intended for end users."
   ]
  },
  {
   "cell_type": "code",
   "execution_count": null,
   "id": "16bcd583-0524-484e-9ef9-75cd37acfc3b",
   "metadata": {},
   "outputs": [],
   "source": []
  },
  {
   "cell_type": "code",
   "execution_count": null,
   "id": "4f864b95-f3b2-4c7d-bf3f-7cf1b1b66c40",
   "metadata": {},
   "outputs": [],
   "source": [
    "student1 = Student('Zubair', 341, 87)\n",
    "student2 = Student('George', 342, 90)\n",
    "student3 = Student('Ali', 343, 78)\n",
    "student4 = Student('Omar', 344, 95)\n",
    "student5 = Student('Norbert', 345, 88)\n",
    "student6 = Student('Jhon', 346, 92)\n",
    "student7 = Student('Mustafa', 347, 85)\n",
    "student8 = Student('Sami', 348, 89)\n",
    "student9 = Student('Yusuf', 349, 91)\n",
    "student10 = Student('Ibrahim', 350, 82)"
   ]
  },
  {
   "cell_type": "code",
   "execution_count": null,
   "id": "e1161354-3f47-47d2-8c49-7ce0904c2384",
   "metadata": {},
   "outputs": [],
   "source": [
    "print(student1)\n",
    "print(student2)\n",
    "print(student3)\n",
    "print(student4)\n",
    "print(student5)\n",
    "print(student6)\n",
    "print(student7)\n",
    "print(student8)\n",
    "print(student9)\n",
    "print(student10)"
   ]
  },
  {
   "cell_type": "markdown",
   "id": "43a583a2-1fe5-4f59-aa57-479cd81cf712",
   "metadata": {},
   "source": [
    "## Complex Number class\n",
    "Implement `ComplexNumber` class with the following attributes:\n",
    "- real\n",
    "- imaginary  or complex\n",
    "\n",
    "Implement the following methods:\n",
    "- `__init__` method to initialize the attributes\n",
    "- `__repr__` method to print: `real + imaginary i`\n",
    "- `add(other)` method to add two complex numbers\n",
    "- `subtract(other)` method to subtract two complex numbers\n",
    "- `multiply(other)` method to multiply two complex numbers\n",
    "- `divide(other)` method to divide two complex numbers\n",
    "- `conjugate()` method to get the conjugate of the complex number\n"
   ]
  },
  {
   "cell_type": "code",
   "execution_count": null,
   "id": "8b62e655-4da6-4e66-a31a-a82a568bd9b0",
   "metadata": {},
   "outputs": [],
   "source": []
  },
  {
   "cell_type": "markdown",
   "id": "ffa1f915",
   "metadata": {},
   "source": [
    "## For student\n",
    "## Rectangle class\n",
    "Implement `Rectangle` class having `length` and `width` attributes and have a method of `get_area()` that will give area of rectangle. "
   ]
  },
  {
   "cell_type": "code",
   "execution_count": null,
   "id": "6f40cfd3-2c4a-4380-a588-276b1facbe19",
   "metadata": {},
   "outputs": [],
   "source": []
  },
  {
   "cell_type": "markdown",
   "id": "17ec264d",
   "metadata": {},
   "source": [
    "## Counter class\n",
    "Implement Counter class with following attributes:\n",
    "- name\n",
    "- value\n",
    "- color\n",
    "\n",
    "Implement the following methods:\n",
    "- `__init__(name, color)` method to initialize the attributes. Set the value attribute to 0\n",
    "- `__repr__` method to print the details of the counter (name and value only)\n",
    "- `increment()` method to increment the value of the counter\n",
    "- `reset()` method to rest the value of the counter to 0"
   ]
  },
  {
   "cell_type": "code",
   "execution_count": 4,
   "id": "5302e1f8",
   "metadata": {},
   "outputs": [],
   "source": [
    "class Counter:\n",
    "    def __init__(self, name, color):\n",
    "        self.name = name\n",
    "        self.value = 0\n",
    "        self.color = color\n",
    "    def __repr__(self):\n",
    "        return f'{self.name} {self.value}'\n",
    "    def increment(self):\n",
    "        self.value += 1\n",
    "    def reset(self):\n",
    "        self.value = 0\n"
   ]
  },
  {
   "cell_type": "code",
   "execution_count": 5,
   "id": "258440e6-17ae-4a87-b6c5-37fd7fc89bf2",
   "metadata": {},
   "outputs": [],
   "source": [
    "# You can use the following create_counter_window function to create a graphical\n",
    "# interface of counter. You just need to pass the counter object to this function.\n",
    "\n",
    "import tkinter as tk\n",
    "\n",
    "def create_counter_window(counter):\n",
    "    root = tk.Toplevel()\n",
    "    root.title(f\"{counter.name} Counter\")\n",
    "    root.configure(bg=counter.color)\n",
    "    root.geometry(\"300x200\") \n",
    "\n",
    "    display_var = tk.StringVar()\n",
    "    display_label = tk.Label(root, textvariable=display_var, font=(\"Helvetica\", 24), bg=counter.color)\n",
    "    display_label.pack(pady=50)\n",
    "\n",
    "    def update_display():\n",
    "        display_var.set(f\"{counter.name}: {counter.value}\")\n",
    "\n",
    "    def increment():\n",
    "        counter.increment()\n",
    "        update_display()\n",
    "\n",
    "    def reset():\n",
    "        counter.reset()\n",
    "        update_display()\n",
    "\n",
    "    update_display()\n",
    "\n",
    "    counter_button = tk.Button(root, text=\"Counter\", command=increment, bg=counter.color)\n",
    "    counter_button.pack(side=tk.LEFT, padx=10)\n",
    "    reset_button = tk.Button(root, text=\"Reset\", command=reset, bg=counter.color)\n",
    "    reset_button.pack(side=tk.RIGHT, padx=10)\n"
   ]
  },
  {
   "cell_type": "code",
   "execution_count": 6,
   "id": "8e19d8b1-2537-4a8c-9930-50658403b42b",
   "metadata": {},
   "outputs": [],
   "source": [
    "# Example usage\n",
    "counter1 = Counter(\"Zubair\", \"Orange\")\n",
    "counter2 = Counter(\"Ahmad\", \"#2bff00\")\n",
    "counter3 = Counter(\"John\", \"#FFD700\")   # Gold\n",
    "counter4 = Counter(\"Jane\", \"#8A2BE2\")   # Blue Violet\n",
    "counter5 = Counter(\"Alice\", \"#FF6347\")  # Tomato\n",
    "\n",
    "create_counter_window(counter1)\n",
    "create_counter_window(counter2)\n",
    "create_counter_window(counter3)\n",
    "create_counter_window(counter4)\n",
    "create_counter_window(counter5)\n",
    "\n",
    "# Run the application\n",
    "tk.mainloop()"
   ]
  },
  {
   "cell_type": "markdown",
   "id": "46aa500a",
   "metadata": {},
   "source": [
    "### Modify Rectangle class\n",
    "Modify the above created rectangle class. Just take another attribute `color` so that the below visualization can be done."
   ]
  },
  {
   "cell_type": "code",
   "execution_count": 7,
   "id": "404ceb3a",
   "metadata": {},
   "outputs": [],
   "source": [
    "# Modified rectangle class code\n"
   ]
  },
  {
   "cell_type": "code",
   "execution_count": null,
   "id": "de004168",
   "metadata": {},
   "outputs": [],
   "source": [
    "# Code for creating Visual representation of rectangle with area display\n",
    "import tkinter as tk\n",
    "\n",
    "def create_rectangle_with_area_display(rectangle):\n",
    "\n",
    "    # Create a new Toplevel window for each rectangle\n",
    "    top_level = tk.Toplevel()\n",
    "    top_level.title(f\"Rectangle with Area Display - {rectangle.color}\")\n",
    "\n",
    "    # Create a canvas for drawing on the new window\n",
    "    canvas = tk.Canvas(top_level, width=400, height=300, bg=\"white\")\n",
    "    canvas.pack()\n",
    "\n",
    "    # Calculate the coordinates for the rectangle\n",
    "    x1 = (400 - rectangle.width) / 2\n",
    "    y1 = (300 - rectangle.height) / 2\n",
    "    x2 = x1 + rectangle.width\n",
    "    y2 = y1 + rectangle.height\n",
    "\n",
    "    # Draw the rectangle on the canvas\n",
    "    canvas.create_rectangle(x1, y1, x2, y2, fill=rectangle.color)\n",
    "\n",
    "    # Display the area in the center of the rectangle\n",
    "    area_text = f\"Area: {rectangle.get_area()}\"\n",
    "    canvas.create_text(200, 150, text=area_text, font=(\"Helvetica\", 12), fill=\"white\")\n"
   ]
  },
  {
   "cell_type": "markdown",
   "id": "3b2841ff",
   "metadata": {},
   "source": [
    "**Sample Run**"
   ]
  },
  {
   "cell_type": "code",
   "execution_count": 10,
   "id": "f5684310-908d-4e8e-9a04-63715f328781",
   "metadata": {},
   "outputs": [],
   "source": [
    "\n",
    "# Create a Tkinter window\n",
    "window = tk.Tk()\n",
    "window.title(\"Rectangle with Area Display\")\n",
    "\n",
    "rectangle1 = Rectangle(300, 100, \"#2bff00\")\n",
    "rectangle2 = Rectangle(350, 200, \"#FFD700\")\n",
    "rectangle3 = Rectangle(267, 124, \"#8A2BE2\")\n",
    "rectangle4 = Rectangle(109, 197, \"#FF6347\")\n",
    "rectangle5 = Rectangle(278, 411, \"#ff4600\")\n",
    "create_rectangle_with_area_display(rectangle1)\n",
    "create_rectangle_with_area_display(rectangle2)\n",
    "create_rectangle_with_area_display(rectangle3)\n",
    "create_rectangle_with_area_display(rectangle4)\n",
    "create_rectangle_with_area_display(rectangle5)\n",
    "\n",
    "# Run the Tkinter event loop\n",
    "window.mainloop()"
   ]
  },
  {
   "cell_type": "code",
   "execution_count": 16,
   "id": "d09f54fd-e76b-46d8-89d8-750718c6a722",
   "metadata": {},
   "outputs": [],
   "source": []
  },
  {
   "cell_type": "code",
   "execution_count": null,
   "id": "87dab438-efda-4b8b-9a0e-8e37c028c39c",
   "metadata": {},
   "outputs": [],
   "source": []
  }
 ],
 "metadata": {
  "kernelspec": {
   "display_name": "Python 3 (ipykernel)",
   "language": "python",
   "name": "python3"
  },
  "language_info": {
   "codemirror_mode": {
    "name": "ipython",
    "version": 3
   },
   "file_extension": ".py",
   "mimetype": "text/x-python",
   "name": "python",
   "nbconvert_exporter": "python",
   "pygments_lexer": "ipython3",
   "version": "3.11.3"
  }
 },
 "nbformat": 4,
 "nbformat_minor": 5
}
