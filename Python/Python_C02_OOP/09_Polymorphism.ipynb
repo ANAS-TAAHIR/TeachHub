{
 "cells": [
  {
   "cell_type": "markdown",
   "id": "6093556e-2b57-4bc5-9256-c631ef787340",
   "metadata": {},
   "source": [
    "# Polymorphism\n",
    "The word *polymorphism* means having many forms. In simple words, we can define polymorphism as the ability of a message to be displayed in more than one form. \n",
    "\n",
    "A real-life example is a man at the same time is a father, a husband, and an employee. So the same person exhibits different behavior in different situations. This is called polymorphism.  \n",
    "\n",
    "Polymorphism is a very important concept in programming. It refers to the use of a single type entity (method, operator, or object) to represent different types in different scenarios.\n",
    "\n",
    "---\n",
    "Let's see how polymorphism looks like in Python.  \n",
    "1. Consider the example of `len()` function"
   ]
  },
  {
   "cell_type": "code",
   "execution_count": 1,
   "id": "897dff57-b2ee-4ce0-b466-aa4a1dcaf6c7",
   "metadata": {},
   "outputs": [
    {
     "name": "stdout",
     "output_type": "stream",
     "text": [
      "6\n"
     ]
    }
   ],
   "source": [
    "x= \"Python\"\n",
    "print(len(x))    # Counts number of characters in case of strings"
   ]
  },
  {
   "cell_type": "code",
   "execution_count": 2,
   "id": "b9386a61-e4af-4def-ba30-01fbd700e2e3",
   "metadata": {},
   "outputs": [
    {
     "name": "stdout",
     "output_type": "stream",
     "text": [
      "10\n"
     ]
    }
   ],
   "source": [
    "numbers = [23,12,3,435,34,5,1,68,456,1]\n",
    "print(len(numbers))   # Counts number of elements in case of list, tuple and set"
   ]
  },
  {
   "cell_type": "code",
   "execution_count": null,
   "id": "669a7dd8-b455-4248-a2e9-1809cdf810b1",
   "metadata": {},
   "outputs": [],
   "source": [
    "car = {\"brand\": \"Ford\", \"model\": \"Mustang\", \"year\": 1964}\n",
    "print(len(car))    # Counts number of key-value pairs"
   ]
  },
  {
   "cell_type": "markdown",
   "id": "f81902e7-2242-4215-b8d9-7e04e47e79f3",
   "metadata": {},
   "source": [
    "2. The `+` operator"
   ]
  },
  {
   "cell_type": "code",
   "execution_count": 3,
   "id": "0dc06ce0-69a7-4cff-ae9d-15d1197c2e55",
   "metadata": {},
   "outputs": [
    {
     "name": "stdout",
     "output_type": "stream",
     "text": [
      "46\n"
     ]
    }
   ],
   "source": [
    "x, y = 12,34\n",
    "print(x + y)    # adds the two numbers in case of integers and floats"
   ]
  },
  {
   "cell_type": "code",
   "execution_count": 4,
   "id": "0b05a699-ce88-428d-b7c6-3a6e34ab662f",
   "metadata": {},
   "outputs": [
    {
     "name": "stdout",
     "output_type": "stream",
     "text": [
      "Python is amazing\n"
     ]
    }
   ],
   "source": [
    "a = \"Python is \"\n",
    "b = \"amazing\"\n",
    "print(a + b)    # combines (concatenates) the two strings, lists or tuples"
   ]
  },
  {
   "cell_type": "code",
   "execution_count": 1,
   "id": "ba9fea19",
   "metadata": {},
   "outputs": [
    {
     "name": "stdout",
     "output_type": "stream",
     "text": [
      "[1, 2, 3, 4, 5, 6]\n"
     ]
    }
   ],
   "source": [
    "a = [1,2,3]\n",
    "b = [4,5,6]\n",
    "print(a + b)    # combines (concatenates) the two lists or tuples"
   ]
  },
  {
   "cell_type": "markdown",
   "id": "15396db6-92a5-44a1-9641-7e37b7891505",
   "metadata": {},
   "source": [
    "## Polymorphism in Classes\n",
    "In the following example, function names are same but they will act differently for different type of objects."
   ]
  },
  {
   "cell_type": "code",
   "execution_count": 2,
   "id": "ec005ea1-b0fa-456b-8f06-1cf50fcb9c17",
   "metadata": {},
   "outputs": [
    {
     "name": "stdout",
     "output_type": "stream",
     "text": [
      "Islamabad is the capital of Pakistan.\n",
      "Urdu is the primary language of Pakistan.\n",
      "It is an Asian country.\n",
      "Belgrade is the capital of Serbia.\n",
      "Serbian is the primary language of Serbia.\n",
      "It is a European country.\n"
     ]
    }
   ],
   "source": [
    "class Pakistan():\n",
    "    def capital(self):\n",
    "        print(\"Islamabad is the capital of Pakistan.\")\n",
    " \n",
    "    def language(self):\n",
    "        print(\"Urdu is the primary language of Pakistan.\")\n",
    " \n",
    "    def type(self):\n",
    "        print(\"It is an Asian country.\")\n",
    "\n",
    "class Serbia():\n",
    "\tdef capital(self):\n",
    "\t\tprint(\"Belgrade is the capital of Serbia.\")\n",
    "\n",
    "\tdef language(self):\n",
    "\t\tprint(\"Serbian is the primary language of Serbia.\")\n",
    "\n",
    "\tdef type(self):\n",
    "\t\tprint(\"It is a European country.\")\n",
    "\n",
    "obj_pak = Pakistan()\n",
    "obj_srb = Serbia()\n",
    "countries = [obj_pak, obj_srb]\n",
    "for country in countries:\n",
    "\tcountry.capital()     # Methods names are the same but different methods will run for different objects\n",
    "\tcountry.language()\n",
    "\tcountry.type()\n",
    "\tprint()\t\t# for blank line\n"
   ]
  },
  {
   "cell_type": "markdown",
   "id": "54a1c97e",
   "metadata": {},
   "source": [
    "## Types of Polymorphism\n",
    "1. Static Polymorphism (Compile Time Polymorphism)\n",
    "2. Dynamic Polymorphism (Run Time Polymorphism)\n",
    "\n",
    "## 1. Static Polymorphism\n",
    "In static polymorphism, the response to a function is determined at the compile time. It is also known as compile-time polymorphism. Static polymorphism includes:\n",
    "1.1 Method overloading\n",
    "1.2 Operator overloading\n",
    "Python does not support method overloading. But we can use default arguments to achieve the same.\n",
    "\n",
    "## 2. Dynamic Polymorphism\n",
    "In dynamic polymorphism, the response to a function is determined at the run time. It is also known as run-time polymorphism. Dynamic polymorphism includes:\n",
    "2.1 Method overriding\n",
    "2.2 Operator overriding\n",
    "Python supports both method overriding and operator overriding.\n",
    "\n",
    "---"
   ]
  },
  {
   "cell_type": "markdown",
   "id": "257caf5e",
   "metadata": {},
   "source": [
    "## 1.1 Method Overloading\n",
    "Method overloading is a feature that allows a class to have more than one method having the same name but different number and types of parameters. Python does not support method overloading. But we can use default arguments to achieve the same."
   ]
  },
  {
   "cell_type": "markdown",
   "id": "ab9b5341",
   "metadata": {},
   "source": [
    "#### Examples of Method Overloading\n",
    "Both will not work for Python"
   ]
  },
  {
   "cell_type": "code",
   "execution_count": 5,
   "id": "fb3129b9",
   "metadata": {},
   "outputs": [
    {
     "name": "stdout",
     "output_type": "stream",
     "text": [
      "9\n"
     ]
    }
   ],
   "source": [
    "# 1.1.1 Number of parameters\n",
    "def add(a, b):\n",
    "    return a + b\n",
    "\n",
    "def add(a, b, c):       # This will overwrite the previous method\n",
    "    return a + b + c\n",
    "\n",
    "# print(add(2, 3))    # This will give an error because the method is overloaded and the method with 3 parameters is called\n",
    "print(add(2, 3, 4))    # This will work fine because the method with 3 parameters is called\n",
    "    "
   ]
  },
  {
   "cell_type": "code",
   "execution_count": 8,
   "id": "54dd2594",
   "metadata": {},
   "outputs": [
    {
     "data": {
      "text/plain": [
       "6.3"
      ]
     },
     "execution_count": 8,
     "metadata": {},
     "output_type": "execute_result"
    }
   ],
   "source": [
    "# 1.1.2 Data type of parameters\n",
    "def func1(a:str, b:int):\n",
    "    return a*b\n",
    "\n",
    "def func1(a:int, b:int) -> str:    # This will overwrite the previous one\n",
    "    return a + b\n",
    "\n",
    "# func1('zubair', 3)  # Gives error\n",
    "func1(3.3,3)"
   ]
  },
  {
   "cell_type": "markdown",
   "id": "b5bbb9ed",
   "metadata": {},
   "source": [
    "### Solution\n",
    "Python does not support method overloading. But we can use default arguments to achieve the same. But still, we cannot achieve the second portion of method overloading which is different types of parameters as types does not work even if you write them."
   ]
  },
  {
   "cell_type": "code",
   "execution_count": 9,
   "metadata": {},
   "outputs": [
    {
     "name": "stdout",
     "output_type": "stream",
     "text": [
      "6\n",
      "3\n",
      "1\n"
     ]
    }
   ],
   "source": [
    "class Addition:\n",
    "    def sum(self, a=None, b=None, c=None):\n",
    "        if a!=None and b!=None and c!=None:\n",
    "            return a+b+c\n",
    "        elif a!=None and b!=None:\n",
    "            return a+b\n",
    "        else:\n",
    "            return a\n",
    "\n",
    "add = Addition()\n",
    "print(add.sum(1, 2, 3))\n",
    "print(add.sum(1, 2))\n",
    "print(add.sum(1))"
   ]
  },
  {
   "cell_type": "markdown",
   "id": "361a9924-c4c2-4704-993a-210337d6a481",
   "metadata": {},
   "source": [
    "## Polymorphism and Inheritance\n",
    "Like in other programming languages, the child classes in Python also inherit methods and attributes from the parent class. We can redefine certain methods and attributes specifically to fit the child class, which is known as **Method Overriding**.  \n",
    "Polymorphism allows us to access these overridden methods and attributes that have the same name as the parent class."
   ]
  },
  {
   "cell_type": "code",
   "execution_count": 8,
   "id": "da1162f3-0356-43b6-b067-545bfd5b16a8",
   "metadata": {},
   "outputs": [
    {
     "name": "stdout",
     "output_type": "stream",
     "text": [
      "Circle\n",
      "I am a two-dimensional shape.\n",
      "Squares have each angle equal to 90 degrees.\n",
      "153.86\n",
      "16\n"
     ]
    }
   ],
   "source": [
    "class Shape:\n",
    "    def __init__(self, name):\n",
    "        self.name = name\n",
    "\n",
    "    def area(self):\n",
    "        pass\n",
    "\n",
    "    def fact(self):\n",
    "        return \"I am a two-dimensional shape.\"\n",
    "\n",
    "    def __str__(self):\n",
    "        return self.name\n",
    "\n",
    "\n",
    "class Square(Shape):\n",
    "    def __init__(self, length):\n",
    "        super().__init__(\"Square\")\n",
    "        self.length = length\n",
    "\n",
    "    def area(self):\n",
    "        return self.length**2\n",
    "\n",
    "    def fact(self):\n",
    "        return \"Squares have each angle equal to 90 degrees.\"\n",
    "\n",
    "\n",
    "class Circle(Shape):\n",
    "    def __init__(self, radius):\n",
    "        super().__init__(\"Circle\")\n",
    "        self.radius = radius\n",
    "\n",
    "    def area(self):\n",
    "        return 3.14*self.radius**2\n",
    "\n",
    "\n",
    "a = Square(4)\n",
    "b = Circle(7)\n",
    "print(b)\n",
    "print(b.fact())\n",
    "print(a.fact())\n",
    "print(b.area())\n",
    "print(a.area())"
   ]
  },
  {
   "cell_type": "markdown",
   "id": "8fda1b86-649c-4819-9ea7-2bf8a6b4d66b",
   "metadata": {},
   "source": [
    "<img src=\"https://cdn.programiz.com/sites/tutorial2program/files/python-polymorphism.png\">"
   ]
  }
 ],
 "metadata": {
  "kernelspec": {
   "display_name": "Python 3 (ipykernel)",
   "language": "python",
   "name": "python3"
  },
  "language_info": {
   "codemirror_mode": {
    "name": "ipython",
    "version": 3
   },
   "file_extension": ".py",
   "mimetype": "text/x-python",
   "name": "python",
   "nbconvert_exporter": "python",
   "pygments_lexer": "ipython3",
   "version": "3.11.3"
  }
 },
 "nbformat": 4,
 "nbformat_minor": 5
}
