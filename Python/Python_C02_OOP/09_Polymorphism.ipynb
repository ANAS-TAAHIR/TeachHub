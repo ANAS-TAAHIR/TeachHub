{
 "cells": [
  {
   "cell_type": "markdown",
   "id": "35d355ad",
   "metadata": {},
   "source": [
    "# Table of Contents\n",
    "- [Polymorphism](#Polymorphism)\n",
    "- [Polymorphism in Python](#Polymorphism-in-Python)\n",
    "- [Types of Polymorphism](#Types-of-Polymorphism)\n",
    "\n",
    "\n"
   ]
  },
  {
   "cell_type": "markdown",
   "id": "6093556e-2b57-4bc5-9256-c631ef787340",
   "metadata": {},
   "source": [
    "# Polymorphism\n",
    "The word *polymorphism* means having many forms. In simple words, we can define polymorphism as the ability of a message to be displayed in more than one form. \n",
    "\n",
    "A real-life example is a man at the same time is a father, a husband, and an employee. So the same person exhibits different behavior in different situations. This is called polymorphism.  \n",
    "\n",
    "Polymorphism is a very important concept in programming. It refers to the use of a single type entity (method, operator, or object) to represent different types in different scenarios.\n",
    "\n",
    "---"
   ]
  },
  {
   "cell_type": "markdown",
   "id": "e7b6eee9",
   "metadata": {},
   "source": [
    "# Polymorphism in Python\n",
    "Let's see how polymorphism looks like in Python.  \n",
    "**1. Consider the example of `len()` function**"
   ]
  },
  {
   "cell_type": "code",
   "execution_count": null,
   "id": "897dff57-b2ee-4ce0-b466-aa4a1dcaf6c7",
   "metadata": {},
   "outputs": [],
   "source": [
    "x= \"Python\"\n",
    "print(len(x))    # Counts number of characters in case of strings"
   ]
  },
  {
   "cell_type": "code",
   "execution_count": null,
   "id": "b9386a61-e4af-4def-ba30-01fbd700e2e3",
   "metadata": {},
   "outputs": [],
   "source": [
    "numbers = [23,12,3,435,34,5,1,68,456,1]\n",
    "print(len(numbers))   # Counts number of elements in case of list, tuple and set"
   ]
  },
  {
   "cell_type": "code",
   "execution_count": null,
   "id": "669a7dd8-b455-4248-a2e9-1809cdf810b1",
   "metadata": {},
   "outputs": [],
   "source": [
    "car = {\"brand\": \"Ford\", \"model\": \"Mustang\", \"year\": 1964}\n",
    "print(len(car))    # Counts number of key-value pairs"
   ]
  },
  {
   "cell_type": "markdown",
   "id": "f81902e7-2242-4215-b8d9-7e04e47e79f3",
   "metadata": {},
   "source": [
    "**2. The `+` operator**"
   ]
  },
  {
   "cell_type": "code",
   "execution_count": null,
   "id": "0dc06ce0-69a7-4cff-ae9d-15d1197c2e55",
   "metadata": {},
   "outputs": [],
   "source": [
    "x, y = 12,34\n",
    "print(x + y)    # adds the two numbers in case of integers and floats"
   ]
  },
  {
   "cell_type": "code",
   "execution_count": null,
   "id": "0b05a699-ce88-428d-b7c6-3a6e34ab662f",
   "metadata": {},
   "outputs": [],
   "source": [
    "a = \"Python is \"\n",
    "b = \"amazing\"\n",
    "print(a + b)    # combines (concatenates) the two strings, lists or tuples"
   ]
  },
  {
   "cell_type": "code",
   "execution_count": null,
   "id": "ba9fea19",
   "metadata": {},
   "outputs": [],
   "source": [
    "a = [1,2,3]\n",
    "b = [4,5,6]\n",
    "print(a + b)    # combines (concatenates) the two lists or tuples"
   ]
  },
  {
   "cell_type": "markdown",
   "id": "15396db6-92a5-44a1-9641-7e37b7891505",
   "metadata": {},
   "source": [
    "## Polymorphism in Classes\n",
    "In the following example, function names are same but they will act differently for different type of objects."
   ]
  },
  {
   "cell_type": "code",
   "execution_count": null,
   "id": "ec005ea1-b0fa-456b-8f06-1cf50fcb9c17",
   "metadata": {},
   "outputs": [],
   "source": [
    "class Pakistan():\n",
    "    def capital(self):\n",
    "        print(\"Islamabad is the capital of Pakistan.\")\n",
    " \n",
    "    def language(self):\n",
    "        print(\"Urdu is the primary language of Pakistan.\")\n",
    " \n",
    "    def type(self):\n",
    "        print(\"It is an Asian country.\")\n",
    "\n",
    "class Serbia():\n",
    "\tdef capital(self):\n",
    "\t\tprint(\"Belgrade is the capital of Serbia.\")\n",
    "\n",
    "\tdef language(self):\n",
    "\t\tprint(\"Serbian is the primary language of Serbia.\")\n",
    "\n",
    "\tdef type(self):\n",
    "\t\tprint(\"It is a European country.\")\n",
    "\n",
    "obj_pak = Pakistan()\n",
    "obj_srb = Serbia()\n",
    "countries = [obj_pak, obj_srb]\n",
    "for country in countries:\n",
    "\tcountry.capital()     # Methods names are the same but different methods will run for different objects\n",
    "\tcountry.language()\n",
    "\tcountry.type()\n",
    "\tprint()\t\t# for blank line\n"
   ]
  },
  {
   "cell_type": "markdown",
   "id": "54a1c97e",
   "metadata": {},
   "source": [
    "<hr>\n",
    "\n",
    "## Types of Polymorphism\n",
    "1. Static Polymorphism (Compile Time Polymorphism)\n",
    "2. Dynamic Polymorphism (Run Time Polymorphism)\n",
    "\n",
    "## 1. Static Polymorphism\n",
    "In static polymorphism, the response to a function is determined at the compile time. Method or operators behave differently based on the number and type of the arguments. It is also known as compile-time polymorphism. Static polymorphism includes:  \n",
    "**1.1 Method overloading**  \n",
    "**1.2 Operator overloading**  \n",
    "Python does not support method overloading. But we can use default arguments to achieve the same.\n",
    "\n",
    "## 2. Dynamic Polymorphism\n",
    "In dynamic polymorphism, the response to a function is determined at the run time. It is also known as run-time polymorphism. Dynamic polymorphism includes:  \n",
    "**2 Method overriding** \n",
    "Python supports both method overriding and operator overriding.\n",
    "\n",
    "<img src=\"09_Polymorphism_types.png\" width=\"500\">\n",
    "\n",
    "---"
   ]
  },
  {
   "cell_type": "markdown",
   "id": "257caf5e",
   "metadata": {},
   "source": [
    "## 1.1 Method Overloading\n",
    "Method overloading is a feature that allows a class to have more than one method having the same name but different number and types of parameters. **_Python does not support method overloading_**. But we can use default arguments to achieve the same."
   ]
  },
  {
   "cell_type": "markdown",
   "id": "ab9b5341",
   "metadata": {},
   "source": [
    "#### Examples of Method Overloading\n",
    "Both will not work for Python"
   ]
  },
  {
   "cell_type": "code",
   "execution_count": null,
   "id": "fb3129b9",
   "metadata": {},
   "outputs": [],
   "source": [
    "# 1.1.1 Number of parameters\n",
    "def add(a, b):\n",
    "    return a + b\n",
    "\n",
    "def add(a, b, c):       # This will overwrite the previous method\n",
    "    return a + b + c\n",
    "\n",
    "# print(add(2, 3))    # This will give an error because the method is overloaded and the method with 3 parameters is called\n",
    "print(add(2, 3, 4))    # This will work fine because the method with 3 parameters is called\n",
    "    "
   ]
  },
  {
   "cell_type": "code",
   "execution_count": null,
   "id": "54dd2594",
   "metadata": {},
   "outputs": [],
   "source": [
    "# 1.1.2 Data type of parameters\n",
    "def func1(a:str, b:int):\n",
    "    return a*b\n",
    "\n",
    "def func1(a:int, b:int) -> str:    # This will overwrite the previous one\n",
    "    return a + b\n",
    "\n",
    "# func1('zubair', 3)  # Gives error\n",
    "func1(3.3,3)"
   ]
  },
  {
   "cell_type": "markdown",
   "id": "b5bbb9ed",
   "metadata": {},
   "source": [
    "### Solution\n",
    "Python does not support method overloading. But we can use default arguments to achieve the same. But still, we cannot achieve the second portion of method overloading which is different types of parameters as types does not work even if you write them."
   ]
  },
  {
   "cell_type": "code",
   "execution_count": null,
   "metadata": {},
   "outputs": [],
   "source": [
    "class Addition:\n",
    "    def sum(self, a=None, b=None, c=None):\n",
    "        if a!=None and b!=None and c!=None:\n",
    "            return a+b+c\n",
    "        elif a!=None and b!=None:\n",
    "            return a+b\n",
    "        else:\n",
    "            return a\n",
    "\n",
    "add = Addition()\n",
    "print(add.sum(1, 2, 3))\n",
    "print(add.sum(1, 2))\n",
    "print(add.sum(1))"
   ]
  },
  {
   "cell_type": "markdown",
   "id": "dd793df3",
   "metadata": {},
   "source": [
    "## 1.2 Operator Overloading\n",
    "Operator overloading in simple terms means giving a new meaning to the standard operators (like +, -, *, etc.) when they are used with user-defined objects. This allows you to define how these operators behave when applied to instances of a class."
   ]
  },
  {
   "cell_type": "code",
   "execution_count": null,
   "id": "1bdd1903",
   "metadata": {},
   "outputs": [],
   "source": [
    "class Vector:\n",
    "    def __init__(self, *components):\n",
    "        self.components = list(components)\n",
    "\n",
    "    def __str__(self):\n",
    "        terms = []\n",
    "        symbols = 'abcdefghijklmnopqrstuvwxyz'\n",
    "        \n",
    "        for i, component in enumerate(self.components):\n",
    "            if i >= len(symbols):\n",
    "                break  # To ensure we don't run out of symbols\n",
    "            \n",
    "            symbol = symbols[i]\n",
    "            if component == 0:\n",
    "                continue\n",
    "            elif component > 0:\n",
    "                if i == 0:\n",
    "                    terms.append(f\"{component}{symbol}\")\n",
    "                else:\n",
    "                    terms.append(f\"+ {component}{symbol}\")\n",
    "            else:\n",
    "                terms.append(f\"- {abs(component)}{symbol}\")\n",
    "\n",
    "        return \" \".join(terms) if terms else \"0\"\n",
    "\n",
    "    def __add__(self, other):\n",
    "        if isinstance(other, Vector):\n",
    "            result = []\n",
    "            for i in range(len(self.components)):\n",
    "                res = self.components[i] + other.components[i]\n",
    "                result.append(res)\n",
    "            return Vector(*result)\n",
    "        return NotImplemented\n",
    "\n",
    "    def __sub__(self, other):\n",
    "        if isinstance(other, Vector):\n",
    "            result = []\n",
    "            for i in range(len(self.components)):\n",
    "                res = self.components[i] - other.components[i]\n",
    "                result.append(res)\n",
    "            return Vector(*result)\n",
    "        return NotImplemented\n",
    "\n",
    "    def __eq__(self, other):\n",
    "        if isinstance(other, Vector):\n",
    "            return self.components == other.components\n",
    "        return NotImplemented\n",
    "    \n",
    "    def find_mag(self):\n",
    "        result = 0\n",
    "        for val in self.components:\n",
    "            result = result + val**2\n",
    "        return result**0.5\n",
    "\n",
    "    def __lt__(self, other):\n",
    "        if isinstance(other, Vector):\n",
    "            mag1 = self.find_mag()\n",
    "            mag2 = other.find_mag()\n",
    "            if mag1 < mag2:\n",
    "                return True\n",
    "            return False\n",
    "        return NotImplemented\n",
    "\n",
    "    def __gt__(self, other):\n",
    "        if isinstance(other, Vector):\n",
    "            mag1 = self.find_mag()\n",
    "            mag2 = other.find_mag()\n",
    "            if mag1 > mag2:\n",
    "                return True\n",
    "            return False\n",
    "        return NotImplemented\n",
    "\n",
    "    def __len__(self):\n",
    "        return len(self.components)\n",
    "\n",
    "    def __getitem__(self, index):\n",
    "        return self.components[index]\n",
    "\n",
    "    def __setitem__(self, index, value):\n",
    "        self.components[index] = value\n",
    "\n",
    "    def __delitem__(self, index):\n",
    "        del self.components[index]\n",
    "    \n",
    "    # Multiplication of two vectors (dot product)\n",
    "    def __mul__(self, other):\n",
    "        if isinstance(other, Vector):\n",
    "            result = 0\n",
    "            for i in range(len(self.components)):\n",
    "                result += self.components[i] * other.components[i]\n",
    "            return result\n",
    "        return NotImplemented"
   ]
  },
  {
   "cell_type": "code",
   "execution_count": null,
   "id": "150001e5",
   "metadata": {},
   "outputs": [],
   "source": [
    "v1 = Vector(2, 7, 4)\n",
    "v2 = Vector(3, -9, 5)\n",
    "v3 = Vector(45, 23, 12)\n",
    "print(v1)\n",
    "print(v2)\n",
    "print(v3)\n",
    "print(v1 + v2)\n",
    "print(v3 - v2)\n",
    "print(v1 == v2)\n",
    "print(v1 == v1)\n"
   ]
  },
  {
   "cell_type": "code",
   "execution_count": null,
   "id": "8e64b7ae",
   "metadata": {},
   "outputs": [],
   "source": [
    "class ComplexNumber:\n",
    "    def __init__(self, real, imag):\n",
    "        self.real = real\n",
    "        self.imag = imag\n",
    "\n",
    "    def __str__(self):\n",
    "        return f\"{self.real} + {self.imag}i\"\n",
    "\n",
    "    def __add__(self, other):\n",
    "        if isinstance(other, ComplexNumber):\n",
    "            return ComplexNumber(self.real + other.real, self.imag + other.imag)\n",
    "        return NotImplemented\n",
    "\n",
    "    def __sub__(self, other):\n",
    "        if isinstance(other, ComplexNumber):\n",
    "            return ComplexNumber(self.real - other.real, self.imag - other.imag)\n",
    "        return NotImplemented\n",
    "\n",
    "    def __mul__(self, other):\n",
    "        if isinstance(other, ComplexNumber):\n",
    "            real = self.real * other.real - self.imag * other.imag\n",
    "            imag = self.real * other.imag + self.imag * other.real\n",
    "            return ComplexNumber(real, imag)\n",
    "        return NotImplemented\n",
    "\n",
    "    def __truediv__(self, other):\n",
    "        if isinstance(other, ComplexNumber):\n",
    "            real = (self.real * other.real + self.imag * other.imag) / (other.real**2 + other.imag**2)\n",
    "            imag = (self.imag * other.real - self.real * other.imag) / (other.real**2 + other.imag**2)\n",
    "            return ComplexNumber(real, imag)\n",
    "        return NotImplemented\n",
    "\n",
    "    def __eq__(self, other):\n",
    "        if isinstance(other, ComplexNumber):\n",
    "            return self.real == other.real and self.imag == other.imag\n",
    "        return NotImplemented\n",
    "\n",
    "    def __lt__(self, other):\n",
    "        if isinstance(other, ComplexNumber):\n",
    "            mag1 = (self.real**2 + self.imag**2)**0.5\n",
    "            mag2 = (other.real**2 + other.imag**2)**0.5\n",
    "            if mag1 < mag2:\n",
    "                return True\n",
    "            return False\n",
    "        return NotImplemented\n",
    "\n",
    "    def __gt__(self, other):\n",
    "        if isinstance(other, ComplexNumber):\n",
    "            mag1 = (self.real**2 + self.imag**2)**0.5\n",
    "            mag2 = (other.real**2 + other.imag**2)**0.5\n",
    "            if mag1 > mag2:\n",
    "                return True\n",
    "            return False\n",
    "        return NotImplemented\n",
    "\n",
    "    def __len__(self):\n",
    "        return 2\n",
    "\n",
    "    def __getitem__(self, index):\n",
    "        if index == 0:\n",
    "            return self.real\n",
    "        elif index == 1:\n",
    "            return self.imag\n",
    "        else:\n",
    "            raise IndexError(\"Index out of range\")\n"
   ]
  },
  {
   "cell_type": "code",
   "execution_count": null,
   "id": "19dcd3cb",
   "metadata": {},
   "outputs": [],
   "source": [
    "c1 = ComplexNumber(2, 7)\n",
    "c2 = ComplexNumber(-4, 15)\n",
    "c3 = ComplexNumber(61, 7)\n",
    "print(c1)\n",
    "print(c2)\n",
    "print(c3)\n",
    "print(c1 + c2)\n",
    "print(c3 - c2)\n",
    "print(c1 == c2)\n",
    "print(c1 == c1)\n",
    "print(c1 * c2)"
   ]
  },
  {
   "cell_type": "code",
   "execution_count": null,
   "id": "38fb2673",
   "metadata": {},
   "outputs": [],
   "source": [
    "# Method overloading\n",
    "print(c1 + c2)\n",
    "print(v1 + v2)\n",
    "\n",
    "print(c1 < c2)\n",
    "print(v1 < v2)\n",
    "\n",
    "print(c3 * c2)\n",
    "print(v3 * v2)"
   ]
  },
  {
   "cell_type": "markdown",
   "id": "f8b4b9e8",
   "metadata": {},
   "source": [
    "## 2.1 Method Overriding\n",
    "Method overriding is a feature that allows a subclass to provide a specific implementation of a method that is already provided by its parent class. The method in the subclass has the same name, return type, and parameters as the one in the superclass."
   ]
  },
  {
   "cell_type": "code",
   "execution_count": null,
   "id": "6eccce5f",
   "metadata": {},
   "outputs": [],
   "source": [
    "class A:\n",
    "    def show(self):\n",
    "        print(\"I am in A\")\n",
    "\n",
    "class B(A):\n",
    "    def show(self):\n",
    "        print(\"I am in B\")\n",
    "\n",
    "class C(A):\n",
    "    pass\n",
    "\n",
    "class D(C, B):\n",
    "    pass\n",
    "\n",
    "obj = D()\n",
    "obj.show()\n",
    "obj2 = C()\n",
    "obj2.show()\n",
    "obj3 = B()\n",
    "obj3.show()"
   ]
  },
  {
   "cell_type": "code",
   "execution_count": null,
   "id": "1992285c",
   "metadata": {},
   "outputs": [],
   "source": [
    "class BankAccount:\n",
    "    def __init__(self, account_number, balance, account_holder_name):\n",
    "        self.account_number = account_number\n",
    "        self.balance = balance\n",
    "        self.account_holder_name = account_holder_name\n",
    "\n",
    "    def __str__(self):\n",
    "        return f\"{self.account_holder_name}, {self.balance}\"\n",
    "\n",
    "    def deposit(self, amount):\n",
    "        self.balance += amount\n",
    "\n",
    "    def withdraw(self, amount):\n",
    "        if self.balance >= amount:\n",
    "            self.balance -= amount\n",
    "        else:\n",
    "            print(\"You don not have sufficient money to withdraw\")\n",
    "\n",
    "    def get_balance(self):\n",
    "        return self.balance\n",
    "    \n",
    "class SavingsAccount(BankAccount):\n",
    "    def __init__(self, account_number, balance, account_holder_name, interest_rate):\n",
    "        super().__init__(account_number, balance, account_holder_name)\n",
    "        self.interest_rate = interest_rate\n",
    "\n",
    "    def add_interest(self):\n",
    "        interest_amount = self.balance * self.interest_rate\n",
    "        self.balance += interest_amount\n",
    "\n",
    "    \n",
    "class CheckingAccount(BankAccount):\n",
    "    def __init__(self, account_number, balance, account_holder_name, overdraft_limit):\n",
    "        super().__init__(account_number, balance, account_holder_name)\n",
    "        self.overdraft_limit = overdraft_limit\n",
    "        \n",
    "    def withdraw(self, amount):\n",
    "        if (self.balance + self.overdraft_limit) >= amount:\n",
    "            self.balance -= amount\n",
    "        else:\n",
    "            print(\"Overdraft limit reached\")\n"
   ]
  },
  {
   "cell_type": "markdown",
   "id": "1ed9dc98",
   "metadata": {},
   "source": [
    "In the above example, the `withdraw()` method in the `CheckingAccount` class overrides the `withdraw()` method in the `BankAccount` class."
   ]
  },
  {
   "cell_type": "code",
   "execution_count": null,
   "id": "403857d9",
   "metadata": {},
   "outputs": [],
   "source": [
    "account1 = SavingsAccount(123, 1000, \"Zubair\", 0.1)\n",
    "account2 = CheckingAccount(124, 1000, \"Ali\", 500)\n",
    "print(account1)\n",
    "print(account2)\n",
    "account2.withdraw(1500)     # override BankAccount's withdraw method\n",
    "account1.withdraw(700)      # calls BankAccount's withdraw method\n",
    "print(account1)\n",
    "print(account2)"
   ]
  },
  {
   "cell_type": "markdown",
   "id": "4abbeef3",
   "metadata": {},
   "source": [
    "### Example"
   ]
  },
  {
   "cell_type": "code",
   "execution_count": null,
   "id": "da1162f3-0356-43b6-b067-545bfd5b16a8",
   "metadata": {},
   "outputs": [],
   "source": [
    "class Shape:\n",
    "    def __init__(self, name):\n",
    "        self.name = name\n",
    "\n",
    "    def area(self):\n",
    "        pass\n",
    "\n",
    "    def fact(self):\n",
    "        return \"I am a two-dimensional shape.\"\n",
    "\n",
    "    def __str__(self):\n",
    "        return self.name\n",
    "\n",
    "class Square(Shape):\n",
    "    def __init__(self, length):\n",
    "        super().__init__(\"Square\")\n",
    "        self.length = length\n",
    "\n",
    "    def area(self):\n",
    "        return self.length**2\n",
    "\n",
    "    def fact(self):\n",
    "        return \"Squares have each angle equal to 90 degrees.\"\n",
    "\n",
    "\n",
    "class Circle(Shape):\n",
    "    def __init__(self, radius):\n",
    "        super().__init__(\"Circle\")\n",
    "        self.radius = radius\n",
    "\n",
    "    def area(self):\n",
    "        return 3.14*self.radius**2\n",
    "\n",
    "\n",
    "a = Square(4)\n",
    "b = Circle(7)\n",
    "print(b)\n",
    "print(b.fact())\n",
    "print(a.fact())\n",
    "print(b.area())\n",
    "print(a.area())"
   ]
  },
  {
   "cell_type": "markdown",
   "id": "8fda1b86-649c-4819-9ea7-2bf8a6b4d66b",
   "metadata": {},
   "source": [
    "<img src=\"https://cdn.programiz.com/sites/tutorial2program/files/python-polymorphism.png\">"
   ]
  }
 ],
 "metadata": {
  "kernelspec": {
   "display_name": "Python 3 (ipykernel)",
   "language": "python",
   "name": "python3"
  },
  "language_info": {
   "codemirror_mode": {
    "name": "ipython",
    "version": 3
   },
   "file_extension": ".py",
   "mimetype": "text/x-python",
   "name": "python",
   "nbconvert_exporter": "python",
   "pygments_lexer": "ipython3",
   "version": "3.11.3"
  }
 },
 "nbformat": 4,
 "nbformat_minor": 5
}
