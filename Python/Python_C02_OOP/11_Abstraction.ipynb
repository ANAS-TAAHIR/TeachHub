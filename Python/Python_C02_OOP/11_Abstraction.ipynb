{
 "cells": [
  {
   "cell_type": "markdown",
   "metadata": {},
   "source": [
    "# Abstraction\n",
    "\n",
    "## What is Abstraction?\n",
    "\n",
    "Abstraction is one of the four fundamental principles of Object-Oriented Programming (OOP). It refers to the process of hiding the complex implementation details and showing only the essential features of the object.\n",
    "\n",
    "In simple terms, abstraction allows us to focus on what an object does rather than how it does it.\n",
    "\n",
    "## Why is Abstraction Important?\n",
    "\n",
    "- **Simplicity**: By hiding complex details, abstraction makes it easier to interact with an object.\n",
    "- **Security**: It protects the internal state of the object by exposing only what is necessary.\n",
    "- **Flexibility**: Changes to the implementation details do not affect the code that uses the object.\n"
   ]
  },
  {
   "cell_type": "markdown",
   "metadata": {},
   "source": [
    "# Real-World Examples of Abstraction\n",
    "\n",
    "### Example 1: Smartphone Interface\n",
    "\n",
    "Consider a smartphone. As users, we interact with the phone's interface to make calls, send messages, or browse the internet. We don't need to understand the underlying code that makes these functions work. This is an example of abstraction - we interact with the essential features while the complex details are hidden.\n",
    "\n",
    "### Example 2: ATM Machine\n",
    "\n",
    "When you use an ATM machine to withdraw cash, you only interact with the screen and buttons. The complex processes of checking your account balance, verifying your PIN, and dispensing cash are hidden from you. The ATM provides a simple interface for a complex process - this is abstraction in action.\n"
   ]
  },
  {
   "cell_type": "markdown",
   "metadata": {},
   "source": [
    "# Abstraction in Python\n",
    "\n",
    "## Abstract Classes\n",
    "\n",
    "An abstract class is a class that cannot be instantiated. It is designed to be a blueprint for other classes to inherit from. Abstract classes may contain abstract methods, which are methods that are declared but contain no implementation.\n",
    "\n",
    "To create an abstract class in Python, we use the `ABC` class from the `abc`(abstract base class) module .\n",
    "\n",
    "## Abstract Methods\n",
    "\n",
    "An abstract method is a method that is declared, but contains no implementation. Subclasses of the abstract class must provide an implementation for each abstract method. Abstract methods are defined using the `@abstractmethod` decorator.\n",
    "\n",
    "**Note:** Although Python does not prevent you from writing logic inside an abstract method, it is considered a good practice to keep abstract methods empty.\n"
   ]
  },
  {
   "cell_type": "code",
   "execution_count": 1,
   "metadata": {},
   "outputs": [],
   "source": [
    "from abc import ABC, abstractmethod\n",
    "\n",
    "class Vehicle(ABC):\n",
    "    @abstractmethod\n",
    "    def start_engine(self):\n",
    "        pass\n",
    "\n",
    "class Car(Vehicle):\n",
    "    def start_engine(self):\n",
    "        print(\"Car engine started.\")\n",
    "\n",
    "class Motorcycle(Vehicle):\n",
    "    def start_engine(self):\n",
    "        print(\"Motorcycle engine started.\")\n"
   ]
  },
  {
   "cell_type": "code",
   "execution_count": 3,
   "metadata": {},
   "outputs": [
    {
     "name": "stdout",
     "output_type": "stream",
     "text": [
      "Car engine started.\n",
      "Motorcycle engine started.\n"
     ]
    }
   ],
   "source": [
    "# example usage\n",
    "car = Car()\n",
    "car.start_engine()\n",
    "\n",
    "motorcycle = Motorcycle()\n",
    "motorcycle.start_engine()\n",
    "\n",
    "# vehicle = Vehicle() # TypeError: Can't instantiate abstract class Vehicle"
   ]
  },
  {
   "cell_type": "markdown",
   "metadata": {},
   "source": [
    "### Bank Account Example"
   ]
  },
  {
   "cell_type": "code",
   "execution_count": 9,
   "metadata": {},
   "outputs": [],
   "source": [
    "from abc import ABC, abstractmethod\n",
    "class BankAccount(ABC):\n",
    "    account_number = 200\n",
    "    def __init__(self, account_holder):\n",
    "        BankAccount.account_number += 1\n",
    "        self.account_number = BankAccount.account_number\n",
    "        self.account_holder = account_holder\n",
    "        self.balance = 0\n",
    "\n",
    "    def __str__(self):\n",
    "        return f\"{self.account_holder} - {self.balance}\"\n",
    "    \n",
    "    @abstractmethod\n",
    "    def deposit(self, amount):\n",
    "        pass\n",
    "\n",
    "    @abstractmethod\n",
    "    def withdraw(self, amount):\n",
    "        pass\n",
    "\n",
    "    def get_balance(self):\n",
    "        return self.balance\n",
    "\n",
    "class SavingsAccount(BankAccount):\n",
    "    def __init__(self, account_holder):\n",
    "        super().__init__(account_holder)\n",
    "        self.interest_rate = 0.01\n",
    "\n",
    "    def deposit(self, amount):\n",
    "        self.balance += amount\n",
    "\n",
    "    def withdraw(self, amount):\n",
    "        if self.balance >= amount:\n",
    "            self.balance -= amount\n",
    "        else:\n",
    "            print(\"Insufficient funds.\")\n",
    "    \n",
    "    def add_interest(self):\n",
    "        self.balance += self.balance * self.interest_rate\n",
    "\n",
    "    def __str__(self):\n",
    "        return f\"Savings Account: {super().__str__()}\"\n",
    "\n",
    "class CheckingAccount(BankAccount):\n",
    "    def __init__(self, account_holder):\n",
    "        super().__init__(account_holder)\n",
    "        self.overdraft_limit = 1000\n",
    "\n",
    "    def deposit(self, amount):\n",
    "        self.balance += amount\n",
    "\n",
    "    def withdraw(self, amount):\n",
    "        if self.balance + self.overdraft_limit >= amount:\n",
    "            self.balance -= amount\n",
    "        else:\n",
    "            print(\"Insufficient funds.\")\n",
    "\n",
    "    def __str__(self):\n",
    "        return f\"Checking Account: {super().__str__()}\"\n"
   ]
  },
  {
   "cell_type": "code",
   "execution_count": 10,
   "metadata": {},
   "outputs": [
    {
     "name": "stdout",
     "output_type": "stream",
     "text": [
      "Savings Account: John - 500\n",
      "Savings Account: John - 505.0\n",
      "Savings Account: John - 305.0\n",
      "Checking Account: Jane - 1000\n",
      "Checking Account: Jane - 800\n",
      "Insufficient funds.\n",
      "Checking Account: Jane - 800\n"
     ]
    }
   ],
   "source": [
    "# example usage\n",
    "savings = SavingsAccount(\"John\")\n",
    "savings.deposit(500)\n",
    "print(savings)\n",
    "savings.add_interest()\n",
    "print(savings)\n",
    "savings.withdraw(200)\n",
    "print(savings)\n",
    "\n",
    "checking = CheckingAccount(\"Jane\")\n",
    "checking.deposit(1000)\n",
    "print(checking)\n",
    "checking.withdraw(200)\n",
    "print(checking)\n",
    "checking.withdraw(2000)\n",
    "print(checking)"
   ]
  },
  {
   "cell_type": "markdown",
   "metadata": {},
   "source": [
    "## Difference between Abstraction and Encapsulation\n",
    "\n",
    "### Encapsulation\n",
    "**Encapsulation** is the process of bundling the data (variables) and the methods (functions) that operate on the data into a single unit, usually a class. It also involves restricting access to certain components, which means that the internal representation of an object is hidden from the outside world.\n",
    "\n",
    "### Key Points:\n",
    "- **Hides the internal state** of the object by making some attributes private and exposing only what is necessary through public methods.\n",
    "- **Controls access** to the data using getter and setter methods.\n",
    "- Focuses on **how** the object’s data is accessed and modified.\n",
    "\n",
    "### Abstraction\n",
    "**Abstraction** is the process of hiding the complex implementation details and showing only the essential features of the object. It allows us to focus on what an object does rather than how it does it.\n",
    "\n",
    "### Key Points:\n",
    "- **Hides the implementation details** of the object and shows only the necessary features.\n",
    "- **Focuses on what** the object does rather than how it does it.\n",
    "- **Provides a simple interface** for interacting with the object.\n",
    "\n"
   ]
  },
  {
   "cell_type": "markdown",
   "metadata": {},
   "source": [
    "# Summary\n",
    "\n",
    "- **Abstraction** is a core principle of OOP that involves hiding the complexity of implementation details and exposing only the necessary features.\n",
    "- In Python, **abstract classes** and **abstract methods** are used to implement abstraction.\n",
    "- We use the `ABC` class from the `abc` module to create abstract classes.\n",
    "- Abstract methods are defined using the `@abstractmethod` decorator and must be implemented by subclasses."
   ]
  }
 ],
 "metadata": {
  "kernelspec": {
   "display_name": "Python 3",
   "language": "python",
   "name": "python3"
  },
  "language_info": {
   "codemirror_mode": {
    "name": "ipython",
    "version": 3
   },
   "file_extension": ".py",
   "mimetype": "text/x-python",
   "name": "python",
   "nbconvert_exporter": "python",
   "pygments_lexer": "ipython3",
   "version": "3.12.2"
  }
 },
 "nbformat": 4,
 "nbformat_minor": 2
}
