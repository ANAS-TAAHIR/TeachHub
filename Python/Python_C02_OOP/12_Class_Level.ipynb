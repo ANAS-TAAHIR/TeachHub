{
 "cells": [
  {
   "cell_type": "markdown",
   "metadata": {},
   "source": [
    "# Class-Level Attributes and Methods\n",
    "To this point, we have been working with instance-level attributes and methods. These are attributes and methods that are specific to an instance of a class. However, there are also class-level attributes and methods. These are attributes and methods that are specific to the class itself, rather than to any particular instance of the class.\n",
    "\n",
    "This can be helpful when you want to keep track of information that is shared among all instances of a class. For example, you might want to keep track of the number of instances that have been created, or you might want to keep track of a default value that should be used for all instances.\n",
    "\n",
    "<hr>"
   ]
  },
  {
   "cell_type": "markdown",
   "metadata": {},
   "source": [
    "# Account Example\n",
    "\n",
    "### **Account**\n",
    "- **Class-Level Attributes:**\n",
    "    - `bank_name`: A string representing the name of the bank shared across all accounts.\n",
    "    - `interest_rate`: A float representing the interest rate applied uniformly to all accounts.\n",
    "    - `total_accounts`: An integer tracking the total number of accounts created.\n",
    "    - `accounts`: A list containing all instances of the `Account` class.\n",
    "\n",
    "- **Instance-Level Attributes:**\n",
    "    - `id`: A unique identifier for each `Account` instance.\n",
    "    - `name`: A string representing the name of the account holder.\n",
    "    - `balance`: A float representing the current balance of the account.\n",
    "\n",
    "- **Methods:**\n",
    "    - `__init__(name, balance)`: Initializes a new `Account` instance with the account holder's name and initial balance.\n",
    "    - `__str__()`: Returns a string representation of the account, including the account ID, holder's name, and current balance.\n",
    "    - `deposit(amount)`: Adds a specified amount to the account balance and returns the updated balance.\n",
    "    - `withdraw(amount)`: Subtracts a specified amount from the account balance if sufficient funds are available; otherwise, returns \"Insufficient funds\".\n",
    "    - `add_interest()`: Applies the bank's interest rate to the account balance and returns the updated balance.\n",
    "    - `set_interest_rate(rate)`: Sets the bank's interest rate to the specified value.\n"
   ]
  },
  {
   "cell_type": "code",
   "execution_count": null,
   "metadata": {},
   "outputs": [],
   "source": [
    "class Account:\n",
    "    bank_name = \"National Bank of Serbia\"\n",
    "    interest_rate = 0.05\n",
    "    total_accounts = 0\n",
    "    accounts = []\n",
    "    def __init__(self, name, balance):\n",
    "        Account.total_accounts += 1\n",
    "        self.id = Account.total_accounts\n",
    "        self.name = name\n",
    "        self.balance = balance\n",
    "        Account.accounts.append(self)\n",
    "    \n",
    "    def __str__(self):\n",
    "        return f\"Account {self.id}: {self.name}, balance: {self.balance}\"\n",
    "\n",
    "    def deposit(self, amount):\n",
    "        self.balance += amount\n",
    "        return self.balance\n",
    "    \n",
    "    def withdraw(self, amount):\n",
    "        if amount > self.balance:\n",
    "            return \"Insufficient funds\"\n",
    "        self.balance -= amount\n",
    "        return self.balance\n",
    "    \n",
    "    def add_interest(self):\n",
    "        self.balance += self.balance * Account.interest_rate\n",
    "        return self.balance\n",
    "    \n",
    "    def set_interest_rate(rate):\n",
    "        Account.interest_rate = rate"
   ]
  },
  {
   "cell_type": "code",
   "execution_count": null,
   "metadata": {},
   "outputs": [],
   "source": [
    "account1 = Account(\"Bob\", 1000)\n",
    "account2 = Account(\"Alice\", 2000)\n",
    "print(account1)\n",
    "print(account2)\n"
   ]
  },
  {
   "cell_type": "markdown",
   "metadata": {},
   "source": [
    "## Class Method\n",
    "Class methods are methods that are bound to the class itself, rather than to any particular instance of the class. They can be called on the class itself, rather than on an instance of the class. Class methods are defined using the `@classmethod` decorator.\n",
    "\n",
    "**Note:** Classmethods cannot modify the state of the instance, but they can modify the state of the class. Even if you pass the instance as an argument, it will extract the class from the instance and use it.\n"
   ]
  },
  {
   "cell_type": "code",
   "execution_count": null,
   "metadata": {},
   "outputs": [],
   "source": [
    "class Account:\n",
    "    bank_name = \"National Bank of Serbia\"\n",
    "    interest_rate = 0.05\n",
    "    total_accounts = 0\n",
    "    accounts = []\n",
    "    def __init__(self, name, balance):\n",
    "        Account.total_accounts += 1\n",
    "        self.id = Account.total_accounts\n",
    "        self.name = name\n",
    "        self.balance = balance\n",
    "        Account.accounts.append(self)\n",
    "    \n",
    "    def __str__(self):\n",
    "        return f\"Account {self.id}: {self.name}, balance: {self.balance}\"\n",
    "\n",
    "    def deposit(self, amount):\n",
    "        self.balance += amount\n",
    "        return self.balance\n",
    "    \n",
    "    def withdraw(self, amount):\n",
    "        if amount > self.balance:\n",
    "            return \"Insufficient funds\"\n",
    "        self.balance -= amount\n",
    "        return self.balance\n",
    "    \n",
    "    def add_interest(self):\n",
    "        self.balance += self.balance * Account.interest_rate\n",
    "        return self.balance\n",
    "    \n",
    "    def set_interest_rate(rate):\n",
    "        Account.interest_rate = rate\n",
    "    \n",
    "    # @classmethod\n",
    "    # def set_interest_rate(cls, rate):\n",
    "    #     cls.interest_rate = rate\n",
    "\n",
    "account1 = Account(\"Bob\", 1000)\n",
    "account2 = Account(\"Alice\", 2000)\n",
    "Account.set_interest_rate(0.1)\n",
    "print(account1.interest_rate)\n",
    "print(account2.interest_rate)"
   ]
  },
  {
   "cell_type": "code",
   "execution_count": null,
   "metadata": {},
   "outputs": [],
   "source": [
    "# Both are same\n",
    "account1.withdraw(100)\n",
    "Account.withdraw(account1, 100)\n",
    "print(account1.balance)"
   ]
  },
  {
   "cell_type": "markdown",
   "metadata": {},
   "source": [
    "## Use of `@classmethod`\n",
    "Although in previous example, the use of classmethod does not make sense as we can directly call the simple method with Account class. But it will be more clear to you in case of Inheritance. "
   ]
  },
  {
   "cell_type": "code",
   "execution_count": 15,
   "metadata": {},
   "outputs": [],
   "source": [
    "class BankAccount():\n",
    "    account_number = 200\n",
    "    bank_name = \"National Bank of Serbia\"\n",
    "    interest_rate = 0.05\n",
    "    total_accounts = 0\n",
    "    accounts = []\n",
    "    def __init__(self, account_holder):\n",
    "        BankAccount.account_number += 1\n",
    "        self.account_number = BankAccount.account_number\n",
    "        self.account_holder = account_holder\n",
    "        self.balance = 0\n",
    "\n",
    "    def __str__(self):\n",
    "        return f\"{self.account_holder} - {self.balance}\"\n",
    "\n",
    "    def deposit(self, amount):\n",
    "        pass\n",
    "\n",
    "    def withdraw(self, amount):\n",
    "        pass\n",
    "\n",
    "    def get_balance(self):\n",
    "        return self.balance\n",
    "    \n",
    "    # def set_interest_rate(rate):\n",
    "    #     BankAccount.interest_rate = rate\n",
    "    \n",
    "    @classmethod\n",
    "    def set_interest_rate(cls, rate):\n",
    "        # print(cls)\n",
    "        cls.interest_rate = rate\n",
    "\n",
    "class SavingsAccount(BankAccount):\n",
    "    def __init__(self, account_holder):\n",
    "        super().__init__(account_holder)\n",
    "        self.interest_rate = 0.01\n",
    "\n",
    "    def deposit(self, amount):\n",
    "        self.balance += amount\n",
    "\n",
    "    def withdraw(self, amount):\n",
    "        if self.balance >= amount:\n",
    "            self.balance -= amount\n",
    "        else:\n",
    "            print(\"Insufficient funds.\")\n",
    "    \n",
    "    def add_interest(self):\n",
    "        self.balance += self.balance * self.interest_rate\n",
    "\n",
    "    def __str__(self):\n",
    "        return f\"Savings Account: {super().__str__()}\"\n",
    "\n",
    "class CheckingAccount(BankAccount):\n",
    "    def __init__(self, account_holder):\n",
    "        super().__init__(account_holder)\n",
    "        self.overdraft_limit = 1000\n",
    "\n",
    "    def deposit(self, amount):\n",
    "        self.balance += amount\n",
    "\n",
    "    def withdraw(self, amount):\n",
    "        if self.balance + self.overdraft_limit >= amount:\n",
    "            self.balance -= amount\n",
    "        else:\n",
    "            print(\"Insufficient funds.\")\n",
    "\n",
    "    def __str__(self):\n",
    "        return f\"Checking Account: {super().__str__()}\"\n"
   ]
  },
  {
   "cell_type": "code",
   "execution_count": 11,
   "metadata": {},
   "outputs": [
    {
     "name": "stdout",
     "output_type": "stream",
     "text": [
      "0.01\n",
      "0.05\n",
      "0.05\n",
      "0.05\n"
     ]
    }
   ],
   "source": [
    "obj1 = SavingsAccount(\"Bob\")\n",
    "obj2 = CheckingAccount(\"Alice\")\n",
    "print(obj1.interest_rate)\n",
    "print(obj2.interest_rate)\n",
    "\n",
    "print(SavingsAccount.interest_rate)\n",
    "print(CheckingAccount.interest_rate)"
   ]
  },
  {
   "cell_type": "code",
   "execution_count": 13,
   "metadata": {},
   "outputs": [
    {
     "name": "stdout",
     "output_type": "stream",
     "text": [
      "0.2\n",
      "0.2\n"
     ]
    }
   ],
   "source": [
    "SavingsAccount.set_interest_rate(0.2)\n",
    "print(SavingsAccount.interest_rate)\n",
    "print(CheckingAccount.interest_rate)    # it has also changed for CheckingAccount"
   ]
  },
  {
   "cell_type": "markdown",
   "metadata": {},
   "source": [
    "Now even if you pass the object to classmethod, it will extract the class of the object and use that."
   ]
  },
  {
   "cell_type": "code",
   "execution_count": 16,
   "metadata": {},
   "outputs": [
    {
     "name": "stdout",
     "output_type": "stream",
     "text": [
      "0.01\n",
      "0.02\n",
      "0.05\n"
     ]
    }
   ],
   "source": [
    "obj1 = SavingsAccount(\"Bob\")\n",
    "obj1.set_interest_rate(0.02)    \n",
    "print(obj1.interest_rate)\n",
    "print(SavingsAccount.interest_rate)\n",
    "print(CheckingAccount.interest_rate)"
   ]
  },
  {
   "cell_type": "markdown",
   "metadata": {},
   "source": [
    "So, it is better to use `@classmethod` decorator when you want to modify the state of the class instead of a simple method"
   ]
  },
  {
   "cell_type": "markdown",
   "metadata": {},
   "source": [
    "## Static Method\n",
    "Static methods are methods that are bound to a class rather than an instance. They do not have access to the instance or class attributes and cannot modify them. Static methods are defined using the `@staticmethod` decorator.\n",
    "\n",
    "**Note:** Generally staticmethods are not allowed to modify the state of the instance or class. But Python allows to modify the state of the instance using staticmethods (not recommended). Also static methods can be accessed without the class name but not in Python. [Java supports this feature](https://www.geeksforgeeks.org/static-method-in-java-with-examples/)"
   ]
  },
  {
   "cell_type": "code",
   "execution_count": null,
   "metadata": {},
   "outputs": [],
   "source": [
    "class Product:\n",
    "    def __init__(self, name, price):\n",
    "        self.name = name\n",
    "        self.price = price\n",
    "\n",
    "    @staticmethod\n",
    "    def is_valid_price(price):\n",
    "        \"\"\"Static method for validating if the price is within a valid range.\"\"\"\n",
    "        return 0 < price < 10000  # Price should be between 0 and 10,000\n",
    "\n",
    "    @staticmethod\n",
    "    def is_valid_name(name):\n",
    "        \"\"\"Static method for validating product name length.\"\"\"\n",
    "        return len(name) > 2  # Name should be longer than 2 characters\n",
    "\n",
    "    def save(self):\n",
    "        \"\"\"Instance method that uses static validation methods.\"\"\"\n",
    "        if not Product.is_valid_price(self.price):\n",
    "            raise ValueError(\"Invalid price!\")\n",
    "        if not Product.is_valid_name(self.name):\n",
    "            raise ValueError(\"Invalid name!\")\n",
    "        print(f\"Product '{self.name}' with price {self.price} saved to database.\")\n",
    "    \n",
    "    @classmethod\n",
    "    def from_string(cls, string):\n",
    "        \"\"\"Class method that creates a new Product instance from a string.\"\"\"\n",
    "        name, price = string.split(\",\")\n",
    "        return cls(name, float(price))\n",
    "    \n",
    "\n",
    "# Example Usage\n",
    "try:\n",
    "    product = Product(\"Laptop\", 1500)\n",
    "    product.save()  # This will pass the validation and save the product\n",
    "except ValueError as e:\n",
    "    print(e)\n"
   ]
  },
  {
   "cell_type": "code",
   "execution_count": null,
   "metadata": {},
   "outputs": [],
   "source": [
    "class Product:\n",
    "    def __init__(self, name, price):\n",
    "        self.name = name\n",
    "        self.price = price\n",
    "\n",
    "    def is_valid_price(self):\n",
    "        \"\"\"Instance method (not static).\"\"\"\n",
    "        return 0 < self.price < 10000\n",
    "\n",
    "    def is_valid_name(self):\n",
    "        \"\"\"Instance method (not static).\"\"\"\n",
    "        return len(self.name) > 2\n",
    "\n",
    "    def save(self):\n",
    "        if not self.is_valid_price():\n",
    "            raise ValueError(\"Invalid price!\")\n",
    "        if not self.is_valid_name():\n",
    "            raise ValueError(\"Invalid name!\")\n",
    "        print(f\"Product '{self.name}' with price {self.price} saved to database.\")\n",
    "    \n",
    "    @classmethod\n",
    "    def from_string(cls, string):\n",
    "        \"\"\"Class method that creates a new Product instance from a string.\"\"\"\n",
    "        name, price = string.split(\",\")\n",
    "        return cls(name, float(price))\n",
    "\n",
    "# Example Usage\n",
    "product = Product(\"Laptop\", 1500)\n",
    "product.save()  # This will raise an error\n"
   ]
  },
  {
   "cell_type": "markdown",
   "metadata": {},
   "source": [
    "## When to use Class Method and Static Method?\n",
    "**Class Method:** \n",
    "- When you need to access or modify class-level attributes.\n",
    "- When you need to perform some operations related to the class itself, rather than to any particular instance of the class.\n",
    "- When you need to create factory methods that return class instances. (e.g., `from_string` method in `Product` class creates an instance from a string representation)\n",
    "\n",
    "**Static Method:**\n",
    "- When you need to create utility functions that do not depend on the instance or class state.\n",
    "- When you need to group related functions together within a class, even though they do not operate on the instance or class attributes. (e.g., `is_valid_email` method in `User` class checks if an email is valid)\n"
   ]
  }
 ],
 "metadata": {
  "kernelspec": {
   "display_name": "Python 3",
   "language": "python",
   "name": "python3"
  },
  "language_info": {
   "codemirror_mode": {
    "name": "ipython",
    "version": 3
   },
   "file_extension": ".py",
   "mimetype": "text/x-python",
   "name": "python",
   "nbconvert_exporter": "python",
   "pygments_lexer": "ipython3",
   "version": "3.12.5"
  }
 },
 "nbformat": 4,
 "nbformat_minor": 2
}
