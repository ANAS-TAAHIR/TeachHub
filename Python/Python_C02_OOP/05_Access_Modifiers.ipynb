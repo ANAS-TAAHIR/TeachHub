{
 "cells": [
  {
   "cell_type": "markdown",
   "metadata": {},
   "source": [
    "# Access Modifiers\n",
    "\n",
    "Access modifiers are used to restrict access to the members of a class. There are three types of access modifiers in Python:\n",
    "- Public\n",
    "- Protected\n",
    "- Private\n",
    "\n",
    "## 1. Public\n",
    "Public members of a class are accessible from everywhere. By default, all members of a class are public. To define a public member, simply define it without any prefix. For example, `name`.\n",
    "\n",
    "## 2. Protected\n",
    "Protected members of a class are accessible from the class itself, and its subclasses. To define a protected member, prefix the member name with a single underscore. For example, `_name`.\n",
    "\n",
    "## 3. Private\n",
    "Private members of a class are accessible only from the class itself. To define a private member, prefix the member name with a double underscore. For example, `__name`.\n",
    "\n",
    "In this notebook, we will see how to define and access public, protected, and private members of a class in Python.\n",
    "<hr>"
   ]
  },
  {
   "cell_type": "code",
   "execution_count": 4,
   "metadata": {},
   "outputs": [],
   "source": [
    "class Employee:\n",
    "    def __init__(self, name, salary, position):\n",
    "        self.name = name\n",
    "        self.salary = salary\n",
    "        self.email = f\"{name}@example.com\"\n",
    "        self.position = position\n",
    "\n",
    "    def __str__(self):\n",
    "        return f\"{self.name} , {self.position}\""
   ]
  },
  {
   "cell_type": "code",
   "execution_count": 6,
   "metadata": {},
   "outputs": [
    {
     "name": "stdout",
     "output_type": "stream",
     "text": [
      "John | Manager\n"
     ]
    }
   ],
   "source": [
    "emp1 = Employee(\"John\", 1000, \"Manager\")\n",
    "print(emp1)"
   ]
  },
  {
   "cell_type": "code",
   "execution_count": null,
   "metadata": {},
   "outputs": [],
   "source": []
  }
 ],
 "metadata": {
  "kernelspec": {
   "display_name": "Python 3",
   "language": "python",
   "name": "python3"
  },
  "language_info": {
   "codemirror_mode": {
    "name": "ipython",
    "version": 3
   },
   "file_extension": ".py",
   "mimetype": "text/x-python",
   "name": "python",
   "nbconvert_exporter": "python",
   "pygments_lexer": "ipython3",
   "version": "3.11.3"
  }
 },
 "nbformat": 4,
 "nbformat_minor": 2
}
