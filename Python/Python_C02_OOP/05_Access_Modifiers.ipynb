{
 "cells": [
  {
   "cell_type": "markdown",
   "metadata": {},
   "source": [
    "# Access Modifiers\n",
    "\n",
    "Access modifiers are used to restrict access to the members(attributes and methods) of a class. There are three types of access modifiers in Python:\n",
    "- Public\n",
    "- Protected\n",
    "- Private\n",
    "\n",
    "## 1. Public\n",
    "Public members of a class are accessible from everywhere. By default, all members of a class are public. To define a public member, simply define it without any prefix. For example, `name`.\n",
    "\n",
    "## 2. Protected\n",
    "Protected members of a class are accessible from the class itself, and its subclasses. To define a protected member, prefix the member name with a single underscore. For example, `_name`.\n",
    "\n",
    "## 3. Private\n",
    "Private members of a class are accessible only from the class itself. To define a private member, prefix the member name with a double underscore. For example, `__name`.\n",
    "\n",
    "In this notebook, we will see how to define and access public, protected, and private members of a class in Python.\n",
    "<hr>"
   ]
  },
  {
   "cell_type": "markdown",
   "metadata": {},
   "source": [
    "## Example \n",
    "Lets create a Person class with public, protected, and private members."
   ]
  },
  {
   "cell_type": "code",
   "execution_count": 6,
   "metadata": {},
   "outputs": [
    {
     "name": "stdout",
     "output_type": "stream",
     "text": [
      "2000\n"
     ]
    }
   ],
   "source": [
    "class Vehicle:\n",
    "    def __init__(self, make, model, year, weight):\n",
    "        self.make = make\n",
    "        self.model = model\n",
    "        self.year = year\n",
    "        self._weight = weight\n",
    "        self.__fuel = 0\n",
    "\n",
    "    def get_make(self):\n",
    "        return self.make\n",
    "\n",
    "    def get_model(self):\n",
    "        return self.model\n",
    "\n",
    "    def get_year(self):\n",
    "        return self.year\n",
    "\n",
    "    def get_weight(self):\n",
    "        return self.weight\n",
    "\n",
    "    def __str__(self):\n",
    "        return f\"Make: {self.make}, Model: {self.model}, Year: {self.year}, Weight: {self.weight}\"\n",
    "    \n",
    "class Car(Vehicle):\n",
    "    def __init__(self, make, model, year, weight, num_doors):\n",
    "        super().__init__(make, model, year, weight)\n",
    "        self.num_doors = num_doors\n",
    "\n",
    "    def get_num_doors(self):\n",
    "        return self.num_doors\n",
    "\n",
    "    def __str__(self):\n",
    "        return f\"Make: {self.make}, Model: {self.model}, Year: {self.year}, Weight: {self._weight}, Number of doors: {self.num_doors}, Fuel: {self.__fuel}\"\n",
    "    \n",
    "car1 = Car(\"Toyota\", \"Corolla\", 2015, 2000, 4)\n",
    "print(car1._weight)"
   ]
  },
  {
   "cell_type": "markdown",
   "metadata": {},
   "source": [
    "Lets say we have an Employee class. Initially we will have all the members as public members.\n",
    "**Attributes:**\n",
    "- id    # auto increment\n",
    "- name\n",
    "- age\n",
    "- salary\n",
    "- position\n",
    "- email    # auto generated based on name\n",
    "- username    # auto generated based on name.lower()\n",
    "- password    # initial password is name@age\n",
    "\n",
    "**Methods:**\n",
    "- \\_\\_init\\_\\_(name, age, salary, position)   \n",
    "- \\_\\_str\\_\\_()    # print name and position\n",
    "- \\_\\_repr\\_\\_()    # print id and name\n",
    "- set_password(old_pass, username, new_pass)\n",
    "- set_email(old_pass, username, new_email)\n",
    "- set_username(old_username, password, new_username)\n",
    "- set_salary(new_salary)\n"
   ]
  },
  {
   "cell_type": "code",
   "execution_count": 11,
   "metadata": {},
   "outputs": [],
   "source": [
    "class Employee:\n",
    "    emp_count = 0\n",
    "    def __init__(self, name, age, salary, position):\n",
    "        Employee.emp_count += 1\n",
    "        self.id = Employee.emp_count\n",
    "        self.name = name\n",
    "        self.age = age\n",
    "        self.salary = salary\n",
    "        self.position = position\n",
    "        self.username = name.lower()\n",
    "        self.email = f\"{self.name}@company.com\"\n",
    "        self.password = f\"{self.name}@{self.age}\"\n",
    "\n",
    "    def __str__(self):\n",
    "        return f\"{self.name} , {self.position}\"\n",
    "    \n",
    "    def __repr__(self):\n",
    "        return f\"{self.id} {self.name}\"\n",
    "    \n",
    "    def set_password(self, old_pass, username, new_pass):\n",
    "        if old_pass == self.password and username == self.username:\n",
    "            self.password = new_pass\n",
    "            return True     # password changed successfully\n",
    "        else:\n",
    "            return False    # password change failed\n",
    "        \n",
    "    def set_email(self, old_pass, username, new_email):\n",
    "        if old_pass == self.password and username == self.username:\n",
    "            self.email = new_email\n",
    "            return True     # email changed successfully\n",
    "        else:\n",
    "            return False    # email change failed\n",
    "    \n",
    "    def set_username(self, old_username, password, new_username):\n",
    "        if old_username == self.username and password == self.password:\n",
    "            self.username = new_username\n",
    "            return True\n",
    "        else:\n",
    "            return False\n",
    "        \n",
    "    def set_salary(self, new_salary):\n",
    "        self.salary = new_salary\n",
    "    \n",
    "    "
   ]
  },
  {
   "cell_type": "code",
   "execution_count": 12,
   "metadata": {},
   "outputs": [
    {
     "name": "stdout",
     "output_type": "stream",
     "text": [
      "John , Manager\n"
     ]
    }
   ],
   "source": [
    "emp1 = Employee(\"John\", 32, 1000, \"Manager\")\n",
    "print(emp1)"
   ]
  },
  {
   "cell_type": "code",
   "execution_count": 13,
   "metadata": {},
   "outputs": [
    {
     "data": {
      "text/plain": [
       "'Zubair@123'"
      ]
     },
     "execution_count": 13,
     "metadata": {},
     "output_type": "execute_result"
    }
   ],
   "source": [
    "zubair = Employee(\"Zubair\", 25, 2000, \"Developer\")\n",
    "ranko = Employee(\"Ranko\", 30, 3000, \"Designer\")\n",
    "ahmad = Employee(\"Ahmad\", 35, 4000, \"CEO\")\n",
    "zubair.set_password(\"Zubair@25\", \"zubair\", \"Zubair@123\")\n",
    "zubair.password\n"
   ]
  },
  {
   "cell_type": "markdown",
   "metadata": {},
   "source": [
    "Now we can clearly see that some of the attributes are not meant to be accessed from outside the class. For example `password` attribute should not be accessed from outside the class. So, we can make it private. Similarly, `id` and `salary` attributes should be protected as they should be accessed only by the class itself. Lets redefine the Employee class."
   ]
  },
  {
   "cell_type": "code",
   "execution_count": 1,
   "metadata": {},
   "outputs": [],
   "source": [
    "class Employee:\n",
    "    emp_count = 0\n",
    "    def __init__(self, name, age, salary, position):\n",
    "        Employee.emp_count += 1\n",
    "        self._id = Employee.emp_count   # protected\n",
    "        self.name = name\n",
    "        self.age = age\n",
    "        self._salary = salary       # protected\n",
    "        self.position = position\n",
    "        self.username = name.lower()\n",
    "        self.email = f\"{self.name}@company.com\"\n",
    "        self.__password = f\"{self.name}@{self.age}\"     # private\n",
    "\n",
    "    def __str__(self):\n",
    "        return f\"{self.name} , {self.position}\"\n",
    "    \n",
    "    def __repr__(self):\n",
    "        return f\"{self._id} {self.name}\"\n",
    "    \n",
    "    def set_password(self, old_pass, username, new_pass):\n",
    "        if old_pass == self.__password and username == self.username:\n",
    "            self.__password = new_pass\n",
    "            return True     # password changed successfully\n",
    "        else:\n",
    "            return False    # password change failed\n",
    "        \n",
    "    def set_email(self, old_pass, username, new_email):\n",
    "        if old_pass == self.__password and username == self.username:\n",
    "            self.email = new_email\n",
    "            return True     # email changed successfully\n",
    "        else:\n",
    "            return False    # email change failed\n",
    "    \n",
    "    def set_username(self, old_username, password, new_username):\n",
    "        if old_username == self.username and password == self.password:\n",
    "            self.username = new_username\n",
    "            return True\n",
    "        else:\n",
    "            return False\n",
    "        \n",
    "    def set_salary(self, new_salary):\n",
    "        self.salary = new_salary"
   ]
  },
  {
   "cell_type": "markdown",
   "metadata": {},
   "source": [
    "## Name Mangling\n",
    "In Python, private members are not actually private. Python uses name mangling to make a variable name prefixed with double underscore private. Name mangling is used to avoid name clashes between private members of parent and child classes. When a member is prefixed with double underscore, Python internally changes its name to `_classname__membername`. For example, `__name` will be changed to `_Employee__name`. This is how Python implements private members. So, we can still access private members from outside the class using the mangled name. But it is not recommended to do so."
   ]
  },
  {
   "cell_type": "code",
   "execution_count": null,
   "metadata": {},
   "outputs": [],
   "source": [
    "# Name Mangling in employee class\n",
    "emp1 = Employee(\"John\", 32, 1000, \"Manager\")\n",
    "print(emp1._Employee__password)"
   ]
  }
 ],
 "metadata": {
  "kernelspec": {
   "display_name": "Python 3",
   "language": "python",
   "name": "python3"
  },
  "language_info": {
   "codemirror_mode": {
    "name": "ipython",
    "version": 3
   },
   "file_extension": ".py",
   "mimetype": "text/x-python",
   "name": "python",
   "nbconvert_exporter": "python",
   "pygments_lexer": "ipython3",
   "version": "3.11.3"
  }
 },
 "nbformat": 4,
 "nbformat_minor": 2
}
