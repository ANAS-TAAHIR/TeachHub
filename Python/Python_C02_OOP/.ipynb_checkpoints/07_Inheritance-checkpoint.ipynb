{
 "cells": [
  {
   "cell_type": "markdown",
   "metadata": {},
   "source": [
    "# Inheritance\n",
    "Inheritance is the main and fundamental concept in object-oriented programming. It allows a class to inherit attributes and methods from another class. \n",
    "\n",
    "## Why use inheritance?\n",
    "Inheritance allows us to define a class that inherits all the methods and properties from another class. This allows us to create a more specialized class that can reuse the code from a parent class. \n",
    "\n",
    "## Types of inheritance\n",
    "There are five types of inheritance:\n",
    "1. Single Inheritance: A class inherits from a single parent class.\n",
    "2. Multiple Inheritance: A class inherits from more than one parent class.\n",
    "3. Multilevel Inheritance: A class inherits from another class, which in turn inherits from another class.\n",
    "4. Hierarchical Inheritance: Multiple classes inherit from a single parent class.\n",
    "5. Hybrid Inheritance: A combination of two or more types of inheritance.\n",
    "\n",
    "\n",
    "[Good Example](https://www.logicalpython.com/types-of-inheritance-in-python/)\n",
    " \n",
    "Python supports all types of inheritance.\n",
    "<hr>"
   ]
  },
  {
   "cell_type": "code",
   "execution_count": null,
   "metadata": {},
   "outputs": [],
   "source": []
  }
 ],
 "metadata": {
  "kernelspec": {
   "display_name": "Python 3 (ipykernel)",
   "language": "python",
   "name": "python3"
  },
  "language_info": {
   "codemirror_mode": {
    "name": "ipython",
    "version": 3
   },
   "file_extension": ".py",
   "mimetype": "text/x-python",
   "name": "python",
   "nbconvert_exporter": "python",
   "pygments_lexer": "ipython3",
   "version": "3.11.3"
  }
 },
 "nbformat": 4,
 "nbformat_minor": 4
}
