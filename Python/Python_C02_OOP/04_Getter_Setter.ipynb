{
 "cells": [
  {
   "cell_type": "markdown",
   "metadata": {},
   "source": [
    "# Getters and Setters\n",
    "Getters and setters are methods used in object-oriented programming to access and modify the values of attributes of a class. They help to control how an attribute is accessed and modified, ensuring data hiding and integrity (correctness/reliability etc).\n",
    "<hr>"
   ]
  },
  {
   "cell_type": "markdown",
   "metadata": {},
   "source": [
    "## Why We Need Getters and Setters\n",
    "1. **Data Encapsulation**: Getters and setters allow us to hide the internal representation of an object and to protect it from accidental corruption.\n",
    "2. **Data Validation**: Getters and setters allow us to validate the data before setting it. This is useful when we want to ensure that the data is always in a valid state.\n",
    "3. **Abstraction**: They provide a way to change the internal implementation without affecting the code that uses the class.\n",
    "4. **Read-Only Attributes**: Getters can provide read-only access to certain attributes.\n",
    "<hr>"
   ]
  },
  {
   "cell_type": "markdown",
   "metadata": {},
   "source": [
    "## Implementing Getters and Setters in Python\n",
    "We will later on see the actual way of implementing getters and setters, but for now, we will write them as simple methods. Lets see the example."
   ]
  },
  {
   "cell_type": "markdown",
   "metadata": {},
   "source": [
    "Create a Person class with name and age as attributes. First assign the invalid values in both attributes and then use getters and setters to validate the values."
   ]
  },
  {
   "cell_type": "code",
   "execution_count": 1,
   "metadata": {},
   "outputs": [
    {
     "name": "stdout",
     "output_type": "stream",
     "text": [
      "John\n",
      "30\n",
      "-1\n"
     ]
    }
   ],
   "source": [
    "class Person:\n",
    "    def __init__(self, name, age):\n",
    "        self.name = name\n",
    "        self.age = age\n",
    "\n",
    "\n",
    "person = Person(\"John\", 30)\n",
    "print(person.name)\n",
    "print(person.age) \n",
    "\n",
    "\n",
    "person.age = -1  # This should not be allowed, but there's no validation\n",
    "print(person.age)  "
   ]
  },
  {
   "cell_type": "markdown",
   "metadata": {},
   "source": [
    "**Now, let's introduce getters and setters to control the access to these attributes:**\n"
   ]
  },
  {
   "cell_type": "code",
   "execution_count": null,
   "metadata": {},
   "outputs": [],
   "source": [
    "class Person:\n",
    "    def __init__(self, name, age):\n",
    "        self.name = name\n",
    "        self.age = age\n",
    "\n",
    "    def get_name(self):\n",
    "        pass\n",
    "\n",
    "    def set_name(self, value):\n",
    "        # Check the value is an instance of str using isinstance function,\n",
    "        #  otherwise raise a ValueError that the name must be a string\n",
    "        pass\n",
    "\n",
    "    def get_age(self):\n",
    "        pass\n",
    "\n",
    "    def set_age(self, value):\n",
    "        # Check the value is an instance of int using isinstance function,\n",
    "        #  otherwise raise a ValueError that the age must be an integer\n",
    "        pass\n",
    "\n",
    "\n",
    "person = Person(\"John\", 30)\n",
    "print(person.get_name())  \n",
    "print(person.get_age())"
   ]
  },
  {
   "cell_type": "markdown",
   "metadata": {},
   "source": [
    "We have seen how the getters and setters can be used to control the access to the attributes of a class. Now, let's see the actual way of implementing getters and setters in Python."
   ]
  },
  {
   "cell_type": "markdown",
   "metadata": {},
   "source": [
    "## How to Implement Getters and Setters\n",
    "In Python, we can use the `@property` decorator to define a getter method and the `@<attribute_name>.setter` decorator to define a setter method. The syntax is as follows:\n",
    "\n",
    "```python\n",
    "class ClassName:\n",
    "    def __init__(self, attribute):\n",
    "        self._attribute = attribute\n",
    "\n",
    "    @property\n",
    "    def attribute(self):\n",
    "        return self._attribute\n",
    "\n",
    "    @attribute.setter\n",
    "    def attribute(self, value):\n",
    "        self._attribute = value\n",
    "```"
   ]
  },
  {
   "cell_type": "code",
   "execution_count": null,
   "metadata": {},
   "outputs": [],
   "source": [
    "class Person:\n",
    "    def __init__(self, name):\n",
    "        self._name = name\n",
    "\n",
    "    @property\n",
    "    def name(self):\n",
    "        return self._name\n",
    "\n",
    "    @name.setter\n",
    "    def name(self, value):\n",
    "        if not isinstance(value, str):\n",
    "            raise TypeError('Name must be a string')\n",
    "        self._name = value\n",
    "    \n",
    "p = Person('Alice')\n",
    "print(p.name)  # Output: Alice\n",
    "p.name = 'Bob'\n",
    "print(p.name)  # Output: Bob\n",
    "p.name = 100  # Output: TypeError: Name must be a string"
   ]
  }
 ],
 "metadata": {
  "kernelspec": {
   "display_name": "Python 3",
   "language": "python",
   "name": "python3"
  },
  "language_info": {
   "codemirror_mode": {
    "name": "ipython",
    "version": 3
   },
   "file_extension": ".py",
   "mimetype": "text/x-python",
   "name": "python",
   "nbconvert_exporter": "python",
   "pygments_lexer": "ipython3",
   "version": "3.11.3"
  }
 },
 "nbformat": 4,
 "nbformat_minor": 2
}
