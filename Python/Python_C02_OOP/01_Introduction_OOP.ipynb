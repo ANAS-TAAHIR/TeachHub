{
 "cells": [
  {
   "cell_type": "markdown",
   "id": "f107d747-c72e-4fdf-aa7e-5e578a41cd83",
   "metadata": {},
   "source": [
    "# Object Oriented Programming\n",
    "Welcome to our new course of **Python: Object Oriented Programming**\n",
    "In this series of lessons, we'll explore the basics of this popular programming paradigm and understand why it's crucial for software development.\n",
    "\n",
    "<hr>\n",
    "\n",
    "## What is OOP?\n",
    "Object-oriented programming (OOP) is a way of organizing code into classes and objects. The objects represent real-world entities (like cars, people, or accounts) and we enclose both data (the attributes) and behavior (the methods) associated with them into a class.\n",
    "\n",
    "## Why OOP is useful?\n",
    "OOP is a powerful programming paradigm that helps us to:\n",
    "- **Organize code**: OOP allows us to group related data and functions into a single unit (class).\n",
    "- **Reuse code**: We can create new classes by extending existing ones, which helps us to avoid repeating code.\n",
    "- **Flexibility**: OOP allows us to modify the behavior of a class (based on attributes) without changing its code, which makes the code more flexible and easier to maintain.\n",
    "- **Encapsulate code**: OOP allows us to hide the internal details of a class and only expose the necessary information to the outside world.\n",
    "- **Model real-world entities**: OOP allows us to model real-world entities in a more natural way, which makes the code easier to understand and maintain.\n",
    "\n",
    "\n",
    "## Disadvantages of OOP\n",
    "- **Complexity**: OOP can be more complex than procedural programming, especially for beginners.\n",
    "- **Performance**: OOP can be slower than procedural programming, especially for low-level programming (hardware).\n",
    "- **Memory usage**: OOP can use more memory than procedural programming, especially for small programs.\n",
    "\n",
    "<hr>"
   ]
  },
  {
   "cell_type": "markdown",
   "id": "6e852d38",
   "metadata": {},
   "source": [
    "## Class and Objects\n",
    "### Class:\n",
    "A class contains the blueprints or the prototype from which the objects are being created. It is a logical entity that contains some attributes and methods.   \n",
    "\n",
    "### Object:\n",
    "An object is any entity that has attributes and behaviors. For example, a `car` is an object. It has  \n",
    "**attributes** - make, model, color, etc.  \n",
    "**behavior** - start, stop, etc.  "
   ]
  },
  {
   "cell_type": "markdown",
   "id": "0b0e0719",
   "metadata": {},
   "source": [
    "## Structure of a Class"
   ]
  },
  {
   "cell_type": "raw",
   "id": "ffc389d2-3681-48b5-bb41-2308d5b8ebe6",
   "metadata": {},
   "source": [
    "class ClassName:\n",
    "   # Statement-1\n",
    "   .\n",
    "   .\n",
    "   .\n",
    "   # Statement-N"
   ]
  },
  {
   "cell_type": "markdown",
   "id": "d3d3e91f",
   "metadata": {},
   "source": [
    "## **Note:** \n",
    "1. Functions inside a class are called `methods`.  \n",
    "2. We use another term for objects that is `instance`.  \n",
    "3. For now, almost in all methods, we will write an extra parameter, `self`. It will be the object that we are using to call that method.  "
   ]
  },
  {
   "cell_type": "markdown",
   "id": "44f3c920",
   "metadata": {},
   "source": [
    "## Car Class"
   ]
  },
  {
   "cell_type": "markdown",
   "id": "ac221959-7c5b-4c36-a2aa-e1b6a491606e",
   "metadata": {},
   "source": [
    "Let's create a class now. There is a special method `__init__()` (initialization method), it creates the starting fields of an object. Imagine you're building a robot. The `init` method is like the robot's instructions manual. It tells the robot what to do when it's first built, like setting its name, color, and special features. This way, each robot starts out with the right settings and is ready to action!  \n",
    "`init` method is automatically called when object is created. We can call this a magic method that automatically calls. There are some other magic methods and we will see them later on.  \n"
   ]
  },
  {
   "cell_type": "code",
   "execution_count": null,
   "id": "89844931-eec7-4304-912e-d2d11c04321d",
   "metadata": {},
   "outputs": [],
   "source": [
    "class Car:\n",
    "    def __init__(self, make, model, color, year):\n",
    "        self.make = make\n",
    "        self.model = model\n",
    "        self.year = year\n",
    "        self.color = color\n",
    "\n",
    "my_car = Car(\"Toyota\",\"Camry\",\"Blue\",2022)\n",
    "print(my_car)"
   ]
  },
  {
   "cell_type": "markdown",
   "id": "7faf0776-149d-419d-84a7-c1b72fdfbe05",
   "metadata": {},
   "source": [
    "There is a special method of `__str__()` that returns a string of object. When print function is called, this method returns a string and the object is printed in a proper format just like some other builtin objects of types like lists and dicts etc."
   ]
  },
  {
   "cell_type": "code",
   "execution_count": null,
   "id": "75c151c6-d431-4156-8653-4adec30676ea",
   "metadata": {},
   "outputs": [],
   "source": [
    "class Car:\n",
    "    def __init__(self, make, model, color, year):\n",
    "        self.make = make\n",
    "        self.model = model\n",
    "        self.year = year\n",
    "        self.color = color\n",
    "\n",
    "    def __str__(self):\n",
    "        return f\"{self.year} {self.color} {self.make} {self.model}\"\n",
    "\n",
    "\n",
    "my_car = Car(\"Toyota\",\"Camry\",\"Blue\",2022)\n",
    "print(my_car)\n",
    "# print(my_car.__str__())"
   ]
  },
  {
   "cell_type": "code",
   "execution_count": null,
   "id": "6a431230-091b-447c-a43b-9950ff34d40b",
   "metadata": {},
   "outputs": [],
   "source": [
    "list1 = [1,2,4,6]\n",
    "print(list1.__str__())    # Even for builtin types, __str__() function is automatically called even if you don't write it."
   ]
  },
  {
   "cell_type": "code",
   "execution_count": null,
   "id": "9500031d-a199-416d-a752-c1569f6c9afb",
   "metadata": {},
   "outputs": [],
   "source": [
    "dic1 = {'a':1,'b':2,'c':3}\n",
    "print(dic1.__str__())    # Everything in Python is an object of a class"
   ]
  },
  {
   "cell_type": "markdown",
   "id": "100ce59f",
   "metadata": {},
   "source": []
  },
  {
   "cell_type": "markdown",
   "id": "5fd8998c",
   "metadata": {},
   "source": [
    "## Employee example"
   ]
  },
  {
   "cell_type": "markdown",
   "id": "86aec64b",
   "metadata": {},
   "source": [
    "Lets create an employee class with the following attributes:\n",
    "- name\n",
    "- employee_id\n",
    "- position\n",
    "- salary\n",
    "\n",
    "It will have the following methods:\n",
    "- calculate_bonus(percentage)\n",
    "- promote(new_position, salary_increase)\n",
    "- __str__() method for printing employee with its name, position and salary."
   ]
  },
  {
   "cell_type": "code",
   "execution_count": null,
   "id": "64fbcfab",
   "metadata": {},
   "outputs": [],
   "source": [
    "class Employee:\n",
    "    def __init__(self, name, employee_id, position, salary):\n",
    "        self.name = name\n",
    "        self.employee_id = employee_id\n",
    "        self.position = position\n",
    "        self.salary = salary\n",
    "\n",
    "    def calculate_bonus(self, percentage):\n",
    "        bonus = (percentage / 100) * self.salary\n",
    "        return bonus\n",
    "\n",
    "    def promote(self, new_position, salary_increase):\n",
    "        self.position = new_position\n",
    "        self.salary += salary_increase\n",
    "        print(f\"{self.name} has been promoted to {new_position}. New salary: ${self.salary}\")\n",
    "\n",
    "    def __str__(self):\n",
    "        return f\"Employee: {self.name}, Position: {self.position}, Salary: ${self.salary}\""
   ]
  },
  {
   "cell_type": "code",
   "execution_count": null,
   "id": "654e13df",
   "metadata": {},
   "outputs": [],
   "source": [
    "# Create an employee object and display the information\n",
    "\n",
    "\n",
    "# Calculating and displaying a bonus for the employee\n",
    "\n",
    "\n",
    "# Promoting the employee and displaying updated information\n"
   ]
  },
  {
   "cell_type": "markdown",
   "id": "2e061068",
   "metadata": {},
   "source": [
    "**Example Run:**"
   ]
  },
  {
   "cell_type": "code",
   "execution_count": null,
   "id": "cb5c4e61",
   "metadata": {},
   "outputs": [],
   "source": [
    "# Creating instances of the Employee class\n",
    "employee1 = Employee(\"John Doe\", \"E12345\", \"Software Engineer\", 75000)\n",
    "employee2 = Employee(\"Jane Smith\", \"E54321\", \"Product Manager\", 90000)\n",
    "employee3 = Employee(\"Bob Johnson\", \"E98765\", \"Data Scientist\", 85000)\n",
    "employee4 = Employee(\"Alice Williams\", \"E13579\", \"UX Designer\", 80000)\n",
    "\n",
    "# Displaying information about the employees using the __str__ method\n",
    "print(employee1)\n",
    "print(employee2)\n",
    "print(employee3)\n",
    "print(employee4)\n",
    "\n",
    "# Calculating and displaying bonuses for the employees\n",
    "employees_list = [employee1, employee2, employee3, employee4]\n",
    "bonus_percentage = 8\n",
    "for employee in employees_list:\n",
    "    bonus_amount = employee.calculate_bonus(bonus_percentage)\n",
    "    print(f\"Bonus for {employee.name}: ${bonus_amount}\")\n",
    "\n",
    "# Promoting an employee and displaying updated information\n",
    "employee2.promote(\"Senior Product Manager\", 12000)\n",
    "print(employee2)"
   ]
  },
  {
   "cell_type": "markdown",
   "id": "360f3062",
   "metadata": {},
   "source": [
    "# Pillars of Object Oriented Programming\n",
    "There are four pillars of Object Oriented Programming. We will cover them in great detail one by one. Here is the high level overview of them:\n",
    "1. **Inheritance**: It is a mechanism where a new class is derived from an existing class. It promotes code reusability. The new class will have the properties and methods of the existing class.\n",
    "2. **Encapsulation**: It is a mechanism that restricts direct access to some of the object's components. It prevents accidental modification of data. Encapsulation is implemented by using access specifiers. It also allows to combine data and methods in a single unit.\n",
    "3. **Polymorphism**: It is a mechanism that allows one interface to be used for a general class of actions. The specific action is determined by the exact nature of the situation. It allows methods to do different things based on the object it is acting upon.\n",
    "4. **Abstraction**: It is a mechanism that shows only the necessary details and hides the unnecessary details. It helps to reduce programming complexity and effort.\n",
    "<hr>"
   ]
  },
  {
   "cell_type": "markdown",
   "id": "4b3e8617",
   "metadata": {},
   "source": [
    "## (Optional) Difference between dictionary and class\n",
    "Lets create employees using dictionary and see the difference."
   ]
  },
  {
   "cell_type": "code",
   "execution_count": null,
   "id": "446a4056",
   "metadata": {},
   "outputs": [],
   "source": [
    "def create_employee(name, employee_id, position, salary):\n",
    "    return {\"name\":name,\"employee_id\":employee_id, \"position\":position, \"salary\": salary}\n",
    "\n",
    "employee1 = create_employee(\"John Doe\",\"E12345\",\"Software Engineer\", 75000)\n",
    "employee2 = create_employee(\"Jane Smith\",\"E12346\",\"Senior Software Engineer\", 90000)\n",
    "employee3 = create_employee(\"Tom Brown\",\"E12347\",\"Project Manager\", 100000)\n",
    "print(employee1)\n",
    "print(employee2)\n",
    "print(employee3)\n"
   ]
  },
  {
   "cell_type": "markdown",
   "id": "c914f803",
   "metadata": {},
   "source": [
    "Lets add some functions as well that will be used by the employees."
   ]
  },
  {
   "cell_type": "code",
   "execution_count": null,
   "id": "1578dd65",
   "metadata": {},
   "outputs": [],
   "source": [
    "def calculate_bonus(employee, percentage):\n",
    "    bonus = (percentage / 100) * employee[\"salary\"]\n",
    "    return bonus\n",
    "def promote(employee, new_position, salary_increase):\n",
    "    employee[\"position\"] = new_position\n",
    "    employee[\"salary\"] += salary_increase\n",
    "    print(f\"{employee['name']} is promoted to {employee['position']} with a salary of {employee['salary']}\")\n",
    "def print_employee(employee):\n",
    "    print(f\"Name: {employee['name']}, Position: {employee['position']}, Salary: {employee['salary']}\")\n",
    "\n",
    "print(calculate_bonus(employee1, 10))\n",
    "promote(employee1, \"Senior Software Engineer\", 10000)\n",
    "print_employee(employee1)"
   ]
  },
  {
   "cell_type": "markdown",
   "id": "7bec1d1c",
   "metadata": {},
   "source": [
    "## See them using imports from other files.\n",
    "1. Lets import employee class from another file and use it here."
   ]
  },
  {
   "cell_type": "code",
   "execution_count": null,
   "id": "30e57ccd",
   "metadata": {},
   "outputs": [],
   "source": [
    "from Employee_class1 import Employee\n",
    "zubair = Employee(\"Zubair\", \"E12345\", \"Data Analyst\", 75000)\n",
    "print(zubair)\n",
    "print(zubair.calculate_bonus(10))\n",
    "zubair.promote(\"Machine Learning Engineer\", 10000)\n",
    "print(zubair)\n"
   ]
  },
  {
   "cell_type": "markdown",
   "id": "5ab3719f",
   "metadata": {},
   "source": [
    "2.  Now lets import from dictionary file and use it here."
   ]
  },
  {
   "cell_type": "code",
   "execution_count": null,
   "id": "99e09d0f",
   "metadata": {},
   "outputs": [],
   "source": [
    "from Employee_dict1 import create_employee, calculate_bonus, promote, print_employee\n",
    "jhon = create_employee(\"Jhon Doe\", \"E12345\", \"Software Engineer\", 75000)\n",
    "print_employee(jhon)\n",
    "print(calculate_bonus(jhon, 10))\n",
    "promote(jhon, \"Senior Software Engineer\", 10000)\n",
    "print_employee(jhon)"
   ]
  },
  {
   "cell_type": "markdown",
   "id": "40b06d12",
   "metadata": {},
   "source": [
    "## What Dictionaries cannot do?\n",
    "Although here we have seen that we can create employees using dictionaries but there are some limitations of dictionaries.  \n",
    "- We have used functions but they are not part of the dictionary. We have to pass the dictionary as an argument to the function.\n",
    "- Class works as a single unit containing data and functions. But for dictionaries, we have to pass the dictionary as an argument to the functions.\n",
    "- We cannot use magic methods with dictionaries.\n",
    "- We cannot use inheritance with dictionaries.\n",
    "- Polymorphism is not possible with dictionaries in which functions are decided at runtime based on the object.\n",
    "\n",
    "And there are lot more things. So, we will see how classes are better than dictionaries in the upcoming lectures."
   ]
  },
  {
   "cell_type": "code",
   "execution_count": null,
   "id": "c48e55a7-0a1a-417a-81b1-9ebba6656e90",
   "metadata": {},
   "outputs": [],
   "source": []
  }
 ],
 "metadata": {
  "kernelspec": {
   "display_name": "Python 3 (ipykernel)",
   "language": "python",
   "name": "python3"
  },
  "language_info": {
   "codemirror_mode": {
    "name": "ipython",
    "version": 3
   },
   "file_extension": ".py",
   "mimetype": "text/x-python",
   "name": "python",
   "nbconvert_exporter": "python",
   "pygments_lexer": "ipython3",
   "version": "3.11.3"
  }
 },
 "nbformat": 4,
 "nbformat_minor": 5
}
