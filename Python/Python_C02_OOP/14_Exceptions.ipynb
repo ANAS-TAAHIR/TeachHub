{
 "cells": [
  {
   "cell_type": "markdown",
   "metadata": {},
   "source": [
    "# **Exceptions**\n",
    "In our Fundamentals of Programming course, we have learned about exceptions and how to handle them. Today we will learn how we can create our own exceptions using OOP in Python."
   ]
  },
  {
   "cell_type": "markdown",
   "metadata": {},
   "source": [
    "# Recap\n",
    "An exception is an event that occurs during the execution of a program that disrupts the normal flow of instructions. When an exception occurs, the program stops executing and Python generates an exception that can be handled, which avoids the program from crashing.\n",
    "\n",
    "We use the following block of code to handle exceptions:\n",
    "\n",
    " - `try`: This block contains the code you want to monitor for potential errors.  \n",
    " - `except`: This block defines how to handle specific exceptions. You can specify which exceptions to catch and provide appropriate responses.  \n",
    " - `else`: This clause must be present after all the except clauses. The code enters the else block only if the try clause does not raise an exception.  \n",
    " - `finally`: This block is executed regardless of whether an exception occurs or not. It's typically used to clean up resources or close files or connections."
   ]
  },
  {
   "cell_type": "markdown",
   "metadata": {},
   "source": [
    "``` python\n",
    "try:\n",
    "    # Some Code.... \n",
    "\n",
    "except:\n",
    "    # optional block\n",
    "    # Handling of exception (if required)\n",
    "\n",
    "else:\n",
    "    # execute if no exception\n",
    "\n",
    "finally:\n",
    "    # Some code .....(always executed)\n",
    "```"
   ]
  },
  {
   "cell_type": "markdown",
   "metadata": {},
   "source": [
    "## Example"
   ]
  },
  {
   "cell_type": "code",
   "execution_count": 1,
   "metadata": {},
   "outputs": [
    {
     "name": "stdout",
     "output_type": "stream",
     "text": [
      "You are 25 years old.\n",
      "Thank you for visiting our site.\n"
     ]
    }
   ],
   "source": [
    "try:\n",
    "  # Code that might raise an exception\n",
    "  age = int(input(\"Enter your age: \"))\n",
    "except ValueError:\n",
    "  print(\"Invalid input. Please enter a number.\")\n",
    "else:\n",
    "  print(f\"You are {age} years old.\")\n",
    "finally:\n",
    "  # Clean up resources\n",
    "  print(\"Thank you for visiting our site.\")"
   ]
  },
  {
   "cell_type": "markdown",
   "metadata": {},
   "source": [
    "<hr>\n",
    "\n",
    "# **Creating Custom Exceptions**\n",
    "Custome Exceptions allow you to define your own error conditions and handle them in a more specific and meaningful way. We can create our own exceptions by creating a new class that inherits from the built-in `Exception` class. We can also add additional properties and methods to our custom exception class.\n",
    "\n",
    "``` python\n",
    "\n",
    "```"
   ]
  },
  {
   "cell_type": "code",
   "execution_count": 10,
   "metadata": {},
   "outputs": [
    {
     "name": "stdout",
     "output_type": "stream",
     "text": [
      "Age cannot be negative\n"
     ]
    }
   ],
   "source": [
    "class InvalidAgeError(Exception):\n",
    "    \"\"\"Custom exception for invalid age.\"\"\"\n",
    "    pass\n",
    "\n",
    "class Person:\n",
    "    def __init__(self, name, age):\n",
    "        if age < 0:\n",
    "            raise InvalidAgeError(\"Age cannot be negative\")\n",
    "        self.name = name\n",
    "        self.age = age\n",
    "\n",
    "try:\n",
    "    person = Person(\"Alice\", -5)\n",
    "except InvalidAgeError as e:\n",
    "    print(e)  # Output: Age cannot be negative"
   ]
  },
  {
   "cell_type": "markdown",
   "metadata": {},
   "source": [
    "<hr>\n",
    "\n",
    "# Adding Functionality to Custom Exceptions\n",
    "In some cases, you may want to add additional functionality to your custom exceptions. For example, you may want to add an error code or additional data to the exception object."
   ]
  },
  {
   "cell_type": "code",
   "execution_count": 7,
   "metadata": {},
   "outputs": [],
   "source": [
    "class InvalidAgeError(Exception):\n",
    "    \"\"\"Exception raised for invalid age input.\"\"\"\n",
    "    \n",
    "    def __init__(self, age, message=\"Age must be a non-negative integer\"):\n",
    "        self.age = age\n",
    "        self.message = message\n",
    "        super().__init__(self.message)\n",
    "    \n",
    "    # Printing custom exception in our own way\n",
    "    def __str__(self):\n",
    "        return f'{self.age} -> {self.message}'"
   ]
  },
  {
   "cell_type": "code",
   "execution_count": 8,
   "metadata": {},
   "outputs": [
    {
     "name": "stdout",
     "output_type": "stream",
     "text": [
      "-5 -> Age must be a non-negative integer\n"
     ]
    }
   ],
   "source": [
    "def set_age(age):\n",
    "    if age < 0:\n",
    "        raise InvalidAgeError(age)\n",
    "    print(f\"Age has been set to {age}\")\n",
    "\n",
    "try:\n",
    "    set_age(-5)\n",
    "except InvalidAgeError as e:\n",
    "    print(e)  \n"
   ]
  },
  {
   "cell_type": "code",
   "execution_count": 2,
   "metadata": {},
   "outputs": [
    {
     "name": "stdout",
     "output_type": "stream",
     "text": [
      "Deposit amount cannot be negative\n",
      "Insufficient funds for this withdrawal\n"
     ]
    }
   ],
   "source": [
    "class InsufficientFundsError(Exception):\n",
    "    \"\"\"Exception raised when attempting to withdraw more than the available balance.\"\"\"\n",
    "    pass\n",
    "\n",
    "class NegativeDepositError(Exception):\n",
    "    \"\"\"Exception raised when attempting to deposit a negative amount.\"\"\"\n",
    "    pass\n",
    "\n",
    "class BankAccount:\n",
    "\n",
    "    def __init__(self, owner, balance=0):\n",
    "        self.owner = owner\n",
    "        self.balance = balance\n",
    "\n",
    "    def deposit(self, amount):\n",
    "        if amount < 0:\n",
    "            raise NegativeDepositError(\"Deposit amount cannot be negative\")\n",
    "        self.balance += amount\n",
    "        print(f\"Deposited {amount}, new balance is {self.balance}\")\n",
    "\n",
    "    def withdraw(self, amount):\n",
    "        if amount > self.balance:\n",
    "            raise InsufficientFundsError(\"Insufficient funds for this withdrawal\")\n",
    "        self.balance -= amount\n",
    "        print(f\"Withdrew {amount}, new balance is {self.balance}\")\n",
    "\n",
    "# Example usage\n",
    "account = BankAccount(\"Alice\", 100)\n",
    "\n",
    "try:\n",
    "    account.deposit(-50)\n",
    "except NegativeDepositError as e:\n",
    "    print(e)  # Output: Deposit amount cannot be negative\n",
    "\n",
    "try:\n",
    "    account.withdraw(150)\n",
    "except InsufficientFundsError as e:\n",
    "    print(e)  # Output: Insufficient funds for this withdrawal\n"
   ]
  },
  {
   "cell_type": "markdown",
   "metadata": {},
   "source": [
    "<hr>\n",
    "\n",
    "# Best Practices\n",
    " - Write Error at the end of the exception class name.\n",
    " - Use full names for the exception class instead of abbreviations. Like `InsufFndsErr` should be `InsufficientFundsError`.\n",
    " - You can also write a docstring for your custom exception class to provide additional information about the exception."
   ]
  },
  {
   "cell_type": "code",
   "execution_count": 4,
   "metadata": {},
   "outputs": [
    {
     "data": {
      "text/plain": [
       "'Exception raised when attempting to withdraw more than the available balance.'"
      ]
     },
     "execution_count": 4,
     "metadata": {},
     "output_type": "execute_result"
    }
   ],
   "source": [
    "InsufficientFundsError.__doc__"
   ]
  },
  {
   "cell_type": "code",
   "execution_count": null,
   "metadata": {},
   "outputs": [],
   "source": []
  }
 ],
 "metadata": {
  "kernelspec": {
   "display_name": "Python 3",
   "language": "python",
   "name": "python3"
  },
  "language_info": {
   "codemirror_mode": {
    "name": "ipython",
    "version": 3
   },
   "file_extension": ".py",
   "mimetype": "text/x-python",
   "name": "python",
   "nbconvert_exporter": "python",
   "pygments_lexer": "ipython3",
   "version": "3.12.5"
  }
 },
 "nbformat": 4,
 "nbformat_minor": 2
}
