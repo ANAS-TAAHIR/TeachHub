{
 "cells": [
  {
   "cell_type": "markdown",
   "metadata": {},
   "source": [
    "# Encapsulation\n",
    "Encapsulation is the concept of wrapping data (attributes) and methods (functions) that operate on the data into a single unit, or class. This hides the internal state of the object and only exposes a controlled interface for interaction.\n",
    "\n",
    "<hr>\n"
   ]
  },
  {
   "cell_type": "markdown",
   "metadata": {},
   "source": [
    "## Why We Use Encapsulation\n",
    "- **Data Protection**: Encapsulation helps in protecting the data from unauthorized access by hiding the internal state of the object.\n",
    "- **Controlled Access**: It provides controlled access to the data by exposing only the necessary methods to interact with the data.\n",
    "- **Flexibility**: It allows the internal implementation of the class to change without affecting the external code that uses the class.\n",
    "- **Code Maintenance**: It makes the code easier to maintain and understand by encapsulating the data and methods into a single unit.\n",
    "\n",
    "<hr>\n"
   ]
  },
  {
   "cell_type": "markdown",
   "metadata": {},
   "source": [
    "## How We Achieve Encapsulation\n",
    "We can achieve encapsulation in Python by following these steps:\n",
    "1. **Define a Class**: Define a class that contains the data (attributes) and methods (functions) that operate on the data.\n",
    "2. **Access Modifiers**: Use access modifiers such as `public`, `protected`, and `private` to control the visibility of the attributes and methods.\n",
    "3. **Getters and Setters**: Use getter and setter methods to access and modify the attributes of the class."
   ]
  }
 ],
 "metadata": {
  "language_info": {
   "name": "python"
  }
 },
 "nbformat": 4,
 "nbformat_minor": 2
}
