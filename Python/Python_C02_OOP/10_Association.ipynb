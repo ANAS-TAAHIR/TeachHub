{
 "cells": [
  {
   "cell_type": "markdown",
   "metadata": {},
   "source": [
    "# Association between objects\n",
    "Object-Oriented Programming (OOP) is a programming paradigm that uses objects and their interactions to design and program applications. Understanding the relationships between objects is crucial in OOP, and there are three main types of relationships to focus on: \n",
    "- Association\n",
    "- Aggregation\n",
    "- Composition\n",
    "\n",
    "Following image explains that association is the loose relationship and aggregation and composition are the strong relationships between objects.\n",
    "\n",
    "<img src=\"https://miro.medium.com/v2/resize:fit:640/format:webp/0*urVg2IGs5gOzCAaX.png\" alt=\"Association Aggregation and Composition\"/>"
   ]
  },
  {
   "cell_type": "markdown",
   "metadata": {},
   "source": [
    "# **Note:**\n",
    "Understanding about relation can be subjective. It completely depends on the context of the problem."
   ]
  },
  {
   "cell_type": "markdown",
   "metadata": {},
   "source": [
    "# Association\n",
    "Association is a relationship where all objects have their own lifecycle and there is no owner. \n",
    "### Examples\n",
    "- **Teacher and Student**  \n",
    "Let's take an example of Teacher and Student. Multiple students can associate with a single teacher, and a single student can associate with multiple teachers, but there is no ownership between the objects and both have their own lifecycle. Both can create and delete independently.\n",
    "\n",
    "- **Doctor and Patient**\n",
    "A doctor can be associated with multiple patients, and a patient can associate with multiple doctors. But there is no ownership between the objects and both have their own lifecycle. Both can create and delete independently.\n",
    "\n",
    "- **Coach and Player**\n",
    "A coach can be associated with multiple players, and a player can associate with multiple coaches. But there is no ownership between the objects and both have their own lifecycle. Both can create and delete independently.\n",
    "\n",
    "- **Author and editor**\n",
    "An author can be associated with multiple editors, and an editor can associate with multiple authors. But there is no ownership between the objects and both have their own lifecycle. Both can create and delete independently.\n",
    "\n"
   ]
  },
  {
   "cell_type": "code",
   "execution_count": 1,
   "metadata": {},
   "outputs": [],
   "source": [
    "class Teacher:\n",
    "    def __init__(self, name):\n",
    "        self.name = name\n",
    "\n",
    "    def teach(self):\n",
    "        return f\"{self.name} is teaching.\"\n",
    "\n",
    "\n",
    "class Student:\n",
    "    def __init__(self, name):\n",
    "        self.name = name\n",
    "\n",
    "    def learn(self):\n",
    "        return f\"{self.name} is learning.\"\n",
    "\n",
    "\n",
    "class Classroom:\n",
    "    def __init__(self, teacher, students):\n",
    "        self.teacher = teacher\n",
    "        self.students = students\n",
    "\n",
    "    def class_session(self):\n",
    "        teaching = self.teacher.teach()\n",
    "        learning = [student.learn() for student in self.students]\n",
    "        return teaching, learning"
   ]
  },
  {
   "cell_type": "code",
   "execution_count": 2,
   "metadata": {},
   "outputs": [
    {
     "name": "stdout",
     "output_type": "stream",
     "text": [
      "Mrs. Smith is teaching.\n",
      "John is learning.\n",
      "Emily is learning.\n"
     ]
    }
   ],
   "source": [
    "# Usage\n",
    "teacher = Teacher(\"Mrs. Smith\")\n",
    "students = [Student(\"John\"), Student(\"Emily\")]\n",
    "classroom = Classroom(teacher, students)\n",
    "\n",
    "teaching, learning = classroom.class_session()\n",
    "print(teaching)\n",
    "for learn in learning:\n",
    "    print(learn)"
   ]
  },
  {
   "cell_type": "code",
   "execution_count": null,
   "metadata": {},
   "outputs": [],
   "source": [
    "class Doctor:\n",
    "    def __init__(self, name):\n",
    "        self.name = name\n",
    "\n",
    "    def diagnose(self):\n",
    "        return f\"Dr. {self.name} is diagnosing.\"\n",
    "\n",
    "\n",
    "class Patient:\n",
    "    def __init__(self, name):\n",
    "        self.name = name\n",
    "\n",
    "    def receive_treatment(self):\n",
    "        return f\"{self.name} is receiving treatment.\"\n",
    "\n",
    "\n",
    "class Hospital:\n",
    "    def __init__(self, doctor, patients):\n",
    "        self.doctor = doctor\n",
    "        self.patients = patients\n",
    "\n",
    "    def medical_rounds(self):\n",
    "        diagnosis = self.doctor.diagnose()\n",
    "        treatments = [patient.receive_treatment() for patient in self.patients]\n",
    "        return diagnosis, treatments\n"
   ]
  },
  {
   "cell_type": "code",
   "execution_count": null,
   "metadata": {},
   "outputs": [],
   "source": [
    "# Usage\n",
    "doctor = Doctor(\"John\")\n",
    "patients = [Patient(\"Alice\"), Patient(\"Bob\")]\n",
    "hospital = Hospital(doctor, patients)\n",
    "\n",
    "diagnosis, treatments = hospital.medical_rounds()\n",
    "print(diagnosis)\n",
    "for treatment in treatments:\n",
    "    print(treatment)"
   ]
  },
  {
   "cell_type": "markdown",
   "metadata": {},
   "source": [
    "# Aggregation\n",
    "Aggregation is a specialized form of Association where all objects have their own lifecycle, but there is ownership. This represents a \"whole-part\" or \"a-part-of\" relationship.\n",
    "### Examples\n",
    "- **Books and Library**\n",
    "A library can contain multiple books, but a book cannot belong to multiple libraries. If the library is destroyed, books will not be destroyed. So, it is an aggregation relationship.\n",
    "\n",
    "- **Vehicle and Fleet**\n",
    "A fleet can have multiple vehicles, but a vehicle cannot belong to multiple fleets. If the fleet is destroyed, vehicles will not be destroyed. So, it is an aggregation relationship.\n",
    "\n",
    "- **Company and Employee**\n",
    "A company can have many employees, but an employee cannot belong to multiple companies. If the company is destroyed, employees will not be destroyed. So, it is an aggregation relationship.\n",
    "\n",
    "- **Music playlist and Songs**\n",
    "A playlist can have multiple songs, but a song cannot belong to multiple playlists. If the playlist is destroyed, songs will not be destroyed. So, it is an aggregation relationship."
   ]
  },
  {
   "cell_type": "code",
   "execution_count": null,
   "metadata": {},
   "outputs": [],
   "source": [
    "class Book:\n",
    "    def __init__(self, title):\n",
    "        self.title = title\n",
    "\n",
    "    def __str__(self):\n",
    "        return self.title\n",
    "\n",
    "\n",
    "class Library:\n",
    "    def __init__(self):\n",
    "        self.books = []\n",
    "\n",
    "    def add_book(self, book):\n",
    "        self.books.append(book)\n",
    "\n",
    "    def list_books(self):\n",
    "        return [str(book) for book in self.books]\n"
   ]
  },
  {
   "cell_type": "code",
   "execution_count": null,
   "metadata": {},
   "outputs": [],
   "source": [
    "# Usage\n",
    "library = Library()\n",
    "book1 = Book(\"1984\")\n",
    "book2 = Book(\"Brave New World\")\n",
    "library.add_book(book1)\n",
    "library.add_book(book2)\n",
    "\n",
    "print(library.list_books())"
   ]
  },
  {
   "cell_type": "code",
   "execution_count": 4,
   "metadata": {},
   "outputs": [],
   "source": [
    "class Vehicle:\n",
    "    def __init__(self, model):\n",
    "        self.model = model\n",
    "\n",
    "    def __str__(self):\n",
    "        return self.model\n",
    "\n",
    "\n",
    "class Fleet:\n",
    "    def __init__(self):\n",
    "        self.vehicles = []\n",
    "\n",
    "    def add_vehicle(self, vehicle):\n",
    "        self.vehicles.append(vehicle)\n",
    "\n",
    "    def list_vehicles(self):\n",
    "        return [str(vehicle) for vehicle in self.vehicles]\n"
   ]
  },
  {
   "cell_type": "code",
   "execution_count": 5,
   "metadata": {},
   "outputs": [
    {
     "name": "stdout",
     "output_type": "stream",
     "text": [
      "['Tesla Model S', 'Ford F-150']\n"
     ]
    }
   ],
   "source": [
    "# Usage\n",
    "fleet = Fleet()\n",
    "vehicle1 = Vehicle(\"Tesla Model S\")\n",
    "vehicle2 = Vehicle(\"Ford F-150\")\n",
    "fleet.add_vehicle(vehicle1)\n",
    "fleet.add_vehicle(vehicle2)\n",
    "\n",
    "print(fleet.list_vehicles())"
   ]
  },
  {
   "cell_type": "markdown",
   "metadata": {},
   "source": [
    "# Composition\n",
    "Composition is a specialized form of Aggregation and we can call this as a \"death\" relationship. It is a strong type of Aggregation.\n",
    "### Examples\n",
    "- **Car and Engine**\n",
    "A car can have exactly one engine. If the car is destroyed, the engine is destroyed. So, it is a composition relationship.\n",
    "\n",
    "- **House and Rooms**\n",
    "A house can have multiple rooms. If the house is destroyed, all rooms will be destroyed. So, it is a composition relationship.\n",
    "\n",
    "- **Computer and Motherboard**\n",
    "A computer can have exactly one motherboard. If the computer is destroyed, the motherboard is destroyed. So, it is a composition relationship.\n",
    "\n",
    "\n"
   ]
  },
  {
   "cell_type": "code",
   "execution_count": null,
   "metadata": {},
   "outputs": [],
   "source": [
    "class Room:\n",
    "    def __init__(self, name):\n",
    "        self.name = name\n",
    "\n",
    "    def __str__(self):\n",
    "        return self.name\n",
    "\n",
    "\n",
    "class House:\n",
    "    def __init__(self):\n",
    "        self.rooms = []\n",
    "\n",
    "    def add_room(self, room_name):\n",
    "        room = Room(room_name)\n",
    "        self.rooms.append(room)\n",
    "\n",
    "    def list_rooms(self):\n",
    "        return [str(room) for room in self.rooms]\n"
   ]
  },
  {
   "cell_type": "code",
   "execution_count": null,
   "metadata": {},
   "outputs": [],
   "source": [
    "# Usage\n",
    "house = House()\n",
    "house.add_room(\"Kitchen\")\n",
    "house.add_room(\"Bedroom\")\n",
    "\n",
    "print(house.list_rooms())"
   ]
  },
  {
   "cell_type": "code",
   "execution_count": null,
   "metadata": {},
   "outputs": [],
   "source": [
    "class Engine:\n",
    "    def __init__(self, horsepower):\n",
    "        self.horsepower = horsepower\n",
    "\n",
    "    def __str__(self):\n",
    "        return f\"Engine with {self.horsepower} horsepower\"\n",
    "\n",
    "\n",
    "class Wheel:\n",
    "    def __init__(self, size):\n",
    "        self.size = size\n",
    "\n",
    "    def __str__(self):\n",
    "        return f\"Wheel size {self.size} inches\"\n",
    "\n",
    "\n",
    "class Car:\n",
    "    def __init__(self):\n",
    "        self.engine = Engine(250)\n",
    "        self.wheels = [Wheel(18) for _ in range(4)]\n",
    "\n",
    "    def car_details(self):\n",
    "        engine_details = str(self.engine)\n",
    "        wheel_details = [str(wheel) for wheel in self.wheels]\n",
    "        return engine_details, wheel_details\n",
    "\n"
   ]
  },
  {
   "cell_type": "code",
   "execution_count": null,
   "metadata": {},
   "outputs": [],
   "source": [
    "# Usage\n",
    "car = Car()\n",
    "engine_details, wheel_details = car.car_details()\n",
    "print(engine_details)\n",
    "for detail in wheel_details:\n",
    "    print(detail)"
   ]
  },
  {
   "cell_type": "markdown",
   "metadata": {},
   "source": [
    "# Summary\n",
    "- **Association** is a relationship where all objects have their own lifecycle and there is no owner.\n",
    "- **Aggregation** is a specialized form of Association where all objects have their own lifecycle, but there is ownership. This represents a \"whole-part\" or \"a-part-of\" relationship.\n",
    "- **Composition** is a specialized form of Aggregation and we can call this as a \"death\" relationship. It is a strong type of Aggregation."
   ]
  },
  {
   "cell_type": "markdown",
   "metadata": {},
   "source": []
  }
 ],
 "metadata": {
  "kernelspec": {
   "display_name": "Python 3",
   "language": "python",
   "name": "python3"
  },
  "language_info": {
   "codemirror_mode": {
    "name": "ipython",
    "version": 3
   },
   "file_extension": ".py",
   "mimetype": "text/x-python",
   "name": "python",
   "nbconvert_exporter": "python",
   "pygments_lexer": "ipython3",
   "version": "3.11.3"
  }
 },
 "nbformat": 4,
 "nbformat_minor": 2
}
