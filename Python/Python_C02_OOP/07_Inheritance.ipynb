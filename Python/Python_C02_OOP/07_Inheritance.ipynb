{
 "cells": [
  {
   "cell_type": "markdown",
   "metadata": {},
   "source": [
    "# Inheritance\n",
    "Inheritance is the main and fundamental concept in object-oriented programming. It allows a class to inherit attributes and methods from another class. \n",
    "\n",
    "## Why use inheritance?\n",
    "Inheritance allows us to define a class that inherits all the methods and properties from another class. This allows us to create a more specialized class that can reuse the code from a parent class. \n",
    "\n",
    "## Types of inheritance\n",
    "There are five types of inheritance:\n",
    "1. Single Inheritance: A class inherits from a single parent class.\n",
    "2. Multiple Inheritance: A class inherits from more than one parent class.\n",
    "3. Multilevel Inheritance: A class inherits from another class, which in turn inherits from another class.\n",
    "4. Hierarchical Inheritance: Multiple classes inherit from a single parent class.\n",
    "5. Hybrid Inheritance: A combination of two or more types of inheritance.\n",
    "\n",
    "\n",
    "[Good Example](https://www.logicalpython.com/types-of-inheritance-in-python/)\n",
    " \n",
    "Python supports all types of inheritance.\n",
    "<hr>"
   ]
  },
  {
   "cell_type": "markdown",
   "metadata": {},
   "source": [
    "# Basic Working"
   ]
  },
  {
   "cell_type": "code",
   "execution_count": 7,
   "metadata": {},
   "outputs": [
    {
     "name": "stdout",
     "output_type": "stream",
     "text": [
      "1 2\n",
      "3\n"
     ]
    }
   ],
   "source": [
    "class A:\n",
    "    x = 1\n",
    "    y = 2\n",
    "\n",
    "    def sum(self):\n",
    "        return self.x + self.y\n",
    "\n",
    "\n",
    "class B(A):\n",
    "    pass\n",
    "\n",
    "q = B()\n",
    "print(q.x, q.y)\n",
    "print(q.sum())"
   ]
  },
  {
   "cell_type": "markdown",
   "metadata": {},
   "source": [
    "# Super Function\n",
    "The `super()` function is used to call the parent class's methods. It returns a temporary object of the superclass that allows us to call the superclass's methods.\n",
    "\n",
    "# Syntax\n",
    "```python\n",
    "class ParentClass:\n",
    "    def __init__(self):\n",
    "        pass\n",
    "\n",
    "class ChildClass(ParentClass):\n",
    "    def __init__(self):\n",
    "        super().__init__()\n",
    "```\n",
    "<hr>"
   ]
  },
  {
   "cell_type": "markdown",
   "metadata": {},
   "source": [
    "# Employee Example\n",
    "\n",
    "### **Employee**\n",
    "- **Attributes:**\n",
    "    - `name`: A string representing the name of the employee.\n",
    "    - `salary`: A float representing the salary of the employee.\n",
    "\n",
    "- **Methods:**\n",
    "    - `__str__()`: Returns a string representation of the employee object.\n",
    "    - `get_salary()`: Returns the salary of the employee.\n",
    "    - `work()`: Returns the string \"Employee is working\".\n",
    "\n",
    "---\n",
    "\n",
    "### **Manager**\n",
    "- **Attributes:**\n",
    "    - Inherits all attributes from `Employee`.\n",
    "    - `department`: A string representing the department the manager is responsible for.\n",
    "\n",
    "- **Methods:**\n",
    "    - Inherits all methods from `Employee`.\n",
    "    - `__str__()`: Returns a string representation of the manager object, including the department.\n",
    "    - `work()`: Returns the string \"Manager is managing the {department}\".\n",
    "\n",
    "---\n",
    "Its an example of `Single Inheritance` where `Manager` class inherits from `Employee` class."
   ]
  },
  {
   "cell_type": "code",
   "execution_count": null,
   "metadata": {},
   "outputs": [],
   "source": []
  },
  {
   "cell_type": "code",
   "execution_count": null,
   "metadata": {},
   "outputs": [],
   "source": []
  },
  {
   "cell_type": "markdown",
   "metadata": {},
   "source": [
    "### **Developer**\n",
    "For practice, you can create a `Developer` class that inherits from `Employee`.\n",
    "- **Attributes:**\n",
    "    - Inherits all attributes from `Employee`.\n",
    "    - `programming_language`: A string representing the programming language the developer is proficient in.\n",
    "\n",
    "- **Methods:**\n",
    "    - Inherits all methods from `Employee`.\n",
    "    - `work()`: Returns the string \"Developer is coding in {programming_language}\".\n"
   ]
  },
  {
   "cell_type": "code",
   "execution_count": null,
   "metadata": {},
   "outputs": [],
   "source": []
  }
 ],
 "metadata": {
  "kernelspec": {
   "display_name": "Python 3 (ipykernel)",
   "language": "python",
   "name": "python3"
  },
  "language_info": {
   "codemirror_mode": {
    "name": "ipython",
    "version": 3
   },
   "file_extension": ".py",
   "mimetype": "text/x-python",
   "name": "python",
   "nbconvert_exporter": "python",
   "pygments_lexer": "ipython3",
   "version": "3.11.3"
  }
 },
 "nbformat": 4,
 "nbformat_minor": 4
}
