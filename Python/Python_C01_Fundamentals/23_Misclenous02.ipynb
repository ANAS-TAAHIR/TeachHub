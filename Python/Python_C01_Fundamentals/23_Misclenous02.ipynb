{
 "cells": [
  {
   "cell_type": "markdown",
   "metadata": {},
   "source": [
    "## Decorators\n",
    "Decorators in Python are a powerful and flexible feature that allows you to modify or extend the behavior of functions or methods without altering their actual code. They essentially wrap a function, providing a convenient way to add functionality before or after the execution of the original function.   \n",
    "Decorators are applied using the `@decorator` syntax above a function definition."
   ]
  },
  {
   "cell_type": "code",
   "execution_count": null,
   "metadata": {},
   "outputs": [
    {
     "name": "stdout",
     "output_type": "stream",
     "text": [
      "Calling add with args: (2, 3), kwargs: {}\n",
      "add returned: 5\n",
      "Calling multiply with args: (4, 7, 8), kwargs: {}\n",
      "multiply returned: 224\n"
     ]
    },
    {
     "data": {
      "text/plain": [
       "224"
      ]
     },
     "metadata": {},
     "output_type": "display_data"
    }
   ],
   "source": [
    "def log_function_call(func):\n",
    "    def wrapper(*args, **kwargs):\n",
    "        print(f\"Calling {func.__name__} with args: {args}, kwargs: {kwargs}\")\n",
    "        result = func(*args, **kwargs)\n",
    "        print(f\"{func.__name__} returned: {result}\")\n",
    "        return result\n",
    "    return wrapper\n",
    "\n",
    "@log_function_call\n",
    "def add(a, b):\n",
    "    return a + b\n",
    "@log_function_call\n",
    "def multiply(a,b,c):\n",
    "    return a*b*c\n",
    "add(2,3)\n",
    "multiply(4,7,8)"
   ]
  },
  {
   "cell_type": "code",
   "execution_count": null,
   "metadata": {},
   "outputs": [
    {
     "name": "stdout",
     "output_type": "stream",
     "text": [
      "add took 0.0 seconds\n",
      "multiply took 0.0 seconds\n",
      "Function executed!\n",
      "slow_function took 2.0010344982147217 seconds\n"
     ]
    }
   ],
   "source": [
    "import time\n",
    "def measure_time(func):\n",
    "    def wrapper(*args, **kwargs):\n",
    "        start_time = time.time()\n",
    "        result = func(*args, **kwargs)\n",
    "        end_time = time.time()\n",
    "        print(f\"{func.__name__} took {end_time - start_time} seconds\")\n",
    "        return result\n",
    "    return wrapper\n",
    "\n",
    "@measure_time\n",
    "def add(a, b):\n",
    "    return a + b\n",
    "@measure_time\n",
    "def multiply(a,b,c):\n",
    "    return a*b*c\n",
    "@measure_time\n",
    "def slow_function():\n",
    "    time.sleep(2)\n",
    "    print(\"Function executed!\")\n",
    "\n",
    "add(2,3)\n",
    "multiply(4,7,8)\n",
    "slow_function()\n",
    "\n"
   ]
  }
 ],
 "metadata": {
  "language_info": {
   "name": "python"
  }
 },
 "nbformat": 4,
 "nbformat_minor": 2
}
