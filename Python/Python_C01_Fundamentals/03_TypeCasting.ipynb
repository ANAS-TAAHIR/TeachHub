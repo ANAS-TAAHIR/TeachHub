{
 "cells": [
  {
   "cell_type": "markdown",
   "id": "11170a7d-7731-45e4-b858-855a7537c753",
   "metadata": {},
   "source": [
    "# **Type Casting**"
   ]
  },
  {
   "cell_type": "markdown",
   "id": "fc478530-142d-4abb-a83f-b1959b2520a6",
   "metadata": {},
   "source": [
    "In programming, type casting is the process of converting a variable from one data type to another. In Python, this can happen in two ways:\n",
    "\n",
    "1. Implicit Type Casting\n",
    "2. Explicit Type Casting\n",
    "\n",
    "Understanding type casting is crucial because it helps in managing how different data types interact with each other. For example, you might want to add an integer to a float, or convert a string to a number for calculations.\n",
    "\n",
    "---\n",
    "\n"
   ]
  },
  {
   "cell_type": "markdown",
   "id": "739b2d26",
   "metadata": {},
   "source": [
    "# 1. Implicit Type Casting\n",
    "Implicit type casting occurs when Python automatically converts one data type to another without the programmer's intervention. This usually happens when mixing different types in an operation where one type can be safely converted to another without losing information."
   ]
  },
  {
   "cell_type": "markdown",
   "id": "da76e0ad",
   "metadata": {},
   "source": [
    "i) `int` to `float`"
   ]
  },
  {
   "cell_type": "code",
   "execution_count": null,
   "id": "125e833a",
   "metadata": {},
   "outputs": [],
   "source": [
    "# Implicit type casting example\n",
    "num1 = 5        # Integer\n",
    "num2 = 3.2      # Float\n",
    "\n",
    "result = num1 + num2  # num1 (int) is automatically converted to float\n",
    "print(result)\n",
    "print(type(result))"
   ]
  },
  {
   "cell_type": "markdown",
   "id": "56988779",
   "metadata": {},
   "source": [
    "ii) `bool` to `int`"
   ]
  },
  {
   "cell_type": "code",
   "execution_count": null,
   "id": "273aca25",
   "metadata": {},
   "outputs": [],
   "source": [
    "is_happy = True\n",
    "score = 4\n",
    "\n",
    "result = score + is_happy  # is_happy (True) is converted to 1\n",
    "print(result)"
   ]
  },
  {
   "cell_type": "markdown",
   "id": "1737b7b0",
   "metadata": {},
   "source": [
    "iii) Implicit conversion from `int` to `float` in division"
   ]
  },
  {
   "cell_type": "code",
   "execution_count": null,
   "id": "deb3704d",
   "metadata": {},
   "outputs": [],
   "source": [
    "numerator = 10\n",
    "denominator = 2\n",
    "\n",
    "result = numerator / denominator\n",
    "print(result)\n",
    "print(type(result))"
   ]
  },
  {
   "cell_type": "markdown",
   "id": "0a2fdf40",
   "metadata": {},
   "source": [
    "**While printing the things, Python automatically converts the data to string and then prints it. This is also an example of implicit type casting.**"
   ]
  },
  {
   "cell_type": "markdown",
   "id": "b4e28f5e",
   "metadata": {},
   "source": [
    "<hr>\n",
    "\n",
    "# 2. Explicit Type Casting\n",
    "Explicit type casting occurs when the programmer explicitly converts one data type to another. This is done using the built-in functions provided by Python.\n",
    "For type casting, the following functions can be used.  \n",
    " - `int()`  \n",
    " - `float()`  \n",
    " - `str()`  \n",
    " - `bool()`  \n",
    "\n",
    "\n",
    "There are some other data types as well. We will cover them later on. But they also have type casting functions.\n",
    " - `list()`  \n",
    " - `set()`  \n",
    " - `tuple()`  \n",
    " - `dict()`  \n",
    " - `complex()`  \n",
    "\n",
    "\n",
    "### **Note:**\n",
    "We cannot convert every data type to others. Type casting should make sense in terms of data type conversion. We will see it here as well."
   ]
  },
  {
   "cell_type": "markdown",
   "id": "22e45c7c",
   "metadata": {},
   "source": [
    "# Numeric Type Casting"
   ]
  },
  {
   "cell_type": "markdown",
   "id": "e2e7e448-ef95-4709-aab5-5231675b112a",
   "metadata": {},
   "source": [
    "i) `float` to `int`"
   ]
  },
  {
   "cell_type": "code",
   "execution_count": null,
   "id": "240107b3-6ddf-4b14-8ba2-159f14d8c9f2",
   "metadata": {},
   "outputs": [],
   "source": [
    "num1 = 34.834\n",
    "print(type(num1))\n",
    "num2 = int(num1)\n",
    "print(num2)    # Will not round off. Just take the integer value"
   ]
  },
  {
   "cell_type": "markdown",
   "id": "0601dfd7",
   "metadata": {},
   "source": [
    "ii) `int` to `float`  "
   ]
  },
  {
   "cell_type": "code",
   "execution_count": null,
   "id": "0a34a0c6",
   "metadata": {},
   "outputs": [],
   "source": [
    "num3 = 57\n",
    "num3 = float(num3)\n",
    "print(num3)\n",
    "\n",
    "# Converting int to float makes more sense in implicit type casting"
   ]
  },
  {
   "cell_type": "markdown",
   "id": "305d3340",
   "metadata": {},
   "source": [
    "# String Type Casting"
   ]
  },
  {
   "cell_type": "markdown",
   "id": "38ffaf23-34c5-4e63-9338-734e436b16c3",
   "metadata": {},
   "source": [
    "i) `str` to `int`"
   ]
  },
  {
   "cell_type": "code",
   "execution_count": null,
   "id": "fef78569-44d6-44a6-aac7-7080eef1c60b",
   "metadata": {},
   "outputs": [],
   "source": [
    "new_string  = \"Python\"\n",
    "# new_string = int(new_string)    # It does not make sense to convert a Python string to a number because we cannot convert it into a number. So it will give us error."
   ]
  },
  {
   "cell_type": "code",
   "execution_count": null,
   "id": "6e8fa9d1",
   "metadata": {},
   "outputs": [],
   "source": [
    "string01 = '762829'    # As this is a number inside a string, so we can convert it into an actual number\n",
    "print(type(string01))\n",
    "\n",
    "string02 = int(string01)\n",
    "print(string02)\n",
    "print(type(string02))"
   ]
  },
  {
   "cell_type": "code",
   "execution_count": null,
   "id": "8047fa55",
   "metadata": {},
   "outputs": [],
   "source": [
    "age = input(\"Enter your age: \")\n",
    "print(age)\n",
    "print(type(age))\n",
    "\n",
    "# Converting string to int\n",
    "age = int(age)\n",
    "print(age)\n",
    "print(type(age))"
   ]
  },
  {
   "cell_type": "markdown",
   "id": "0169f747",
   "metadata": {},
   "source": [
    "ii) `str` to `float`"
   ]
  },
  {
   "cell_type": "code",
   "execution_count": null,
   "id": "2394e9c9",
   "metadata": {},
   "outputs": [],
   "source": [
    "# string to float\n",
    "a = \"3.14\"\n",
    "print(type(a))\n",
    "a = float(a)\n",
    "print(a)\n",
    "print(type(a))"
   ]
  },
  {
   "cell_type": "markdown",
   "id": "3765a3b6",
   "metadata": {},
   "source": [
    "iii) `str` to `bool`"
   ]
  },
  {
   "cell_type": "code",
   "execution_count": null,
   "id": "8e699b3d",
   "metadata": {},
   "outputs": [],
   "source": [
    "st = 'Doing good!'\n",
    "st = bool(st)\n",
    "print(st)\n",
    "\n",
    "\n",
    "str2 = ''       # Empty string, so it will be converted to False\n",
    "str2 = bool(str2)\n",
    "print(str2)"
   ]
  },
  {
   "cell_type": "markdown",
   "id": "d6cd9593",
   "metadata": {},
   "source": [
    "# Boolean Type Casting"
   ]
  },
  {
   "cell_type": "code",
   "execution_count": null,
   "id": "67e70753-bbf1-4938-b04a-917e62e894db",
   "metadata": {},
   "outputs": [],
   "source": [
    "r = -0\n",
    "b = bool(r)   # This will assign False only if the value will be `exactly ZERO`. Otherwise, it will assign True\n",
    "print(b)"
   ]
  }
 ],
 "metadata": {
  "kernelspec": {
   "display_name": "Python 3 (ipykernel)",
   "language": "python",
   "name": "python3"
  },
  "language_info": {
   "codemirror_mode": {
    "name": "ipython",
    "version": 3
   },
   "file_extension": ".py",
   "mimetype": "text/x-python",
   "name": "python",
   "nbconvert_exporter": "python",
   "pygments_lexer": "ipython3",
   "version": "3.12.5"
  }
 },
 "nbformat": 4,
 "nbformat_minor": 5
}
