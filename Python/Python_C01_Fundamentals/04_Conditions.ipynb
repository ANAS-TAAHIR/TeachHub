{
 "cells": [
  {
   "cell_type": "markdown",
   "id": "ead7f7f1-8c24-44b6-920a-d38d9eba09c0",
   "metadata": {},
   "source": [
    "# **Conditional Statements**"
   ]
  },
  {
   "cell_type": "markdown",
   "id": "deba6a78-01c7-4dc4-b4dc-c19dc0593307",
   "metadata": {},
   "source": [
    "Conditional Statements allow you to run a specific block of code when certain conditions are true or false in your program.  \n",
    "There are three conditional structures in Python:  \n",
    "1. if\n",
    "2. else\n",
    "3. elif"
   ]
  },
  {
   "cell_type": "markdown",
   "id": "31a60458",
   "metadata": {},
   "source": [
    "## Syntax\n",
    "\n",
    "```python\n",
    "if condition:\n",
    "    # code block\n",
    "elif condition:\n",
    "    # code block\n",
    "else:\n",
    "    # code block\n",
    "```\n",
    "\n",
    "\n",
    "## **Note:**\n",
    "- You have to use a colon `:` at the end of the condition.\n",
    "- You need to use spaces (normally use tab) to define the block of code inside the condition.\n",
    "- You can use as many `elif` as you want.\n",
    "- Both `elif` and `else` are optional."
   ]
  },
  {
   "cell_type": "markdown",
   "id": "419284ee",
   "metadata": {},
   "source": [
    "# Examples"
   ]
  },
  {
   "cell_type": "markdown",
   "id": "b111012c",
   "metadata": {},
   "source": [
    "**1. Check if a number is positive or negative using input from the user.**"
   ]
  },
  {
   "cell_type": "code",
   "execution_count": null,
   "id": "0fd964cc",
   "metadata": {},
   "outputs": [],
   "source": [
    "num = int(input(\"Enter the num \"))\n",
    "if num < 0:\n",
    "    print(\"Number is negative\")    # spaces on left side is called indentation\n",
    "if num > 0:\n",
    "    print(\"Number is positive\")"
   ]
  },
  {
   "cell_type": "code",
   "execution_count": 1,
   "id": "bb58f327",
   "metadata": {},
   "outputs": [
    {
     "name": "stdout",
     "output_type": "stream",
     "text": [
      "Number is positive\n"
     ]
    }
   ],
   "source": [
    "# Using else\n",
    "num = int(input(\"Enter the num \"))\n",
    "if num < 0:\n",
    "    print(\"Number is negative\")\n",
    "else:\n",
    "    print(\"Number is positive\")"
   ]
  },
  {
   "cell_type": "code",
   "execution_count": 2,
   "id": "4f551e38-092d-428b-9f02-e3435a558119",
   "metadata": {},
   "outputs": [
    {
     "name": "stdout",
     "output_type": "stream",
     "text": [
      "Number is positive\n"
     ]
    }
   ],
   "source": [
    "# Connection between if and else\n",
    "num = int(input(\"Enter the num \"))\n",
    "if num < 0:\n",
    "    print(\"Number is negative\")\n",
    "# print(\"Doing good\")\n",
    "else:\n",
    "    print(\"Number is positive\")\n"
   ]
  },
  {
   "cell_type": "markdown",
   "id": "57c91708",
   "metadata": {},
   "source": [
    "**2. If the age is less than 18, print \"You are not allowed to drive\",**\n",
    "\n",
    "**otherwise print \"You are allowed to drive\".**"
   ]
  },
  {
   "cell_type": "code",
   "execution_count": 3,
   "id": "e122d25b-1a32-4c52-ac77-17372ac36a53",
   "metadata": {},
   "outputs": [
    {
     "name": "stdout",
     "output_type": "stream",
     "text": [
      "You are allowed to drive\n"
     ]
    }
   ],
   "source": [
    "age = int(input(\"Enter the age \"))\n",
    "if age > 18:\n",
    "    print(\"You are allowed to drive\")\n",
    "else:\n",
    "    print(\"You are not allowed to drive\")"
   ]
  },
  {
   "cell_type": "markdown",
   "id": "ed3114bd",
   "metadata": {},
   "source": [
    "**3. Check the username and password. If it is correct then say \"You have access to the system\",**\n",
    "\n",
    "**otherwise say \"Invalid username or password\".**"
   ]
  },
  {
   "cell_type": "code",
   "execution_count": 4,
   "id": "ab151f96-88d4-4047-a693-71e25003fb40",
   "metadata": {},
   "outputs": [],
   "source": [
    "stored_username = 'admin'\n",
    "stored_password = \"admin123\"\n",
    "\n",
    "username = input(\"Enter username\")\n",
    "password = input(\"Enter password\")\n",
    "\n",
    "# Code\n"
   ]
  },
  {
   "cell_type": "markdown",
   "id": "3c13cc1d",
   "metadata": {},
   "source": [
    "# Multiple Conditions"
   ]
  },
  {
   "cell_type": "markdown",
   "id": "f93deab6",
   "metadata": {},
   "source": [
    "**4. Get the age of the user and assign the ticket price based on the age.**\n",
    "\n",
    "- 1 to 12 years: $5\n",
    "- 13 to 18 years: $6\n",
    "- 19 to 59 years: $10\n",
    "- 60 years and above: $5"
   ]
  },
  {
   "cell_type": "code",
   "execution_count": 13,
   "id": "3d511c3d-8795-49d4-8696-e02b20970808",
   "metadata": {},
   "outputs": [
    {
     "name": "stdout",
     "output_type": "stream",
     "text": [
      "Tell us your age:  14\n"
     ]
    },
    {
     "name": "stdout",
     "output_type": "stream",
     "text": [
      "Ticket price for you is 10 dollars\n"
     ]
    }
   ],
   "source": [
    "age = int(input(\"Tell us your age: \"))\n",
    "if age >= 1 and age <= 12:\n",
    "    ticket = 5\n",
    "if age >= 13 and age <= 18:\n",
    "    ticket = 6\n",
    "if age >= 19 and age <= 59:\n",
    "    ticket = 10\n",
    "if age >= 60:\n",
    "    ticket = 5\n",
    "\n",
    "print(\"Ticket price for you is\",ticket,\"dollars\")"
   ]
  },
  {
   "cell_type": "markdown",
   "id": "b0eb65d8",
   "metadata": {},
   "source": [
    "## Use of `if`, `elif`, and `else` statements."
   ]
  },
  {
   "cell_type": "markdown",
   "id": "c7ab8749",
   "metadata": {},
   "source": [
    "**5.Grad assignment based on scores in exams**"
   ]
  },
  {
   "cell_type": "code",
   "execution_count": 18,
   "id": "b56e7e28-0b07-476e-a7fd-003ce5f9f722",
   "metadata": {
    "scrolled": true
   },
   "outputs": [
    {
     "name": "stdout",
     "output_type": "stream",
     "text": [
      "Enter the student's score:  1\n"
     ]
    },
    {
     "name": "stdout",
     "output_type": "stream",
     "text": [
      "The student's grade is F\n"
     ]
    }
   ],
   "source": [
    "score = float(input(\"Enter the student's score: \"))\n",
    "\n",
    "if score >= 90:\n",
    "    grade = 'A'\n",
    "if score >= 80:\n",
    "    grade = 'B'\n",
    "if score >= 70:\n",
    "    grade = 'C'\n",
    "if score >= 60:\n",
    "    grade = 'D'\n",
    "else:\n",
    "    grade = 'F'\n",
    "\n",
    "print(\"The student's grade is\",grade)"
   ]
  },
  {
   "cell_type": "code",
   "execution_count": 22,
   "id": "8802e70e-eba4-410a-a98c-7471c3c81142",
   "metadata": {},
   "outputs": [
    {
     "name": "stdout",
     "output_type": "stream",
     "text": [
      "Welcome to the Restaurant!\n",
      "Menu:\n",
      "1. Pizza\n",
      "2. Burger\n",
      "3. Salad\n",
      "4. Pasta\n"
     ]
    },
    {
     "name": "stdout",
     "output_type": "stream",
     "text": [
      "Enter your choice (1/2/3/4):  4\n"
     ]
    },
    {
     "name": "stdout",
     "output_type": "stream",
     "text": [
      "You selected Pasta. That will be $10.00.\n"
     ]
    }
   ],
   "source": [
    "# Select the menu\n",
    "print(\"Welcome to the Restaurant!\")\n",
    "print(\"Menu:\")\n",
    "print(\"1. Pizza\")\n",
    "print(\"2. Burger\")\n",
    "print(\"3. Salad\")\n",
    "print(\"4. Pasta\")\n",
    "\n",
    "choice = int(input(\"Enter your choice (1/2/3/4): \"))\n",
    "\n",
    "if choice == 1:\n",
    "    print(\"You selected Pizza. That will be $12.50.\")\n",
    "if choice == 2:\n",
    "    print(\"You selected Burger. That will be $8.00.\")\n",
    "if choice == 3:\n",
    "    print(\"You selected Salad. That will be $6.00.\")\n",
    "if choice == 4:\n",
    "    print(\"You selected Pasta. That will be $10.00.\")\n",
    "else:\n",
    "    print(\"Invalid choice. Please select a valid option from 1 to 4.\")\n"
   ]
  },
  {
   "cell_type": "code",
   "execution_count": null,
   "id": "1daabee3-ed6d-4a71-bb3d-d21e9555e024",
   "metadata": {},
   "outputs": [],
   "source": []
  }
 ],
 "metadata": {
  "kernelspec": {
   "display_name": "Python 3 (ipykernel)",
   "language": "python",
   "name": "python3"
  },
  "language_info": {
   "codemirror_mode": {
    "name": "ipython",
    "version": 3
   },
   "file_extension": ".py",
   "mimetype": "text/x-python",
   "name": "python",
   "nbconvert_exporter": "python",
   "pygments_lexer": "ipython3",
   "version": "3.12.5"
  }
 },
 "nbformat": 4,
 "nbformat_minor": 5
}
