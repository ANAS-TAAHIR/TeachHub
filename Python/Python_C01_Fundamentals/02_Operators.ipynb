{
 "cells": [
  {
   "cell_type": "markdown",
   "id": "0afb77fb-2251-46a2-9650-93bf7d2d63ac",
   "metadata": {},
   "source": [
    "# **Operators**"
   ]
  },
  {
   "cell_type": "markdown",
   "id": "8157d027-a7e9-480d-bfbf-c5707f1a8f68",
   "metadata": {},
   "source": [
    "Operators allow you to perform calculations on your data or variables. Following are some of the categories of operators inside Python.\n",
    "1. Arithmetic Operators\n",
    "2. Comparison Operators (Relational Operators)\n",
    "3. Logical Operators\n",
    "4. Assignment Operators\n",
    "5. Identity Operators\n",
    "6. Membership Operators\n",
    "7. Bitwise Operators (optional)\n",
    "8. Ternary Conditional Operator (optional)"
   ]
  },
  {
   "cell_type": "markdown",
   "id": "73c9a108-2015-4b45-9b45-739cf771a51f",
   "metadata": {},
   "source": [
    "## i) Arithmetic Operators"
   ]
  },
  {
   "cell_type": "markdown",
   "id": "a68e55e4",
   "metadata": {},
   "source": [
    " - Addition (+)\n",
    " - Subtraction (-)\n",
    " - Multiplication (*)\n",
    " - Division (/)\n",
    " - **Floor Division (//)**\n",
    " - **Modulus (%)     (Remainder)**\n",
    " - **Exponentiation (\\*\\*)     (Power)**"
   ]
  },
  {
   "cell_type": "code",
   "execution_count": null,
   "id": "bfb3f895",
   "metadata": {},
   "outputs": [],
   "source": [
    "var = 4 + 45\n",
    "print(var)"
   ]
  },
  {
   "cell_type": "code",
   "execution_count": null,
   "id": "f008b8cd",
   "metadata": {},
   "outputs": [],
   "source": [
    "print(34 - 45)\n",
    "print(3 * 12)\n",
    "print(3 / 2)"
   ]
  },
  {
   "cell_type": "markdown",
   "id": "54a97ea0",
   "metadata": {},
   "source": [
    "**Floor division (//) is a division that gives the lower integer value of the division.** "
   ]
  },
  {
   "cell_type": "code",
   "execution_count": null,
   "id": "eeab1877-da87-430f-99e0-eca49c8984ad",
   "metadata": {
    "scrolled": true
   },
   "outputs": [],
   "source": [
    "print(69 / 10)\n",
    "print(69 // 10)   # floor division"
   ]
  },
  {
   "cell_type": "markdown",
   "id": "ed7c74ae",
   "metadata": {},
   "source": [
    "**Modulus (%) is the remainder of the division.**"
   ]
  },
  {
   "cell_type": "code",
   "execution_count": null,
   "id": "940e23ae",
   "metadata": {},
   "outputs": [],
   "source": [
    "print(34 % 3)   # modulo\n",
    "print(25 % 8)"
   ]
  },
  {
   "cell_type": "markdown",
   "id": "4226cd2a",
   "metadata": {},
   "source": [
    "**Exponentiation (\\*\\*) is the power of the number.**\n"
   ]
  },
  {
   "cell_type": "code",
   "execution_count": null,
   "id": "bd8fed9d",
   "metadata": {},
   "outputs": [],
   "source": [
    "print(3 ** 2)   # exponentiation\n",
    "print(4 ** 3)\n",
    "print(2 ** 10)"
   ]
  },
  {
   "cell_type": "markdown",
   "id": "28761382-607a-4e7a-bd89-f17d6a53e94f",
   "metadata": {},
   "source": [
    "## ii) Comparison Operators"
   ]
  },
  {
   "cell_type": "markdown",
   "id": "e9eb2c61",
   "metadata": {},
   "source": [
    " - Equal to (==)\n",
    " - Not equal to (!=)\n",
    " - Greater than (>)\n",
    " - Less than (<)\n",
    " - Greater than or equal to (>=)\n",
    " - Less than or equal to (<=)"
   ]
  },
  {
   "cell_type": "code",
   "execution_count": null,
   "id": "63e42035-cc52-419d-aee6-73ea6db2ecc6",
   "metadata": {},
   "outputs": [],
   "source": [
    "a = 17\n",
    "b = 23\n",
    "\n",
    "print(3 == 4)\n",
    "print(a == b)\n",
    "print( a != b)\n",
    "print(a > b)\n",
    "print(a < b)\n",
    "print(a >= b)\n",
    "print(a <= b)\n",
    "print(a==30)"
   ]
  },
  {
   "cell_type": "markdown",
   "id": "aab3a22f-b9ae-44a8-b327-5e487fb185f2",
   "metadata": {},
   "source": [
    "## iii) Logical Operators"
   ]
  },
  {
   "cell_type": "markdown",
   "id": "f6147924",
   "metadata": {},
   "source": [
    " - Logical AND\n",
    " - Logical OR\n",
    " - Logical NOT"
   ]
  },
  {
   "cell_type": "code",
   "execution_count": null,
   "id": "fcc3eab3-20e9-4350-9044-975c4eca8651",
   "metadata": {},
   "outputs": [],
   "source": [
    "x = 100\n",
    "y = 70\n",
    "z = 80\n",
    "print(x < y and z > y)      # short circuiting\n",
    "print(z > y or x < y)\n",
    "print(not z > y)"
   ]
  },
  {
   "cell_type": "markdown",
   "id": "29363ef1-aff3-4b67-9dd4-e90ae84bcf2c",
   "metadata": {},
   "source": [
    "## iv) Asignment Operators"
   ]
  },
  {
   "cell_type": "markdown",
   "id": "ba3a5bbf",
   "metadata": {},
   "source": [
    " - Assignment (=)\n",
    " - Addition Assignment (+=)\n",
    " - Subtraction Assignment (-=)\n",
    " - Multiplication Assignment (*=)\n",
    " - Division Assignment (/=)\n",
    " - Floor Division Assignment (//=)\n",
    " - Modulus Assignment (%=)  (Remainder)\n",
    " - Exponentiation Assignment (**=)   (Power)"
   ]
  },
  {
   "cell_type": "code",
   "execution_count": null,
   "id": "56d30def",
   "metadata": {},
   "outputs": [],
   "source": [
    "country = \"Pakistan\"\n",
    "print(country)"
   ]
  },
  {
   "cell_type": "code",
   "execution_count": null,
   "id": "1259ae10",
   "metadata": {},
   "outputs": [],
   "source": [
    "id = 6\n",
    "id = id + 2\n",
    "print(id)\n",
    "\n",
    "# id += 2    # id = id + 2\n",
    "# print(id)"
   ]
  },
  {
   "cell_type": "code",
   "execution_count": null,
   "id": "86337aab",
   "metadata": {},
   "outputs": [],
   "source": [
    "id -= 4\n",
    "print(id)"
   ]
  },
  {
   "cell_type": "code",
   "execution_count": null,
   "id": "5184c2d2",
   "metadata": {},
   "outputs": [],
   "source": [
    "id = 15\n",
    "id *= 3\n",
    "print(id)\n",
    "\n",
    "id = 100\n",
    "id /= 10\n",
    "print(id)"
   ]
  },
  {
   "cell_type": "code",
   "execution_count": null,
   "id": "0f23ebc7",
   "metadata": {},
   "outputs": [],
   "source": [
    "id = 68\n",
    "id //= 10\n",
    "print(id)"
   ]
  },
  {
   "cell_type": "code",
   "execution_count": null,
   "id": "2897477b-1959-454c-ace2-65cc3c1250d5",
   "metadata": {},
   "outputs": [],
   "source": [
    "a = 3\n",
    "a %= 10\n",
    "print(a)\n",
    "\n",
    "a = 2\n",
    "a **= 3\n",
    "print(a)"
   ]
  },
  {
   "cell_type": "markdown",
   "id": "e89386aa-487b-4e40-850a-17df26084f7b",
   "metadata": {},
   "source": [
    "## v) Identity Operators"
   ]
  },
  {
   "cell_type": "markdown",
   "id": "8a7b25b8",
   "metadata": {},
   "source": [
    "They are almost the same as the equal and not equal but they compare the memory location of the variables as well. \n",
    "\n",
    "But for now, you can consider them as the same as comparison operators.\n",
    "\n",
    " - is\n",
    " - is not"
   ]
  },
  {
   "cell_type": "code",
   "execution_count": null,
   "id": "8dcd787c-ce13-4ef1-bb00-7c63ddca8ccc",
   "metadata": {},
   "outputs": [],
   "source": [
    "m = 30\n",
    "n = 50\n",
    "p = 30\n",
    "print(m is p)\n",
    "print(p is n)\n",
    "print(p is not n)"
   ]
  },
  {
   "cell_type": "markdown",
   "id": "5ea1b3d6-7714-41f1-8db9-fe155f78f387",
   "metadata": {},
   "source": [
    "## vi) Membership Operators\n",
    "Membership operators are used to test if a sequence is presented in an object.\n",
    "\n",
    " - in\n",
    " - not in"
   ]
  },
  {
   "cell_type": "code",
   "execution_count": null,
   "id": "30ce48cd-f2a2-4285-8433-057335049f2e",
   "metadata": {},
   "outputs": [],
   "source": [
    "sentence1 = 'We are inside the amazing world of Python that will blow up your mind.'\n",
    "print('python' in sentence1)\n",
    "print(\"JavaScript\" in sentence1)\n"
   ]
  },
  {
   "cell_type": "code",
   "execution_count": null,
   "id": "d6274e8e",
   "metadata": {},
   "outputs": [],
   "source": [
    "sentence2 = \"My favorite fruits are apples, bananas, and oranges.\"\n",
    "print('apples' in sentence2)\n",
    "print('t' not in sentence2)\n",
    "print('c' not in sentence2)"
   ]
  },
  {
   "cell_type": "markdown",
   "id": "f3ecf318",
   "metadata": {},
   "source": [
    "---\n",
    "## vii) Bitwise Operators (optional)\n",
    "Bitwise operators are used to compare (binary) numbers.\n",
    "\n",
    " - Bitwise AND  (&)\n",
    " - Bitwise OR   (|)\n",
    " - Bitwise XOR  (^)\n",
    " - Bitwise NOT  (~)\n",
    " - Left Shift   (<<)\n",
    " - Right Shift  (>>)"
   ]
  },
  {
   "cell_type": "code",
   "execution_count": null,
   "id": "eeb9b3d7",
   "metadata": {},
   "outputs": [],
   "source": [
    "a = 60\n",
    "b = 13\n",
    "print(bin(a))\n",
    "print(bin(b))\n",
    "print(a & b)\n",
    "print(a | b)\n",
    "print(a ^ b)\n",
    "print(~a)\n",
    "print(a << 2)\n",
    "print(a >> 2)"
   ]
  },
  {
   "cell_type": "markdown",
   "id": "acf7d2a4",
   "metadata": {},
   "source": [
    "## viii) Ternary Conditional Operator (optional)\n",
    "Ternary operators also known as conditional expressions are operators that evaluate something based on a condition being true or false.\n",
    "\n",
    "```python\n",
    "[on_true] if [expression] else [on_false]\n",
    "```"
   ]
  },
  {
   "cell_type": "code",
   "execution_count": null,
   "id": "503b8002",
   "metadata": {},
   "outputs": [],
   "source": [
    "a = 10\n",
    "b = 20\n",
    "min = a if a < b else b\n",
    "print(min)"
   ]
  }
 ],
 "metadata": {
  "kernelspec": {
   "display_name": "Python 3 (ipykernel)",
   "language": "python",
   "name": "python3"
  },
  "language_info": {
   "codemirror_mode": {
    "name": "ipython",
    "version": 3
   },
   "file_extension": ".py",
   "mimetype": "text/x-python",
   "name": "python",
   "nbconvert_exporter": "python",
   "pygments_lexer": "ipython3",
   "version": "3.12.5"
  }
 },
 "nbformat": 4,
 "nbformat_minor": 5
}
