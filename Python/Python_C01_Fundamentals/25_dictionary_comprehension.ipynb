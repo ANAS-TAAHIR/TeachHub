{
 "cells": [
  {
   "cell_type": "markdown",
   "id": "3ffd13e0-dccf-4312-838f-a21a68ae4426",
   "metadata": {},
   "source": [
    "# Dictionary Comprehension\n",
    "\n",
    "Dictionary comprehension is a concise way to create dictionaries. It is similar to list comprehension but here we have to use key-value pairs.\n",
    "\n",
    "## Syntax:\n",
    "```python\n",
    "{key: value for (key, value) in iterable}\n",
    "```\n",
    "\n",
    "For using conditions:\n",
    "```python\n",
    "{key: value for (key, value) in iterable if condition}\n",
    "# for else condition\n",
    "{key: value if condition else value for (key, value) in iterable}\n",
    "```\n",
    "\n",
    "\n"
   ]
  },
  {
   "cell_type": "markdown",
   "id": "a3f69572",
   "metadata": {},
   "source": [
    "1. Modify the following dictionary such that its values are doubled.\n",
    "```python\n",
    "my_dict = {'a': 1, 'b': 2, 'c': 3, 'd': 4, 'e': 5}\n",
    "```"
   ]
  },
  {
   "cell_type": "code",
   "execution_count": null,
   "id": "3b3b2134",
   "metadata": {},
   "outputs": [],
   "source": [
    "# Simple way:\n",
    "my_dict = {'a': 1, 'b': 2, 'c': 3, 'd': 4, 'e': 5}\n",
    "for key, value in my_dict.items():\n",
    "    my_dict[key] = value * 2\n",
    "print(my_dict)"
   ]
  },
  {
   "cell_type": "code",
   "execution_count": null,
   "id": "2c5b18f6",
   "metadata": {},
   "outputs": [],
   "source": [
    "# Using dictionary comprehension:\n",
    "my_dict = {'a': 1, 'b': 2, 'c': 3, 'd': 4, 'e': 5}\n",
    "my_dict = {key: value * 2 for key, value in my_dict.items()}\n",
    "print(my_dict)"
   ]
  },
  {
   "cell_type": "markdown",
   "id": "23875bcc",
   "metadata": {},
   "source": [
    "2. Take the following list of words and create a dictionary where the key is a word and the value is the length of the word.\n",
    "```python\n",
    "words = ['car', 'house', 'plant', 'fisherman', 'picnic', 'radio']\n",
    "```"
   ]
  },
  {
   "cell_type": "code",
   "execution_count": null,
   "id": "212e64b4",
   "metadata": {},
   "outputs": [],
   "source": []
  },
  {
   "cell_type": "markdown",
   "id": "377030cd",
   "metadata": {},
   "source": [
    "# Dictionary Comprehension with Conditions\n"
   ]
  },
  {
   "cell_type": "markdown",
   "id": "ac2d090f",
   "metadata": {},
   "source": [
    "3. Modify the following dictionary such that only the key-value pairs with value greater than 2 are included.\n",
    "```python\n",
    "my_dict = {'a': 1, 'b': 2, 'c': 3, 'd': 4, 'e': 5}\n",
    "```"
   ]
  },
  {
   "cell_type": "code",
   "execution_count": null,
   "id": "45d18643",
   "metadata": {},
   "outputs": [],
   "source": []
  },
  {
   "cell_type": "markdown",
   "id": "4b9cf180",
   "metadata": {},
   "source": [
    "4. Take the following list of words and create a dictionary where the key is a word and the value is the length of the word only if the length is greater than 4. Otherwise, make the value the word itself.\n",
    "```python\n",
    "words = ['car', 'house', 'plant', 'fisherman', 'picnic', 'radio']\n",
    "```"
   ]
  },
  {
   "cell_type": "code",
   "execution_count": null,
   "id": "ab801407",
   "metadata": {},
   "outputs": [],
   "source": []
  },
  {
   "cell_type": "markdown",
   "id": "462906a1",
   "metadata": {},
   "source": [
    "5. Following is the list of students with their grades. Create a dictionary where the key is the student name and the value is 'pass' if the grade is greater than or equal to 60, otherwise 'fail'.\n",
    "```python\n",
    "grades = {'Alice': 85, 'Bob': 92, 'Charlie': 78, 'David': 95, 'Eve': 55, 'Frank': 40}\n",
    "```\n"
   ]
  },
  {
   "cell_type": "code",
   "execution_count": null,
   "id": "95841eee",
   "metadata": {},
   "outputs": [],
   "source": []
  },
  {
   "cell_type": "markdown",
   "id": "4ea6f517",
   "metadata": {},
   "source": [
    "# Set and Tuple Comprehension\n",
    "Although set and tuple comprehension is not as popular as list and dictionary comprehension, it is still possible to create sets and tuples using comprehension.\n",
    "\n",
    "## Syntax:\n",
    "```python\n",
    "{expression for item in iterable}   # set comprehension\n",
    "tuple(expression for item in iterable)    # tuple comprehension\n",
    "```\n",
    "\n",
    "**Note:** Tuple comprehension is not exactly a tuple comprehension. It is a generator expression which we can convert to a tuple."
   ]
  },
  {
   "cell_type": "code",
   "execution_count": null,
   "id": "3e336b5b",
   "metadata": {},
   "outputs": [],
   "source": [
    "# Set Comprehension\n",
    "a = {x for x in 'abracadabra'}\n",
    "print(a)"
   ]
  },
  {
   "cell_type": "code",
   "execution_count": null,
   "id": "e54709da",
   "metadata": {},
   "outputs": [],
   "source": [
    "# Tuple Comprehension\n",
    "a = (x for x in 'abracadabra')\n",
    "print(a)\n",
    "print(tuple(a))\n"
   ]
  },
  {
   "cell_type": "code",
   "execution_count": null,
   "id": "57c4e247",
   "metadata": {},
   "outputs": [],
   "source": []
  }
 ],
 "metadata": {
  "kernelspec": {
   "display_name": "Python 3 (ipykernel)",
   "language": "python",
   "name": "python3"
  },
  "language_info": {
   "codemirror_mode": {
    "name": "ipython",
    "version": 3
   },
   "file_extension": ".py",
   "mimetype": "text/x-python",
   "name": "python",
   "nbconvert_exporter": "python",
   "pygments_lexer": "ipython3",
   "version": "3.12.5"
  }
 },
 "nbformat": 4,
 "nbformat_minor": 5
}
