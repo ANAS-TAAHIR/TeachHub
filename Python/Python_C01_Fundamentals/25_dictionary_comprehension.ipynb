{
 "cells": [
  {
   "cell_type": "markdown",
   "id": "3ffd13e0-dccf-4312-838f-a21a68ae4426",
   "metadata": {},
   "source": [
    "# Dictionary Comprehension"
   ]
  },
  {
   "cell_type": "markdown",
   "id": "d46ffc34-62d2-423e-ad5f-7257238e08d7",
   "metadata": {},
   "source": [
    "## 1. Creating a Dictionary from Two Lists:"
   ]
  },
  {
   "cell_type": "code",
   "execution_count": 1,
   "id": "86c515c6-46e3-4213-b4af-35afcc724e00",
   "metadata": {},
   "outputs": [
    {
     "name": "stdout",
     "output_type": "stream",
     "text": [
      "{'Alice': 25, 'Bob': 30, 'Charlie': 22}\n"
     ]
    }
   ],
   "source": [
    "names = ['Alice', 'Bob', 'Charlie']\n",
    "ages = [25, 30, 22]\n",
    "\n",
    "name_age_dict = {}\n",
    "for name, age in zip(names, ages):\n",
    "    name_age_dict[name] = age\n",
    "print(name_age_dict)"
   ]
  },
  {
   "cell_type": "code",
   "execution_count": 2,
   "id": "608a5f68-f186-4db1-ab74-817119b00996",
   "metadata": {},
   "outputs": [
    {
     "name": "stdout",
     "output_type": "stream",
     "text": [
      "{'Alice': 25, 'Bob': 30, 'Charlie': 22}\n"
     ]
    }
   ],
   "source": [
    "names = ['Alice', 'Bob', 'Charlie']\n",
    "ages = [25, 30, 22]\n",
    "\n",
    "name_age_dict = {name: age for name, age in zip(names, ages)}\n",
    "print(name_age_dict)"
   ]
  },
  {
   "cell_type": "code",
   "execution_count": 3,
   "id": "5d51a219-34d4-493c-9e57-2d8be6f7ca50",
   "metadata": {},
   "outputs": [
    {
     "name": "stdout",
     "output_type": "stream",
     "text": [
      "{'Alice': 'Pass', 'Bob': 'Pass', 'Charlie': 'Fail', 'David': 'Pass'}\n"
     ]
    }
   ],
   "source": [
    "grades = {'Alice': 85, 'Bob': 92, 'Charlie': 78, 'David': 95}\n",
    "\n",
    "passed_students = {}\n",
    "for student, grade in grades.items():\n",
    "    if grade >= 80:\n",
    "        passed_students[student] = 'Pass'\n",
    "    else:\n",
    "        passed_students[student] = 'Fail'\n",
    "print(passed_students)\n"
   ]
  },
  {
   "cell_type": "code",
   "execution_count": 4,
   "id": "c7ec3918-5244-4d51-9772-f80fcfc7981d",
   "metadata": {},
   "outputs": [
    {
     "name": "stdout",
     "output_type": "stream",
     "text": [
      "{'Alice': 'Pass', 'Bob': 'Pass', 'Charlie': 'Fail', 'David': 'Pass'}\n"
     ]
    }
   ],
   "source": [
    "grades = {'Alice': 85, 'Bob': 92, 'Charlie': 78, 'David': 95}\n",
    "\n",
    "passed_students = {student: 'Pass' if grade >= 80 else 'Fail' for student, grade in grades.items()}\n",
    "print(passed_students)"
   ]
  },
  {
   "cell_type": "code",
   "execution_count": null,
   "id": "98b17657-3b66-498d-aa72-6347603e311f",
   "metadata": {},
   "outputs": [],
   "source": []
  }
 ],
 "metadata": {
  "kernelspec": {
   "display_name": "Python 3 (ipykernel)",
   "language": "python",
   "name": "python3"
  },
  "language_info": {
   "codemirror_mode": {
    "name": "ipython",
    "version": 3
   },
   "file_extension": ".py",
   "mimetype": "text/x-python",
   "name": "python",
   "nbconvert_exporter": "python",
   "pygments_lexer": "ipython3",
   "version": "3.11.3"
  }
 },
 "nbformat": 4,
 "nbformat_minor": 5
}
