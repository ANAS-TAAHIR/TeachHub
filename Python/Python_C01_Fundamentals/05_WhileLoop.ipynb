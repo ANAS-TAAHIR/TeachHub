{
 "cells": [
  {
   "cell_type": "markdown",
   "id": "a4b71c74-bcc1-4fff-9150-a9c2cc4ae4ac",
   "metadata": {},
   "source": [
    "# Loops"
   ]
  },
  {
   "cell_type": "markdown",
   "id": "8ed1801f-2b50-4d3a-8155-8a6f44411274",
   "metadata": {},
   "source": [
    "Loops are the statements in your program that lets you to execute a piece of code multiple times.<br>\n",
    "There are 2 types of loops in Python:  \n",
    "1. `while` loop\n",
    "2. `for` loop"
   ]
  },
  {
   "cell_type": "code",
   "execution_count": null,
   "id": "b3691d29-134a-4477-9a33-8b6645501dda",
   "metadata": {},
   "outputs": [],
   "source": [
    "# Prints counting upto a specified number\n",
    "print(1)\n",
    "print(2)\n",
    "print(3)\n",
    "print(4)\n",
    "print(5)\n",
    "print(6)\n",
    "print(7)\n",
    "print(8)\n",
    "print(9)\n",
    "print(10)"
   ]
  },
  {
   "cell_type": "markdown",
   "id": "7d7a48ae",
   "metadata": {},
   "source": [
    "Now lets see how the loop will do this."
   ]
  },
  {
   "cell_type": "code",
   "execution_count": null,
   "id": "340ff8e7",
   "metadata": {},
   "outputs": [],
   "source": [
    "i = 1\n",
    "while i <= 10:\n",
    "    print(i)\n",
    "    i = i + 1"
   ]
  },
  {
   "cell_type": "markdown",
   "id": "55a975c9",
   "metadata": {},
   "source": [
    "## Syntax for while loop\n",
    "Following is the syntax for while loop. `while` is a keyword which means you have to write it as it is. After that, there will be a condition. As far as the condition remains `True`, the loop will continue to run the instructions or statements inside its body. `statement 1`, `statement 2`, and `statement 3` are in the body of the loop. Similar to the if conditions, we will write instructions in the loop after indentation (giving some spaces, or tab before instructions) that will indicate these instructions are inside the loop."
   ]
  },
  {
   "cell_type": "raw",
   "id": "83f719df",
   "metadata": {},
   "source": [
    "while condition:\n",
    "    statement 1\n",
    "    statement 2\n",
    "    statement 3"
   ]
  },
  {
   "cell_type": "code",
   "execution_count": null,
   "id": "97cae0ed",
   "metadata": {},
   "outputs": [],
   "source": [
    "i = 1   # Variable that is controling the numberof times the loop has run\n",
    "while i <= 10:\n",
    "    print(i)   # prints the number\n",
    "    i = i + 1  # increase the variable by 1, (increment 'i')\n",
    "# We call each repetition of a loop as 'Iteration'."
   ]
  },
  {
   "cell_type": "markdown",
   "id": "5b308f00-6c6b-46a0-916a-ac6966182d0d",
   "metadata": {},
   "source": [
    "## Examples using While Loop\n",
    "Code that gets Celsius temperature as input and gives its corresponding Fahrenheit temperature."
   ]
  },
  {
   "cell_type": "code",
   "execution_count": null,
   "id": "47ccd0ef-9658-4e6c-90ae-3f4dd414b09c",
   "metadata": {},
   "outputs": [],
   "source": [
    "C = float(input(\"Enter Celsius temperature\"))\n",
    "F = (9/5)*C + 32\n",
    "print(C,\"°C =\",F,\"°F\")"
   ]
  },
  {
   "cell_type": "markdown",
   "id": "552b7ff0",
   "metadata": {},
   "source": [
    "**1. Print the scale from 0°C to 20°C along with coressponding °F temperatures.**"
   ]
  },
  {
   "cell_type": "raw",
   "id": "4dc7206a",
   "metadata": {
    "vscode": {
     "languageId": "raw"
    }
   },
   "source": [
    "0 °C = 32.0 °F\n",
    "1 °C = 33.8 °F\n",
    "2 °C = 35.6 °F\n",
    "3 °C = 37.4 °F\n",
    "4 °C = 39.2 °F\n",
    "5 °C = 41.0 °F\n",
    "6 °C = 42.8 °F\n",
    "7 °C = 44.6 °F\n",
    "8 °C = 46.4 °F\n",
    "9 °C = 48.2 °F\n",
    "10 °C = 50.0 °F"
   ]
  },
  {
   "cell_type": "code",
   "execution_count": null,
   "id": "068f4899-fbde-470f-a259-aa3d1e21fe50",
   "metadata": {},
   "outputs": [],
   "source": [
    "# Displaying a scale of °C and °F temperaturs using while loop\n",
    "C = 0\n",
    "while C <= 20:\n",
    "    F = (9/5)*C + 32\n",
    "    # F = round(F, 3)\n",
    "    print(C,\"°C =\",F,\"°F\")\n",
    "    C = C + 1\n"
   ]
  },
  {
   "cell_type": "markdown",
   "id": "5db304bd",
   "metadata": {},
   "source": [
    "**2. Print even numbers inside a range 10-18, 100-120**"
   ]
  },
  {
   "cell_type": "code",
   "execution_count": null,
   "id": "65a41fe4-8af6-4c8a-92c9-e9934f9a799b",
   "metadata": {},
   "outputs": [],
   "source": [
    "num = 1\n",
    "while num <= 10:\n",
    "    if num % 2 == 0:\n",
    "        print(num)\n",
    "    num += 1\n"
   ]
  },
  {
   "cell_type": "markdown",
   "id": "8f41f04e",
   "metadata": {},
   "source": [
    "**3. Print numbers in the following order upto numbers smaller than 2000.**"
   ]
  },
  {
   "cell_type": "raw",
   "id": "eba83e23",
   "metadata": {
    "vscode": {
     "languageId": "raw"
    }
   },
   "source": [
    "1\n",
    "2\n",
    "4\n",
    "8\n",
    "16\n",
    "32\n",
    "64\n",
    "128\n",
    "256\n",
    "512\n",
    "1024"
   ]
  },
  {
   "cell_type": "code",
   "execution_count": null,
   "id": "8db94a8a-9a3b-4207-b6e7-60eab5722965",
   "metadata": {
    "scrolled": true
   },
   "outputs": [],
   "source": [
    "number = 1\n",
    "while number < 2000:\n",
    "    print(number)\n",
    "    number *= 2"
   ]
  },
  {
   "cell_type": "markdown",
   "id": "741c9cad",
   "metadata": {},
   "source": [
    "**4. Take 5 numbers from the user and print their total at the end.**"
   ]
  },
  {
   "cell_type": "code",
   "execution_count": null,
   "id": "67f25cc7-62f2-4e8f-9f3c-582692278927",
   "metadata": {},
   "outputs": [],
   "source": [
    "i = 1\n",
    "total = 0\n",
    "while i <= 5:\n",
    "    num = int(input())\n",
    "    total = total + num\n",
    "    i = i + 1\n",
    "print(\"Total =\",total)"
   ]
  },
  {
   "cell_type": "markdown",
   "id": "3b6f09cc",
   "metadata": {},
   "source": [
    "---\n",
    "## Beauty of Loop"
   ]
  },
  {
   "cell_type": "markdown",
   "id": "4a2ea511",
   "metadata": {},
   "source": [
    "**5. Print triangles using loop, (left to right)**"
   ]
  },
  {
   "cell_type": "code",
   "execution_count": null,
   "id": "f26c6a3c-506c-4134-bdbc-2155ac7c58e8",
   "metadata": {},
   "outputs": [],
   "source": [
    "\n",
    "i = 1\n",
    "while i <= 5:\n",
    "    print(\"* \"*i)\n",
    "    i += 1"
   ]
  },
  {
   "cell_type": "markdown",
   "id": "fb9bc417",
   "metadata": {},
   "source": [
    "**6. Print triangles using loop, (right to left)**\n"
   ]
  },
  {
   "cell_type": "code",
   "execution_count": null,
   "id": "81f07004-ef44-4682-8c13-4ff3901949ba",
   "metadata": {},
   "outputs": [],
   "source": [
    "i = 1\n",
    "while i <= 5:\n",
    "    print(\"  \"*(5-i)+'* '*i)\n",
    "    i += 1"
   ]
  }
 ],
 "metadata": {
  "kernelspec": {
   "display_name": "Python 3 (ipykernel)",
   "language": "python",
   "name": "python3"
  },
  "language_info": {
   "codemirror_mode": {
    "name": "ipython",
    "version": 3
   },
   "file_extension": ".py",
   "mimetype": "text/x-python",
   "name": "python",
   "nbconvert_exporter": "python",
   "pygments_lexer": "ipython3",
   "version": "3.12.5"
  }
 },
 "nbformat": 4,
 "nbformat_minor": 5
}
