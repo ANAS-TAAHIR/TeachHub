{
 "cells": [
  {
   "cell_type": "markdown",
   "id": "bd47d014-b196-468d-b587-3d16536da59e",
   "metadata": {},
   "source": [
    "# Break and Continue\n",
    "`break` and `continue` are two keywords that we use inside our loops to for doing some specific work to do.  \n",
    "1. __We use `break` to terminate our loop.__ We have seen that `while` loop runs untill the condition is `True` and for loop also runs untill all the elements of the iterable is used. But between these things, if we want to terminates our loop, then we can use `break` keyword to immediatly break the loop.\n",
    "2. __We use `continue` to skip the iterations of the loop.__ When we write `continue`, it will ignore the instructions below it and immediatly comes at the start of the loop. Let's say your loop consists of 8 lines and you have written `continue` on line number 5, then it will ignore line 6,7 and 8 and comes on 1st line of the loop. Following examples will demonstrate these concepts."
   ]
  },
  {
   "cell_type": "markdown",
   "id": "956291ff",
   "metadata": {},
   "source": [
    "# Examples"
   ]
  },
  {
   "cell_type": "markdown",
   "id": "2ba23cd8-0aa9-4e4f-a573-486a2d54c922",
   "metadata": {},
   "source": [
    "Input 5 numbers from user, if the user enters a number greater than 10 then exit the loop immediatly and dont take further inputs. \n",
    "At the end, print sum of the numbers."
   ]
  },
  {
   "cell_type": "code",
   "execution_count": 2,
   "id": "dec5219b-4785-41dd-a9ee-315a9b6dce0b",
   "metadata": {},
   "outputs": [
    {
     "name": "stdout",
     "output_type": "stream",
     "text": [
      "Total = 3\n"
     ]
    }
   ],
   "source": [
    "i = 0\n",
    "total = 0\n",
    "while i < 5:\n",
    "    num = int(input(\"Enter number: \"))\n",
    "    if num > 10:\n",
    "        break\n",
    "    total = total + num\n",
    "    i += 1\n",
    "print(\"Total =\",total)"
   ]
  },
  {
   "cell_type": "markdown",
   "id": "d01be09e",
   "metadata": {},
   "source": [
    "Modify the above code and include the numbers greater than 10 in the sum as well."
   ]
  },
  {
   "cell_type": "code",
   "execution_count": 1,
   "id": "829cb714",
   "metadata": {},
   "outputs": [
    {
     "name": "stdout",
     "output_type": "stream",
     "text": [
      "Total = 14\n"
     ]
    }
   ],
   "source": [
    "i = 0\n",
    "total = 0\n",
    "while i < 5:\n",
    "    num = int(input(\"Enter number: \"))\n",
    "    if num > 10:\n",
    "        total = total + num\n",
    "        break\n",
    "    total = total + num\n",
    "    i += 1\n",
    "print(\"Total =\",total)"
   ]
  },
  {
   "cell_type": "markdown",
   "id": "f7bea63e-3c0a-44ef-ae23-b0c248a33767",
   "metadata": {},
   "source": [
    "Write a program that input positive numbers and print their sum. If the user wants to exit the input, he will give a negative number."
   ]
  },
  {
   "cell_type": "code",
   "execution_count": 4,
   "id": "fe405f4c-a823-424b-852b-8259ba7bac08",
   "metadata": {},
   "outputs": [
    {
     "name": "stdout",
     "output_type": "stream",
     "text": [
      "Enter number:  5\n",
      "Enter number:  7\n",
      "Enter number:  8\n",
      "Enter number:  100\n",
      "Enter number:  65\n",
      "Enter number:  98\n",
      "Enter number:  45\n",
      "Enter number:  20\n",
      "Enter number:  54\n",
      "Enter number:  60\n",
      "Enter number:  478\n",
      "Enter number:  50000\n",
      "Enter number:  -89\n"
     ]
    },
    {
     "name": "stdout",
     "output_type": "stream",
     "text": [
      "Total = 50940\n"
     ]
    }
   ],
   "source": [
    "total = 0\n",
    "while True:\n",
    "    num = int(input(\"Enter number: \"))\n",
    "    if num < 0:\n",
    "        break\n",
    "    total = total + num\n",
    "print(\"Total =\",total)"
   ]
  },
  {
   "cell_type": "markdown",
   "id": "f919f8db-d147-48d0-8b4c-feb5230498b0",
   "metadata": {},
   "source": [
    "Input 5 numbers from the user, if the user enters a negative number then donnot count it. Also do not add it to the total sum."
   ]
  },
  {
   "cell_type": "code",
   "execution_count": 6,
   "id": "7634db73-46c7-46d0-ab00-18d4b201530a",
   "metadata": {},
   "outputs": [
    {
     "name": "stdout",
     "output_type": "stream",
     "text": [
      "Enter number 9\n",
      "Enter number 8\n",
      "Enter number -1\n",
      "Enter number 8\n",
      "Enter number -100\n",
      "Enter number 1\n",
      "Enter number -8\n",
      "Enter number 5\n"
     ]
    },
    {
     "name": "stdout",
     "output_type": "stream",
     "text": [
      "Total = 31\n"
     ]
    }
   ],
   "source": [
    "i = 0\n",
    "total = 0\n",
    "while i < 5:\n",
    "    num = int(input(\"Enter number\"))\n",
    "    if num < 0:\n",
    "        continue\n",
    "    total = total + num\n",
    "    i += 1\n",
    "print(\"Total =\",total)"
   ]
  }
 ],
 "metadata": {
  "kernelspec": {
   "display_name": "Python 3 (ipykernel)",
   "language": "python",
   "name": "python3"
  },
  "language_info": {
   "codemirror_mode": {
    "name": "ipython",
    "version": 3
   },
   "file_extension": ".py",
   "mimetype": "text/x-python",
   "name": "python",
   "nbconvert_exporter": "python",
   "pygments_lexer": "ipython3",
   "version": "3.12.5"
  }
 },
 "nbformat": 4,
 "nbformat_minor": 5
}
