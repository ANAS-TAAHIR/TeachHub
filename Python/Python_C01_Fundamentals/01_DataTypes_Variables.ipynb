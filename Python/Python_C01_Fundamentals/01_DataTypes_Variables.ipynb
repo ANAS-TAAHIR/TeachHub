{
 "cells": [
  {
   "cell_type": "markdown",
   "id": "29446eeb-5970-44cc-bed7-0ac11e04a87c",
   "metadata": {},
   "source": [
    "# Introduction\n",
    "- print()\n",
    "- comments\n",
    "- input()\n",
    "- variables"
   ]
  },
  {
   "cell_type": "markdown",
   "id": "bbf44106-42dc-48b3-94bf-11c7296c02ed",
   "metadata": {},
   "source": [
    "---\n",
    "# print()\n",
    "`print()` is used for displaying data on the screen. We will see how to use it in the following examples."
   ]
  },
  {
   "cell_type": "code",
   "execution_count": null,
   "id": "3121bab5-1070-49d8-b15b-fe3ee3c361bc",
   "metadata": {},
   "outputs": [],
   "source": [
    "print(\"Hello, I am Python. How are you :)\")"
   ]
  },
  {
   "cell_type": "markdown",
   "id": "29eca17b",
   "metadata": {},
   "source": [
    "Printing multiple things using print"
   ]
  },
  {
   "cell_type": "code",
   "execution_count": null,
   "id": "febf0bde-168a-4ee8-a602-ce2e0f6b7d10",
   "metadata": {},
   "outputs": [],
   "source": [
    "print(\"Welcome to amazing world of Python\", \"I am learning Python.\")"
   ]
  },
  {
   "cell_type": "markdown",
   "id": "39613ba9",
   "metadata": {},
   "source": [
    "Similarly, you can print differnt types of data as well"
   ]
  },
  {
   "cell_type": "code",
   "execution_count": null,
   "id": "dcbedf30-7485-4007-95e6-a8177d046f0b",
   "metadata": {},
   "outputs": [],
   "source": [
    "print(10, 5.5, \"Python\", True)"
   ]
  },
  {
   "cell_type": "markdown",
   "id": "369dacda",
   "metadata": {},
   "source": [
    "---\n",
    "# Comments\n",
    "Comments are the lines in your code that does not run. They are just simple messages that we place in our code to understand it for some later time. You can use the them to take notes, try different things while running multiple portions inside your code.\n",
    "\n",
    "We use `#` (hash) symbol before a line to write a comment. If you dont put `#` then Python will treat it as code and you might get errors."
   ]
  },
  {
   "cell_type": "code",
   "execution_count": null,
   "id": "f68e3b99",
   "metadata": {},
   "outputs": [],
   "source": [
    "# print is used to display things on the screen\n",
    "print(12)"
   ]
  },
  {
   "cell_type": "code",
   "execution_count": null,
   "id": "51458f79",
   "metadata": {},
   "outputs": [],
   "source": [
    "print(34, \"Zubair\", \"Student\")\n",
    "# print can display multiple things.\n",
    "# We can use comma to separate them."
   ]
  },
  {
   "cell_type": "markdown",
   "id": "246d133d-d9e6-4bd0-b79c-be61ed32e53c",
   "metadata": {},
   "source": [
    "---\n",
    "# input()\n",
    "The `input()`  in Python is used to receive user input from the keyboard, allowing you to interact with and gather data from the user during program execution.\n",
    "\n",
    "This is the simplest way of getting input from user. You can enter your data whatever you like and at the end, hit enter."
   ]
  },
  {
   "cell_type": "code",
   "execution_count": null,
   "id": "6f5b0d16",
   "metadata": {},
   "outputs": [],
   "source": [
    "input()"
   ]
  },
  {
   "cell_type": "markdown",
   "id": "977348f6",
   "metadata": {},
   "source": [
    "You can guide user by writing some message while taking input from the user to help him/her."
   ]
  },
  {
   "cell_type": "code",
   "execution_count": null,
   "id": "22bac08e",
   "metadata": {},
   "outputs": [],
   "source": [
    "input(\"Please your name:\")"
   ]
  },
  {
   "cell_type": "code",
   "execution_count": null,
   "id": "f205e139",
   "metadata": {},
   "outputs": [],
   "source": [
    "# You can also print the data stored in a variable\n",
    "print(name)"
   ]
  },
  {
   "cell_type": "code",
   "execution_count": null,
   "id": "7915017f",
   "metadata": {},
   "outputs": [],
   "source": [
    "# You can also get input from the user and store it in a variable. Then you can print the variable to display the data\n",
    "country = input(\"What is your country? \")\n",
    "print(\"The country name you entered is\", country)"
   ]
  },
  {
   "cell_type": "markdown",
   "id": "cb28caea-41d3-4e41-affe-feca9a178382",
   "metadata": {},
   "source": [
    "# Variables"
   ]
  },
  {
   "cell_type": "markdown",
   "id": "6d0b154f-9daf-4146-8c44-9600ed4dd76d",
   "metadata": {},
   "source": [
    "Variables are containers that store our data and we can get our data by that variable whenever we want."
   ]
  },
  {
   "cell_type": "code",
   "execution_count": null,
   "id": "33871925-1583-4562-af47-5da410fbef5e",
   "metadata": {},
   "outputs": [],
   "source": [
    "age = 34\n",
    "print(age)"
   ]
  },
  {
   "cell_type": "code",
   "execution_count": null,
   "id": "564de837",
   "metadata": {},
   "outputs": [],
   "source": [
    "name = input(\"Enter your name: \")\n",
    "print(\"Your name is\", name)\n",
    "print(\"Your age is\",age)"
   ]
  },
  {
   "cell_type": "code",
   "execution_count": null,
   "id": "d66ce98e",
   "metadata": {},
   "outputs": [],
   "source": [
    "country = input(\"What is your country name: \")\n",
    "print(\"Your country is\",country)"
   ]
  },
  {
   "cell_type": "markdown",
   "id": "e82479dd-30b2-4042-964c-a266d56e7e01",
   "metadata": {},
   "source": [
    "#### Following are the rules for variables. Don't worry if you can't keep all of them in mind. Just read them and go on."
   ]
  },
  {
   "cell_type": "raw",
   "id": "8654ec60-2d7d-40fe-9c36-0b6c8eb9895e",
   "metadata": {},
   "source": [
    "1. Variable names must start with a letter (a-z, A-Z) or an underscore (_).\n",
    "Valid: my_variable, _private_var\n",
    "Invalid: 123abc, @special_var\n",
    "\n",
    "2. Variable names can only contain letters, numbers, and underscores.\n",
    "Valid: my_var_123, user_name\n",
    "Invalid: my-var, user@name\n",
    "\n",
    "3. Variable names are case-sensitive.\n",
    "my_var and my_Var are considered different variables.\n",
    "\n",
    "4. Avoid using Python reserved keywords as variable names.\n",
    "Keywords like if, for, while, True, False, and others have specific meanings in Python and cannot be used as variable names.\n",
    "\n",
    "5. Use lowercase letters and underscores for variable names (snake_case) for better readability.\n",
    "Example: word_count, average_scoreword_c.\n",
    "\n",
    "Example: _, _unused_var"
   ]
  },
  {
   "cell_type": "markdown",
   "id": "c7134efe-6744-429c-8b4a-b8c28c14721f",
   "metadata": {},
   "source": [
    "### 4. Data Types"
   ]
  },
  {
   "cell_type": "markdown",
   "id": "221e7945-9d97-4c27-aa64-f9b5d50358a6",
   "metadata": {},
   "source": [
    "Data types are containers that have different types of data that you can use in your program. You can varify \n",
    "the type of the data by using the `type()` function."
   ]
  },
  {
   "cell_type": "markdown",
   "id": "d8ede9a2-34ca-45c4-b120-16490d804cbc",
   "metadata": {},
   "source": [
    "There are many data types, but for now, I am mentioning the basic and useful ones.\n",
    "1. Integers `int` are complete numbers that can be positive or negative like 1, -432, 23, 4332 etc. There will be no decimal point in the numbers.\n",
    "2. Floats `float` are the decimal point numbers that can also be positive or negative like 34.910, -213.435 etc\n",
    "3. Strings `str` are the texts, sentences, or words. You can write strings inside single or double quotes. (There are triple quotes as well but we will cover them later.)\n",
    "4.  Boolean `bool` is either `True` or `False`. These are really helpful in decision-making based on True or False values.\n",
    "\n",
    "There are some other data types as well but we will cover them deeply later on. \n",
    "- `list`  \n",
    "- `set`  \n",
    "- `dict`  \n",
    "- `tuple`  "
   ]
  },
  {
   "cell_type": "code",
   "execution_count": null,
   "id": "06c3d643-5645-4192-bb29-2209388046cb",
   "metadata": {},
   "outputs": [],
   "source": [
    "var1 = 34         # int\n",
    "var2 = -34.3232   # float\n",
    "var3 = \"Python\"   # str\n",
    "var4 = False      # bool"
   ]
  },
  {
   "cell_type": "markdown",
   "id": "939be7dc",
   "metadata": {},
   "source": [
    "You can verify the type as well using the type function."
   ]
  },
  {
   "cell_type": "code",
   "execution_count": null,
   "id": "34c44f5c-70e4-482c-9606-42f5bb15f989",
   "metadata": {},
   "outputs": [],
   "source": [
    "print(type(var3))\n",
    "print(type(var4))"
   ]
  }
 ],
 "metadata": {
  "kernelspec": {
   "display_name": "Python 3 (ipykernel)",
   "language": "python",
   "name": "python3"
  },
  "language_info": {
   "codemirror_mode": {
    "name": "ipython",
    "version": 3
   },
   "file_extension": ".py",
   "mimetype": "text/x-python",
   "name": "python",
   "nbconvert_exporter": "python",
   "pygments_lexer": "ipython3",
   "version": "3.12.5"
  }
 },
 "nbformat": 4,
 "nbformat_minor": 5
}
