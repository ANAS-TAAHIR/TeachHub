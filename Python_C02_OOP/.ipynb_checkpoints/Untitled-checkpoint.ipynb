{
 "cells": [
  {
   "cell_type": "markdown",
   "id": "f107d747-c72e-4fdf-aa7e-5e578a41cd83",
   "metadata": {},
   "source": [
    "# Object Oriented Programming\n",
    "Welcome to our second course of **Python: Object Oriented Programming**"
   ]
  },
  {
   "cell_type": "code",
   "execution_count": null,
   "id": "89844931-eec7-4304-912e-d2d11c04321d",
   "metadata": {},
   "outputs": [],
   "source": []
  }
 ],
 "metadata": {
  "kernelspec": {
   "display_name": "Python 3 (ipykernel)",
   "language": "python",
   "name": "python3"
  },
  "language_info": {
   "codemirror_mode": {
    "name": "ipython",
    "version": 3
   },
   "file_extension": ".py",
   "mimetype": "text/x-python",
   "name": "python",
   "nbconvert_exporter": "python",
   "pygments_lexer": "ipython3",
   "version": "3.11.3"
  }
 },
 "nbformat": 4,
 "nbformat_minor": 5
}
