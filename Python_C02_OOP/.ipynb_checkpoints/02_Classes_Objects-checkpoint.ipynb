{
 "cells": [
  {
   "cell_type": "code",
   "execution_count": null,
   "id": "6ae67293-b559-4f27-98d5-0631148b7425",
   "metadata": {},
   "outputs": [],
   "source": [
    "# Students with names, Zubair, Asad, Ahmad\n",
    "student1 = \"Zubair\"\n",
    "student2 = \"Asad\"\n",
    "student3 = \"Ahmad\""
   ]
  },
  {
   "cell_type": "code",
   "execution_count": null,
   "id": "0026c8bd-6d5e-4628-82ee-085d87cc2cb9",
   "metadata": {},
   "outputs": [],
   "source": [
    "# Students with multiple things: name, roll, marks, major\n",
    "student1 = {'name': 'Zubair', 'roll no': 341, 'marks': 87}\n",
    "student2 = {'name': 'Ahmad', 'roll no': 342, 'marks': 90}\n",
    "student3 = {'name': 'Ali', 'roll no': 343, 'marks': 78}\n",
    "student4 = {'name': 'Omar', 'roll no': 344, 'marks': 95}\n",
    "student5 = {'name': 'Khalid', 'roll no': 345, 'marks': 88}\n",
    "student6 = {'name': 'Hassan', 'roll no': 346, 'marks': 92}\n",
    "student7 = {'name': 'Mustafa', 'roll no': 347, 'marks': 85}\n",
    "student8 = {'name': 'Sami', 'roll no': 348, 'marks': 89}\n",
    "student9 = {'name': 'Yusuf', 'roll no': 349, 'marks': 91}\n",
    "student10 = {'name': 'Ibrahim', 'roll no': 350, 'marks': 82}"
   ]
  },
  {
   "cell_type": "code",
   "execution_count": null,
   "id": "8c620218-ae21-4738-b9da-3e0608450edc",
   "metadata": {},
   "outputs": [],
   "source": [
    "student1 = {'name': 'Zubair', 'roll no': 341, 'marks': 87, 'major': 'Computer Science', 'study_year': 1, 'attendance': 0, 'grade': None, 'subjects': [], 'is_active': True}\n",
    "student2 = {'name': 'Ahmad', 'roll no': 342, 'marks': 90, 'major': 'Physics', 'study_year': 2, 'attendance': 0, 'grade': None, 'subjects': [], 'is_active': True}\n",
    "student3 = {'name': 'Ali', 'roll no': 343, 'marks': 78, 'major': 'Biology', 'study_year': 1, 'attendance': 0, 'grade': None, 'subjects': [], 'is_active': True}\n",
    "student4 = {'name': 'Omar', 'roll no': 344, 'marks': 95, 'major': 'Mathematics', 'study_year': 4, 'attendance': 0, 'grade': None, 'subjects': [], 'is_active': True}\n",
    "student5 = {'name': 'Khalid', 'roll no': 345, 'marks': 88, 'major': 'Chemistry', 'study_year': 3, 'attendance': 0, 'grade': None, 'subjects': [], 'is_active': True}\n",
    "student6 = {'name': 'Hassan', 'roll no': 346, 'marks': 92, 'major': 'Engineering', 'study_year': 1, 'attendance': 0, 'grade': None, 'subjects': [], 'is_active': True}\n",
    "student7 = {'name': 'Mustafa', 'roll no': 347, 'marks': 85, 'major': 'Psychology', 'study_year': 3, 'attendance': 0, 'grade': None, 'subjects': [], 'is_active': True}\n",
    "student8 = {'name': 'Sami', 'roll no': 348, 'marks': 89, 'major': 'History', 'study_year': 2, 'attendance': 0, 'grade': None, 'subjects': [], 'is_active': True}\n",
    "student9 = {'name': 'Yusuf', 'roll no': 349, 'marks': 91, 'major': 'Political Science', 'study_year': 2, 'attendance': 0, 'grade': None, 'subjects': [], 'is_active': False}\n",
    "student10 = {'name': 'Ibrahim', 'roll no': 350, 'marks': 82, 'major': 'Economics', 'study_year': 1, 'attendance': 0, 'grade': None, 'subjects': [], 'is_active': True}"
   ]
  },
  {
   "cell_type": "code",
   "execution_count": null,
   "id": "2bf7a6c1-3a04-4a95-b636-2039a7bc5fca",
   "metadata": {},
   "outputs": [],
   "source": [
    "print(student1)\n",
    "print(student2)\n",
    "print(student3)\n",
    "print(student4)\n",
    "print(student5)\n",
    "print(student6)\n",
    "print(student7)\n",
    "print(student8)\n",
    "print(student9)\n",
    "print(student10)"
   ]
  },
  {
   "cell_type": "code",
   "execution_count": null,
   "id": "16bcd583-0524-484e-9ef9-75cd37acfc3b",
   "metadata": {},
   "outputs": [],
   "source": [
    "# But instead of this, we can create a student class to better organize our code\n",
    "class Student:\n",
    "    def __init__(self, name, roll_number, marks, study_year):\n",
    "        self.name = name\n",
    "        self.roll_number = roll_number\n",
    "        self.study_year = 1\n",
    "        self.marks = marks\n",
    "        self.attendance = 0\n",
    "        self.grade = None\n",
    "        self.subjects = []\n",
    "        self.is_active = True  # Flag to indicate whether the student is currently enrolled or passed out\n",
    "    def __repr__(self):\n",
    "        return f\"{self.roll_number}: {self.name}\""
   ]
  },
  {
   "cell_type": "code",
   "execution_count": null,
   "id": "4f864b95-f3b2-4c7d-bf3f-7cf1b1b66c40",
   "metadata": {},
   "outputs": [],
   "source": [
    "student1 = Student('Zubair', 341, 87, 1)\n",
    "student2 = Student('Ahmad', 342, 90, 2)\n",
    "student3 = Student('Ali', 343, 78, 1)\n",
    "student4 = Student('Omar', 344, 95, 4)\n",
    "student5 = Student('Khalid', 345, 88, 3)\n",
    "student6 = Student('Hassan', 346, 92, 1)\n",
    "student7 = Student('Mustafa', 347, 85, 3)\n",
    "student8 = Student('Sami', 348, 89, 2)\n",
    "student9 = Student('Yusuf', 349, 91, 2)\n",
    "student10 = Student('Ibrahim', 350, 82, 1)"
   ]
  },
  {
   "cell_type": "code",
   "execution_count": null,
   "id": "e1161354-3f47-47d2-8c49-7ce0904c2384",
   "metadata": {},
   "outputs": [],
   "source": [
    "print(student1)\n",
    "print(student2)\n",
    "print(student3)\n",
    "print(student4)\n",
    "print(student5)\n",
    "print(student6)\n",
    "print(student7)\n",
    "print(student8)\n",
    "print(student9)\n",
    "print(student10)"
   ]
  },
  {
   "cell_type": "markdown",
   "id": "4c565c05-4889-4717-b5fd-0f0842a36808",
   "metadata": {},
   "source": [
    "Implement rectangle class having lenght and width attributes and have a method of get area that will give area of rectangle."
   ]
  },
  {
   "cell_type": "code",
   "execution_count": null,
   "id": "91e4ac2d-bb5e-41b3-9c47-0d119471d905",
   "metadata": {},
   "outputs": [],
   "source": []
  },
  {
   "cell_type": "markdown",
   "id": "43a583a2-1fe5-4f59-aa57-479cd81cf712",
   "metadata": {},
   "source": [
    "Implement Complex number class. It will have 2 attributes real and imaginary (complex). Implement these attributes as well, addition, subtraction, multiplication and conjogate."
   ]
  },
  {
   "cell_type": "code",
   "execution_count": null,
   "id": "6f40cfd3-2c4a-4380-a588-276b1facbe19",
   "metadata": {},
   "outputs": [],
   "source": []
  },
  {
   "cell_type": "code",
   "execution_count": null,
   "id": "f09c2324-5af4-4bff-bb8f-9ea2d2c54c03",
   "metadata": {},
   "outputs": [],
   "source": []
  }
 ],
 "metadata": {
  "kernelspec": {
   "display_name": "Python 3 (ipykernel)",
   "language": "python",
   "name": "python3"
  },
  "language_info": {
   "codemirror_mode": {
    "name": "ipython",
    "version": 3
   },
   "file_extension": ".py",
   "mimetype": "text/x-python",
   "name": "python",
   "nbconvert_exporter": "python",
   "pygments_lexer": "ipython3",
   "version": "3.11.3"
  }
 },
 "nbformat": 4,
 "nbformat_minor": 5
}
