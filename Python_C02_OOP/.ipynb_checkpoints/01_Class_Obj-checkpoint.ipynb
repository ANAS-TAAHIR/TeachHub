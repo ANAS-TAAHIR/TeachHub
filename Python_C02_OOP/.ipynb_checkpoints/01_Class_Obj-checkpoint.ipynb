{
 "cells": [
  {
   "cell_type": "markdown",
   "id": "f107d747-c72e-4fdf-aa7e-5e578a41cd83",
   "metadata": {},
   "source": [
    "# Object Oriented Programming\n",
    "Welcome to our second course of **Python: Object Oriented Programming**\n",
    "In this introductory session, we'll explore the basics of this popular programming paradigm and understand why it's crucial for software development.\n",
    "\n",
    "## What is OOP?\n",
    "Object-oriented programming (OOP) is a way of organizing code into classes and objects. The objects represent real-world entities (like cars, people, or accounts) and we enclose both data (the attributes) and behavior (the methods) associated with them into a class.\n",
    "\n",
    "## Why OOP is useful?\n",
    "We were using Procedueral Programming till now. Procedural programming is about writing procedures or functions that perform operations on the data, while object-oriented programming is about creating objects that contain both data and methods/functions.\n",
    "\n",
    "Object-oriented programming has several advantages over procedural programming:\n",
    "\n",
    "<li>OOP is faster and easier to execute</li>  \n",
    "<li>OOP provides a clear structure for the programs</li>  \n",
    "<li>OOP helps to keep the Java code DRY \"Don't Repeat Yourself\", and makes the code easier to maintain, modify and debug</li>  \n",
    "<li>OOP makes it possible to create full reusable applications with less code and shorter development time</li>  "
   ]
  },
  {
   "cell_type": "markdown",
   "id": "6e852d38",
   "metadata": {},
   "source": [
    "## Class and Objects\n",
    "#### Class:\n",
    "A class contains the blueprints or the prototype from which the objects are being created. It is a logical entity that contains some attributes and methods.   \n",
    "\n",
    "#### Object:\n",
    "An object is any entity that has attributes and behaviors. For example, a `car` is an object. It has  \n",
    "**attributes** - make, model, color, etc.  \n",
    "**behavior** - start, stop, etc.  "
   ]
  },
  {
   "cell_type": "markdown",
   "id": "0b0e0719",
   "metadata": {},
   "source": [
    "## Structure of a Class"
   ]
  },
  {
   "cell_type": "raw",
   "id": "ffc389d2-3681-48b5-bb41-2308d5b8ebe6",
   "metadata": {},
   "source": [
    "class ClassName:\n",
    "   # Statement-1\n",
    "   .\n",
    "   .\n",
    "   .\n",
    "   # Statement-N"
   ]
  },
  {
   "cell_type": "markdown",
   "id": "0b4c11ce-d74e-484e-a1ad-ac4c74f79e9b",
   "metadata": {},
   "source": [
    "Let's create a class now."
   ]
  },
  {
   "cell_type": "code",
   "execution_count": null,
   "id": "89844931-eec7-4304-912e-d2d11c04321d",
   "metadata": {},
   "outputs": [],
   "source": [
    "class Car:\n",
    "    def __init__(self, make, model, color, year):\n",
    "        self.make = make\n",
    "        self.model = model\n",
    "        self.year = year\n",
    "        self.color = color\n",
    "\n",
    "my_car = Car(\"Toyota\",\"Camry\",\"Blue\",2022)\n",
    "print(my_car)"
   ]
  }
 ],
 "metadata": {
  "kernelspec": {
   "display_name": "Python 3 (ipykernel)",
   "language": "python",
   "name": "python3"
  },
  "language_info": {
   "codemirror_mode": {
    "name": "ipython",
    "version": 3
   },
   "file_extension": ".py",
   "mimetype": "text/x-python",
   "name": "python",
   "nbconvert_exporter": "python",
   "pygments_lexer": "ipython3",
   "version": "3.11.3"
  }
 },
 "nbformat": 4,
 "nbformat_minor": 5
}
