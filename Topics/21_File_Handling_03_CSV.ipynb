{
 "cells": [
  {
   "cell_type": "markdown",
   "id": "d21d41aa-7479-4023-89c0-74e100e3df5e",
   "metadata": {},
   "source": [
    "# File Handling (Part 03) - CSV files"
   ]
  },
  {
   "attachments": {},
   "cell_type": "markdown",
   "id": "05ba384a-5da8-4eab-9c0f-7c32079ce0ce",
   "metadata": {},
   "source": [
    "## What is CSV? \n",
    "CSV (Comma Separated Values) is a simple file format used to store tabular data, such as a spreadsheet or database. CSV files contain data in a structured way such that each item or attribute is separated by a comma, and each record is on a new line of the file. You can simply write them in a text editor but write the extension `.csv` instead of `.txt`. For example:\n"
   ]
  },
  {
   "cell_type": "raw",
   "id": "4fde00d4-961d-486b-8c03-c7b72050cfdf",
   "metadata": {},
   "source": [
    "Player name, Player score\n",
    "DinoFish,0\n",
    "SharkDragon,2\n",
    "TeaDrinker,8"
   ]
  },
  {
   "cell_type": "markdown",
   "id": "ec1aa244-6d9a-4533-a7fa-6a5b27cdc92f",
   "metadata": {},
   "source": [
    "If you open a csv file in a text editor like notepad etc, then you will see the data like in the above cell. But you can open a csv file in MS Excel as well and it will show you in a proper format."
   ]
  },
  {
   "cell_type": "markdown",
   "id": "beddb1cc-337e-4be0-a2eb-f766bcdbed54",
   "metadata": {},
   "source": [
    "### Working with CSVs"
   ]
  },
  {
   "cell_type": "code",
   "execution_count": null,
   "id": "1696dc56-2d2f-4dfa-aa4d-ba24501ae5bb",
   "metadata": {},
   "outputs": [],
   "source": []
  }
 ],
 "metadata": {
  "kernelspec": {
   "display_name": "Python 3 (ipykernel)",
   "language": "python",
   "name": "python3"
  },
  "language_info": {
   "codemirror_mode": {
    "name": "ipython",
    "version": 3
   },
   "file_extension": ".py",
   "mimetype": "text/x-python",
   "name": "python",
   "nbconvert_exporter": "python",
   "pygments_lexer": "ipython3",
   "version": "3.11.3"
  }
 },
 "nbformat": 4,
 "nbformat_minor": 5
}
