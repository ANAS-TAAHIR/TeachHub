{
 "cells": [
  {
   "cell_type": "markdown",
   "id": "1a38c607-7370-4a2a-ab56-95ea8f13fc59",
   "metadata": {},
   "source": [
    "## Topics to cover\n",
    "1. readline()\n",
    "2. tell()\n",
    "3. seek()"
   ]
  },
  {
   "cell_type": "code",
   "execution_count": 1,
   "id": "ad626592-fc63-41f0-aa20-7070c08839b6",
   "metadata": {},
   "outputs": [],
   "source": [
    "file = open(\"20_file01.txt\",'w')\n",
    "file.write(\"This is just a content and we are\\n\")\n",
    "file.write(\"going to cover it now.\")\n",
    "file.close()"
   ]
  },
  {
   "cell_type": "markdown",
   "id": "2c687bea-bcfa-45eb-aa22-23b23179bb30",
   "metadata": {},
   "source": [
    "`readline()` will just read that line where your cursor pointer is. You can also pass the number of characters in a line"
   ]
  },
  {
   "cell_type": "code",
   "execution_count": 15,
   "id": "4985c44e-453e-4c65-8787-01a226ff1fcb",
   "metadata": {},
   "outputs": [
    {
     "name": "stdout",
     "output_type": "stream",
     "text": [
      "This is just a content and we are\n",
      "\n",
      "going to cover it now.\n"
     ]
    }
   ],
   "source": [
    "file = open(\"20_file01.txt\")\n",
    "data1 = file.readline(100)\n",
    "print(data1)\n",
    "data1 = file.readline(100)\n",
    "print(data1)\n",
    "file.close()"
   ]
  },
  {
   "cell_type": "code",
   "execution_count": null,
   "id": "9f210366-26c2-43ba-b20b-df9097cd5c72",
   "metadata": {},
   "outputs": [],
   "source": [
    "``"
   ]
  },
  {
   "cell_type": "code",
   "execution_count": 12,
   "id": "3ff5d198-8188-45c6-ba23-b2becc23cfc3",
   "metadata": {},
   "outputs": [
    {
     "name": "stdout",
     "output_type": "stream",
     "text": [
      "['s is just a content and we are\\n', 'going to cover it now.']\n"
     ]
    }
   ],
   "source": [
    "file = open(\"20_file01.txt\")\n",
    "file.read(3)\n",
    "data2 = file.readlines(100)\n",
    "print(data2)\n",
    "file.close()"
   ]
  },
  {
   "cell_type": "markdown",
   "id": "587a3df1-e0af-4d72-80d7-6ebd3eec2c40",
   "metadata": {},
   "source": []
  }
 ],
 "metadata": {
  "kernelspec": {
   "display_name": "Python 3 (ipykernel)",
   "language": "python",
   "name": "python3"
  },
  "language_info": {
   "codemirror_mode": {
    "name": "ipython",
    "version": 3
   },
   "file_extension": ".py",
   "mimetype": "text/x-python",
   "name": "python",
   "nbconvert_exporter": "python",
   "pygments_lexer": "ipython3",
   "version": "3.11.3"
  }
 },
 "nbformat": 4,
 "nbformat_minor": 5
}
