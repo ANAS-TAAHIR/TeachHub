{
 "cells": [
  {
   "cell_type": "markdown",
   "id": "77a8dfdb-77c8-40c8-b113-7b526d147fef",
   "metadata": {},
   "source": [
    "# Function\n",
    "A function in Python is a reusable piece of code used to perform a specific task. It can take parameters as input and may return a value as output. If you write functions in your code then, it will:  \n",
    "1. Organize your code\n",
    "2. You can reuse your code\n",
    "3. You can find bugs in your code quickly\n",
    "It is not necessary to write functions in your programm but writting them will help you a lot. Writting functions in our program is called `Procedural Programming`."
   ]
  },
  {
   "cell_type": "markdown",
   "id": "e4c9e644-6e9b-498c-a6fa-f95ec82332e1",
   "metadata": {},
   "source": [
    "#### Syntax of Function"
   ]
  },
  {
   "cell_type": "raw",
   "id": "7a761668-dec1-41e4-a104-056f959a03e6",
   "metadata": {},
   "source": [
    "def function_name(parameter1, parameter2):\n",
    "    statement 1\n",
    "    statement 2\n",
    "    statement 3"
   ]
  },
  {
   "cell_type": "code",
   "execution_count": null,
   "id": "0833e054-95ea-45b3-a25c-aa76e50aba57",
   "metadata": {},
   "outputs": [],
   "source": [
    "# You want to show a greeting message to someone!\n",
    "message1 = \"Hello Zubair! Welcome to the world of Python. Get ready to unlock the power of programming with Python!\"\n",
    "message2 = \"Hello Zubair! Welcome to the world of Java. Get ready to unlock the power of programming with Java!\"\n",
    "message3 = \"Hello Yura! Welcome to the world of Python. Get ready to unlock the power of programming with Python!\"\n",
    "message4 = \"Hello Yura! Welcome to the world of Java. Get ready to unlock the power of programming with Java!\"\n",
    "print(message2)\n"
   ]
  },
  {
   "cell_type": "code",
   "execution_count": null,
   "id": "17250d81-3d6a-4b8c-a14a-a9b0678e62af",
   "metadata": {},
   "outputs": [],
   "source": [
    "# def greetings():\n",
    "#     print(\"Hello there\")"
   ]
  },
  {
   "cell_type": "code",
   "execution_count": null,
   "id": "625c69e6-5ed0-4810-85e8-f7efc6501b15",
   "metadata": {},
   "outputs": [],
   "source": [
    "# greetings()"
   ]
  },
  {
   "cell_type": "code",
   "execution_count": null,
   "id": "f71e00b5-0e0a-47b8-af6a-217c92b1736a",
   "metadata": {},
   "outputs": [],
   "source": [
    "def greetings(name,language):\n",
    "    message = \"Hello \"+ name +\"! Welcome to the world of \"+ language+\". Get ready to unlock the power of programming with \" +language+\"!\"\n",
    "    print(message)"
   ]
  },
  {
   "cell_type": "code",
   "execution_count": null,
   "id": "c1329be7-0f07-438c-ae99-ef08dc12cebf",
   "metadata": {},
   "outputs": [],
   "source": [
    "greetings('Yura','Python')"
   ]
  },
  {
   "cell_type": "code",
   "execution_count": null,
   "id": "5d1ad5c3-7afb-4da3-83bf-a333d9e1c54e",
   "metadata": {},
   "outputs": [],
   "source": [
    "# Get sum of numbers 3,4\n",
    "def total(num1,num2):\n",
    "    print(num1 + num2)\n",
    "\n",
    "total(91,1000)"
   ]
  },
  {
   "cell_type": "code",
   "execution_count": null,
   "id": "b7c2366b-800d-4303-bbb0-4ca65152ffa3",
   "metadata": {},
   "outputs": [],
   "source": [
    "# Get average of some numbers\n",
    "def avg(num1,num2,num3):\n",
    "    total = num1 + num2+ num3\n",
    "    avg = total / 3\n",
    "    print(avg)\n",
    "\n",
    "a = avg(56,89,46)\n",
    "print(a)"
   ]
  },
  {
   "cell_type": "code",
   "execution_count": null,
   "id": "2110dc3c-d513-45bf-967d-29ad6e57c1f6",
   "metadata": {},
   "outputs": [],
   "source": [
    "# Difference between return and print and what is None\n",
    "def avgerage(num1,num2,num3):\n",
    "    total = num1 + num2+ num3\n",
    "    avg = total / 3\n",
    "    return avg\n",
    "    \n",
    "a = avgerage(100,200,300) + 30\n",
    "print(a)"
   ]
  },
  {
   "cell_type": "code",
   "execution_count": null,
   "id": "7fada6b9-19ab-46a3-86ba-2ca16886c3b9",
   "metadata": {},
   "outputs": [],
   "source": [
    "# Use of functions\n",
    "def volume(radius):\n",
    "    v1 = 4/3\n",
    "    cube = radius ** 3\n",
    "    pi = 3.14\n",
    "    volume = round(v1 * pi * cube,2)\n",
    "    return volume\n",
    "\n",
    "radius = 3\n",
    "surface_area = volume(radius) * (3/radius)\n",
    "print(surface_area)"
   ]
  },
  {
   "cell_type": "markdown",
   "id": "3d88e7b5-b2fd-4e2f-8d12-0e90a70b90cf",
   "metadata": {},
   "source": [
    "### Positional and Keyword Arguments"
   ]
  },
  {
   "cell_type": "code",
   "execution_count": null,
   "id": "f72d8b7e-748c-4a4a-b6d5-7fb59543508c",
   "metadata": {},
   "outputs": [],
   "source": [
    "# Arguments are the things we pass to functions inside round brackets\n",
    "# Write a function that prints counting with a distance between numbers\n",
    "# start, end, step are arguments or parameter\n",
    "def counting(start,end,step=1):   # step is the optional parameter\n",
    "    i = start\n",
    "    while i <= end:\n",
    "        print(i,end=' ')\n",
    "        i = i + step\n",
    "\n",
    "counting(10,30)"
   ]
  },
  {
   "cell_type": "code",
   "execution_count": null,
   "id": "330d39b8-9b55-4116-a2fd-007e3686907f",
   "metadata": {},
   "outputs": [],
   "source": []
  }
 ],
 "metadata": {
  "kernelspec": {
   "display_name": "Python 3 (ipykernel)",
   "language": "python",
   "name": "python3"
  },
  "language_info": {
   "codemirror_mode": {
    "name": "ipython",
    "version": 3
   },
   "file_extension": ".py",
   "mimetype": "text/x-python",
   "name": "python",
   "nbconvert_exporter": "python",
   "pygments_lexer": "ipython3",
   "version": "3.11.3"
  }
 },
 "nbformat": 4,
 "nbformat_minor": 5
}
