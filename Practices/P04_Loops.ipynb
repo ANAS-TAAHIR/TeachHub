{
 "cells": [
  {
   "cell_type": "markdown",
   "id": "d88c8888-5d91-4988-9ffd-8dd5ac5a89f2",
   "metadata": {},
   "source": [
    "### Task 01.\n",
    "Write even numbers less than 100 in a single line"
   ]
  },
  {
   "cell_type": "code",
   "execution_count": 7,
   "id": "70a9c892-9654-4929-989d-36ae6231082d",
   "metadata": {},
   "outputs": [
    {
     "name": "stdout",
     "output_type": "stream",
     "text": [
      "0 2 4 6 8 10 12 14 16 18 20 22 24 26 28 30 32 34 36 38 40 42 44 46 48 50 52 54 56 58 60 62 64 66 68 70 72 74 76 78 "
     ]
    }
   ],
   "source": [
    "for i in range(0,80):\n",
    "    if i % 2 == 0:\n",
    "        print(i, end = ' ')"
   ]
  },
  {
   "cell_type": "markdown",
   "id": "1813ee57-b291-45aa-b4fa-4a93614225f9",
   "metadata": {},
   "source": [
    "### Task 02.\n",
    "Input starting and ending number from user. Print numbers between them.  \n",
    "__Sample Runs__:"
   ]
  },
  {
   "cell_type": "raw",
   "id": "e11d0ead-0ac7-4f4a-acbc-dc7c6de09267",
   "metadata": {},
   "source": [
    "Starting Number: 2\n",
    "Ending Number: 6\n",
    "2 3 4 5 6"
   ]
  },
  {
   "cell_type": "code",
   "execution_count": 10,
   "id": "1ec6bfdb-6d34-4a3d-9871-a7c99cf3da03",
   "metadata": {},
   "outputs": [
    {
     "name": "stdin",
     "output_type": "stream",
     "text": [
      "Starting Number:  453\n",
      "Ending Number:  800\n"
     ]
    },
    {
     "name": "stdout",
     "output_type": "stream",
     "text": [
      "453 454 455 456 457 458 459 460 461 462 463 464 465 466 467 468 469 470 471 472 473 474 475 476 477 478 479 480 481 482 483 484 485 486 487 488 489 490 491 492 493 494 495 496 497 498 499 500 501 502 503 504 505 506 507 508 509 510 511 512 513 514 515 516 517 518 519 520 521 522 523 524 525 526 527 528 529 530 531 532 533 534 535 536 537 538 539 540 541 542 543 544 545 546 547 548 549 550 551 552 553 554 555 556 557 558 559 560 561 562 563 564 565 566 567 568 569 570 571 572 573 574 575 576 577 578 579 580 581 582 583 584 585 586 587 588 589 590 591 592 593 594 595 596 597 598 599 600 601 602 603 604 605 606 607 608 609 610 611 612 613 614 615 616 617 618 619 620 621 622 623 624 625 626 627 628 629 630 631 632 633 634 635 636 637 638 639 640 641 642 643 644 645 646 647 648 649 650 651 652 653 654 655 656 657 658 659 660 661 662 663 664 665 666 667 668 669 670 671 672 673 674 675 676 677 678 679 680 681 682 683 684 685 686 687 688 689 690 691 692 693 694 695 696 697 698 699 700 701 702 703 704 705 706 707 708 709 710 711 712 713 714 715 716 717 718 719 720 721 722 723 724 725 726 727 728 729 730 731 732 733 734 735 736 737 738 739 740 741 742 743 744 745 746 747 748 749 750 751 752 753 754 755 756 757 758 759 760 761 762 763 764 765 766 767 768 769 770 771 772 773 774 775 776 777 778 779 780 781 782 783 784 785 786 787 788 789 790 791 792 793 794 795 796 797 798 799 800 "
     ]
    }
   ],
   "source": [
    "starting_number = int(input(\"Starting Number: \"))\n",
    "ending_number = int(input(\"Ending Number: \"))\n",
    "for num in range(starting_number,ending_number+1):\n",
    "    print(num, end=' ')"
   ]
  },
  {
   "cell_type": "markdown",
   "id": "fc11365c-2494-4fe6-83be-0d99978a9913",
   "metadata": {},
   "source": [
    "### Task 3. \n",
    "Input 5 numbers from user and print maximum number.  \n",
    "__Sample Runs__:"
   ]
  },
  {
   "cell_type": "raw",
   "id": "4187505d-eedf-4032-8010-6d67c9174275",
   "metadata": {},
   "source": [
    "Enter number: 2\n",
    "Enter number: 3\n",
    "Enter number: 1\n",
    "Enter number: 6\n",
    "Enter number: 5\n",
    "Max number: 6"
   ]
  },
  {
   "cell_type": "code",
   "execution_count": 11,
   "id": "8cac1ab1-d591-4c5c-81ae-4413832f386f",
   "metadata": {},
   "outputs": [
    {
     "name": "stdin",
     "output_type": "stream",
     "text": [
      "Enter number:  7\n",
      "Enter number:  1\n",
      "Enter number:  5\n",
      "Enter number:  8\n",
      "Enter number:  7\n"
     ]
    },
    {
     "name": "stdout",
     "output_type": "stream",
     "text": [
      "Max number:  8\n"
     ]
    }
   ],
   "source": [
    "maximum = 0\n",
    "for i in range(0,5):\n",
    "    num  = int(input(\"Enter number: \"))\n",
    "    if num > maximum:\n",
    "        maximum = num\n",
    "print(\"Max number: \",maximum)"
   ]
  },
  {
   "cell_type": "code",
   "execution_count": null,
   "id": "30da6b9c-cd44-4a61-a0d5-78a2fc748bd8",
   "metadata": {},
   "outputs": [],
   "source": []
  }
 ],
 "metadata": {
  "kernelspec": {
   "display_name": "Python 3 (ipykernel)",
   "language": "python",
   "name": "python3"
  },
  "language_info": {
   "codemirror_mode": {
    "name": "ipython",
    "version": 3
   },
   "file_extension": ".py",
   "mimetype": "text/x-python",
   "name": "python",
   "nbconvert_exporter": "python",
   "pygments_lexer": "ipython3",
   "version": "3.11.3"
  }
 },
 "nbformat": 4,
 "nbformat_minor": 5
}
