{
 "cells": [
  {
   "cell_type": "markdown",
   "metadata": {},
   "source": [
    "# SELECT, DELETE, UPDATE and ALTER"
   ]
  },
  {
   "cell_type": "markdown",
   "metadata": {},
   "source": [
    "## SELECT\n",
    "The SELECT statement is used to select data from a database.\n",
    "The data returned is stored in a result table.  \n",
    "`SELECT col1, col2, ... FROM table_name`  \n",
    "\n",
    "For example:\n",
    "``` sql\n",
    "SELECT product_name, price FROM products;\n",
    "```\n",
    "To select all the columns, we can write a `*` in place of column names.\n",
    "``` sql\n",
    "SELECT * FROM products;\n",
    "```"
   ]
  },
  {
   "cell_type": "markdown",
   "metadata": {},
   "source": [
    "## DELETE\n",
    "The DELETE statement is used to delete existing records in a table.  \n",
    "`DELETE FROM table_name WHERE condition;`  \n",
    "\n",
    "\n",
    "For example:\n",
    "``` sql\n",
    "DELETE FROM products WHERE id = 1;\n",
    "```\n",
    "**Note:** Be careful when deleting records in a table! If you omit the WHERE clause, all records in the table will be deleted!"
   ]
  },
  {
   "cell_type": "markdown",
   "metadata": {},
   "source": [
    "## UPDATE\n",
    "The UPDATE statement is used to modify the existing records in a table.  \n",
    "`UPDATE table_name\n",
    "SET column1 = value1, column2 = value2, ...\n",
    "WHERE condition;`\n",
    "\n",
    "For example:\n",
    "``` sql\n",
    "UPDATE products SET price = 100, quantity = 34 WHERE id = 1;\n",
    "```\n",
    "\n",
    "**NOTE:** If you omit the WHERE clause, all records in the table will be updated!"
   ]
  },
  {
   "cell_type": "markdown",
   "metadata": {},
   "source": [
    "## ALTER\n",
    "1. The ALTER statement is used to add, delete, or modify columns in an existing table.  \n",
    "`ALTER TABLE table_name ADD column_name datatype;`  \n",
    "`ALTER TABLE table_name DROP COLUMN column_name;`  \n",
    "`ALTER TABLE table_name MODIFY COLUMN column_name datatype;`  \n",
    "\n",
    "For example:  \n",
    "``` sql\n",
    "ALTER TABLE products ADD description VARCHAR(255);  \n",
    "ALTER TABLE products DROP COLUMN description;  \n",
    "ALTER TABLE products MODIFY COLUMN price INT;  \n",
    "```\n"
   ]
  },
  {
   "cell_type": "markdown",
   "metadata": {},
   "source": [
    "2. We can also use the ALTER statement to rename a table.  \n",
    "`ALTER TABLE table_name RENAME TO new_table_name;`  \n",
    "\n",
    "For example:  \n",
    "``` sql  \n",
    "ALTER TABLE products RENAME TO items;  \n",
    "```\n",
    "\n",
    "3. We can also use the ALTER statement to rename a column.  \n",
    "`ALTER TABLE table_name CHANGE old_column_name new_column_name datatype;`  \n",
    "\n",
    "For example:  \n",
    "``` sql\n",
    "ALTER TABLE products CHANGE price cost INT;\n",
    "```\n",
    "\n",
    "4. We can also use the ALTER statement to add or drop a primary or foreign key.  \n",
    "`ALTER TABLE table_name ADD PRIMARY KEY (column_name);`  \n",
    "`ALTER TABLE table_name DROP PRIMARY KEY;`  \n",
    "`ALTER TABLE table_name ADD FOREIGN KEY (column_name) REFERENCES other_table(column_name);`  \n",
    "`ALTER TABLE table_name DROP FOREIGN KEY fk_name;`  \n",
    "\n",
    "For example:  \n",
    "``` sql\n",
    "ALTER TABLE products ADD PRIMARY KEY (id);  \n",
    "ALTER TABLE products ADD FOREIGN KEY (category_id) REFERENCES categories(id);  \n",
    "```"
   ]
  }
 ],
 "metadata": {
  "language_info": {
   "name": "python"
  }
 },
 "nbformat": 4,
 "nbformat_minor": 2
}
