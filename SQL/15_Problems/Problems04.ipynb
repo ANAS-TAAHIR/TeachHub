{
 "cells": [
  {
   "cell_type": "markdown",
   "metadata": {},
   "source": [
    "# **Q 01**\n",
    "Find customers who visited but did not make any transactions along with their count.[Link](https://leetcode.com/problems/customer-who-visited-but-did-not-make-any-transactions/?envType=study-plan-v2&envId=top-sql-50)\n",
    "\n",
    "**Solution:**\n",
    "``` sql\n",
    "SELECT v.customer_id, COUNT(*) AS count_no_trans FROM Visits v\n",
    "LEFT JOIN Transactions t\n",
    "ON v.visit_id = t.visit_id\n",
    "WHERE t.transaction_id is NULL\n",
    "GROUP BY v.customer_id\n",
    "```\n",
    "<hr>"
   ]
  },
  {
   "cell_type": "markdown",
   "metadata": {},
   "source": [
    "# **Q 02**\n",
    "Finding the no. of times, the students appeared in the examination[Link](https://leetcode.com/problems/customer-who-visited-but-did-not-make-any-transactions/?envType=study-plan-v2&envId=top-sql-50)\n",
    "\n",
    "Handling of null values and CROSS JOIN.\n",
    "\n",
    "**Solution:**\n",
    "``` sql\n",
    "SELECT std.student_id, student_name, sbj.subject_name, COALESCE(COUNT(exm.subject_name), 0) as attended_exams  FROM students std\n",
    "CROSS JOIN Subjects sbj\n",
    "LEFT JOIN Examinations exm\n",
    "ON std.student_id = exm.student_id\n",
    "AND sbj.subject_name = exm.subject_name\n",
    "GROUP BY std.student_id, sbj.subject_name\n",
    "ORDER BY student_id, student_name, sbj.subject_name\n",
    "```\n",
    "\n",
    "Article related to COALESCE: [Link](https://www.datacamp.com/tutorial/coalesce-sql-function?utm_source=google&utm_medium=paid_search&utm_campaignid=19589720824&utm_adgroupid=157156376591&utm_device=c&utm_keyword=&utm_matchtype=&utm_network=g&utm_adpostion=&utm_creative=710011990469&utm_targetid=aud-2191467490030:dsa-2218886984820&utm_loc_interest_ms=&utm_loc_physical_ms=9060977&utm_content=&utm_campaign=230119_1-sea~dsa~tofu_2-b2c_3-row-p2_4-prc_5-na_6-na_7-le_8-pdsh-go_9-nb-e_10-na_11-na-fawaug24&gad_source=1&gclid=CjwKCAjwuMC2BhA7EiwAmJKRrI1uw6YeqSywQAYhB-VQZFoUcuIGiwJGBvu3HTRJU2GXltcu-0xQMxoCNIMQAvD_BwE)\n",
    "<hr>"
   ]
  },
  {
   "cell_type": "markdown",
   "metadata": {},
   "source": []
  }
 ],
 "metadata": {
  "language_info": {
   "name": "python"
  }
 },
 "nbformat": 4,
 "nbformat_minor": 2
}
