{
 "cells": [
  {
   "cell_type": "markdown",
   "metadata": {},
   "source": [
    "# Q 01\n",
    "Country and City. [Link](https://www.hackerrank.com/challenges/asian-population/problem?isFullScreen=true)\n",
    "\n",
    "``` sql\n",
    "\n",
    "\n",
    "```"
   ]
  },
  {
   "cell_type": "markdown",
   "metadata": {},
   "source": [
    "# Q 02  \n",
    "Continent wise population distribution\n",
    "[Link](https://www.hackerrank.com/challenges/average-population-of-each-continent/problem?isFullScreen=true)\n",
    "\n",
    "```sql\n",
    "SELECT cn.Continent, FLOOR(AVG(ct.population)) FROM Country cn\n",
    "JOIN City ct\n",
    "ON ct.countrycode = cn.code\n",
    "GROUP BY cn.Continent\n",
    "```"
   ]
  },
  {
   "cell_type": "markdown",
   "metadata": {},
   "source": []
  }
 ],
 "metadata": {
  "language_info": {
   "name": "python"
  }
 },
 "nbformat": 4,
 "nbformat_minor": 2
}
