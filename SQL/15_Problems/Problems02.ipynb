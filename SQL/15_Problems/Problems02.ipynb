{
 "cells": [
  {
   "cell_type": "markdown",
   "metadata": {},
   "source": [
    "# **Q 01**\n",
    "Find the sum of longitudes and latitudes rounded to 2 decimal places. [Link](https://www.hackerrank.com/challenges/weather-observation-station-2/problem?isFullScreen=true)\n",
    "\n",
    "**Solution:**\n",
    "``` sql\n",
    "SELECT round(sum(lat_n),2), round(sum(long_w),2) FROM Station;\n",
    "```\n",
    "<hr>"
   ]
  },
  {
   "cell_type": "markdown",
   "metadata": {},
   "source": [
    "# **Q 02**\n",
    "Finding the Manhattan distance between min and mix longitude and latitude points. [Link](https://www.hackerrank.com/challenges/weather-observation-station-18/problem?isFullScreen=true)\n",
    "\n",
    "Using the concept of variable in SQL.\n",
    "**Solution:**\n",
    "``` sql\n",
    "SET @a:= (SELECT min(lat_n) FROM station);\n",
    "SET @b:= (SELECT min(long_w) FROM station);\n",
    "SET @c:= (SELECT max(lat_n) FROM station);\n",
    "SET @d:= (SELECT max(long_w) FROM station);\n",
    "SELECT round(ABS((@a-@c) + (@b-@d)),4);\n",
    "```\n",
    "<hr>"
   ]
  },
  {
   "cell_type": "markdown",
   "metadata": {},
   "source": [
    "# **Q 03**\n",
    "Finding all the population of cities in Asia (city and continent tables) [Link](https://www.hackerrank.com/challenges/asian-population/problem?isFullScreen=true)\n",
    "\n",
    "**Solution:**\n",
    "``` sql\n",
    "SELECT SUM(ct.population) FROM city as ct\n",
    "JOIN country cn\n",
    "ON cn.code = ct.countrycode\n",
    "WHERE cn.continent = \"Asia\";\n",
    "```\n",
    "<hr>"
   ]
  },
  {
   "cell_type": "markdown",
   "metadata": {},
   "source": [
    "# **Q 04**\n",
    "Generating report of student with grades [Link](https://www.hackerrank.com/challenges/the-report/problem?isFullScreen=true)\n",
    "\n",
    "**Solution:**\n",
    "``` sql\n",
    "\n",
    "```\n",
    "<hr>"
   ]
  },
  {
   "cell_type": "markdown",
   "metadata": {},
   "source": []
  }
 ],
 "metadata": {
  "language_info": {
   "name": "python"
  }
 },
 "nbformat": 4,
 "nbformat_minor": 2
}
