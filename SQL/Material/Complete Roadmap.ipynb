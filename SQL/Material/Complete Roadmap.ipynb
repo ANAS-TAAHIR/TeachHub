{
 "cells": [
  {
   "cell_type": "markdown",
   "metadata": {},
   "source": [
    "## Theory\n",
    "  - Relational vs Non-Relational\n",
    "  - Tables, Fields and Records\n",
    "\n",
    "## MySQL\n",
    "  - Databases (create, select, drop, show, copy, rename)\n",
    "  - Tables (create, drop, show)\n",
    "  - Records (insert, select, update, delete)\n",
    "  - [Data types](https://www.w3schools.com/mysql/mysql_datatypes.asp)\n",
    "  - Filtering (where, like(wildcard), in, between, is null, is not null, and, or, not, exists, all, any, some)\n",
    "  - Sorting (order by) and Distinct\n",
    "  - More Queries (replace, insert into select)\n",
    "  - Keys (primary, foreign, unique)\n",
    "  - Constraints\n",
    "  - [Joins](https://www.javatpoint.com/mysql-join) (inner, left, right, full, self)\n",
    "  - Union, Union All, Intersect, Except\n",
    "  - Subqueries (nested queries)\n",
    "  - Aggregate functions (count, sum, avg, min, max) and CONCAT() \n",
    "  - Group by (having)\n",
    "  - Views\n",
    "  - [Variables](https://www.javatpoint.com/mysql-variables) \n",
    "  - Stored procedures\n",
    "  - Triggers\n",
    "  - Functions\n",
    "  - Control statements (if, case, loop, while, repeat)\n",
    "  - Transactions\n",
    "  - Events\n",
    "  - Indexes\n",
    "\n",
    "## Designing Databases\n",
    "  - Normalization (1NF, 2NF, 3NF, BCNF, 4NF, 5NF)\n",
    "  - ER Diagrams\n",
    "  \n",
    "\n"
   ]
  }
 ],
 "metadata": {
  "language_info": {
   "name": "python"
  }
 },
 "nbformat": 4,
 "nbformat_minor": 2
}
