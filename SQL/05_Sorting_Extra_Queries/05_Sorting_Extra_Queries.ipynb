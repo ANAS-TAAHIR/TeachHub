{
 "cells": [
  {
   "cell_type": "markdown",
   "metadata": {},
   "source": [
    "# **Sorting, Distinct, Insert into Select and REPLACE**"
   ]
  },
  {
   "cell_type": "markdown",
   "metadata": {},
   "source": [
    "## 1. ORDER BY - Sorting Data\n",
    "The ORDER BY clause is used to sort the result set by one or more columns. The sorting can be done in ascending (ASC) or descending (DESC) order.\n",
    "\n",
    "**Syntax:**\n",
    "\n",
    "``` sql\n",
    "SELECT column1, column2, ...\n",
    "FROM table_name\n",
    "ORDER BY column1 [ASC|DESC], column2 [ASC|DESC], ...;\n",
    "```"
   ]
  },
  {
   "cell_type": "markdown",
   "metadata": {},
   "source": [
    "### **Example** \n",
    "1. Sort the customers based on their city names in ascending order. \n",
    "2. Sort the orders based on total_amount.\n",
    "3. Sort the products based on quantity in descending order to get most stocked products.\n",
    "4. Sort the products based on price in descending order to get the most expensive products.\n"
   ]
  },
  {
   "cell_type": "markdown",
   "metadata": {},
   "source": [
    "### **Combining multiple columns in ORDER BY**\n",
    "You can sort the result set based on multiple columns. The result set is first sorted based on the first column specified in the ORDER BY clause, then the second column, and so on.\n",
    "\n",
    "### **Example**\n",
    "1. Sort the customers based on their city names in ascending order and then by their names in descending order.\n",
    "2. Sort the orders based on total_amount in descending order and then by order_date in ascending order.\n",
    "3. Get the top 10 most expensive products with lowest stocks to arrange their stock.\n",
    "4. Get all the suppliers from 'Millerland' sorted by their names.\n",
    "\n",
    "<hr>"
   ]
  },
  {
   "cell_type": "markdown",
   "metadata": {},
   "source": [
    "## 2. DISTINCT - Removing Duplicates\n",
    "The DISTINCT keyword is used to remove duplicates from the result set.\n",
    "\n",
    "**Syntax:**\n",
    "\n",
    "``` sql\n",
    "SELECT DISTINCT column1, column2, ...\n",
    "FROM table_name;\n",
    "```\n",
    "\n",
    "### **Example**\n",
    "1. Get all the unique cities from the customers table.\n",
    "2. Get all the unique product names from the products table.\n",
    "\n"
   ]
  },
  {
   "cell_type": "markdown",
   "metadata": {},
   "source": [
    "## 3. Insert Into Select\n",
    "This is used to select data from one table and put it into another without writing the manual queries for insertion.\n",
    "\n",
    "**Syntax:**\n",
    "\n",
    "``` sql\n",
    "INSERT INTO table2\n",
    "SELECT * FROM table1\n",
    "WHERE condition;\n",
    "```\n"
   ]
  },
  {
   "cell_type": "markdown",
   "metadata": {},
   "source": [
    "## 4. REPLACE INTO \n",
    "This is used to insert a row into a table if the row does not exist, or to replace the row if it already exists.\n",
    "\n",
    "**Syntax:**\n",
    "\n",
    "``` sql\n",
    "REPLACE INTO table_name (column1, column2, column3, ...)\n",
    "VALUES (value1, value2, value3, ...);\n",
    "```\n"
   ]
  },
  {
   "cell_type": "markdown",
   "metadata": {},
   "source": []
  }
 ],
 "metadata": {
  "language_info": {
   "name": "python"
  }
 },
 "nbformat": 4,
 "nbformat_minor": 2
}
