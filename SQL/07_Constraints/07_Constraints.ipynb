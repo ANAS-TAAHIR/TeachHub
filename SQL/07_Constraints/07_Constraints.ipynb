{
 "cells": [
  {
   "cell_type": "markdown",
   "metadata": {},
   "source": [
    "# Integrity Constraints in MySQL\n",
    "Constraints in MySQL are rules applied to columns in a table to enforce data integrity and consistency. They ensure that the data entered into the database adheres to specific standards. MySQL supports several types of constraints that help maintain accuracy and reliability in your database."
   ]
  },
  {
   "cell_type": "markdown",
   "metadata": {},
   "source": [
    "## Types of Constraints in MySQL\n",
    " - NOT NULL\n",
    " - UNIQUE\n",
    " - CHECK (since MySQL 8.0.16)\n",
    " - DEFAULT\n",
    " - INDEX\n",
    " - PRIMARY KEY\n",
    " - FOREIGN KEY"
   ]
  },
  {
   "cell_type": "markdown",
   "metadata": {},
   "source": [
    "### **1. NOT NULL**\n",
    "The NOT NULL constraint ensures that a column cannot have a NULL value. This is used when a field should always have a value. For example, in a table of users, you wouldn't want to allow a user to have an empty email address.\n",
    "\n",
    "``` sql\n",
    "CREATE TABLE Users (\n",
    "    user_id INT AUTO_INCREMENT,\n",
    "    username VARCHAR(50) NOT NULL,\n",
    "    email VARCHAR(100) NOT NULL,\n",
    "    PRIMARY KEY (user_id)\n",
    ");\n",
    "```\n",
    "<hr>"
   ]
  },
  {
   "cell_type": "markdown",
   "metadata": {},
   "source": [
    "### **2. UNIQUE**\n",
    "The UNIQUE constraint ensures that all values in a column are different. This is useful when you want to prevent duplicate entries in a column.\n",
    "\n",
    "``` sql\n",
    "CREATE TABLE Users (\n",
    "    user_id INT AUTO_INCREMENT,\n",
    "    username VARCHAR(50) NOT NULL,\n",
    "    email VARCHAR(100) UNIQUE,\n",
    "    PRIMARY KEY (user_id)\n",
    ");\n",
    "```\n",
    "<hr>"
   ]
  },
  {
   "cell_type": "markdown",
   "metadata": {},
   "source": [
    "### **3. CHECK**\n",
    "The CHECK constraint ensures that all values in a column satisfy a specific condition. This feature was introduced in MySQL 8.0.16.\n",
    "\n",
    "``` sql\n",
    "CREATE TABLE Products (\n",
    "    product_id INT AUTO_INCREMENT,\n",
    "    product_name VARCHAR(100) NOT NULL,\n",
    "    price DECIMAL(10, 2) NOT NULL CHECK (price > 0),\n",
    "    stock INT CHECK (stock >= 0),\n",
    "    PRIMARY KEY (product_id)\n",
    ");\n",
    "```\n",
    "<hr>"
   ]
  },
  {
   "cell_type": "markdown",
   "metadata": {},
   "source": [
    "### **4. DEFAULT**\n",
    "The DEFAULT constraint provides a default value for a column when no value is specified.\n",
    "\n",
    "``` sql\n",
    "CREATE TABLE Users (\n",
    "    user_id INT AUTO_INCREMENT,\n",
    "    username VARCHAR(50) NOT NULL,\n",
    "    signup_date DATE DEFAULT CURRENT_DATE,\n",
    "    PRIMARY KEY (user_id)\n",
    ");\n",
    "```\n",
    "<hr>"
   ]
  },
  {
   "cell_type": "markdown",
   "metadata": {},
   "source": [
    "### **5. INDEX**\n",
    "Although not a constraint in the strictest sense, an index can be applied to improve query performance. Indexes can be added to a table to speed up the retrieval of records.\n",
    "\n",
    "``` sql\n",
    "CREATE TABLE Employees (\n",
    "    emp_id INT AUTO_INCREMENT,\n",
    "    emp_name VARCHAR(100),\n",
    "    emp_email VARCHAR(100),\n",
    "    PRIMARY KEY (emp_id),\n",
    "    INDEX (emp_email)\n",
    ");\n",
    "```\n",
    "<hr>"
   ]
  },
  {
   "cell_type": "markdown",
   "metadata": {},
   "source": [
    "### **6. PRIMARY KEY**\n",
    "The PRIMARY KEY constraint uniquely identifies each record in a table. A table can have only one primary key, and it can consist of one or more columns.\n",
    "\n",
    "``` sql\n",
    "CREATE TABLE Orders (\n",
    "    order_id INT AUTO_INCREMENT,\n",
    "    user_id INT NOT NULL,\n",
    "    order_date DATE NOT NULL,\n",
    "    PRIMARY KEY (order_id)\n",
    ");\n",
    "```\n",
    "\n",
    "**Composite Key**\n",
    "\n",
    "A primary key can also consist of multiple columns, referred to as a composite key.\n",
    "\n",
    "``` sql\n",
    "CREATE TABLE Enrollments (\n",
    "    student_id INT NOT NULL,\n",
    "    course_id INT NOT NULL,\n",
    "    enrollment_date DATE NOT NULL,\n",
    "    PRIMARY KEY (student_id, course_id)\n",
    ");\n",
    "```\n",
    "<hr>"
   ]
  },
  {
   "cell_type": "markdown",
   "metadata": {},
   "source": [
    "### **7. FOREIGN KEY**\n",
    "The FOREIGN KEY constraint links two tables together, ensuring referential integrity by enforcing that a column (or a combination of columns) in one table matches the primary key in another.\n",
    "\n",
    "``` sql\n",
    "CREATE TABLE Orders (\n",
    "    order_id INT AUTO_INCREMENT,\n",
    "    user_id INT NOT NULL,\n",
    "    order_date DATE NOT NULL,\n",
    "    PRIMARY KEY (order_id),\n",
    "    FOREIGN KEY (user_id) REFERENCES Users(user_id)\n",
    ");\n",
    "```\n",
    "\n",
    "**Cascading Actions with Foreign Keys**\n",
    "You can also define actions when a foreign key is updated or deleted:\n",
    "\n",
    " - ON DELETE CASCADE: Automatically deletes records in the child table if the referenced record in the parent table is deleted.\n",
    " - ON UPDATE CASCADE: Automatically updates the child records if the referenced value in the parent table is updated.\n",
    "\n",
    "``` sql\n",
    "CREATE TABLE Orders (\n",
    "    order_id INT AUTO_INCREMENT,\n",
    "    user_id INT NOT NULL,\n",
    "    order_date DATE NOT NULL,\n",
    "    PRIMARY KEY (order_id),\n",
    "    FOREIGN KEY (user_id) REFERENCES Users(user_id)\n",
    "    ON DELETE CASCADE ON UPDATE CASCADE\n",
    ");\n",
    "```\n",
    "<hr>"
   ]
  },
  {
   "cell_type": "markdown",
   "metadata": {},
   "source": [
    "# **Applying Constraints in MySQL: A Practical Example**\n",
    "\n",
    "Let's create a database with two tables: `Categories` and `Products`, and apply constraints to these tables. Then, we'll insert some data and demonstrate how constraints enforce the rules during insertions, deletions, and updations.\n",
    "\n"
   ]
  },
  {
   "cell_type": "markdown",
   "metadata": {},
   "source": [
    "\n",
    "#### 1. **Create the Database**\n",
    "```sql\n",
    "CREATE DATABASE Store;\n",
    "USE Store;\n",
    "```\n",
    "\n",
    "#### 2. **Create the `Categories` Table**\n",
    "```sql\n",
    "CREATE TABLE Categories (\n",
    "    category_id INT AUTO_INCREMENT,\n",
    "    category_name VARCHAR(50) NOT NULL,\n",
    "    PRIMARY KEY (category_id),\n",
    "    UNIQUE (category_name)\n",
    ");\n",
    "```\n",
    "**Explanation**:\n",
    "- `category_id` is the primary key and auto-incremented.\n",
    "- `category_name` is unique and cannot be `NULL`.\n",
    "\n",
    "#### 3. **Create the `Products` Table**\n",
    "```sql\n",
    "CREATE TABLE Products (\n",
    "    product_id INT AUTO_INCREMENT,\n",
    "    product_name VARCHAR(100) NOT NULL,\n",
    "    price DECIMAL(10, 2) NOT NULL CHECK (price > 0),\n",
    "    stock INT CHECK (stock >= 0),\n",
    "    category_id INT,\n",
    "    PRIMARY KEY (product_id),\n",
    "    UNIQUE (product_name),\n",
    "    FOREIGN KEY (category_id) REFERENCES Categories(category_id) \n",
    "    ON DELETE CASCADE ON UPDATE CASCADE\n",
    ");\n",
    "```\n",
    "**Explanation**:\n",
    "- `product_id` is the primary key and auto-incremented.\n",
    "- `product_name` is unique and cannot be `NULL`.\n",
    "- `price` has a `CHECK` constraint ensuring it is greater than 0.\n",
    "- `stock` has a `CHECK` constraint ensuring it is 0 or greater.\n",
    "- `category_id` is a foreign key referencing the `category_id` column in the `Categories` table, with cascading delete and update.\n",
    "\n",
    "---\n"
   ]
  },
  {
   "cell_type": "markdown",
   "metadata": {},
   "source": [
    "\n",
    "### 4. **Insert Data into `Categories` Table**\n",
    "Let's insert categories into the `Categories` table.\n",
    "\n",
    "```sql\n",
    "INSERT INTO Categories (category_name)\n",
    "VALUES ('Electronics'), ('Clothing'), ('Furniture');\n",
    "```\n",
    "---"
   ]
  },
  {
   "cell_type": "markdown",
   "metadata": {},
   "source": [
    "\n",
    "#### 5. **Insert Data into `Products` Table**\n",
    "Now, insert data into the `Products` table, linking each product to a category.\n",
    "\n",
    "```sql\n",
    "-- Correct insertion\n",
    "INSERT INTO Products (product_name, price, stock, category_id)\n",
    "VALUES ('Laptop', 1200.00, 50, 1), \n",
    "       ('T-Shirt', 20.00, 100, 2), \n",
    "       ('Sofa', 500.00, 10, 3);\n",
    "\n",
    "-- Failing Insert: Price is negative, will throw an error due to CHECK constraint\n",
    "INSERT INTO Products (product_name, price, stock, category_id)\n",
    "VALUES ('Phone', -500.00, 20, 1);\n",
    "\n",
    "-- Failing Insert: stock is negative, will throw an error due to CHECK constraint\n",
    "INSERT INTO Products (product_name, price, stock, category_id)\n",
    "VALUES ('Tablet', 800.00, -10, 1);\n",
    "\n",
    "-- Failing Insert: NULL product_name, will throw an error due to NOT NULL constraint\n",
    "INSERT INTO Products (product_name, price, stock, category_id)\n",
    "VALUES (NULL, 600.00, 30, 1);\n",
    "\n",
    "-- Failing Insert: Duplicate product_name, will throw an error due to UNIQUE constraint\n",
    "INSERT INTO Products (product_name, price, stock, category_id)\n",
    "VALUES ('Laptop', 1300.00, 25, 1);\n",
    "```\n",
    "\n",
    "**Explanation**:\n",
    "- The first query successfully inserts valid data.\n",
    "- The second query fails because the price is negative (`CHECK (price > 0)`).\n",
    "- The third query fails because the stock is negative (`CHECK (stock >= 0)`).\n",
    "- The fourth query fails because `product_name` is `NULL`, violating the `NOT NULL` constraint.\n",
    "- The fifth query fails because `product_name` is a duplicate, violating the `UNIQUE` constraint.\n",
    "\n",
    "---"
   ]
  },
  {
   "cell_type": "markdown",
   "metadata": {},
   "source": [
    "### 6. **Demonstrate `FOREIGN KEY` with Cascading Deletes**\n",
    "\n",
    "#### Step 1: Inserting Valid Data\n",
    "```sql\n",
    "INSERT INTO Products (product_name, price, stock, category_id)\n",
    "VALUES ('TV', 1500.00, 30, 1);\n",
    "```\n",
    "This successfully inserts a `TV` into the `Products` table.\n",
    "\n",
    "#### Step 2: Deleting a Record from the `Categories` Table\n",
    "```sql\n",
    "DELETE FROM Categories WHERE category_id = 1;\n",
    "```\n",
    "Since the `category_id` for Electronics is 1, deleting this category will also delete all associated products (`Laptop`, `Phone`, `TV`) in the `Products` table due to the `ON DELETE CASCADE` clause.\n",
    "\n",
    "---\n"
   ]
  },
  {
   "cell_type": "markdown",
   "metadata": {},
   "source": [
    "### 7. **Demonstrate `FOREIGN KEY` with Cascading Updates**\n",
    "\n",
    "#### Step 1: Updating a Category's `category_id`\n",
    "```sql\n",
    "UPDATE Categories SET category_id = 4 WHERE category_id = 3;\n",
    "```\n",
    "This will update `category_id` in the `Categories` table from 3 to 4, and all products linked to this category (like the `Sofa`) will also have their `category_id` updated to 4, due to the `ON UPDATE CASCADE` clause.\n",
    "\n",
    "---\n",
    "\n"
   ]
  },
  {
   "cell_type": "markdown",
   "metadata": {},
   "source": [
    "\n",
    "### Summary of Constraints in Action:\n",
    "1. **NOT NULL** prevents null values.\n",
    "2. **UNIQUE** ensures no duplicate values.\n",
    "3. **CHECK** enforces conditions like positive prices and non-negative stock.\n",
    "4. **DEFAULT** provides a default value when none is specified.\n",
    "5. **INDEX** improves query performance. (We will see indexes later on with detailed examples)\n",
    "6. **PRIMARY KEY** uniquely identifies each row.\n",
    "7. **FOREIGN KEY** ensures referential integrity and uses cascading delete and update to maintain consistency across related tables."
   ]
  }
 ],
 "metadata": {
  "kernelspec": {
   "display_name": "SQLCONNECTION",
   "language": "python",
   "name": "python3"
  },
  "language_info": {
   "name": "python",
   "version": "3.12.5"
  }
 },
 "nbformat": 4,
 "nbformat_minor": 2
}
