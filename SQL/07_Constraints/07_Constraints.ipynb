{
 "cells": [
  {
   "cell_type": "markdown",
   "metadata": {},
   "source": [
    "# Integrity Constraints in MySQL\n",
    "Constraints in MySQL are rules applied to columns in a table to enforce data integrity and consistency. They ensure that the data entered into the database adheres to specific standards. MySQL supports several types of constraints that help maintain accuracy and reliability in your database."
   ]
  },
  {
   "cell_type": "markdown",
   "metadata": {},
   "source": [
    "## Types of Constraints in MySQL\n",
    " - NOT NULL\n",
    " - UNIQUE\n",
    " - CHECK (since MySQL 8.0.16)\n",
    " - DEFAULT\n",
    " - INDEX\n",
    " - PRIMARY KEY\n",
    " - FOREIGN KEY"
   ]
  },
  {
   "cell_type": "markdown",
   "metadata": {},
   "source": [
    "### **1. NOT NULL**\n",
    "The NOT NULL constraint ensures that a column cannot have a NULL value. This is used when a field should always have a value. For example, in a table of users, you wouldn't want to allow a user to have an empty email address.\n",
    "\n",
    "``` sql\n",
    "CREATE TABLE Users (\n",
    "    user_id INT AUTO_INCREMENT,\n",
    "    username VARCHAR(50) NOT NULL,\n",
    "    email VARCHAR(100) NOT NULL,\n",
    "    PRIMARY KEY (user_id)\n",
    ");\n",
    "```"
   ]
  },
  {
   "cell_type": "markdown",
   "metadata": {},
   "source": [
    "### **2. UNIQUE**\n",
    "The UNIQUE constraint ensures that all values in a column are different. This is useful when you want to prevent duplicate entries in a column.\n",
    "\n",
    "``` sql\n",
    "CREATE TABLE Users (\n",
    "    user_id INT AUTO_INCREMENT,\n",
    "    username VARCHAR(50) NOT NULL,\n",
    "    email VARCHAR(100) UNIQUE,\n",
    "    PRIMARY KEY (user_id)\n",
    ");\n",
    "```"
   ]
  },
  {
   "cell_type": "markdown",
   "metadata": {},
   "source": [
    "### **3. CHECK**\n",
    "The CHECK constraint ensures that all values in a column satisfy a specific condition. This feature was introduced in MySQL 8.0.16.\n",
    "\n",
    "``` sql\n",
    "CREATE TABLE Products (\n",
    "    product_id INT AUTO_INCREMENT,\n",
    "    product_name VARCHAR(100) NOT NULL,\n",
    "    price DECIMAL(10, 2) NOT NULL CHECK (price > 0),\n",
    "    stock INT CHECK (stock >= 0),\n",
    "    PRIMARY KEY (product_id)\n",
    ");\n",
    "```"
   ]
  },
  {
   "cell_type": "markdown",
   "metadata": {},
   "source": [
    "### 4."
   ]
  },
  {
   "cell_type": "markdown",
   "metadata": {},
   "source": [
    "### **6. PRIMARY KEY**\n",
    "The PRIMARY KEY constraint uniquely identifies each record in a table. A table can have only one primary key, and it can consist of one or more columns.\n",
    "\n",
    "``` sql\n",
    "CREATE TABLE Orders (\n",
    "    order_id INT AUTO_INCREMENT,\n",
    "    user_id INT NOT NULL,\n",
    "    order_date DATE NOT NULL,\n",
    "    PRIMARY KEY (order_id)\n",
    ");\n",
    "```\n",
    "\n",
    "**Composite Key**\n",
    "\n",
    "A primary key can also consist of multiple columns, referred to as a composite key.\n",
    "\n",
    "``` sql\n",
    "CREATE TABLE Enrollments (\n",
    "    student_id INT NOT NULL,\n",
    "    course_id INT NOT NULL,\n",
    "    enrollment_date DATE NOT NULL,\n",
    "    PRIMARY KEY (student_id, course_id)\n",
    ");\n",
    "```"
   ]
  },
  {
   "cell_type": "markdown",
   "metadata": {},
   "source": [
    "### **7. FOREIGN KEY**\n",
    "The FOREIGN KEY constraint links two tables together, ensuring referential integrity by enforcing that a column (or a combination of columns) in one table matches the primary key in another.\n",
    "\n",
    "``` sql\n",
    "CREATE TABLE Orders (\n",
    "    order_id INT AUTO_INCREMENT,\n",
    "    user_id INT NOT NULL,\n",
    "    order_date DATE NOT NULL,\n",
    "    PRIMARY KEY (order_id),\n",
    "    FOREIGN KEY (user_id) REFERENCES Users(user_id)\n",
    ");\n",
    "```\n",
    "\n",
    "**Cascading Actions with Foreign Keys**\n",
    "You can also define actions when a foreign key is updated or deleted:\n",
    "\n",
    " - ON DELETE CASCADE: Automatically deletes records in the child table if the referenced record in the parent table is deleted.\n",
    " - ON UPDATE CASCADE: Automatically updates the child records if the referenced value in the parent table is updated.\n",
    "\n",
    "``` sql\n",
    "CREATE TABLE Orders (\n",
    "    order_id INT AUTO_INCREMENT,\n",
    "    user_id INT NOT NULL,\n",
    "    order_date DATE NOT NULL,\n",
    "    PRIMARY KEY (order_id),\n",
    "    FOREIGN KEY (user_id) REFERENCES Users(user_id)\n",
    "    ON DELETE CASCADE ON UPDATE CASCADE\n",
    ");\n",
    "```"
   ]
  },
  {
   "cell_type": "markdown",
   "metadata": {},
   "source": []
  }
 ],
 "metadata": {
  "language_info": {
   "name": "python"
  }
 },
 "nbformat": 4,
 "nbformat_minor": 2
}
